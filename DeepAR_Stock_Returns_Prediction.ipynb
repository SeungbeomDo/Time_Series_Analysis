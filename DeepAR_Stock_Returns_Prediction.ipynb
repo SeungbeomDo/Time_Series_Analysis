{
  "nbformat": 4,
  "nbformat_minor": 0,
  "metadata": {
    "colab": {
      "provenance": [],
      "collapsed_sections": [
        "qaBTLNPCvKsB",
        "Ziuw9jWuwTwR",
        "zesyoFQfwq5L",
        "BwSDsRZPxW4L",
        "a84a2GST829c"
      ],
      "authorship_tag": "ABX9TyP6N3ilJwMm/1CSMem1Gbwz",
      "include_colab_link": true
    },
    "kernelspec": {
      "name": "python3",
      "display_name": "Python 3"
    },
    "language_info": {
      "name": "python"
    }
  },
  "cells": [
    {
      "cell_type": "markdown",
      "metadata": {
        "id": "view-in-github",
        "colab_type": "text"
      },
      "source": [
        "<a href=\"https://colab.research.google.com/github/SeungbeomDo/Time_Series_Analysis/blob/main/DeepAR_Stock_Returns_Prediction.ipynb\" target=\"_parent\"><img src=\"https://colab.research.google.com/assets/colab-badge.svg\" alt=\"Open In Colab\"/></a>"
      ]
    },
    {
      "cell_type": "markdown",
      "source": [
        "#데이터 및 라이브러리 임포트"
      ],
      "metadata": {
        "id": "qaBTLNPCvKsB"
      }
    },
    {
      "cell_type": "code",
      "source": [
        "!pip install \"gluonts[torch,pro]\"\n",
        "!pip install \"gluonts[mxnet,pro]\""
      ],
      "metadata": {
        "id": "TwyqoQ5vtjhA",
        "colab": {
          "base_uri": "https://localhost:8080/"
        },
        "outputId": "352d4e1d-7735-4348-f632-7c3d2fbf2f16"
      },
      "execution_count": null,
      "outputs": [
        {
          "output_type": "stream",
          "name": "stdout",
          "text": [
            "Looking in indexes: https://pypi.org/simple, https://us-python.pkg.dev/colab-wheels/public/simple/\n",
            "Collecting gluonts[pro,torch]\n",
            "  Downloading gluonts-0.12.3-py3-none-any.whl (1.2 MB)\n",
            "\u001b[2K     \u001b[90m━━━━━━━━━━━━━━━━━━━━━━━━━━━━━━━━━━━━━━━━\u001b[0m \u001b[32m1.2/1.2 MB\u001b[0m \u001b[31m10.5 MB/s\u001b[0m eta \u001b[36m0:00:00\u001b[0m\n",
            "\u001b[?25hRequirement already satisfied: typing-extensions~=4.0 in /usr/local/lib/python3.8/dist-packages (from gluonts[pro,torch]) (4.5.0)\n",
            "Requirement already satisfied: pandas~=1.0 in /usr/local/lib/python3.8/dist-packages (from gluonts[pro,torch]) (1.3.5)\n",
            "Requirement already satisfied: numpy~=1.16 in /usr/local/lib/python3.8/dist-packages (from gluonts[pro,torch]) (1.21.6)\n",
            "Requirement already satisfied: pydantic~=1.7 in /usr/local/lib/python3.8/dist-packages (from gluonts[pro,torch]) (1.10.4)\n",
            "Requirement already satisfied: toolz~=0.10 in /usr/local/lib/python3.8/dist-packages (from gluonts[pro,torch]) (0.12.0)\n",
            "Requirement already satisfied: tqdm~=4.23 in /usr/local/lib/python3.8/dist-packages (from gluonts[pro,torch]) (4.64.1)\n",
            "Collecting orjson\n",
            "  Downloading orjson-3.8.6-cp38-cp38-manylinux_2_28_x86_64.whl (140 kB)\n",
            "\u001b[2K     \u001b[90m━━━━━━━━━━━━━━━━━━━━━━━━━━━━━━━━━━━━━━━\u001b[0m \u001b[32m140.7/140.7 KB\u001b[0m \u001b[31m8.6 MB/s\u001b[0m eta \u001b[36m0:00:00\u001b[0m\n",
            "\u001b[?25hCollecting pyarrow~=8.0\n",
            "  Downloading pyarrow-8.0.0-cp38-cp38-manylinux_2_17_x86_64.manylinux2014_x86_64.whl (29.4 MB)\n",
            "\u001b[2K     \u001b[90m━━━━━━━━━━━━━━━━━━━━━━━━━━━━━━━━━━━━━━━━\u001b[0m \u001b[32m29.4/29.4 MB\u001b[0m \u001b[31m25.7 MB/s\u001b[0m eta \u001b[36m0:00:00\u001b[0m\n",
            "\u001b[?25hCollecting pytorch-lightning~=1.5\n",
            "  Downloading pytorch_lightning-1.9.3-py3-none-any.whl (826 kB)\n",
            "\u001b[2K     \u001b[90m━━━━━━━━━━━━━━━━━━━━━━━━━━━━━━━━━━━━━━\u001b[0m \u001b[32m826.4/826.4 KB\u001b[0m \u001b[31m19.6 MB/s\u001b[0m eta \u001b[36m0:00:00\u001b[0m\n",
            "\u001b[?25hRequirement already satisfied: torch~=1.9 in /usr/local/lib/python3.8/dist-packages (from gluonts[pro,torch]) (1.13.1+cu116)\n",
            "Requirement already satisfied: protobuf~=3.19.0 in /usr/local/lib/python3.8/dist-packages (from gluonts[pro,torch]) (3.19.6)\n",
            "Requirement already satisfied: python-dateutil>=2.7.3 in /usr/local/lib/python3.8/dist-packages (from pandas~=1.0->gluonts[pro,torch]) (2.8.2)\n",
            "Requirement already satisfied: pytz>=2017.3 in /usr/local/lib/python3.8/dist-packages (from pandas~=1.0->gluonts[pro,torch]) (2022.7.1)\n",
            "Requirement already satisfied: PyYAML>=5.4 in /usr/local/lib/python3.8/dist-packages (from pytorch-lightning~=1.5->gluonts[pro,torch]) (6.0)\n",
            "Requirement already satisfied: fsspec[http]>2021.06.0 in /usr/local/lib/python3.8/dist-packages (from pytorch-lightning~=1.5->gluonts[pro,torch]) (2023.1.0)\n",
            "Collecting lightning-utilities>=0.6.0.post0\n",
            "  Downloading lightning_utilities-0.7.0-py3-none-any.whl (17 kB)\n",
            "Collecting torchmetrics>=0.7.0\n",
            "  Downloading torchmetrics-0.11.1-py3-none-any.whl (517 kB)\n",
            "\u001b[2K     \u001b[90m━━━━━━━━━━━━━━━━━━━━━━━━━━━━━━━━━━━━━━\u001b[0m \u001b[32m517.2/517.2 KB\u001b[0m \u001b[31m39.4 MB/s\u001b[0m eta \u001b[36m0:00:00\u001b[0m\n",
            "\u001b[?25hRequirement already satisfied: packaging>=17.1 in /usr/local/lib/python3.8/dist-packages (from pytorch-lightning~=1.5->gluonts[pro,torch]) (23.0)\n",
            "Requirement already satisfied: aiohttp!=4.0.0a0,!=4.0.0a1 in /usr/local/lib/python3.8/dist-packages (from fsspec[http]>2021.06.0->pytorch-lightning~=1.5->gluonts[pro,torch]) (3.8.4)\n",
            "Requirement already satisfied: requests in /usr/local/lib/python3.8/dist-packages (from fsspec[http]>2021.06.0->pytorch-lightning~=1.5->gluonts[pro,torch]) (2.25.1)\n",
            "Requirement already satisfied: six>=1.5 in /usr/local/lib/python3.8/dist-packages (from python-dateutil>=2.7.3->pandas~=1.0->gluonts[pro,torch]) (1.15.0)\n",
            "Requirement already satisfied: frozenlist>=1.1.1 in /usr/local/lib/python3.8/dist-packages (from aiohttp!=4.0.0a0,!=4.0.0a1->fsspec[http]>2021.06.0->pytorch-lightning~=1.5->gluonts[pro,torch]) (1.3.3)\n",
            "Requirement already satisfied: multidict<7.0,>=4.5 in /usr/local/lib/python3.8/dist-packages (from aiohttp!=4.0.0a0,!=4.0.0a1->fsspec[http]>2021.06.0->pytorch-lightning~=1.5->gluonts[pro,torch]) (6.0.4)\n",
            "Requirement already satisfied: async-timeout<5.0,>=4.0.0a3 in /usr/local/lib/python3.8/dist-packages (from aiohttp!=4.0.0a0,!=4.0.0a1->fsspec[http]>2021.06.0->pytorch-lightning~=1.5->gluonts[pro,torch]) (4.0.2)\n",
            "Requirement already satisfied: aiosignal>=1.1.2 in /usr/local/lib/python3.8/dist-packages (from aiohttp!=4.0.0a0,!=4.0.0a1->fsspec[http]>2021.06.0->pytorch-lightning~=1.5->gluonts[pro,torch]) (1.3.1)\n",
            "Requirement already satisfied: charset-normalizer<4.0,>=2.0 in /usr/local/lib/python3.8/dist-packages (from aiohttp!=4.0.0a0,!=4.0.0a1->fsspec[http]>2021.06.0->pytorch-lightning~=1.5->gluonts[pro,torch]) (3.0.1)\n",
            "Requirement already satisfied: attrs>=17.3.0 in /usr/local/lib/python3.8/dist-packages (from aiohttp!=4.0.0a0,!=4.0.0a1->fsspec[http]>2021.06.0->pytorch-lightning~=1.5->gluonts[pro,torch]) (22.2.0)\n",
            "Requirement already satisfied: yarl<2.0,>=1.0 in /usr/local/lib/python3.8/dist-packages (from aiohttp!=4.0.0a0,!=4.0.0a1->fsspec[http]>2021.06.0->pytorch-lightning~=1.5->gluonts[pro,torch]) (1.8.2)\n",
            "Requirement already satisfied: idna<3,>=2.5 in /usr/local/lib/python3.8/dist-packages (from requests->fsspec[http]>2021.06.0->pytorch-lightning~=1.5->gluonts[pro,torch]) (2.10)\n",
            "Requirement already satisfied: urllib3<1.27,>=1.21.1 in /usr/local/lib/python3.8/dist-packages (from requests->fsspec[http]>2021.06.0->pytorch-lightning~=1.5->gluonts[pro,torch]) (1.24.3)\n",
            "Requirement already satisfied: chardet<5,>=3.0.2 in /usr/local/lib/python3.8/dist-packages (from requests->fsspec[http]>2021.06.0->pytorch-lightning~=1.5->gluonts[pro,torch]) (4.0.0)\n",
            "Requirement already satisfied: certifi>=2017.4.17 in /usr/local/lib/python3.8/dist-packages (from requests->fsspec[http]>2021.06.0->pytorch-lightning~=1.5->gluonts[pro,torch]) (2022.12.7)\n",
            "Installing collected packages: pyarrow, orjson, lightning-utilities, torchmetrics, gluonts, pytorch-lightning\n",
            "  Attempting uninstall: pyarrow\n",
            "    Found existing installation: pyarrow 9.0.0\n",
            "    Uninstalling pyarrow-9.0.0:\n",
            "      Successfully uninstalled pyarrow-9.0.0\n",
            "Successfully installed gluonts-0.12.3 lightning-utilities-0.7.0 orjson-3.8.6 pyarrow-8.0.0 pytorch-lightning-1.9.3 torchmetrics-0.11.1\n",
            "Looking in indexes: https://pypi.org/simple, https://us-python.pkg.dev/colab-wheels/public/simple/\n",
            "Requirement already satisfied: gluonts[mxnet,pro] in /usr/local/lib/python3.8/dist-packages (0.12.3)\n",
            "Requirement already satisfied: typing-extensions~=4.0 in /usr/local/lib/python3.8/dist-packages (from gluonts[mxnet,pro]) (4.5.0)\n",
            "Requirement already satisfied: tqdm~=4.23 in /usr/local/lib/python3.8/dist-packages (from gluonts[mxnet,pro]) (4.64.1)\n",
            "Requirement already satisfied: pandas~=1.0 in /usr/local/lib/python3.8/dist-packages (from gluonts[mxnet,pro]) (1.3.5)\n",
            "Requirement already satisfied: toolz~=0.10 in /usr/local/lib/python3.8/dist-packages (from gluonts[mxnet,pro]) (0.12.0)\n",
            "Requirement already satisfied: pydantic~=1.7 in /usr/local/lib/python3.8/dist-packages (from gluonts[mxnet,pro]) (1.10.4)\n",
            "Requirement already satisfied: numpy~=1.16 in /usr/local/lib/python3.8/dist-packages (from gluonts[mxnet,pro]) (1.21.6)\n",
            "Requirement already satisfied: orjson in /usr/local/lib/python3.8/dist-packages (from gluonts[mxnet,pro]) (3.8.6)\n",
            "Requirement already satisfied: pyarrow~=8.0 in /usr/local/lib/python3.8/dist-packages (from gluonts[mxnet,pro]) (8.0.0)\n",
            "Collecting mxnet~=1.7\n",
            "  Downloading mxnet-1.9.1-py3-none-manylinux2014_x86_64.whl (49.1 MB)\n",
            "\u001b[2K     \u001b[90m━━━━━━━━━━━━━━━━━━━━━━━━━━━━━━━━━━━━━━━━\u001b[0m \u001b[32m49.1/49.1 MB\u001b[0m \u001b[31m16.0 MB/s\u001b[0m eta \u001b[36m0:00:00\u001b[0m\n",
            "\u001b[?25hCollecting graphviz<0.9.0,>=0.8.1\n",
            "  Downloading graphviz-0.8.4-py2.py3-none-any.whl (16 kB)\n",
            "Requirement already satisfied: requests<3,>=2.20.0 in /usr/local/lib/python3.8/dist-packages (from mxnet~=1.7->gluonts[mxnet,pro]) (2.25.1)\n",
            "Requirement already satisfied: pytz>=2017.3 in /usr/local/lib/python3.8/dist-packages (from pandas~=1.0->gluonts[mxnet,pro]) (2022.7.1)\n",
            "Requirement already satisfied: python-dateutil>=2.7.3 in /usr/local/lib/python3.8/dist-packages (from pandas~=1.0->gluonts[mxnet,pro]) (2.8.2)\n",
            "Requirement already satisfied: six>=1.5 in /usr/local/lib/python3.8/dist-packages (from python-dateutil>=2.7.3->pandas~=1.0->gluonts[mxnet,pro]) (1.15.0)\n",
            "Requirement already satisfied: certifi>=2017.4.17 in /usr/local/lib/python3.8/dist-packages (from requests<3,>=2.20.0->mxnet~=1.7->gluonts[mxnet,pro]) (2022.12.7)\n",
            "Requirement already satisfied: idna<3,>=2.5 in /usr/local/lib/python3.8/dist-packages (from requests<3,>=2.20.0->mxnet~=1.7->gluonts[mxnet,pro]) (2.10)\n",
            "Requirement already satisfied: urllib3<1.27,>=1.21.1 in /usr/local/lib/python3.8/dist-packages (from requests<3,>=2.20.0->mxnet~=1.7->gluonts[mxnet,pro]) (1.24.3)\n",
            "Requirement already satisfied: chardet<5,>=3.0.2 in /usr/local/lib/python3.8/dist-packages (from requests<3,>=2.20.0->mxnet~=1.7->gluonts[mxnet,pro]) (4.0.0)\n",
            "Installing collected packages: graphviz, mxnet\n",
            "  Attempting uninstall: graphviz\n",
            "    Found existing installation: graphviz 0.10.1\n",
            "    Uninstalling graphviz-0.10.1:\n",
            "      Successfully uninstalled graphviz-0.10.1\n",
            "Successfully installed graphviz-0.8.4 mxnet-1.9.1\n"
          ]
        }
      ]
    },
    {
      "cell_type": "code",
      "source": [
        "import pandas as pd\n",
        "import numpy as np\n",
        "import matplotlib.pyplot as plt\n",
        "from gluonts.dataset.pandas import PandasDataset\n",
        "from gluonts.dataset.split import split\n",
        "from gluonts.mx import DeepAREstimator, Trainer\n",
        "from gluonts.dataset.common import ListDataset\n",
        "from gluonts.evaluation.backtest import make_evaluation_predictions\n",
        "from gluonts.mx.trainer.learning_rate_scheduler import LearningRateReduction\n",
        "from gluonts.mx.trainer.model_averaging import ModelAveraging, SelectNBestSoftmax, SelectNBestMean"
      ],
      "metadata": {
        "id": "hizVkmuJtzTt"
      },
      "execution_count": null,
      "outputs": []
    },
    {
      "cell_type": "code",
      "source": [
        "from google.colab import drive\n",
        "drive.mount('/content/drive')"
      ],
      "metadata": {
        "colab": {
          "base_uri": "https://localhost:8080/"
        },
        "id": "XAw-kVMLvAdO",
        "outputId": "0c6e878a-b45e-4a34-c435-4170ab74a5e0"
      },
      "execution_count": null,
      "outputs": [
        {
          "output_type": "stream",
          "name": "stdout",
          "text": [
            "Mounted at /content/drive\n"
          ]
        }
      ]
    },
    {
      "cell_type": "code",
      "source": [
        "df = pd.read_csv('/content/drive/MyDrive/Financial Engineering/DeepAR/KOSPI200_951002_221028.csv', encoding = 'cp949')"
      ],
      "metadata": {
        "id": "yszQiJfpvNqG"
      },
      "execution_count": null,
      "outputs": []
    },
    {
      "cell_type": "code",
      "source": [
        "df_pr = df.iloc[:, 0:2]\n",
        "df_pr.columns = ['Date', 'Price']\n",
        "df_pr['Return'] = np.log(df_pr['Price']/df_pr['Price'].shift(1))\n",
        "df_pr = df_pr.dropna()\n",
        "df_pr['Date'] = pd.to_datetime(df_pr['Date'])\n",
        "df_pr = df_pr.sort_values('Date')\n",
        "df_pr = df_pr.set_index('Date')\n",
        "df_pr"
      ],
      "metadata": {
        "colab": {
          "base_uri": "https://localhost:8080/",
          "height": 455
        },
        "id": "is3sntRlvZq-",
        "outputId": "f87766c0-3add-430f-d57d-14c8d3bf614f"
      },
      "execution_count": null,
      "outputs": [
        {
          "output_type": "execute_result",
          "data": {
            "text/plain": [
              "             Price    Return\n",
              "Date                        \n",
              "1995-10-02  111.15 -0.008332\n",
              "1995-10-04  112.08 -0.006581\n",
              "1995-10-05  112.82 -0.013208\n",
              "1995-10-06  114.32 -0.002882\n",
              "1995-10-07  114.65 -0.004699\n",
              "...            ...       ...\n",
              "2022-10-21  288.57 -0.009999\n",
              "2022-10-24  291.47 -0.000377\n",
              "2022-10-25  291.58 -0.007755\n",
              "2022-10-26  293.85 -0.016772\n",
              "2022-10-27  298.82  0.012663\n",
              "\n",
              "[6832 rows x 2 columns]"
            ],
            "text/html": [
              "\n",
              "  <div id=\"df-f648a6d1-45b8-4077-96e9-d36017e60b3d\">\n",
              "    <div class=\"colab-df-container\">\n",
              "      <div>\n",
              "<style scoped>\n",
              "    .dataframe tbody tr th:only-of-type {\n",
              "        vertical-align: middle;\n",
              "    }\n",
              "\n",
              "    .dataframe tbody tr th {\n",
              "        vertical-align: top;\n",
              "    }\n",
              "\n",
              "    .dataframe thead th {\n",
              "        text-align: right;\n",
              "    }\n",
              "</style>\n",
              "<table border=\"1\" class=\"dataframe\">\n",
              "  <thead>\n",
              "    <tr style=\"text-align: right;\">\n",
              "      <th></th>\n",
              "      <th>Price</th>\n",
              "      <th>Return</th>\n",
              "    </tr>\n",
              "    <tr>\n",
              "      <th>Date</th>\n",
              "      <th></th>\n",
              "      <th></th>\n",
              "    </tr>\n",
              "  </thead>\n",
              "  <tbody>\n",
              "    <tr>\n",
              "      <th>1995-10-02</th>\n",
              "      <td>111.15</td>\n",
              "      <td>-0.008332</td>\n",
              "    </tr>\n",
              "    <tr>\n",
              "      <th>1995-10-04</th>\n",
              "      <td>112.08</td>\n",
              "      <td>-0.006581</td>\n",
              "    </tr>\n",
              "    <tr>\n",
              "      <th>1995-10-05</th>\n",
              "      <td>112.82</td>\n",
              "      <td>-0.013208</td>\n",
              "    </tr>\n",
              "    <tr>\n",
              "      <th>1995-10-06</th>\n",
              "      <td>114.32</td>\n",
              "      <td>-0.002882</td>\n",
              "    </tr>\n",
              "    <tr>\n",
              "      <th>1995-10-07</th>\n",
              "      <td>114.65</td>\n",
              "      <td>-0.004699</td>\n",
              "    </tr>\n",
              "    <tr>\n",
              "      <th>...</th>\n",
              "      <td>...</td>\n",
              "      <td>...</td>\n",
              "    </tr>\n",
              "    <tr>\n",
              "      <th>2022-10-21</th>\n",
              "      <td>288.57</td>\n",
              "      <td>-0.009999</td>\n",
              "    </tr>\n",
              "    <tr>\n",
              "      <th>2022-10-24</th>\n",
              "      <td>291.47</td>\n",
              "      <td>-0.000377</td>\n",
              "    </tr>\n",
              "    <tr>\n",
              "      <th>2022-10-25</th>\n",
              "      <td>291.58</td>\n",
              "      <td>-0.007755</td>\n",
              "    </tr>\n",
              "    <tr>\n",
              "      <th>2022-10-26</th>\n",
              "      <td>293.85</td>\n",
              "      <td>-0.016772</td>\n",
              "    </tr>\n",
              "    <tr>\n",
              "      <th>2022-10-27</th>\n",
              "      <td>298.82</td>\n",
              "      <td>0.012663</td>\n",
              "    </tr>\n",
              "  </tbody>\n",
              "</table>\n",
              "<p>6832 rows × 2 columns</p>\n",
              "</div>\n",
              "      <button class=\"colab-df-convert\" onclick=\"convertToInteractive('df-f648a6d1-45b8-4077-96e9-d36017e60b3d')\"\n",
              "              title=\"Convert this dataframe to an interactive table.\"\n",
              "              style=\"display:none;\">\n",
              "        \n",
              "  <svg xmlns=\"http://www.w3.org/2000/svg\" height=\"24px\"viewBox=\"0 0 24 24\"\n",
              "       width=\"24px\">\n",
              "    <path d=\"M0 0h24v24H0V0z\" fill=\"none\"/>\n",
              "    <path d=\"M18.56 5.44l.94 2.06.94-2.06 2.06-.94-2.06-.94-.94-2.06-.94 2.06-2.06.94zm-11 1L8.5 8.5l.94-2.06 2.06-.94-2.06-.94L8.5 2.5l-.94 2.06-2.06.94zm10 10l.94 2.06.94-2.06 2.06-.94-2.06-.94-.94-2.06-.94 2.06-2.06.94z\"/><path d=\"M17.41 7.96l-1.37-1.37c-.4-.4-.92-.59-1.43-.59-.52 0-1.04.2-1.43.59L10.3 9.45l-7.72 7.72c-.78.78-.78 2.05 0 2.83L4 21.41c.39.39.9.59 1.41.59.51 0 1.02-.2 1.41-.59l7.78-7.78 2.81-2.81c.8-.78.8-2.07 0-2.86zM5.41 20L4 18.59l7.72-7.72 1.47 1.35L5.41 20z\"/>\n",
              "  </svg>\n",
              "      </button>\n",
              "      \n",
              "  <style>\n",
              "    .colab-df-container {\n",
              "      display:flex;\n",
              "      flex-wrap:wrap;\n",
              "      gap: 12px;\n",
              "    }\n",
              "\n",
              "    .colab-df-convert {\n",
              "      background-color: #E8F0FE;\n",
              "      border: none;\n",
              "      border-radius: 50%;\n",
              "      cursor: pointer;\n",
              "      display: none;\n",
              "      fill: #1967D2;\n",
              "      height: 32px;\n",
              "      padding: 0 0 0 0;\n",
              "      width: 32px;\n",
              "    }\n",
              "\n",
              "    .colab-df-convert:hover {\n",
              "      background-color: #E2EBFA;\n",
              "      box-shadow: 0px 1px 2px rgba(60, 64, 67, 0.3), 0px 1px 3px 1px rgba(60, 64, 67, 0.15);\n",
              "      fill: #174EA6;\n",
              "    }\n",
              "\n",
              "    [theme=dark] .colab-df-convert {\n",
              "      background-color: #3B4455;\n",
              "      fill: #D2E3FC;\n",
              "    }\n",
              "\n",
              "    [theme=dark] .colab-df-convert:hover {\n",
              "      background-color: #434B5C;\n",
              "      box-shadow: 0px 1px 3px 1px rgba(0, 0, 0, 0.15);\n",
              "      filter: drop-shadow(0px 1px 2px rgba(0, 0, 0, 0.3));\n",
              "      fill: #FFFFFF;\n",
              "    }\n",
              "  </style>\n",
              "\n",
              "      <script>\n",
              "        const buttonEl =\n",
              "          document.querySelector('#df-f648a6d1-45b8-4077-96e9-d36017e60b3d button.colab-df-convert');\n",
              "        buttonEl.style.display =\n",
              "          google.colab.kernel.accessAllowed ? 'block' : 'none';\n",
              "\n",
              "        async function convertToInteractive(key) {\n",
              "          const element = document.querySelector('#df-f648a6d1-45b8-4077-96e9-d36017e60b3d');\n",
              "          const dataTable =\n",
              "            await google.colab.kernel.invokeFunction('convertToInteractive',\n",
              "                                                     [key], {});\n",
              "          if (!dataTable) return;\n",
              "\n",
              "          const docLinkHtml = 'Like what you see? Visit the ' +\n",
              "            '<a target=\"_blank\" href=https://colab.research.google.com/notebooks/data_table.ipynb>data table notebook</a>'\n",
              "            + ' to learn more about interactive tables.';\n",
              "          element.innerHTML = '';\n",
              "          dataTable['output_type'] = 'display_data';\n",
              "          await google.colab.output.renderOutput(dataTable, element);\n",
              "          const docLink = document.createElement('div');\n",
              "          docLink.innerHTML = docLinkHtml;\n",
              "          element.appendChild(docLink);\n",
              "        }\n",
              "      </script>\n",
              "    </div>\n",
              "  </div>\n",
              "  "
            ]
          },
          "metadata": {},
          "execution_count": 134
        }
      ]
    },
    {
      "cell_type": "markdown",
      "source": [
        "#Window Rolling"
      ],
      "metadata": {
        "id": "Ziuw9jWuwTwR"
      }
    },
    {
      "cell_type": "code",
      "source": [
        "context_length = 10 #현 시점까지 주어진 context_length 길이의 인풋시퀀스를 가지고\n",
        "prediction_length = 1 #이후 prediction_length 길이의 아웃풋 시퀀스를 예측\n",
        "\n",
        "window_size = context_length + prediction_length #context와 prediction을 포함하는 하나의 window\n",
        "step_size = 1 #window를 1시점씩 밀면서 훈련하고 예측하기 반복\n",
        "              #매 winodow에서 context_length로 prediction_length 예측하기 훈련\n"
      ],
      "metadata": {
        "id": "Ap0_06OUzqWa"
      },
      "execution_count": null,
      "outputs": []
    },
    {
      "cell_type": "code",
      "source": [
        "df_pr = df_pr.iloc[-101:]\n",
        "df_pr"
      ],
      "metadata": {
        "colab": {
          "base_uri": "https://localhost:8080/",
          "height": 455
        },
        "id": "3njzipAeykCA",
        "outputId": "a3bdc520-4cde-4751-9ac6-2ef7ad097c7f"
      },
      "execution_count": null,
      "outputs": [
        {
          "output_type": "execute_result",
          "data": {
            "text/plain": [
              "             Price    Return\n",
              "Date                        \n",
              "2022-05-31  354.54  0.011432\n",
              "2022-06-02  350.51 -0.004270\n",
              "2022-06-03  352.01  0.018175\n",
              "2022-06-07  345.67 -0.001590\n",
              "2022-06-08  346.22 -0.001155\n",
              "...            ...       ...\n",
              "2022-10-21  288.57 -0.009999\n",
              "2022-10-24  291.47 -0.000377\n",
              "2022-10-25  291.58 -0.007755\n",
              "2022-10-26  293.85 -0.016772\n",
              "2022-10-27  298.82  0.012663\n",
              "\n",
              "[101 rows x 2 columns]"
            ],
            "text/html": [
              "\n",
              "  <div id=\"df-25714f77-d188-4e8f-887b-56e0877f2cc0\">\n",
              "    <div class=\"colab-df-container\">\n",
              "      <div>\n",
              "<style scoped>\n",
              "    .dataframe tbody tr th:only-of-type {\n",
              "        vertical-align: middle;\n",
              "    }\n",
              "\n",
              "    .dataframe tbody tr th {\n",
              "        vertical-align: top;\n",
              "    }\n",
              "\n",
              "    .dataframe thead th {\n",
              "        text-align: right;\n",
              "    }\n",
              "</style>\n",
              "<table border=\"1\" class=\"dataframe\">\n",
              "  <thead>\n",
              "    <tr style=\"text-align: right;\">\n",
              "      <th></th>\n",
              "      <th>Price</th>\n",
              "      <th>Return</th>\n",
              "    </tr>\n",
              "    <tr>\n",
              "      <th>Date</th>\n",
              "      <th></th>\n",
              "      <th></th>\n",
              "    </tr>\n",
              "  </thead>\n",
              "  <tbody>\n",
              "    <tr>\n",
              "      <th>2022-05-31</th>\n",
              "      <td>354.54</td>\n",
              "      <td>0.011432</td>\n",
              "    </tr>\n",
              "    <tr>\n",
              "      <th>2022-06-02</th>\n",
              "      <td>350.51</td>\n",
              "      <td>-0.004270</td>\n",
              "    </tr>\n",
              "    <tr>\n",
              "      <th>2022-06-03</th>\n",
              "      <td>352.01</td>\n",
              "      <td>0.018175</td>\n",
              "    </tr>\n",
              "    <tr>\n",
              "      <th>2022-06-07</th>\n",
              "      <td>345.67</td>\n",
              "      <td>-0.001590</td>\n",
              "    </tr>\n",
              "    <tr>\n",
              "      <th>2022-06-08</th>\n",
              "      <td>346.22</td>\n",
              "      <td>-0.001155</td>\n",
              "    </tr>\n",
              "    <tr>\n",
              "      <th>...</th>\n",
              "      <td>...</td>\n",
              "      <td>...</td>\n",
              "    </tr>\n",
              "    <tr>\n",
              "      <th>2022-10-21</th>\n",
              "      <td>288.57</td>\n",
              "      <td>-0.009999</td>\n",
              "    </tr>\n",
              "    <tr>\n",
              "      <th>2022-10-24</th>\n",
              "      <td>291.47</td>\n",
              "      <td>-0.000377</td>\n",
              "    </tr>\n",
              "    <tr>\n",
              "      <th>2022-10-25</th>\n",
              "      <td>291.58</td>\n",
              "      <td>-0.007755</td>\n",
              "    </tr>\n",
              "    <tr>\n",
              "      <th>2022-10-26</th>\n",
              "      <td>293.85</td>\n",
              "      <td>-0.016772</td>\n",
              "    </tr>\n",
              "    <tr>\n",
              "      <th>2022-10-27</th>\n",
              "      <td>298.82</td>\n",
              "      <td>0.012663</td>\n",
              "    </tr>\n",
              "  </tbody>\n",
              "</table>\n",
              "<p>101 rows × 2 columns</p>\n",
              "</div>\n",
              "      <button class=\"colab-df-convert\" onclick=\"convertToInteractive('df-25714f77-d188-4e8f-887b-56e0877f2cc0')\"\n",
              "              title=\"Convert this dataframe to an interactive table.\"\n",
              "              style=\"display:none;\">\n",
              "        \n",
              "  <svg xmlns=\"http://www.w3.org/2000/svg\" height=\"24px\"viewBox=\"0 0 24 24\"\n",
              "       width=\"24px\">\n",
              "    <path d=\"M0 0h24v24H0V0z\" fill=\"none\"/>\n",
              "    <path d=\"M18.56 5.44l.94 2.06.94-2.06 2.06-.94-2.06-.94-.94-2.06-.94 2.06-2.06.94zm-11 1L8.5 8.5l.94-2.06 2.06-.94-2.06-.94L8.5 2.5l-.94 2.06-2.06.94zm10 10l.94 2.06.94-2.06 2.06-.94-2.06-.94-.94-2.06-.94 2.06-2.06.94z\"/><path d=\"M17.41 7.96l-1.37-1.37c-.4-.4-.92-.59-1.43-.59-.52 0-1.04.2-1.43.59L10.3 9.45l-7.72 7.72c-.78.78-.78 2.05 0 2.83L4 21.41c.39.39.9.59 1.41.59.51 0 1.02-.2 1.41-.59l7.78-7.78 2.81-2.81c.8-.78.8-2.07 0-2.86zM5.41 20L4 18.59l7.72-7.72 1.47 1.35L5.41 20z\"/>\n",
              "  </svg>\n",
              "      </button>\n",
              "      \n",
              "  <style>\n",
              "    .colab-df-container {\n",
              "      display:flex;\n",
              "      flex-wrap:wrap;\n",
              "      gap: 12px;\n",
              "    }\n",
              "\n",
              "    .colab-df-convert {\n",
              "      background-color: #E8F0FE;\n",
              "      border: none;\n",
              "      border-radius: 50%;\n",
              "      cursor: pointer;\n",
              "      display: none;\n",
              "      fill: #1967D2;\n",
              "      height: 32px;\n",
              "      padding: 0 0 0 0;\n",
              "      width: 32px;\n",
              "    }\n",
              "\n",
              "    .colab-df-convert:hover {\n",
              "      background-color: #E2EBFA;\n",
              "      box-shadow: 0px 1px 2px rgba(60, 64, 67, 0.3), 0px 1px 3px 1px rgba(60, 64, 67, 0.15);\n",
              "      fill: #174EA6;\n",
              "    }\n",
              "\n",
              "    [theme=dark] .colab-df-convert {\n",
              "      background-color: #3B4455;\n",
              "      fill: #D2E3FC;\n",
              "    }\n",
              "\n",
              "    [theme=dark] .colab-df-convert:hover {\n",
              "      background-color: #434B5C;\n",
              "      box-shadow: 0px 1px 3px 1px rgba(0, 0, 0, 0.15);\n",
              "      filter: drop-shadow(0px 1px 2px rgba(0, 0, 0, 0.3));\n",
              "      fill: #FFFFFF;\n",
              "    }\n",
              "  </style>\n",
              "\n",
              "      <script>\n",
              "        const buttonEl =\n",
              "          document.querySelector('#df-25714f77-d188-4e8f-887b-56e0877f2cc0 button.colab-df-convert');\n",
              "        buttonEl.style.display =\n",
              "          google.colab.kernel.accessAllowed ? 'block' : 'none';\n",
              "\n",
              "        async function convertToInteractive(key) {\n",
              "          const element = document.querySelector('#df-25714f77-d188-4e8f-887b-56e0877f2cc0');\n",
              "          const dataTable =\n",
              "            await google.colab.kernel.invokeFunction('convertToInteractive',\n",
              "                                                     [key], {});\n",
              "          if (!dataTable) return;\n",
              "\n",
              "          const docLinkHtml = 'Like what you see? Visit the ' +\n",
              "            '<a target=\"_blank\" href=https://colab.research.google.com/notebooks/data_table.ipynb>data table notebook</a>'\n",
              "            + ' to learn more about interactive tables.';\n",
              "          element.innerHTML = '';\n",
              "          dataTable['output_type'] = 'display_data';\n",
              "          await google.colab.output.renderOutput(dataTable, element);\n",
              "          const docLink = document.createElement('div');\n",
              "          docLink.innerHTML = docLinkHtml;\n",
              "          element.appendChild(docLink);\n",
              "        }\n",
              "      </script>\n",
              "    </div>\n",
              "  </div>\n",
              "  "
            ]
          },
          "metadata": {},
          "execution_count": 136
        }
      ]
    },
    {
      "cell_type": "code",
      "source": [
        "def create_dataset(df):\n",
        "    target_values = df['Return'].values\n",
        "    data = {\"start\": df.index[0], \"target\": target_values}\n",
        "    return ListDataset([data], freq=\"1D\")"
      ],
      "metadata": {
        "id": "SjJGBfg9wcPN"
      },
      "execution_count": null,
      "outputs": []
    },
    {
      "cell_type": "markdown",
      "source": [
        "#모델 구현"
      ],
      "metadata": {
        "id": "zesyoFQfwq5L"
      }
    },
    {
      "cell_type": "code",
      "source": [
        "from gluonts.mx.distribution import StudentTOutput, GaussianOutput, LaplaceOutput, GenParetoOutput"
      ],
      "metadata": {
        "id": "NdjnUbthxMHq"
      },
      "execution_count": null,
      "outputs": []
    },
    {
      "cell_type": "code",
      "source": [
        "callbacks = [\n",
        "    ModelAveraging(avg_strategy=SelectNBestMean(num_models=10))\n",
        "]\n",
        "\n",
        "estimator = DeepAREstimator(\n",
        "    freq=\"1D\", #\n",
        "    prediction_length=1,\n",
        "    context_length=10,\n",
        "    num_cells=20,\n",
        "    num_layers=1,\n",
        "    dropout_rate=0.1,\n",
        "    distr_output=GaussianOutput(),\n",
        "    trainer=Trainer(epochs=10,\n",
        "                    callbacks=callbacks)\n",
        ")"
      ],
      "metadata": {
        "id": "h82EuU7YwqHx"
      },
      "execution_count": null,
      "outputs": []
    },
    {
      "cell_type": "markdown",
      "source": [
        "#모델 훈련"
      ],
      "metadata": {
        "id": "BwSDsRZPxW4L"
      }
    },
    {
      "cell_type": "code",
      "source": [
        "models = []\n",
        "for i in range(0, int((len(df_pr) - window_size)/step_size + 1), step_size):\n",
        "    print(f\"train window {i+1} of total {int((len(df_pr) - window_size)/step_size + 1)} windows\")\n",
        "    window_df_train = df_pr.iloc[i:i+window_size]\n",
        "    window_data_train = create_dataset(window_df_train)\n",
        "    print(window_data_train)\n",
        "\n",
        "    estimator = DeepAREstimator(\n",
        "    freq=\"1D\", #\n",
        "    prediction_length=1,\n",
        "    context_length=10,\n",
        "    num_cells=20,\n",
        "    num_layers=1,\n",
        "    dropout_rate=0.1,\n",
        "    distr_output=GaussianOutput(),\n",
        "    trainer=Trainer(epochs=10,\n",
        "                    callbacks=callbacks)\n",
        ")\n",
        "    \n",
        "    model = estimator.train(window_data_train)\n",
        "    models.append(model)"
      ],
      "metadata": {
        "colab": {
          "base_uri": "https://localhost:8080/"
        },
        "id": "6EgXT0eRxV_v",
        "outputId": "20642358-ff2f-49d4-e520-35d2e0edb14e"
      },
      "execution_count": null,
      "outputs": [
        {
          "output_type": "stream",
          "name": "stdout",
          "text": [
            "train window 1 of total 91 windows\n",
            "[{'start': Period('2022-05-31', 'D'), 'target': array([ 0.01143194, -0.00427035,  0.01817502, -0.00158985, -0.00115467,\n",
            "        0.01374003,  0.0357601 ,  0.00501437,  0.01851108, -0.00012413,\n",
            "        0.00672544], dtype=float32)}]\n"
          ]
        },
        {
          "output_type": "stream",
          "name": "stderr",
          "text": [
            "100%|██████████| 50/50 [00:02<00:00, 21.62it/s, epoch=1/10, avg_epoch_loss=-3.19]\n",
            "100%|██████████| 50/50 [00:02<00:00, 23.95it/s, epoch=2/10, avg_epoch_loss=-3.37]\n",
            "100%|██████████| 50/50 [00:01<00:00, 33.57it/s, epoch=3/10, avg_epoch_loss=-3.89]\n",
            "100%|██████████| 50/50 [00:01<00:00, 34.38it/s, epoch=4/10, avg_epoch_loss=-4.56]\n",
            "100%|██████████| 50/50 [00:01<00:00, 33.66it/s, epoch=5/10, avg_epoch_loss=-4.88]\n",
            "100%|██████████| 50/50 [00:01<00:00, 33.94it/s, epoch=6/10, avg_epoch_loss=-5.06]\n",
            "100%|██████████| 50/50 [00:01<00:00, 33.19it/s, epoch=7/10, avg_epoch_loss=-5.18]\n",
            "100%|██████████| 50/50 [00:01<00:00, 34.45it/s, epoch=8/10, avg_epoch_loss=-5.32]\n",
            "100%|██████████| 50/50 [00:01<00:00, 26.51it/s, epoch=9/10, avg_epoch_loss=-5.45]\n",
            "100%|██████████| 50/50 [00:02<00:00, 24.29it/s, epoch=10/10, avg_epoch_loss=-5.55]\n"
          ]
        },
        {
          "output_type": "stream",
          "name": "stdout",
          "text": [
            "train window 2 of total 91 windows\n",
            "[{'start': Period('2022-06-02', 'D'), 'target': array([-0.00427035,  0.01817502, -0.00158985, -0.00115467,  0.01374003,\n",
            "        0.0357601 ,  0.00501437,  0.01851108, -0.00012413,  0.00672544,\n",
            "        0.01780893], dtype=float32)}]\n"
          ]
        },
        {
          "output_type": "stream",
          "name": "stderr",
          "text": [
            "100%|██████████| 50/50 [00:02<00:00, 21.92it/s, epoch=1/10, avg_epoch_loss=-2.3]\n",
            "100%|██████████| 50/50 [00:01<00:00, 33.95it/s, epoch=2/10, avg_epoch_loss=-2.96]\n",
            "100%|██████████| 50/50 [00:01<00:00, 35.90it/s, epoch=3/10, avg_epoch_loss=-3.05]\n",
            "100%|██████████| 50/50 [00:01<00:00, 35.54it/s, epoch=4/10, avg_epoch_loss=-3.15]\n",
            "100%|██████████| 50/50 [00:01<00:00, 36.24it/s, epoch=5/10, avg_epoch_loss=-3.35]\n",
            "100%|██████████| 50/50 [00:01<00:00, 35.39it/s, epoch=6/10, avg_epoch_loss=-3.67]\n",
            "100%|██████████| 50/50 [00:01<00:00, 35.10it/s, epoch=7/10, avg_epoch_loss=-4.02]\n",
            "100%|██████████| 50/50 [00:01<00:00, 34.57it/s, epoch=8/10, avg_epoch_loss=-4.25]\n",
            "100%|██████████| 50/50 [00:02<00:00, 23.76it/s, epoch=9/10, avg_epoch_loss=-4.47]\n",
            "100%|██████████| 50/50 [00:02<00:00, 24.47it/s, epoch=10/10, avg_epoch_loss=-4.62]\n"
          ]
        },
        {
          "output_type": "stream",
          "name": "stdout",
          "text": [
            "train window 3 of total 91 windows\n",
            "[{'start': Period('2022-06-03', 'D'), 'target': array([ 0.01817502, -0.00158985, -0.00115467,  0.01374003,  0.0357601 ,\n",
            "        0.00501437,  0.01851108, -0.00012413,  0.00672544,  0.01780893,\n",
            "       -0.00615074], dtype=float32)}]\n"
          ]
        },
        {
          "output_type": "stream",
          "name": "stderr",
          "text": [
            "100%|██████████| 50/50 [00:02<00:00, 24.41it/s, epoch=1/10, avg_epoch_loss=-2.28]\n",
            "100%|██████████| 50/50 [00:01<00:00, 35.74it/s, epoch=2/10, avg_epoch_loss=-3.01]\n",
            "100%|██████████| 50/50 [00:01<00:00, 35.91it/s, epoch=3/10, avg_epoch_loss=-3.06]\n",
            "100%|██████████| 50/50 [00:01<00:00, 34.89it/s, epoch=4/10, avg_epoch_loss=-3.12]\n",
            "100%|██████████| 50/50 [00:01<00:00, 35.76it/s, epoch=5/10, avg_epoch_loss=-3.2]\n",
            "100%|██████████| 50/50 [00:01<00:00, 35.19it/s, epoch=6/10, avg_epoch_loss=-3.3]\n",
            "100%|██████████| 50/50 [00:01<00:00, 34.87it/s, epoch=7/10, avg_epoch_loss=-3.46]\n",
            "100%|██████████| 50/50 [00:01<00:00, 32.01it/s, epoch=8/10, avg_epoch_loss=-3.69]\n",
            "100%|██████████| 50/50 [00:02<00:00, 24.58it/s, epoch=9/10, avg_epoch_loss=-4.06]\n",
            "100%|██████████| 50/50 [00:02<00:00, 23.53it/s, epoch=10/10, avg_epoch_loss=-4.48]\n"
          ]
        },
        {
          "output_type": "stream",
          "name": "stdout",
          "text": [
            "train window 4 of total 91 windows\n",
            "[{'start': Period('2022-06-07', 'D'), 'target': array([-0.00158985, -0.00115467,  0.01374003,  0.0357601 ,  0.00501437,\n",
            "        0.01851108, -0.00012413,  0.00672544,  0.01780893, -0.00615074,\n",
            "        0.02658453], dtype=float32)}]\n"
          ]
        },
        {
          "output_type": "stream",
          "name": "stderr",
          "text": [
            "100%|██████████| 50/50 [00:01<00:00, 26.19it/s, epoch=1/10, avg_epoch_loss=1.87]\n",
            "100%|██████████| 50/50 [00:01<00:00, 36.17it/s, epoch=2/10, avg_epoch_loss=-2.01]\n",
            "100%|██████████| 50/50 [00:01<00:00, 36.63it/s, epoch=3/10, avg_epoch_loss=-2.3]\n",
            "100%|██████████| 50/50 [00:01<00:00, 35.37it/s, epoch=4/10, avg_epoch_loss=-2.55]\n",
            "100%|██████████| 50/50 [00:01<00:00, 35.31it/s, epoch=5/10, avg_epoch_loss=-2.69]\n",
            "100%|██████████| 50/50 [00:01<00:00, 34.47it/s, epoch=6/10, avg_epoch_loss=-2.84]\n",
            "100%|██████████| 50/50 [00:01<00:00, 34.41it/s, epoch=7/10, avg_epoch_loss=-2.85]\n",
            "100%|██████████| 50/50 [00:01<00:00, 27.92it/s, epoch=8/10, avg_epoch_loss=-2.91]\n",
            "100%|██████████| 50/50 [00:02<00:00, 23.85it/s, epoch=9/10, avg_epoch_loss=-2.93]\n",
            "100%|██████████| 50/50 [00:02<00:00, 23.11it/s, epoch=10/10, avg_epoch_loss=-2.95]\n"
          ]
        },
        {
          "output_type": "stream",
          "name": "stdout",
          "text": [
            "train window 5 of total 91 windows\n",
            "[{'start': Period('2022-06-08', 'D'), 'target': array([-0.00115467,  0.01374003,  0.0357601 ,  0.00501437,  0.01851108,\n",
            "       -0.00012413,  0.00672544,  0.01780893, -0.00615074,  0.02658453,\n",
            "        0.00857339], dtype=float32)}]\n"
          ]
        },
        {
          "output_type": "stream",
          "name": "stderr",
          "text": [
            "100%|██████████| 50/50 [00:01<00:00, 31.38it/s, epoch=1/10, avg_epoch_loss=1.91]\n",
            "100%|██████████| 50/50 [00:01<00:00, 34.53it/s, epoch=2/10, avg_epoch_loss=-1.56]\n",
            "100%|██████████| 50/50 [00:01<00:00, 34.58it/s, epoch=3/10, avg_epoch_loss=-1.76]\n",
            "100%|██████████| 50/50 [00:01<00:00, 36.28it/s, epoch=4/10, avg_epoch_loss=-1.91]\n",
            "100%|██████████| 50/50 [00:01<00:00, 35.98it/s, epoch=5/10, avg_epoch_loss=-2.09]\n",
            "100%|██████████| 50/50 [00:01<00:00, 35.35it/s, epoch=6/10, avg_epoch_loss=-2.2]\n",
            "100%|██████████| 50/50 [00:01<00:00, 36.35it/s, epoch=7/10, avg_epoch_loss=-2.25]\n",
            "100%|██████████| 50/50 [00:02<00:00, 24.39it/s, epoch=8/10, avg_epoch_loss=-2.39]\n",
            "100%|██████████| 50/50 [00:02<00:00, 23.85it/s, epoch=9/10, avg_epoch_loss=-2.41]\n",
            "100%|██████████| 50/50 [00:02<00:00, 24.27it/s, epoch=10/10, avg_epoch_loss=-2.5]\n"
          ]
        },
        {
          "output_type": "stream",
          "name": "stdout",
          "text": [
            "train window 6 of total 91 windows\n",
            "[{'start': Period('2022-06-09', 'D'), 'target': array([ 0.01374003,  0.0357601 ,  0.00501437,  0.01851108, -0.00012413,\n",
            "        0.00672544,  0.01780893, -0.00615074,  0.02658453,  0.00857339,\n",
            "       -0.02144142], dtype=float32)}]\n"
          ]
        },
        {
          "output_type": "stream",
          "name": "stderr",
          "text": [
            "100%|██████████| 50/50 [00:01<00:00, 34.93it/s, epoch=1/10, avg_epoch_loss=-2.75]\n",
            "100%|██████████| 50/50 [00:01<00:00, 35.59it/s, epoch=2/10, avg_epoch_loss=-3]\n",
            "100%|██████████| 50/50 [00:01<00:00, 35.92it/s, epoch=3/10, avg_epoch_loss=-3.02]\n",
            "100%|██████████| 50/50 [00:01<00:00, 35.91it/s, epoch=4/10, avg_epoch_loss=-3.03]\n",
            "100%|██████████| 50/50 [00:01<00:00, 35.89it/s, epoch=5/10, avg_epoch_loss=-3.04]\n",
            "100%|██████████| 50/50 [00:01<00:00, 35.16it/s, epoch=6/10, avg_epoch_loss=-3.07]\n",
            "100%|██████████| 50/50 [00:01<00:00, 31.75it/s, epoch=7/10, avg_epoch_loss=-3.07]\n",
            "100%|██████████| 50/50 [00:02<00:00, 23.70it/s, epoch=8/10, avg_epoch_loss=-3.09]\n",
            "100%|██████████| 50/50 [00:02<00:00, 23.82it/s, epoch=9/10, avg_epoch_loss=-3.1]\n",
            "100%|██████████| 50/50 [00:01<00:00, 27.50it/s, epoch=10/10, avg_epoch_loss=-3.1]\n"
          ]
        },
        {
          "output_type": "stream",
          "name": "stdout",
          "text": [
            "train window 7 of total 91 windows\n",
            "[{'start': Period('2022-06-10', 'D'), 'target': array([ 0.0357601 ,  0.00501437,  0.01851108, -0.00012413,  0.00672544,\n",
            "        0.01780893, -0.00615074,  0.02658453,  0.00857339, -0.02144142,\n",
            "       -0.0131474 ], dtype=float32)}]\n"
          ]
        },
        {
          "output_type": "stream",
          "name": "stderr",
          "text": [
            "100%|██████████| 50/50 [00:01<00:00, 34.55it/s, epoch=1/10, avg_epoch_loss=-2.23]\n",
            "100%|██████████| 50/50 [00:01<00:00, 35.41it/s, epoch=2/10, avg_epoch_loss=-2.67]\n",
            "100%|██████████| 50/50 [00:01<00:00, 36.22it/s, epoch=3/10, avg_epoch_loss=-2.68]\n",
            "100%|██████████| 50/50 [00:01<00:00, 35.79it/s, epoch=4/10, avg_epoch_loss=-2.69]\n",
            "100%|██████████| 50/50 [00:01<00:00, 35.02it/s, epoch=5/10, avg_epoch_loss=-2.7]\n",
            "100%|██████████| 50/50 [00:01<00:00, 35.62it/s, epoch=6/10, avg_epoch_loss=-2.71]\n",
            "100%|██████████| 50/50 [00:01<00:00, 28.96it/s, epoch=7/10, avg_epoch_loss=-2.72]\n",
            "100%|██████████| 50/50 [00:02<00:00, 24.45it/s, epoch=8/10, avg_epoch_loss=-2.73]\n",
            "100%|██████████| 50/50 [00:02<00:00, 22.69it/s, epoch=9/10, avg_epoch_loss=-2.75]\n",
            "100%|██████████| 50/50 [00:01<00:00, 26.85it/s, epoch=10/10, avg_epoch_loss=-2.76]\n"
          ]
        },
        {
          "output_type": "stream",
          "name": "stdout",
          "text": [
            "train window 8 of total 91 windows\n",
            "[{'start': Period('2022-06-13', 'D'), 'target': array([ 0.00501437,  0.01851108, -0.00012413,  0.00672544,  0.01780893,\n",
            "       -0.00615074,  0.02658453,  0.00857339, -0.02144142, -0.0131474 ,\n",
            "       -0.00916095], dtype=float32)}]\n"
          ]
        },
        {
          "output_type": "stream",
          "name": "stderr",
          "text": [
            "100%|██████████| 50/50 [00:01<00:00, 33.77it/s, epoch=1/10, avg_epoch_loss=-3.09]\n",
            "100%|██████████| 50/50 [00:01<00:00, 35.61it/s, epoch=2/10, avg_epoch_loss=-3.19]\n",
            "100%|██████████| 50/50 [00:01<00:00, 35.42it/s, epoch=3/10, avg_epoch_loss=-3.21]\n",
            "100%|██████████| 50/50 [00:01<00:00, 34.15it/s, epoch=4/10, avg_epoch_loss=-3.2]\n",
            "100%|██████████| 50/50 [00:01<00:00, 35.35it/s, epoch=5/10, avg_epoch_loss=-3.2]\n",
            "100%|██████████| 50/50 [00:01<00:00, 35.73it/s, epoch=6/10, avg_epoch_loss=-3.2]\n",
            "100%|██████████| 50/50 [00:01<00:00, 25.25it/s, epoch=7/10, avg_epoch_loss=-3.21]\n",
            "100%|██████████| 50/50 [00:02<00:00, 23.99it/s, epoch=8/10, avg_epoch_loss=-3.21]\n",
            "100%|██████████| 50/50 [00:02<00:00, 24.33it/s, epoch=9/10, avg_epoch_loss=-3.21]\n",
            "100%|██████████| 50/50 [00:01<00:00, 35.33it/s, epoch=10/10, avg_epoch_loss=-3.21]\n"
          ]
        },
        {
          "output_type": "stream",
          "name": "stdout",
          "text": [
            "train window 9 of total 91 windows\n",
            "[{'start': Period('2022-06-14', 'D'), 'target': array([ 0.01851108, -0.00012413,  0.00672544,  0.01780893, -0.00615074,\n",
            "        0.02658453,  0.00857339, -0.02144142, -0.0131474 , -0.00916095,\n",
            "        0.01978006], dtype=float32)}]\n"
          ]
        },
        {
          "output_type": "stream",
          "name": "stderr",
          "text": [
            "100%|██████████| 50/50 [00:01<00:00, 31.98it/s, epoch=1/10, avg_epoch_loss=-2.75]\n",
            "100%|██████████| 50/50 [00:01<00:00, 35.60it/s, epoch=2/10, avg_epoch_loss=-3.08]\n",
            "100%|██████████| 50/50 [00:01<00:00, 35.71it/s, epoch=3/10, avg_epoch_loss=-3.08]\n",
            "100%|██████████| 50/50 [00:01<00:00, 34.29it/s, epoch=4/10, avg_epoch_loss=-3.09]\n",
            "100%|██████████| 50/50 [00:01<00:00, 35.02it/s, epoch=5/10, avg_epoch_loss=-3.09]\n",
            "100%|██████████| 50/50 [00:01<00:00, 32.41it/s, epoch=6/10, avg_epoch_loss=-3.08]\n",
            "100%|██████████| 50/50 [00:02<00:00, 24.32it/s, epoch=7/10, avg_epoch_loss=-3.1]\n",
            "100%|██████████| 50/50 [00:02<00:00, 23.71it/s, epoch=8/10, avg_epoch_loss=-3.09]\n",
            "100%|██████████| 50/50 [00:01<00:00, 27.95it/s, epoch=9/10, avg_epoch_loss=-3.09]\n",
            "100%|██████████| 50/50 [00:01<00:00, 35.66it/s, epoch=10/10, avg_epoch_loss=-3.09]\n"
          ]
        },
        {
          "output_type": "stream",
          "name": "stdout",
          "text": [
            "train window 10 of total 91 windows\n",
            "[{'start': Period('2022-06-15', 'D'), 'target': array([-0.00012413,  0.00672544,  0.01780893, -0.00615074,  0.02658453,\n",
            "        0.00857339, -0.02144142, -0.0131474 , -0.00916095,  0.01978006,\n",
            "        0.0182568 ], dtype=float32)}]\n"
          ]
        },
        {
          "output_type": "stream",
          "name": "stderr",
          "text": [
            "100%|██████████| 50/50 [00:01<00:00, 35.18it/s, epoch=1/10, avg_epoch_loss=95.9]\n",
            "100%|██████████| 50/50 [00:01<00:00, 37.01it/s, epoch=2/10, avg_epoch_loss=24.6]\n",
            "100%|██████████| 50/50 [00:01<00:00, 35.94it/s, epoch=3/10, avg_epoch_loss=20.7]\n",
            "100%|██████████| 50/50 [00:01<00:00, 27.23it/s, epoch=4/10, avg_epoch_loss=26]\n",
            "100%|██████████| 50/50 [00:02<00:00, 23.30it/s, epoch=5/10, avg_epoch_loss=20.3]\n",
            "100%|██████████| 50/50 [00:02<00:00, 19.66it/s, epoch=6/10, avg_epoch_loss=21.5]\n",
            "100%|██████████| 50/50 [00:02<00:00, 20.89it/s, epoch=7/10, avg_epoch_loss=24.2]\n",
            "100%|██████████| 50/50 [00:02<00:00, 22.92it/s, epoch=8/10, avg_epoch_loss=17.3]\n",
            "100%|██████████| 50/50 [00:01<00:00, 31.13it/s, epoch=9/10, avg_epoch_loss=21.5]\n",
            "100%|██████████| 50/50 [00:01<00:00, 35.04it/s, epoch=10/10, avg_epoch_loss=21.8]\n"
          ]
        },
        {
          "output_type": "stream",
          "name": "stdout",
          "text": [
            "train window 11 of total 91 windows\n",
            "[{'start': Period('2022-06-16', 'D'), 'target': array([ 0.00672544,  0.01780893, -0.00615074,  0.02658453,  0.00857339,\n",
            "       -0.02144142, -0.0131474 , -0.00916095,  0.01978006,  0.0182568 ,\n",
            "        0.01040551], dtype=float32)}]\n"
          ]
        },
        {
          "output_type": "stream",
          "name": "stderr",
          "text": [
            "100%|██████████| 50/50 [00:01<00:00, 33.20it/s, epoch=1/10, avg_epoch_loss=-2.99]\n",
            "100%|██████████| 50/50 [00:01<00:00, 35.51it/s, epoch=2/10, avg_epoch_loss=-3.1]\n",
            "100%|██████████| 50/50 [00:01<00:00, 33.06it/s, epoch=3/10, avg_epoch_loss=-3.1]\n",
            "100%|██████████| 50/50 [00:01<00:00, 35.20it/s, epoch=4/10, avg_epoch_loss=-3.11]\n",
            "100%|██████████| 50/50 [00:01<00:00, 29.31it/s, epoch=5/10, avg_epoch_loss=-3.1]\n",
            "100%|██████████| 50/50 [00:02<00:00, 24.23it/s, epoch=6/10, avg_epoch_loss=-3.11]\n",
            "100%|██████████| 50/50 [00:02<00:00, 23.35it/s, epoch=7/10, avg_epoch_loss=-3.11]\n",
            "100%|██████████| 50/50 [00:01<00:00, 26.97it/s, epoch=8/10, avg_epoch_loss=-3.11]\n",
            "100%|██████████| 50/50 [00:01<00:00, 34.83it/s, epoch=9/10, avg_epoch_loss=-3.11]\n",
            "100%|██████████| 50/50 [00:01<00:00, 35.46it/s, epoch=10/10, avg_epoch_loss=-3.11]\n"
          ]
        },
        {
          "output_type": "stream",
          "name": "stdout",
          "text": [
            "train window 12 of total 91 windows\n",
            "[{'start': Period('2022-06-17', 'D'), 'target': array([ 1.78089272e-02, -6.15074392e-03,  2.65845340e-02,  8.57339054e-03,\n",
            "       -2.14414224e-02, -1.31474035e-02, -9.16094612e-03,  1.97800640e-02,\n",
            "        1.82568040e-02,  1.04055125e-02,  3.28931128e-05], dtype=float32)}]\n"
          ]
        },
        {
          "output_type": "stream",
          "name": "stderr",
          "text": [
            "100%|██████████| 50/50 [00:01<00:00, 34.08it/s, epoch=1/10, avg_epoch_loss=-2.73]\n",
            "100%|██████████| 50/50 [00:01<00:00, 33.57it/s, epoch=2/10, avg_epoch_loss=-2.86]\n",
            "100%|██████████| 50/50 [00:01<00:00, 35.48it/s, epoch=3/10, avg_epoch_loss=-2.85]\n",
            "100%|██████████| 50/50 [00:01<00:00, 35.90it/s, epoch=4/10, avg_epoch_loss=-2.86]\n",
            "100%|██████████| 50/50 [00:01<00:00, 28.94it/s, epoch=5/10, avg_epoch_loss=-2.86]\n",
            "100%|██████████| 50/50 [00:02<00:00, 23.82it/s, epoch=6/10, avg_epoch_loss=-2.85]\n",
            "100%|██████████| 50/50 [00:02<00:00, 22.63it/s, epoch=7/10, avg_epoch_loss=-2.86]\n",
            "100%|██████████| 50/50 [00:01<00:00, 31.34it/s, epoch=8/10, avg_epoch_loss=-2.85]\n",
            "100%|██████████| 50/50 [00:01<00:00, 35.83it/s, epoch=9/10, avg_epoch_loss=-2.86]\n",
            "100%|██████████| 50/50 [00:01<00:00, 35.62it/s, epoch=10/10, avg_epoch_loss=-2.86]\n"
          ]
        },
        {
          "output_type": "stream",
          "name": "stdout",
          "text": [
            "train window 13 of total 91 windows\n",
            "[{'start': Period('2022-06-20', 'D'), 'target': array([-6.15074392e-03,  2.65845340e-02,  8.57339054e-03, -2.14414224e-02,\n",
            "       -1.31474035e-02, -9.16094612e-03,  1.97800640e-02,  1.82568040e-02,\n",
            "        1.04055125e-02,  3.28931128e-05, -1.63777638e-02], dtype=float32)}]\n"
          ]
        },
        {
          "output_type": "stream",
          "name": "stderr",
          "text": [
            "100%|██████████| 50/50 [00:01<00:00, 34.04it/s, epoch=1/10, avg_epoch_loss=-2.08]\n",
            "100%|██████████| 50/50 [00:01<00:00, 34.54it/s, epoch=2/10, avg_epoch_loss=-2.6]\n",
            "100%|██████████| 50/50 [00:01<00:00, 34.61it/s, epoch=3/10, avg_epoch_loss=-2.59]\n",
            "100%|██████████| 50/50 [00:01<00:00, 36.14it/s, epoch=4/10, avg_epoch_loss=-2.61]\n",
            "  0%|          | 0/50 [00:00<?, ?it/s]\n",
            "100%|██████████| 50/50 [00:02<00:00, 24.44it/s, epoch=6/10, avg_epoch_loss=-2.6]\n",
            "100%|██████████| 50/50 [00:02<00:00, 24.10it/s, epoch=7/10, avg_epoch_loss=-2.62]\n",
            "100%|██████████| 50/50 [00:01<00:00, 35.59it/s, epoch=8/10, avg_epoch_loss=-2.61]\n",
            "100%|██████████| 50/50 [00:01<00:00, 33.19it/s, epoch=9/10, avg_epoch_loss=-2.61]\n",
            "100%|██████████| 50/50 [00:01<00:00, 33.45it/s, epoch=10/10, avg_epoch_loss=-2.61]\n"
          ]
        },
        {
          "output_type": "stream",
          "name": "stdout",
          "text": [
            "train window 14 of total 91 windows\n",
            "[{'start': Period('2022-06-21', 'D'), 'target': array([ 2.65845340e-02,  8.57339054e-03, -2.14414224e-02, -1.31474035e-02,\n",
            "       -9.16094612e-03,  1.97800640e-02,  1.82568040e-02,  1.04055125e-02,\n",
            "        3.28931128e-05, -1.63777638e-02,  2.20846198e-02], dtype=float32)}]\n"
          ]
        },
        {
          "output_type": "stream",
          "name": "stderr",
          "text": [
            "100%|██████████| 50/50 [00:01<00:00, 34.48it/s, epoch=1/10, avg_epoch_loss=-2.5]\n",
            "100%|██████████| 50/50 [00:01<00:00, 36.23it/s, epoch=2/10, avg_epoch_loss=-2.77]\n",
            "100%|██████████| 50/50 [00:01<00:00, 36.25it/s, epoch=3/10, avg_epoch_loss=-2.76]\n",
            "100%|██████████| 50/50 [00:01<00:00, 32.17it/s, epoch=4/10, avg_epoch_loss=-2.76]\n",
            "100%|██████████| 50/50 [00:02<00:00, 23.86it/s, epoch=5/10, avg_epoch_loss=-2.76]\n",
            "100%|██████████| 50/50 [00:02<00:00, 21.82it/s, epoch=6/10, avg_epoch_loss=-2.77]\n",
            "100%|██████████| 50/50 [00:01<00:00, 31.04it/s, epoch=7/10, avg_epoch_loss=-2.76]\n",
            "100%|██████████| 50/50 [00:01<00:00, 34.17it/s, epoch=8/10, avg_epoch_loss=-2.77]\n",
            "100%|██████████| 50/50 [00:01<00:00, 33.95it/s, epoch=9/10, avg_epoch_loss=-2.76]\n",
            "100%|██████████| 50/50 [00:01<00:00, 33.76it/s, epoch=10/10, avg_epoch_loss=-2.77]\n"
          ]
        },
        {
          "output_type": "stream",
          "name": "stdout",
          "text": [
            "train window 15 of total 91 windows\n",
            "[{'start': Period('2022-06-22', 'D'), 'target': array([ 8.57339054e-03, -2.14414224e-02, -1.31474035e-02, -9.16094612e-03,\n",
            "        1.97800640e-02,  1.82568040e-02,  1.04055125e-02,  3.28931128e-05,\n",
            "       -1.63777638e-02,  2.20846198e-02, -1.97520293e-02], dtype=float32)}]\n"
          ]
        },
        {
          "output_type": "stream",
          "name": "stderr",
          "text": [
            "100%|██████████| 50/50 [00:01<00:00, 33.82it/s, epoch=1/10, avg_epoch_loss=-2.74]\n",
            "100%|██████████| 50/50 [00:01<00:00, 35.65it/s, epoch=2/10, avg_epoch_loss=-2.85]\n",
            "100%|██████████| 50/50 [00:01<00:00, 32.76it/s, epoch=3/10, avg_epoch_loss=-2.84]\n",
            "100%|██████████| 50/50 [00:02<00:00, 24.57it/s, epoch=4/10, avg_epoch_loss=-2.85]\n",
            "100%|██████████| 50/50 [00:02<00:00, 23.52it/s, epoch=5/10, avg_epoch_loss=-2.85]\n",
            "100%|██████████| 50/50 [00:01<00:00, 30.11it/s, epoch=6/10, avg_epoch_loss=-2.85]\n",
            "100%|██████████| 50/50 [00:01<00:00, 36.67it/s, epoch=7/10, avg_epoch_loss=-2.86]\n",
            "100%|██████████| 50/50 [00:01<00:00, 35.47it/s, epoch=8/10, avg_epoch_loss=-2.85]\n",
            "100%|██████████| 50/50 [00:01<00:00, 35.79it/s, epoch=9/10, avg_epoch_loss=-2.85]\n",
            "100%|██████████| 50/50 [00:01<00:00, 35.17it/s, epoch=10/10, avg_epoch_loss=-2.85]\n"
          ]
        },
        {
          "output_type": "stream",
          "name": "stdout",
          "text": [
            "train window 16 of total 91 windows\n",
            "[{'start': Period('2022-06-23', 'D'), 'target': array([-2.14414224e-02, -1.31474035e-02, -9.16094612e-03,  1.97800640e-02,\n",
            "        1.82568040e-02,  1.04055125e-02,  3.28931128e-05, -1.63777638e-02,\n",
            "        2.20846198e-02, -1.97520293e-02, -5.95028093e-03], dtype=float32)}]\n"
          ]
        },
        {
          "output_type": "stream",
          "name": "stderr",
          "text": [
            "100%|██████████| 50/50 [00:01<00:00, 34.89it/s, epoch=1/10, avg_epoch_loss=-2.68]\n",
            "100%|██████████| 50/50 [00:01<00:00, 35.84it/s, epoch=2/10, avg_epoch_loss=-2.9]\n",
            "100%|██████████| 50/50 [00:02<00:00, 24.13it/s, epoch=3/10, avg_epoch_loss=-2.9]\n",
            "100%|██████████| 50/50 [00:02<00:00, 24.00it/s, epoch=4/10, avg_epoch_loss=-2.89]\n",
            "100%|██████████| 50/50 [00:01<00:00, 28.09it/s, epoch=5/10, avg_epoch_loss=-2.9]\n",
            "100%|██████████| 50/50 [00:01<00:00, 36.00it/s, epoch=6/10, avg_epoch_loss=-2.9]\n",
            "100%|██████████| 50/50 [00:01<00:00, 35.18it/s, epoch=7/10, avg_epoch_loss=-2.9]\n",
            "100%|██████████| 50/50 [00:01<00:00, 34.78it/s, epoch=8/10, avg_epoch_loss=-2.9]\n",
            "100%|██████████| 50/50 [00:01<00:00, 35.41it/s, epoch=9/10, avg_epoch_loss=-2.9]\n",
            "100%|██████████| 50/50 [00:01<00:00, 32.87it/s, epoch=10/10, avg_epoch_loss=-2.89]\n"
          ]
        },
        {
          "output_type": "stream",
          "name": "stdout",
          "text": [
            "train window 17 of total 91 windows\n",
            "[{'start': Period('2022-06-24', 'D'), 'target': array([-1.31474035e-02, -9.16094612e-03,  1.97800640e-02,  1.82568040e-02,\n",
            "        1.04055125e-02,  3.28931128e-05, -1.63777638e-02,  2.20846198e-02,\n",
            "       -1.97520293e-02, -5.95028093e-03,  6.01515314e-03], dtype=float32)}]\n"
          ]
        },
        {
          "output_type": "stream",
          "name": "stderr",
          "text": [
            "100%|██████████| 50/50 [00:01<00:00, 32.52it/s, epoch=1/10, avg_epoch_loss=-2.74]\n",
            "100%|██████████| 50/50 [00:01<00:00, 26.28it/s, epoch=2/10, avg_epoch_loss=-2.93]\n",
            "100%|██████████| 50/50 [00:02<00:00, 24.31it/s, epoch=3/10, avg_epoch_loss=-2.93]\n",
            "100%|██████████| 50/50 [00:01<00:00, 26.49it/s, epoch=4/10, avg_epoch_loss=-2.93]\n",
            "100%|██████████| 50/50 [00:01<00:00, 36.15it/s, epoch=5/10, avg_epoch_loss=-2.93]\n",
            "100%|██████████| 50/50 [00:01<00:00, 35.91it/s, epoch=6/10, avg_epoch_loss=-2.93]\n",
            "100%|██████████| 50/50 [00:01<00:00, 34.38it/s, epoch=7/10, avg_epoch_loss=-2.93]\n",
            "100%|██████████| 50/50 [00:01<00:00, 35.47it/s, epoch=8/10, avg_epoch_loss=-2.93]\n",
            "100%|██████████| 50/50 [00:01<00:00, 35.94it/s, epoch=9/10, avg_epoch_loss=-2.93]\n",
            "100%|██████████| 50/50 [00:01<00:00, 36.62it/s, epoch=10/10, avg_epoch_loss=-2.93]\n"
          ]
        },
        {
          "output_type": "stream",
          "name": "stdout",
          "text": [
            "train window 18 of total 91 windows\n",
            "[{'start': Period('2022-06-27', 'D'), 'target': array([-9.16094612e-03,  1.97800640e-02,  1.82568040e-02,  1.04055125e-02,\n",
            "        3.28931128e-05, -1.63777638e-02,  2.20846198e-02, -1.97520293e-02,\n",
            "       -5.95028093e-03,  6.01515314e-03,  1.06307659e-02], dtype=float32)}]\n"
          ]
        },
        {
          "output_type": "stream",
          "name": "stderr",
          "text": [
            "100%|██████████| 50/50 [00:01<00:00, 29.59it/s, epoch=1/10, avg_epoch_loss=-2.86]\n",
            "100%|██████████| 50/50 [00:02<00:00, 23.83it/s, epoch=2/10, avg_epoch_loss=-2.99]\n",
            "100%|██████████| 50/50 [00:02<00:00, 23.27it/s, epoch=3/10, avg_epoch_loss=-2.98]\n",
            "100%|██████████| 50/50 [00:01<00:00, 35.57it/s, epoch=4/10, avg_epoch_loss=-2.98]\n",
            "100%|██████████| 50/50 [00:01<00:00, 35.35it/s, epoch=5/10, avg_epoch_loss=-2.98]\n",
            "100%|██████████| 50/50 [00:01<00:00, 36.54it/s, epoch=6/10, avg_epoch_loss=-2.98]\n",
            "100%|██████████| 50/50 [00:01<00:00, 35.75it/s, epoch=7/10, avg_epoch_loss=-2.98]\n",
            "100%|██████████| 50/50 [00:01<00:00, 34.72it/s, epoch=8/10, avg_epoch_loss=-2.99]\n",
            "100%|██████████| 50/50 [00:01<00:00, 34.37it/s, epoch=9/10, avg_epoch_loss=-2.98]\n",
            "100%|██████████| 50/50 [00:01<00:00, 35.96it/s, epoch=10/10, avg_epoch_loss=-2.99]\n"
          ]
        },
        {
          "output_type": "stream",
          "name": "stdout",
          "text": [
            "train window 19 of total 91 windows\n",
            "[{'start': Period('2022-06-28', 'D'), 'target': array([ 1.97800640e-02,  1.82568040e-02,  1.04055125e-02,  3.28931128e-05,\n",
            "       -1.63777638e-02,  2.20846198e-02, -1.97520293e-02, -5.95028093e-03,\n",
            "        6.01515314e-03,  1.06307659e-02, -5.10121789e-03], dtype=float32)}]\n"
          ]
        },
        {
          "output_type": "stream",
          "name": "stderr",
          "text": [
            "100%|██████████| 50/50 [00:02<00:00, 23.64it/s, epoch=1/10, avg_epoch_loss=-2.95]\n",
            "100%|██████████| 50/50 [00:02<00:00, 23.30it/s, epoch=2/10, avg_epoch_loss=-3.16]\n",
            "100%|██████████| 50/50 [00:01<00:00, 30.49it/s, epoch=3/10, avg_epoch_loss=-3.15]\n",
            "100%|██████████| 50/50 [00:01<00:00, 33.27it/s, epoch=4/10, avg_epoch_loss=-3.15]\n",
            "100%|██████████| 50/50 [00:01<00:00, 35.58it/s, epoch=5/10, avg_epoch_loss=-3.15]\n",
            "100%|██████████| 50/50 [00:01<00:00, 33.77it/s, epoch=6/10, avg_epoch_loss=-3.16]\n",
            "100%|██████████| 50/50 [00:01<00:00, 34.85it/s, epoch=7/10, avg_epoch_loss=-3.16]\n",
            "100%|██████████| 50/50 [00:01<00:00, 34.76it/s, epoch=8/10, avg_epoch_loss=-3.15]\n",
            "100%|██████████| 50/50 [00:01<00:00, 36.02it/s, epoch=9/10, avg_epoch_loss=-3.15]\n",
            "100%|██████████| 50/50 [00:01<00:00, 25.88it/s, epoch=10/10, avg_epoch_loss=-3.16]\n"
          ]
        },
        {
          "output_type": "stream",
          "name": "stdout",
          "text": [
            "train window 20 of total 91 windows\n",
            "[{'start': Period('2022-06-29', 'D'), 'target': array([ 1.82568040e-02,  1.04055125e-02,  3.28931128e-05, -1.63777638e-02,\n",
            "        2.20846198e-02, -1.97520293e-02, -5.95028093e-03,  6.01515314e-03,\n",
            "        1.06307659e-02, -5.10121789e-03,  4.05269023e-03], dtype=float32)}]\n"
          ]
        },
        {
          "output_type": "stream",
          "name": "stderr",
          "text": [
            "100%|██████████| 50/50 [00:02<00:00, 22.52it/s, epoch=1/10, avg_epoch_loss=-2.74]\n",
            "100%|██████████| 50/50 [00:01<00:00, 27.49it/s, epoch=2/10, avg_epoch_loss=-2.97]\n",
            "100%|██████████| 50/50 [00:01<00:00, 35.24it/s, epoch=3/10, avg_epoch_loss=-2.97]\n",
            "100%|██████████| 50/50 [00:01<00:00, 35.20it/s, epoch=4/10, avg_epoch_loss=-2.97]\n",
            "100%|██████████| 50/50 [00:01<00:00, 34.17it/s, epoch=5/10, avg_epoch_loss=-2.98]\n",
            "100%|██████████| 50/50 [00:01<00:00, 33.91it/s, epoch=6/10, avg_epoch_loss=-2.98]\n",
            "100%|██████████| 50/50 [00:01<00:00, 34.77it/s, epoch=7/10, avg_epoch_loss=-2.97]\n",
            "100%|██████████| 50/50 [00:01<00:00, 35.07it/s, epoch=8/10, avg_epoch_loss=-2.97]\n",
            "100%|██████████| 50/50 [00:01<00:00, 27.03it/s, epoch=9/10, avg_epoch_loss=-2.98]\n",
            "100%|██████████| 50/50 [00:02<00:00, 24.16it/s, epoch=10/10, avg_epoch_loss=-2.97]\n"
          ]
        },
        {
          "output_type": "stream",
          "name": "stdout",
          "text": [
            "train window 21 of total 91 windows\n",
            "[{'start': Period('2022-06-30', 'D'), 'target': array([ 1.04055125e-02,  3.28931128e-05, -1.63777638e-02,  2.20846198e-02,\n",
            "       -1.97520293e-02, -5.95028093e-03,  6.01515314e-03,  1.06307659e-02,\n",
            "       -5.10121789e-03,  4.05269023e-03, -8.34887289e-03], dtype=float32)}]\n"
          ]
        },
        {
          "output_type": "stream",
          "name": "stderr",
          "text": [
            "100%|██████████| 50/50 [00:02<00:00, 24.82it/s, epoch=1/10, avg_epoch_loss=-2.18]\n",
            "100%|██████████| 50/50 [00:01<00:00, 36.55it/s, epoch=2/10, avg_epoch_loss=-2.95]\n",
            "100%|██████████| 50/50 [00:01<00:00, 35.85it/s, epoch=3/10, avg_epoch_loss=-2.96]\n",
            "100%|██████████| 50/50 [00:01<00:00, 37.26it/s, epoch=4/10, avg_epoch_loss=-2.96]\n",
            "100%|██████████| 50/50 [00:01<00:00, 35.35it/s, epoch=5/10, avg_epoch_loss=-2.95]\n",
            "100%|██████████| 50/50 [00:01<00:00, 35.13it/s, epoch=6/10, avg_epoch_loss=-2.95]\n",
            "100%|██████████| 50/50 [00:01<00:00, 33.41it/s, epoch=7/10, avg_epoch_loss=-2.96]\n",
            "100%|██████████| 50/50 [00:01<00:00, 31.67it/s, epoch=8/10, avg_epoch_loss=-2.95]\n",
            "100%|██████████| 50/50 [00:02<00:00, 24.09it/s, epoch=9/10, avg_epoch_loss=-2.95]\n",
            "100%|██████████| 50/50 [00:02<00:00, 23.30it/s, epoch=10/10, avg_epoch_loss=-2.95]\n"
          ]
        },
        {
          "output_type": "stream",
          "name": "stdout",
          "text": [
            "train window 22 of total 91 windows\n",
            "[{'start': Period('2022-07-01', 'D'), 'target': array([ 3.2893113e-05, -1.6377764e-02,  2.2084620e-02, -1.9752029e-02,\n",
            "       -5.9502809e-03,  6.0151531e-03,  1.0630766e-02, -5.1012179e-03,\n",
            "        4.0526902e-03, -8.3488729e-03, -2.2352323e-02], dtype=float32)}]\n"
          ]
        },
        {
          "output_type": "stream",
          "name": "stderr",
          "text": [
            "100%|██████████| 50/50 [00:01<00:00, 32.93it/s, epoch=1/10, avg_epoch_loss=9.86e+3]\n",
            "100%|██████████| 50/50 [00:01<00:00, 36.20it/s, epoch=2/10, avg_epoch_loss=2.24e+3]\n",
            "100%|██████████| 50/50 [00:01<00:00, 33.99it/s, epoch=3/10, avg_epoch_loss=2e+3]\n",
            "100%|██████████| 50/50 [00:01<00:00, 35.08it/s, epoch=4/10, avg_epoch_loss=1.92e+3]\n",
            "100%|██████████| 50/50 [00:01<00:00, 34.84it/s, epoch=5/10, avg_epoch_loss=2.22e+3]\n",
            "100%|██████████| 50/50 [00:01<00:00, 29.52it/s, epoch=6/10, avg_epoch_loss=2.16e+3]\n",
            "100%|██████████| 50/50 [00:01<00:00, 29.19it/s, epoch=7/10, avg_epoch_loss=2.27e+3]\n",
            "100%|██████████| 50/50 [00:02<00:00, 23.58it/s, epoch=8/10, avg_epoch_loss=2.22e+3]\n",
            "100%|██████████| 50/50 [00:02<00:00, 22.99it/s, epoch=9/10, avg_epoch_loss=2.16e+3]\n",
            "100%|██████████| 50/50 [00:01<00:00, 33.83it/s, epoch=10/10, avg_epoch_loss=2.15e+3]\n"
          ]
        },
        {
          "output_type": "stream",
          "name": "stdout",
          "text": [
            "train window 23 of total 91 windows\n",
            "[{'start': Period('2022-07-04', 'D'), 'target': array([-0.01637776,  0.02208462, -0.01975203, -0.00595028,  0.00601515,\n",
            "        0.01063077, -0.00510122,  0.00405269, -0.00834887, -0.02235232,\n",
            "        0.00308539], dtype=float32)}]\n"
          ]
        },
        {
          "output_type": "stream",
          "name": "stderr",
          "text": [
            "100%|██████████| 50/50 [00:01<00:00, 33.19it/s, epoch=1/10, avg_epoch_loss=-2.79]\n",
            "100%|██████████| 50/50 [00:01<00:00, 34.91it/s, epoch=2/10, avg_epoch_loss=-2.89]\n",
            "100%|██████████| 50/50 [00:01<00:00, 35.26it/s, epoch=3/10, avg_epoch_loss=-2.89]\n",
            "100%|██████████| 50/50 [00:01<00:00, 34.88it/s, epoch=4/10, avg_epoch_loss=-2.89]\n",
            "100%|██████████| 50/50 [00:01<00:00, 35.80it/s, epoch=5/10, avg_epoch_loss=-2.9]\n",
            "100%|██████████| 50/50 [00:01<00:00, 32.84it/s, epoch=6/10, avg_epoch_loss=-2.9]\n",
            "100%|██████████| 50/50 [00:02<00:00, 24.53it/s, epoch=7/10, avg_epoch_loss=-2.89]\n",
            "100%|██████████| 50/50 [00:02<00:00, 23.46it/s, epoch=8/10, avg_epoch_loss=-2.89]\n",
            "100%|██████████| 50/50 [00:01<00:00, 31.98it/s, epoch=9/10, avg_epoch_loss=-2.89]\n",
            "100%|██████████| 50/50 [00:01<00:00, 35.60it/s, epoch=10/10, avg_epoch_loss=-2.89]\n"
          ]
        },
        {
          "output_type": "stream",
          "name": "stdout",
          "text": [
            "train window 24 of total 91 windows\n",
            "[{'start': Period('2022-07-05', 'D'), 'target': array([ 0.02208462, -0.01975203, -0.00595028,  0.00601515,  0.01063077,\n",
            "       -0.00510122,  0.00405269, -0.00834887, -0.02235232,  0.00308539,\n",
            "       -0.00673104], dtype=float32)}]\n"
          ]
        },
        {
          "output_type": "stream",
          "name": "stderr",
          "text": [
            "100%|██████████| 50/50 [00:01<00:00, 35.05it/s, epoch=1/10, avg_epoch_loss=-2.55]\n",
            "100%|██████████| 50/50 [00:01<00:00, 35.78it/s, epoch=2/10, avg_epoch_loss=-2.83]\n",
            "100%|██████████| 50/50 [00:01<00:00, 36.17it/s, epoch=3/10, avg_epoch_loss=-2.81]\n",
            "100%|██████████| 50/50 [00:02<00:00, 19.21it/s, epoch=4/10, avg_epoch_loss=-2.82]\n",
            "100%|██████████| 50/50 [00:02<00:00, 21.61it/s, epoch=5/10, avg_epoch_loss=-2.82]\n",
            "100%|██████████| 50/50 [00:02<00:00, 19.91it/s, epoch=6/10, avg_epoch_loss=-2.82]\n",
            "100%|██████████| 50/50 [00:02<00:00, 21.89it/s, epoch=7/10, avg_epoch_loss=-2.82]\n",
            "100%|██████████| 50/50 [00:01<00:00, 34.56it/s, epoch=8/10, avg_epoch_loss=-2.83]\n",
            "100%|██████████| 50/50 [00:01<00:00, 32.84it/s, epoch=9/10, avg_epoch_loss=-2.82]\n",
            "100%|██████████| 50/50 [00:01<00:00, 34.19it/s, epoch=10/10, avg_epoch_loss=-2.82]\n"
          ]
        },
        {
          "output_type": "stream",
          "name": "stdout",
          "text": [
            "train window 25 of total 91 windows\n",
            "[{'start': Period('2022-07-06', 'D'), 'target': array([-0.01975203, -0.00595028,  0.00601515,  0.01063077, -0.00510122,\n",
            "        0.00405269, -0.00834887, -0.02235232,  0.00308539, -0.00673104,\n",
            "       -0.01151499], dtype=float32)}]\n"
          ]
        },
        {
          "output_type": "stream",
          "name": "stderr",
          "text": [
            "100%|██████████| 50/50 [00:01<00:00, 32.72it/s, epoch=1/10, avg_epoch_loss=-2.91]\n",
            "100%|██████████| 50/50 [00:01<00:00, 33.29it/s, epoch=2/10, avg_epoch_loss=-3.11]\n",
            "100%|██████████| 50/50 [00:01<00:00, 33.69it/s, epoch=3/10, avg_epoch_loss=-3.1]\n",
            "100%|██████████| 50/50 [00:01<00:00, 29.17it/s, epoch=4/10, avg_epoch_loss=-3.11]\n",
            "100%|██████████| 50/50 [00:02<00:00, 23.08it/s, epoch=5/10, avg_epoch_loss=-3.1]\n",
            "100%|██████████| 50/50 [00:02<00:00, 22.12it/s, epoch=6/10, avg_epoch_loss=-3.11]\n",
            "100%|██████████| 50/50 [00:01<00:00, 31.86it/s, epoch=7/10, avg_epoch_loss=-3.11]\n",
            "100%|██████████| 50/50 [00:01<00:00, 33.06it/s, epoch=8/10, avg_epoch_loss=-3.11]\n",
            "100%|██████████| 50/50 [00:01<00:00, 33.25it/s, epoch=9/10, avg_epoch_loss=-3.1]\n",
            "100%|██████████| 50/50 [00:01<00:00, 31.90it/s, epoch=10/10, avg_epoch_loss=-3.11]\n"
          ]
        },
        {
          "output_type": "stream",
          "name": "stdout",
          "text": [
            "train window 26 of total 91 windows\n",
            "[{'start': Period('2022-07-07', 'D'), 'target': array([-0.00595028,  0.00601515,  0.01063077, -0.00510122,  0.00405269,\n",
            "       -0.00834887, -0.02235232,  0.00308539, -0.00673104, -0.01151499,\n",
            "        0.00737825], dtype=float32)}]\n"
          ]
        },
        {
          "output_type": "stream",
          "name": "stderr",
          "text": [
            "100%|██████████| 50/50 [00:01<00:00, 31.07it/s, epoch=1/10, avg_epoch_loss=-3.35]\n",
            "100%|██████████| 50/50 [00:01<00:00, 33.66it/s, epoch=2/10, avg_epoch_loss=-3.46]\n",
            "100%|██████████| 50/50 [00:01<00:00, 25.64it/s, epoch=3/10, avg_epoch_loss=-3.46]\n",
            "100%|██████████| 50/50 [00:02<00:00, 22.04it/s, epoch=4/10, avg_epoch_loss=-3.46]\n",
            "100%|██████████| 50/50 [00:01<00:00, 25.21it/s, epoch=5/10, avg_epoch_loss=-3.45]\n",
            "100%|██████████| 50/50 [00:01<00:00, 33.44it/s, epoch=6/10, avg_epoch_loss=-3.46]\n",
            "100%|██████████| 50/50 [00:01<00:00, 32.16it/s, epoch=7/10, avg_epoch_loss=-3.46]\n",
            "100%|██████████| 50/50 [00:01<00:00, 32.69it/s, epoch=8/10, avg_epoch_loss=-3.46]\n",
            "100%|██████████| 50/50 [00:01<00:00, 33.08it/s, epoch=9/10, avg_epoch_loss=-3.46]\n",
            "100%|██████████| 50/50 [00:01<00:00, 31.73it/s, epoch=10/10, avg_epoch_loss=-3.46]\n"
          ]
        },
        {
          "output_type": "stream",
          "name": "stdout",
          "text": [
            "train window 27 of total 91 windows\n",
            "[{'start': Period('2022-07-08', 'D'), 'target': array([ 0.00601515,  0.01063077, -0.00510122,  0.00405269, -0.00834887,\n",
            "       -0.02235232,  0.00308539, -0.00673104, -0.01151499,  0.00737825,\n",
            "       -0.00317775], dtype=float32)}]\n"
          ]
        },
        {
          "output_type": "stream",
          "name": "stderr",
          "text": [
            "100%|██████████| 50/50 [00:01<00:00, 33.58it/s, epoch=1/10, avg_epoch_loss=-3.33]\n",
            "100%|██████████| 50/50 [00:02<00:00, 23.14it/s, epoch=2/10, avg_epoch_loss=-3.44]\n",
            "100%|██████████| 50/50 [00:02<00:00, 22.53it/s, epoch=3/10, avg_epoch_loss=-3.44]\n",
            "100%|██████████| 50/50 [00:01<00:00, 30.65it/s, epoch=4/10, avg_epoch_loss=-3.43]\n",
            "100%|██████████| 50/50 [00:01<00:00, 35.07it/s, epoch=5/10, avg_epoch_loss=-3.43]\n",
            "100%|██████████| 50/50 [00:01<00:00, 34.03it/s, epoch=6/10, avg_epoch_loss=-3.43]\n",
            "100%|██████████| 50/50 [00:01<00:00, 34.35it/s, epoch=7/10, avg_epoch_loss=-3.43]\n",
            "100%|██████████| 50/50 [00:01<00:00, 34.73it/s, epoch=8/10, avg_epoch_loss=-3.43]\n",
            "100%|██████████| 50/50 [00:01<00:00, 34.82it/s, epoch=9/10, avg_epoch_loss=-3.43]\n",
            "100%|██████████| 50/50 [00:01<00:00, 34.50it/s, epoch=10/10, avg_epoch_loss=-3.44]\n"
          ]
        },
        {
          "output_type": "stream",
          "name": "stdout",
          "text": [
            "train window 28 of total 91 windows\n",
            "[{'start': Period('2022-07-11', 'D'), 'target': array([ 0.01063077, -0.00510122,  0.00405269, -0.00834887, -0.02235232,\n",
            "        0.00308539, -0.00673104, -0.01151499,  0.00737825, -0.00317775,\n",
            "       -0.00398151], dtype=float32)}]\n"
          ]
        },
        {
          "output_type": "stream",
          "name": "stderr",
          "text": [
            "100%|██████████| 50/50 [00:02<00:00, 22.31it/s, epoch=1/10, avg_epoch_loss=-3.2]\n",
            "100%|██████████| 50/50 [00:02<00:00, 22.71it/s, epoch=2/10, avg_epoch_loss=-3.3]\n",
            "100%|██████████| 50/50 [00:01<00:00, 29.58it/s, epoch=3/10, avg_epoch_loss=-3.31]\n",
            "100%|██████████| 50/50 [00:01<00:00, 35.11it/s, epoch=4/10, avg_epoch_loss=-3.3]\n",
            "100%|██████████| 50/50 [00:01<00:00, 35.55it/s, epoch=5/10, avg_epoch_loss=-3.3]\n",
            "100%|██████████| 50/50 [00:01<00:00, 34.29it/s, epoch=6/10, avg_epoch_loss=-3.3]\n",
            "100%|██████████| 50/50 [00:01<00:00, 34.31it/s, epoch=7/10, avg_epoch_loss=-3.3]\n",
            "100%|██████████| 50/50 [00:01<00:00, 35.18it/s, epoch=8/10, avg_epoch_loss=-3.3]\n",
            "100%|██████████| 50/50 [00:01<00:00, 34.78it/s, epoch=9/10, avg_epoch_loss=-3.3]\n",
            "100%|██████████| 50/50 [00:01<00:00, 25.28it/s, epoch=10/10, avg_epoch_loss=-3.3]\n"
          ]
        },
        {
          "output_type": "stream",
          "name": "stdout",
          "text": [
            "train window 29 of total 91 windows\n",
            "[{'start': Period('2022-07-12', 'D'), 'target': array([-0.00510122,  0.00405269, -0.00834887, -0.02235232,  0.00308539,\n",
            "       -0.00673104, -0.01151499,  0.00737825, -0.00317775, -0.00398151,\n",
            "       -0.00040666], dtype=float32)}]\n"
          ]
        },
        {
          "output_type": "stream",
          "name": "stderr",
          "text": [
            "100%|██████████| 50/50 [00:02<00:00, 23.09it/s, epoch=1/10, avg_epoch_loss=-3.28]\n",
            "100%|██████████| 50/50 [00:01<00:00, 27.30it/s, epoch=2/10, avg_epoch_loss=-3.49]\n",
            "100%|██████████| 50/50 [00:01<00:00, 34.27it/s, epoch=3/10, avg_epoch_loss=-3.48]\n",
            "100%|██████████| 50/50 [00:01<00:00, 34.57it/s, epoch=4/10, avg_epoch_loss=-3.5]\n",
            "100%|██████████| 50/50 [00:01<00:00, 34.47it/s, epoch=5/10, avg_epoch_loss=-3.49]\n",
            "100%|██████████| 50/50 [00:01<00:00, 34.99it/s, epoch=6/10, avg_epoch_loss=-3.49]\n",
            "100%|██████████| 50/50 [00:01<00:00, 34.36it/s, epoch=7/10, avg_epoch_loss=-3.49]\n",
            "100%|██████████| 50/50 [00:01<00:00, 34.69it/s, epoch=8/10, avg_epoch_loss=-3.5]\n",
            "100%|██████████| 50/50 [00:01<00:00, 26.01it/s, epoch=9/10, avg_epoch_loss=-3.49]\n",
            "100%|██████████| 50/50 [00:02<00:00, 23.65it/s, epoch=10/10, avg_epoch_loss=-3.5]\n"
          ]
        },
        {
          "output_type": "stream",
          "name": "stdout",
          "text": [
            "train window 30 of total 91 windows\n",
            "[{'start': Period('2022-07-13', 'D'), 'target': array([ 0.00405269, -0.00834887, -0.02235232,  0.00308539, -0.00673104,\n",
            "       -0.01151499,  0.00737825, -0.00317775, -0.00398151, -0.00040666,\n",
            "       -0.00586256], dtype=float32)}]\n"
          ]
        },
        {
          "output_type": "stream",
          "name": "stderr",
          "text": [
            "100%|██████████| 50/50 [00:01<00:00, 25.11it/s, epoch=1/10, avg_epoch_loss=-3.26]\n",
            "100%|██████████| 50/50 [00:01<00:00, 34.87it/s, epoch=2/10, avg_epoch_loss=-3.36]\n",
            "100%|██████████| 50/50 [00:01<00:00, 34.84it/s, epoch=3/10, avg_epoch_loss=-3.36]\n",
            "100%|██████████| 50/50 [00:01<00:00, 34.03it/s, epoch=4/10, avg_epoch_loss=-3.37]\n",
            "100%|██████████| 50/50 [00:01<00:00, 30.44it/s, epoch=5/10, avg_epoch_loss=-3.37]\n",
            "100%|██████████| 50/50 [00:01<00:00, 33.59it/s, epoch=6/10, avg_epoch_loss=-3.36]\n",
            "100%|██████████| 50/50 [00:01<00:00, 32.49it/s, epoch=7/10, avg_epoch_loss=-3.36]\n",
            "100%|██████████| 50/50 [00:02<00:00, 23.43it/s, epoch=8/10, avg_epoch_loss=-3.36]\n",
            "100%|██████████| 50/50 [00:02<00:00, 22.60it/s, epoch=9/10, avg_epoch_loss=-3.37]\n",
            "100%|██████████| 50/50 [00:01<00:00, 25.95it/s, epoch=10/10, avg_epoch_loss=-3.36]\n"
          ]
        },
        {
          "output_type": "stream",
          "name": "stdout",
          "text": [
            "train window 31 of total 91 windows\n",
            "[{'start': Period('2022-07-14', 'D'), 'target': array([-0.00834887, -0.02235232,  0.00308539, -0.00673104, -0.01151499,\n",
            "        0.00737825, -0.00317775, -0.00398151, -0.00040666, -0.00586256,\n",
            "       -0.00524089], dtype=float32)}]\n"
          ]
        },
        {
          "output_type": "stream",
          "name": "stderr",
          "text": [
            "100%|██████████| 50/50 [00:01<00:00, 33.23it/s, epoch=1/10, avg_epoch_loss=-3.45]\n",
            "100%|██████████| 50/50 [00:01<00:00, 34.83it/s, epoch=2/10, avg_epoch_loss=-3.63]\n",
            "100%|██████████| 50/50 [00:01<00:00, 34.38it/s, epoch=3/10, avg_epoch_loss=-3.62]\n",
            "100%|██████████| 50/50 [00:01<00:00, 33.99it/s, epoch=4/10, avg_epoch_loss=-3.63]\n",
            "100%|██████████| 50/50 [00:01<00:00, 35.17it/s, epoch=5/10, avg_epoch_loss=-3.63]\n",
            "100%|██████████| 50/50 [00:01<00:00, 35.02it/s, epoch=6/10, avg_epoch_loss=-3.64]\n",
            "100%|██████████| 50/50 [00:01<00:00, 25.85it/s, epoch=7/10, avg_epoch_loss=-3.62]\n",
            "100%|██████████| 50/50 [00:02<00:00, 23.42it/s, epoch=8/10, avg_epoch_loss=-3.65]\n",
            "100%|██████████| 50/50 [00:01<00:00, 27.50it/s, epoch=9/10, avg_epoch_loss=-3.65]\n",
            "100%|██████████| 50/50 [00:01<00:00, 34.37it/s, epoch=10/10, avg_epoch_loss=-3.63]\n"
          ]
        },
        {
          "output_type": "stream",
          "name": "stdout",
          "text": [
            "train window 32 of total 91 windows\n",
            "[{'start': Period('2022-07-15', 'D'), 'target': array([-0.02235232,  0.00308539, -0.00673104, -0.01151499,  0.00737825,\n",
            "       -0.00317775, -0.00398151, -0.00040666, -0.00586256, -0.00524089,\n",
            "        0.00105218], dtype=float32)}]\n"
          ]
        },
        {
          "output_type": "stream",
          "name": "stderr",
          "text": [
            "100%|██████████| 50/50 [00:01<00:00, 34.30it/s, epoch=1/10, avg_epoch_loss=-2.93]\n",
            "100%|██████████| 50/50 [00:01<00:00, 34.68it/s, epoch=2/10, avg_epoch_loss=-3.29]\n",
            "100%|██████████| 50/50 [00:01<00:00, 34.01it/s, epoch=3/10, avg_epoch_loss=-3.29]\n",
            "100%|██████████| 50/50 [00:01<00:00, 35.21it/s, epoch=4/10, avg_epoch_loss=-3.29]\n",
            "100%|██████████| 50/50 [00:01<00:00, 35.38it/s, epoch=5/10, avg_epoch_loss=-3.29]\n",
            "100%|██████████| 50/50 [00:01<00:00, 26.42it/s, epoch=6/10, avg_epoch_loss=-3.28]\n",
            "100%|██████████| 50/50 [00:02<00:00, 23.63it/s, epoch=7/10, avg_epoch_loss=-3.28]\n",
            "100%|██████████| 50/50 [00:02<00:00, 24.42it/s, epoch=8/10, avg_epoch_loss=-3.29]\n",
            "100%|██████████| 50/50 [00:01<00:00, 35.12it/s, epoch=9/10, avg_epoch_loss=-3.29]\n",
            "100%|██████████| 50/50 [00:01<00:00, 34.60it/s, epoch=10/10, avg_epoch_loss=-3.27]\n"
          ]
        },
        {
          "output_type": "stream",
          "name": "stdout",
          "text": [
            "train window 33 of total 91 windows\n",
            "[{'start': Period('2022-07-18', 'D'), 'target': array([ 0.00308539, -0.00673104, -0.01151499,  0.00737825, -0.00317775,\n",
            "       -0.00398151, -0.00040666, -0.00586256, -0.00524089,  0.00105218,\n",
            "        0.00412653], dtype=float32)}]\n"
          ]
        },
        {
          "output_type": "stream",
          "name": "stderr",
          "text": [
            "100%|██████████| 50/50 [00:01<00:00, 31.48it/s, epoch=1/10, avg_epoch_loss=-3.61]\n",
            "100%|██████████| 50/50 [00:01<00:00, 33.38it/s, epoch=2/10, avg_epoch_loss=-3.75]\n",
            "100%|██████████| 50/50 [00:01<00:00, 34.91it/s, epoch=3/10, avg_epoch_loss=-3.74]\n",
            "100%|██████████| 50/50 [00:01<00:00, 35.04it/s, epoch=4/10, avg_epoch_loss=-3.75]\n",
            "100%|██████████| 50/50 [00:01<00:00, 26.09it/s, epoch=5/10, avg_epoch_loss=-3.75]\n",
            "100%|██████████| 50/50 [00:02<00:00, 22.18it/s, epoch=6/10, avg_epoch_loss=-3.75]\n",
            "100%|██████████| 50/50 [00:01<00:00, 27.14it/s, epoch=7/10, avg_epoch_loss=-3.75]\n",
            "100%|██████████| 50/50 [00:01<00:00, 35.08it/s, epoch=8/10, avg_epoch_loss=-3.74]\n",
            "100%|██████████| 50/50 [00:01<00:00, 35.24it/s, epoch=9/10, avg_epoch_loss=-3.75]\n",
            "100%|██████████| 50/50 [00:01<00:00, 35.65it/s, epoch=10/10, avg_epoch_loss=-3.75]\n"
          ]
        },
        {
          "output_type": "stream",
          "name": "stdout",
          "text": [
            "train window 34 of total 91 windows\n",
            "[{'start': Period('2022-07-19', 'D'), 'target': array([-0.00673104, -0.01151499,  0.00737825, -0.00317775, -0.00398151,\n",
            "       -0.00040666, -0.00586256, -0.00524089,  0.00105218,  0.00412653,\n",
            "       -0.00669313], dtype=float32)}]\n"
          ]
        },
        {
          "output_type": "stream",
          "name": "stderr",
          "text": [
            "100%|██████████| 50/50 [00:01<00:00, 33.76it/s, epoch=1/10, avg_epoch_loss=-3.67]\n",
            "100%|██████████| 50/50 [00:01<00:00, 34.52it/s, epoch=2/10, avg_epoch_loss=-3.87]\n",
            "100%|██████████| 50/50 [00:01<00:00, 34.95it/s, epoch=3/10, avg_epoch_loss=-3.86]\n",
            "100%|██████████| 50/50 [00:01<00:00, 26.74it/s, epoch=4/10, avg_epoch_loss=-3.87]\n",
            "100%|██████████| 50/50 [00:02<00:00, 23.41it/s, epoch=5/10, avg_epoch_loss=-3.87]\n",
            "100%|██████████| 50/50 [00:01<00:00, 25.76it/s, epoch=6/10, avg_epoch_loss=-3.86]\n",
            "100%|██████████| 50/50 [00:01<00:00, 35.51it/s, epoch=7/10, avg_epoch_loss=-3.87]\n",
            "100%|██████████| 50/50 [00:01<00:00, 35.70it/s, epoch=8/10, avg_epoch_loss=-3.86]\n",
            "100%|██████████| 50/50 [00:01<00:00, 34.40it/s, epoch=9/10, avg_epoch_loss=-3.87]\n",
            "100%|██████████| 50/50 [00:01<00:00, 35.68it/s, epoch=10/10, avg_epoch_loss=-3.86]\n"
          ]
        },
        {
          "output_type": "stream",
          "name": "stdout",
          "text": [
            "train window 35 of total 91 windows\n",
            "[{'start': Period('2022-07-20', 'D'), 'target': array([-0.01151499,  0.00737825, -0.00317775, -0.00398151, -0.00040666,\n",
            "       -0.00586256, -0.00524089,  0.00105218,  0.00412653, -0.00669313,\n",
            "       -0.00514425], dtype=float32)}]\n"
          ]
        },
        {
          "output_type": "stream",
          "name": "stderr",
          "text": [
            "100%|██████████| 50/50 [00:01<00:00, 33.28it/s, epoch=1/10, avg_epoch_loss=-3.65]\n",
            "100%|██████████| 50/50 [00:01<00:00, 34.99it/s, epoch=2/10, avg_epoch_loss=-3.77]\n",
            "100%|██████████| 50/50 [00:01<00:00, 28.89it/s, epoch=3/10, avg_epoch_loss=-3.76]\n",
            "100%|██████████| 50/50 [00:02<00:00, 23.59it/s, epoch=4/10, avg_epoch_loss=-3.77]\n",
            "100%|██████████| 50/50 [00:02<00:00, 23.95it/s, epoch=5/10, avg_epoch_loss=-3.77]\n",
            "100%|██████████| 50/50 [00:01<00:00, 35.13it/s, epoch=6/10, avg_epoch_loss=-3.77]\n",
            "100%|██████████| 50/50 [00:01<00:00, 35.83it/s, epoch=7/10, avg_epoch_loss=-3.77]\n",
            "100%|██████████| 50/50 [00:01<00:00, 34.52it/s, epoch=8/10, avg_epoch_loss=-3.78]\n",
            "100%|██████████| 50/50 [00:01<00:00, 34.64it/s, epoch=9/10, avg_epoch_loss=-3.78]\n",
            "100%|██████████| 50/50 [00:01<00:00, 34.96it/s, epoch=10/10, avg_epoch_loss=-3.77]\n"
          ]
        },
        {
          "output_type": "stream",
          "name": "stdout",
          "text": [
            "train window 36 of total 91 windows\n",
            "[{'start': Period('2022-07-21', 'D'), 'target': array([ 0.00737825, -0.00317775, -0.00398151, -0.00040666, -0.00586256,\n",
            "       -0.00524089,  0.00105218,  0.00412653, -0.00669313, -0.00514425,\n",
            "       -0.00621776], dtype=float32)}]\n"
          ]
        },
        {
          "output_type": "stream",
          "name": "stderr",
          "text": [
            "100%|██████████| 50/50 [00:01<00:00, 33.51it/s, epoch=1/10, avg_epoch_loss=-3.91]\n",
            "100%|██████████| 50/50 [00:01<00:00, 29.22it/s, epoch=2/10, avg_epoch_loss=-4.02]\n",
            "100%|██████████| 50/50 [00:02<00:00, 23.85it/s, epoch=3/10, avg_epoch_loss=-4.03]\n",
            "100%|██████████| 50/50 [00:02<00:00, 22.59it/s, epoch=4/10, avg_epoch_loss=-4.03]\n",
            "100%|██████████| 50/50 [00:01<00:00, 35.02it/s, epoch=5/10, avg_epoch_loss=-4.02]\n",
            "100%|██████████| 50/50 [00:01<00:00, 33.79it/s, epoch=6/10, avg_epoch_loss=-4.02]\n",
            "100%|██████████| 50/50 [00:01<00:00, 34.54it/s, epoch=7/10, avg_epoch_loss=-4.02]\n",
            "100%|██████████| 50/50 [00:01<00:00, 34.65it/s, epoch=8/10, avg_epoch_loss=-4.03]\n",
            "100%|██████████| 50/50 [00:01<00:00, 33.94it/s, epoch=9/10, avg_epoch_loss=-4.02]\n",
            "100%|██████████| 50/50 [00:01<00:00, 35.02it/s, epoch=10/10, avg_epoch_loss=-4.03]\n"
          ]
        },
        {
          "output_type": "stream",
          "name": "stdout",
          "text": [
            "train window 37 of total 91 windows\n",
            "[{'start': Period('2022-07-22', 'D'), 'target': array([-0.00317775, -0.00398151, -0.00040666, -0.00586256, -0.00524089,\n",
            "        0.00105218,  0.00412653, -0.00669313, -0.00514425, -0.00621776,\n",
            "        0.00082477], dtype=float32)}]\n"
          ]
        },
        {
          "output_type": "stream",
          "name": "stderr",
          "text": [
            "100%|██████████| 50/50 [00:01<00:00, 28.88it/s, epoch=1/10, avg_epoch_loss=-4.63]\n",
            "100%|██████████| 50/50 [00:02<00:00, 23.50it/s, epoch=2/10, avg_epoch_loss=-4.78]\n",
            "100%|██████████| 50/50 [00:02<00:00, 22.99it/s, epoch=3/10, avg_epoch_loss=-4.79]\n",
            "100%|██████████| 50/50 [00:01<00:00, 34.13it/s, epoch=4/10, avg_epoch_loss=-4.78]\n",
            "100%|██████████| 50/50 [00:01<00:00, 34.90it/s, epoch=5/10, avg_epoch_loss=-4.78]\n",
            "100%|██████████| 50/50 [00:01<00:00, 34.99it/s, epoch=6/10, avg_epoch_loss=-4.79]\n",
            "100%|██████████| 50/50 [00:01<00:00, 34.57it/s, epoch=7/10, avg_epoch_loss=-4.79]\n",
            "100%|██████████| 50/50 [00:01<00:00, 35.14it/s, epoch=8/10, avg_epoch_loss=-4.77]\n",
            "100%|██████████| 50/50 [00:01<00:00, 35.03it/s, epoch=9/10, avg_epoch_loss=-4.79]\n",
            "100%|██████████| 50/50 [00:01<00:00, 32.42it/s, epoch=10/10, avg_epoch_loss=-4.78]\n"
          ]
        },
        {
          "output_type": "stream",
          "name": "stdout",
          "text": [
            "train window 38 of total 91 windows\n",
            "[{'start': Period('2022-07-25', 'D'), 'target': array([-0.00398151, -0.00040666, -0.00586256, -0.00524089,  0.00105218,\n",
            "        0.00412653, -0.00669313, -0.00514425, -0.00621776,  0.00082477,\n",
            "       -0.00268563], dtype=float32)}]\n"
          ]
        },
        {
          "output_type": "stream",
          "name": "stderr",
          "text": [
            "100%|██████████| 50/50 [00:02<00:00, 20.78it/s, epoch=1/10, avg_epoch_loss=-4.12]\n",
            "100%|██████████| 50/50 [00:02<00:00, 18.23it/s, epoch=2/10, avg_epoch_loss=-4.33]\n",
            "100%|██████████| 50/50 [00:02<00:00, 22.67it/s, epoch=3/10, avg_epoch_loss=-4.34]\n",
            "100%|██████████| 50/50 [00:02<00:00, 24.97it/s, epoch=4/10, avg_epoch_loss=-4.33]\n",
            "100%|██████████| 50/50 [00:01<00:00, 35.67it/s, epoch=5/10, avg_epoch_loss=-4.32]\n",
            "100%|██████████| 50/50 [00:01<00:00, 34.10it/s, epoch=6/10, avg_epoch_loss=-4.33]\n",
            "100%|██████████| 50/50 [00:01<00:00, 33.40it/s, epoch=7/10, avg_epoch_loss=-4.33]\n",
            "100%|██████████| 50/50 [00:01<00:00, 34.72it/s, epoch=8/10, avg_epoch_loss=-4.33]\n",
            "100%|██████████| 50/50 [00:01<00:00, 27.79it/s, epoch=9/10, avg_epoch_loss=-4.33]\n",
            "100%|██████████| 50/50 [00:02<00:00, 23.10it/s, epoch=10/10, avg_epoch_loss=-4.33]\n"
          ]
        },
        {
          "output_type": "stream",
          "name": "stdout",
          "text": [
            "train window 39 of total 91 windows\n",
            "[{'start': Period('2022-07-26', 'D'), 'target': array([-0.00040666, -0.00586256, -0.00524089,  0.00105218,  0.00412653,\n",
            "       -0.00669313, -0.00514425, -0.00621776,  0.00082477, -0.00268563,\n",
            "        0.01152574], dtype=float32)}]\n"
          ]
        },
        {
          "output_type": "stream",
          "name": "stderr",
          "text": [
            "100%|██████████| 50/50 [00:02<00:00, 24.31it/s, epoch=1/10, avg_epoch_loss=-.102]\n",
            "100%|██████████| 50/50 [00:01<00:00, 34.33it/s, epoch=2/10, avg_epoch_loss=-3.07]\n",
            "100%|██████████| 50/50 [00:01<00:00, 33.93it/s, epoch=3/10, avg_epoch_loss=-3.03]\n",
            "100%|██████████| 50/50 [00:01<00:00, 35.98it/s, epoch=4/10, avg_epoch_loss=-2.99]\n",
            "100%|██████████| 50/50 [00:01<00:00, 34.73it/s, epoch=5/10, avg_epoch_loss=-2.98]\n",
            "100%|██████████| 50/50 [00:01<00:00, 34.85it/s, epoch=6/10, avg_epoch_loss=-3.15]\n",
            "100%|██████████| 50/50 [00:01<00:00, 34.44it/s, epoch=7/10, avg_epoch_loss=-2.98]\n",
            "100%|██████████| 50/50 [00:01<00:00, 28.45it/s, epoch=8/10, avg_epoch_loss=-2.94]\n",
            "100%|██████████| 50/50 [00:02<00:00, 23.41it/s, epoch=9/10, avg_epoch_loss=-3.17]\n",
            "100%|██████████| 50/50 [00:02<00:00, 23.53it/s, epoch=10/10, avg_epoch_loss=-2.94]\n"
          ]
        },
        {
          "output_type": "stream",
          "name": "stdout",
          "text": [
            "train window 40 of total 91 windows\n",
            "[{'start': Period('2022-07-27', 'D'), 'target': array([-0.00586256, -0.00524089,  0.00105218,  0.00412653, -0.00669313,\n",
            "       -0.00514425, -0.00621776,  0.00082477, -0.00268563,  0.01152574,\n",
            "       -0.01702702], dtype=float32)}]\n"
          ]
        },
        {
          "output_type": "stream",
          "name": "stderr",
          "text": [
            "100%|██████████| 50/50 [00:01<00:00, 33.88it/s, epoch=1/10, avg_epoch_loss=-4.03]\n",
            "100%|██████████| 50/50 [00:01<00:00, 34.95it/s, epoch=2/10, avg_epoch_loss=-4.17]\n",
            "100%|██████████| 50/50 [00:01<00:00, 34.64it/s, epoch=3/10, avg_epoch_loss=-4.18]\n",
            "100%|██████████| 50/50 [00:01<00:00, 34.93it/s, epoch=4/10, avg_epoch_loss=-4.19]\n",
            "100%|██████████| 50/50 [00:01<00:00, 34.53it/s, epoch=5/10, avg_epoch_loss=-4.18]\n",
            "100%|██████████| 50/50 [00:01<00:00, 33.54it/s, epoch=6/10, avg_epoch_loss=-4.18]\n",
            "100%|██████████| 50/50 [00:01<00:00, 28.77it/s, epoch=7/10, avg_epoch_loss=-4.18]\n",
            "100%|██████████| 50/50 [00:02<00:00, 23.34it/s, epoch=8/10, avg_epoch_loss=-4.18]\n",
            "100%|██████████| 50/50 [00:02<00:00, 23.37it/s, epoch=9/10, avg_epoch_loss=-4.19]\n",
            "100%|██████████| 50/50 [00:01<00:00, 35.20it/s, epoch=10/10, avg_epoch_loss=-4.18]\n"
          ]
        },
        {
          "output_type": "stream",
          "name": "stdout",
          "text": [
            "train window 41 of total 91 windows\n",
            "[{'start': Period('2022-07-28', 'D'), 'target': array([-0.00524089,  0.00105218,  0.00412653, -0.00669313, -0.00514425,\n",
            "       -0.00621776,  0.00082477, -0.00268563,  0.01152574, -0.01702702,\n",
            "       -0.0022707 ], dtype=float32)}]\n"
          ]
        },
        {
          "output_type": "stream",
          "name": "stderr",
          "text": [
            "100%|██████████| 50/50 [00:01<00:00, 33.04it/s, epoch=1/10, avg_epoch_loss=-3.82]\n",
            "100%|██████████| 50/50 [00:01<00:00, 34.35it/s, epoch=2/10, avg_epoch_loss=-3.97]\n",
            "100%|██████████| 50/50 [00:01<00:00, 35.09it/s, epoch=3/10, avg_epoch_loss=-3.98]\n",
            "100%|██████████| 50/50 [00:01<00:00, 34.92it/s, epoch=4/10, avg_epoch_loss=-3.97]\n",
            "100%|██████████| 50/50 [00:01<00:00, 35.16it/s, epoch=5/10, avg_epoch_loss=-3.98]\n",
            "100%|██████████| 50/50 [00:01<00:00, 29.80it/s, epoch=6/10, avg_epoch_loss=-3.99]\n",
            "100%|██████████| 50/50 [00:02<00:00, 23.96it/s, epoch=7/10, avg_epoch_loss=-3.97]\n",
            "100%|██████████| 50/50 [00:02<00:00, 22.85it/s, epoch=8/10, avg_epoch_loss=-3.98]\n",
            "100%|██████████| 50/50 [00:01<00:00, 34.51it/s, epoch=9/10, avg_epoch_loss=-3.98]\n",
            "100%|██████████| 50/50 [00:01<00:00, 34.50it/s, epoch=10/10, avg_epoch_loss=-3.98]\n"
          ]
        },
        {
          "output_type": "stream",
          "name": "stdout",
          "text": [
            "train window 42 of total 91 windows\n",
            "[{'start': Period('2022-07-29', 'D'), 'target': array([ 0.00105218,  0.00412653, -0.00669313, -0.00514425, -0.00621776,\n",
            "        0.00082477, -0.00268563,  0.01152574, -0.01702702, -0.0022707 ,\n",
            "       -0.0033512 ], dtype=float32)}]\n"
          ]
        },
        {
          "output_type": "stream",
          "name": "stderr",
          "text": [
            "100%|██████████| 50/50 [00:01<00:00, 33.29it/s, epoch=1/10, avg_epoch_loss=-3.49]\n",
            "100%|██████████| 50/50 [00:01<00:00, 34.83it/s, epoch=2/10, avg_epoch_loss=-3.85]\n",
            "100%|██████████| 50/50 [00:01<00:00, 34.01it/s, epoch=3/10, avg_epoch_loss=-3.86]\n",
            "100%|██████████| 50/50 [00:01<00:00, 34.90it/s, epoch=4/10, avg_epoch_loss=-3.85]\n",
            "100%|██████████| 50/50 [00:01<00:00, 31.63it/s, epoch=5/10, avg_epoch_loss=-3.85]\n",
            "100%|██████████| 50/50 [00:02<00:00, 23.76it/s, epoch=6/10, avg_epoch_loss=-3.86]\n",
            "100%|██████████| 50/50 [00:02<00:00, 22.16it/s, epoch=7/10, avg_epoch_loss=-3.85]\n",
            "100%|██████████| 50/50 [00:01<00:00, 33.31it/s, epoch=8/10, avg_epoch_loss=-3.85]\n",
            "100%|██████████| 50/50 [00:01<00:00, 34.62it/s, epoch=9/10, avg_epoch_loss=-3.85]\n",
            "100%|██████████| 50/50 [00:01<00:00, 35.00it/s, epoch=10/10, avg_epoch_loss=-3.86]\n"
          ]
        },
        {
          "output_type": "stream",
          "name": "stdout",
          "text": [
            "train window 43 of total 91 windows\n",
            "[{'start': Period('2022-08-01', 'D'), 'target': array([ 0.00412653, -0.00669313, -0.00514425, -0.00621776,  0.00082477,\n",
            "       -0.00268563,  0.01152574, -0.01702702, -0.0022707 , -0.0033512 ,\n",
            "        0.00565221], dtype=float32)}]\n"
          ]
        },
        {
          "output_type": "stream",
          "name": "stderr",
          "text": [
            "100%|██████████| 50/50 [00:01<00:00, 34.25it/s, epoch=1/10, avg_epoch_loss=-3.79]\n",
            "100%|██████████| 50/50 [00:01<00:00, 35.13it/s, epoch=2/10, avg_epoch_loss=-3.91]\n",
            "100%|██████████| 50/50 [00:01<00:00, 34.51it/s, epoch=3/10, avg_epoch_loss=-3.91]\n",
            "100%|██████████| 50/50 [00:01<00:00, 32.09it/s, epoch=4/10, avg_epoch_loss=-3.91]\n",
            "100%|██████████| 50/50 [00:02<00:00, 23.66it/s, epoch=5/10, avg_epoch_loss=-3.91]\n",
            "100%|██████████| 50/50 [00:02<00:00, 22.98it/s, epoch=6/10, avg_epoch_loss=-3.9]\n",
            "100%|██████████| 50/50 [00:01<00:00, 30.57it/s, epoch=7/10, avg_epoch_loss=-3.9]\n",
            "100%|██████████| 50/50 [00:01<00:00, 34.41it/s, epoch=8/10, avg_epoch_loss=-3.9]\n",
            "100%|██████████| 50/50 [00:01<00:00, 35.13it/s, epoch=9/10, avg_epoch_loss=-3.9]\n",
            "100%|██████████| 50/50 [00:01<00:00, 34.46it/s, epoch=10/10, avg_epoch_loss=-3.91]\n"
          ]
        },
        {
          "output_type": "stream",
          "name": "stdout",
          "text": [
            "train window 44 of total 91 windows\n",
            "[{'start': Period('2022-08-02', 'D'), 'target': array([-0.00669313, -0.00514425, -0.00621776,  0.00082477, -0.00268563,\n",
            "        0.01152574, -0.01702702, -0.0022707 , -0.0033512 ,  0.00565221,\n",
            "        0.00337023], dtype=float32)}]\n"
          ]
        },
        {
          "output_type": "stream",
          "name": "stderr",
          "text": [
            "100%|██████████| 50/50 [00:01<00:00, 33.54it/s, epoch=1/10, avg_epoch_loss=-3.81]\n",
            "100%|██████████| 50/50 [00:01<00:00, 34.23it/s, epoch=2/10, avg_epoch_loss=-3.97]\n",
            "100%|██████████| 50/50 [00:01<00:00, 34.77it/s, epoch=3/10, avg_epoch_loss=-3.97]\n",
            "100%|██████████| 50/50 [00:02<00:00, 23.62it/s, epoch=4/10, avg_epoch_loss=-3.97]\n",
            "100%|██████████| 50/50 [00:02<00:00, 22.48it/s, epoch=5/10, avg_epoch_loss=-3.98]\n",
            "100%|██████████| 50/50 [00:01<00:00, 30.06it/s, epoch=6/10, avg_epoch_loss=-3.97]\n",
            "100%|██████████| 50/50 [00:01<00:00, 35.14it/s, epoch=7/10, avg_epoch_loss=-3.96]\n",
            "100%|██████████| 50/50 [00:01<00:00, 34.00it/s, epoch=8/10, avg_epoch_loss=-3.97]\n",
            "100%|██████████| 50/50 [00:01<00:00, 34.09it/s, epoch=9/10, avg_epoch_loss=-3.98]\n",
            "100%|██████████| 50/50 [00:01<00:00, 34.33it/s, epoch=10/10, avg_epoch_loss=-3.97]\n"
          ]
        },
        {
          "output_type": "stream",
          "name": "stdout",
          "text": [
            "train window 45 of total 91 windows\n",
            "[{'start': Period('2022-08-03', 'D'), 'target': array([-0.00514425, -0.00621776,  0.00082477, -0.00268563,  0.01152574,\n",
            "       -0.01702702, -0.0022707 , -0.0033512 ,  0.00565221,  0.00337023,\n",
            "        0.0061319 ], dtype=float32)}]\n"
          ]
        },
        {
          "output_type": "stream",
          "name": "stderr",
          "text": [
            "100%|██████████| 50/50 [00:01<00:00, 33.55it/s, epoch=1/10, avg_epoch_loss=-3.62]\n",
            "100%|██████████| 50/50 [00:01<00:00, 35.06it/s, epoch=2/10, avg_epoch_loss=-3.79]\n",
            "100%|██████████| 50/50 [00:02<00:00, 23.76it/s, epoch=3/10, avg_epoch_loss=-3.8]\n",
            "100%|██████████| 50/50 [00:02<00:00, 22.79it/s, epoch=4/10, avg_epoch_loss=-3.81]\n",
            "100%|██████████| 50/50 [00:01<00:00, 29.74it/s, epoch=5/10, avg_epoch_loss=-3.81]\n",
            "100%|██████████| 50/50 [00:01<00:00, 34.46it/s, epoch=6/10, avg_epoch_loss=-3.81]\n",
            "100%|██████████| 50/50 [00:01<00:00, 34.54it/s, epoch=7/10, avg_epoch_loss=-3.8]\n",
            "100%|██████████| 50/50 [00:01<00:00, 34.33it/s, epoch=8/10, avg_epoch_loss=-3.79]\n",
            "100%|██████████| 50/50 [00:01<00:00, 34.60it/s, epoch=9/10, avg_epoch_loss=-3.8]\n",
            "100%|██████████| 50/50 [00:01<00:00, 35.07it/s, epoch=10/10, avg_epoch_loss=-3.8]\n"
          ]
        },
        {
          "output_type": "stream",
          "name": "stdout",
          "text": [
            "train window 46 of total 91 windows\n",
            "[{'start': Period('2022-08-04', 'D'), 'target': array([-0.00621776,  0.00082477, -0.00268563,  0.01152574, -0.01702702,\n",
            "       -0.0022707 , -0.0033512 ,  0.00565221,  0.00337023,  0.0061319 ,\n",
            "        0.01237777], dtype=float32)}]\n"
          ]
        },
        {
          "output_type": "stream",
          "name": "stderr",
          "text": [
            "100%|██████████| 50/50 [00:01<00:00, 33.48it/s, epoch=1/10, avg_epoch_loss=-3.15]\n",
            "100%|██████████| 50/50 [00:02<00:00, 24.75it/s, epoch=2/10, avg_epoch_loss=-3.63]\n",
            "100%|██████████| 50/50 [00:02<00:00, 23.02it/s, epoch=3/10, avg_epoch_loss=-3.61]\n",
            "100%|██████████| 50/50 [00:01<00:00, 27.95it/s, epoch=4/10, avg_epoch_loss=-3.62]\n",
            "100%|██████████| 50/50 [00:01<00:00, 35.66it/s, epoch=5/10, avg_epoch_loss=-3.63]\n",
            "100%|██████████| 50/50 [00:01<00:00, 34.42it/s, epoch=6/10, avg_epoch_loss=-3.63]\n",
            "100%|██████████| 50/50 [00:01<00:00, 34.31it/s, epoch=7/10, avg_epoch_loss=-3.62]\n",
            "100%|██████████| 50/50 [00:01<00:00, 35.70it/s, epoch=8/10, avg_epoch_loss=-3.63]\n",
            "100%|██████████| 50/50 [00:01<00:00, 33.77it/s, epoch=9/10, avg_epoch_loss=-3.62]\n",
            "100%|██████████| 50/50 [00:01<00:00, 35.25it/s, epoch=10/10, avg_epoch_loss=-3.62]\n"
          ]
        },
        {
          "output_type": "stream",
          "name": "stdout",
          "text": [
            "train window 47 of total 91 windows\n",
            "[{'start': Period('2022-08-05', 'D'), 'target': array([ 0.00082477, -0.00268563,  0.01152574, -0.01702702, -0.0022707 ,\n",
            "       -0.0033512 ,  0.00565221,  0.00337023,  0.0061319 ,  0.01237777,\n",
            "        0.01272115], dtype=float32)}]\n"
          ]
        },
        {
          "output_type": "stream",
          "name": "stderr",
          "text": [
            "100%|██████████| 50/50 [00:01<00:00, 25.08it/s, epoch=1/10, avg_epoch_loss=-3]\n",
            "100%|██████████| 50/50 [00:02<00:00, 22.97it/s, epoch=2/10, avg_epoch_loss=-3.41]\n",
            "100%|██████████| 50/50 [00:01<00:00, 26.74it/s, epoch=3/10, avg_epoch_loss=-3.42]\n",
            "100%|██████████| 50/50 [00:01<00:00, 35.21it/s, epoch=4/10, avg_epoch_loss=-3.41]\n",
            "100%|██████████| 50/50 [00:01<00:00, 33.95it/s, epoch=5/10, avg_epoch_loss=-3.42]\n",
            "100%|██████████| 50/50 [00:01<00:00, 35.92it/s, epoch=6/10, avg_epoch_loss=-3.41]\n",
            "100%|██████████| 50/50 [00:01<00:00, 34.07it/s, epoch=7/10, avg_epoch_loss=-3.41]\n",
            "100%|██████████| 50/50 [00:01<00:00, 35.65it/s, epoch=8/10, avg_epoch_loss=-3.42]\n",
            "100%|██████████| 50/50 [00:01<00:00, 35.09it/s, epoch=9/10, avg_epoch_loss=-3.4]\n",
            "100%|██████████| 50/50 [00:01<00:00, 27.54it/s, epoch=10/10, avg_epoch_loss=-3.41]\n"
          ]
        },
        {
          "output_type": "stream",
          "name": "stdout",
          "text": [
            "train window 48 of total 91 windows\n",
            "[{'start': Period('2022-08-08', 'D'), 'target': array([-0.00268563,  0.01152574, -0.01702702, -0.0022707 , -0.0033512 ,\n",
            "        0.00565221,  0.00337023,  0.0061319 ,  0.01237777,  0.01272115,\n",
            "       -0.00366456], dtype=float32)}]\n"
          ]
        },
        {
          "output_type": "stream",
          "name": "stderr",
          "text": [
            "100%|██████████| 50/50 [00:02<00:00, 22.15it/s, epoch=1/10, avg_epoch_loss=-2.82]\n",
            "100%|██████████| 50/50 [00:01<00:00, 25.55it/s, epoch=2/10, avg_epoch_loss=-3.25]\n",
            "100%|██████████| 50/50 [00:01<00:00, 35.38it/s, epoch=3/10, avg_epoch_loss=-3.23]\n",
            "100%|██████████| 50/50 [00:01<00:00, 34.61it/s, epoch=4/10, avg_epoch_loss=-3.23]\n",
            "100%|██████████| 50/50 [00:01<00:00, 34.54it/s, epoch=5/10, avg_epoch_loss=-3.24]\n",
            "100%|██████████| 50/50 [00:01<00:00, 35.28it/s, epoch=6/10, avg_epoch_loss=-3.24]\n",
            "100%|██████████| 50/50 [00:01<00:00, 34.94it/s, epoch=7/10, avg_epoch_loss=-3.23]\n",
            "100%|██████████| 50/50 [00:01<00:00, 35.61it/s, epoch=8/10, avg_epoch_loss=-3.23]\n",
            "100%|██████████| 50/50 [00:01<00:00, 29.13it/s, epoch=9/10, avg_epoch_loss=-3.24]\n",
            "100%|██████████| 50/50 [00:02<00:00, 23.35it/s, epoch=10/10, avg_epoch_loss=-3.23]\n"
          ]
        },
        {
          "output_type": "stream",
          "name": "stdout",
          "text": [
            "train window 49 of total 91 windows\n",
            "[{'start': Period('2022-08-09', 'D'), 'target': array([ 0.01152574, -0.01702702, -0.0022707 , -0.0033512 ,  0.00565221,\n",
            "        0.00337023,  0.0061319 ,  0.01237777,  0.01272115, -0.00366456,\n",
            "       -0.01171749], dtype=float32)}]\n"
          ]
        },
        {
          "output_type": "stream",
          "name": "stderr",
          "text": [
            "100%|██████████| 50/50 [00:02<00:00, 23.33it/s, epoch=1/10, avg_epoch_loss=-3.22]\n",
            "100%|██████████| 50/50 [00:01<00:00, 35.48it/s, epoch=2/10, avg_epoch_loss=-3.33]\n",
            "100%|██████████| 50/50 [00:01<00:00, 35.21it/s, epoch=3/10, avg_epoch_loss=-3.32]\n",
            "100%|██████████| 50/50 [00:01<00:00, 34.55it/s, epoch=4/10, avg_epoch_loss=-3.33]\n",
            "100%|██████████| 50/50 [00:01<00:00, 34.12it/s, epoch=5/10, avg_epoch_loss=-3.32]\n",
            "100%|██████████| 50/50 [00:01<00:00, 34.92it/s, epoch=6/10, avg_epoch_loss=-3.32]\n",
            "100%|██████████| 50/50 [00:01<00:00, 35.34it/s, epoch=7/10, avg_epoch_loss=-3.33]\n",
            "100%|██████████| 50/50 [00:01<00:00, 29.10it/s, epoch=8/10, avg_epoch_loss=-3.31]\n",
            "100%|██████████| 50/50 [00:02<00:00, 23.73it/s, epoch=9/10, avg_epoch_loss=-3.31]\n",
            "100%|██████████| 50/50 [00:02<00:00, 22.55it/s, epoch=10/10, avg_epoch_loss=-3.33]\n"
          ]
        },
        {
          "output_type": "stream",
          "name": "stdout",
          "text": [
            "train window 50 of total 91 windows\n",
            "[{'start': Period('2022-08-10', 'D'), 'target': array([-0.01702702, -0.0022707 , -0.0033512 ,  0.00565221,  0.00337023,\n",
            "        0.0061319 ,  0.01237777,  0.01272115, -0.00366456, -0.01171749,\n",
            "       -0.00086481], dtype=float32)}]\n"
          ]
        },
        {
          "output_type": "stream",
          "name": "stderr",
          "text": [
            "100%|██████████| 50/50 [00:01<00:00, 33.95it/s, epoch=1/10, avg_epoch_loss=-3.24]\n",
            "100%|██████████| 50/50 [00:01<00:00, 35.22it/s, epoch=2/10, avg_epoch_loss=-3.46]\n",
            "100%|██████████| 50/50 [00:01<00:00, 35.38it/s, epoch=3/10, avg_epoch_loss=-3.48]\n",
            "100%|██████████| 50/50 [00:01<00:00, 34.76it/s, epoch=4/10, avg_epoch_loss=-3.5]\n",
            "100%|██████████| 50/50 [00:01<00:00, 35.50it/s, epoch=5/10, avg_epoch_loss=-3.49]\n",
            "100%|██████████| 50/50 [00:01<00:00, 34.23it/s, epoch=6/10, avg_epoch_loss=-3.48]\n",
            "100%|██████████| 50/50 [00:01<00:00, 31.43it/s, epoch=7/10, avg_epoch_loss=-3.5]\n",
            "100%|██████████| 50/50 [00:02<00:00, 24.28it/s, epoch=8/10, avg_epoch_loss=-3.5]\n",
            "100%|██████████| 50/50 [00:02<00:00, 22.11it/s, epoch=9/10, avg_epoch_loss=-3.49]\n",
            "100%|██████████| 50/50 [00:01<00:00, 32.23it/s, epoch=10/10, avg_epoch_loss=-3.49]\n"
          ]
        },
        {
          "output_type": "stream",
          "name": "stdout",
          "text": [
            "train window 51 of total 91 windows\n",
            "[{'start': Period('2022-08-11', 'D'), 'target': array([-0.0022707 , -0.0033512 ,  0.00565221,  0.00337023,  0.0061319 ,\n",
            "        0.01237777,  0.01272115, -0.00366456, -0.01171749, -0.00086481,\n",
            "        0.0236165 ], dtype=float32)}]\n"
          ]
        },
        {
          "output_type": "stream",
          "name": "stderr",
          "text": [
            "100%|██████████| 50/50 [00:01<00:00, 32.77it/s, epoch=1/10, avg_epoch_loss=-3.11]\n",
            "100%|██████████| 50/50 [00:01<00:00, 34.18it/s, epoch=2/10, avg_epoch_loss=-3.86]\n",
            "100%|██████████| 50/50 [00:01<00:00, 34.20it/s, epoch=3/10, avg_epoch_loss=-3.85]\n",
            "100%|██████████| 50/50 [00:01<00:00, 34.17it/s, epoch=4/10, avg_epoch_loss=-3.85]\n",
            "100%|██████████| 50/50 [00:01<00:00, 34.94it/s, epoch=5/10, avg_epoch_loss=-3.85]\n",
            "100%|██████████| 50/50 [00:01<00:00, 30.93it/s, epoch=6/10, avg_epoch_loss=-3.86]\n",
            "100%|██████████| 50/50 [00:02<00:00, 23.91it/s, epoch=7/10, avg_epoch_loss=-3.85]\n",
            "100%|██████████| 50/50 [00:02<00:00, 22.29it/s, epoch=8/10, avg_epoch_loss=-3.86]\n",
            "100%|██████████| 50/50 [00:01<00:00, 33.03it/s, epoch=9/10, avg_epoch_loss=-3.85]\n",
            "100%|██████████| 50/50 [00:01<00:00, 33.34it/s, epoch=10/10, avg_epoch_loss=-3.85]\n"
          ]
        },
        {
          "output_type": "stream",
          "name": "stdout",
          "text": [
            "train window 52 of total 91 windows\n",
            "[{'start': Period('2022-08-12', 'D'), 'target': array([-0.0033512 ,  0.00565221,  0.00337023,  0.0061319 ,  0.01237777,\n",
            "        0.01272115, -0.00366456, -0.01171749, -0.00086481,  0.0236165 ,\n",
            "       -0.00987678], dtype=float32)}]\n"
          ]
        },
        {
          "output_type": "stream",
          "name": "stderr",
          "text": [
            "100%|██████████| 50/50 [00:02<00:00, 23.21it/s, epoch=1/10, avg_epoch_loss=-3.53]\n",
            "100%|██████████| 50/50 [00:02<00:00, 22.20it/s, epoch=2/10, avg_epoch_loss=-3.65]\n",
            "100%|██████████| 50/50 [00:01<00:00, 33.15it/s, epoch=3/10, avg_epoch_loss=-3.66]\n",
            "100%|██████████| 50/50 [00:01<00:00, 32.19it/s, epoch=4/10, avg_epoch_loss=-3.65]\n",
            "100%|██████████| 50/50 [00:02<00:00, 20.98it/s, epoch=5/10, avg_epoch_loss=-3.65]\n",
            "100%|██████████| 50/50 [00:02<00:00, 22.73it/s, epoch=6/10, avg_epoch_loss=-3.65]\n",
            "100%|██████████| 50/50 [00:01<00:00, 34.27it/s, epoch=7/10, avg_epoch_loss=-3.66]\n",
            "100%|██████████| 50/50 [00:01<00:00, 35.44it/s, epoch=8/10, avg_epoch_loss=-3.65]\n",
            "100%|██████████| 50/50 [00:01<00:00, 35.20it/s, epoch=9/10, avg_epoch_loss=-3.67]\n",
            "100%|██████████| 50/50 [00:01<00:00, 35.13it/s, epoch=10/10, avg_epoch_loss=-3.66]\n"
          ]
        },
        {
          "output_type": "stream",
          "name": "stdout",
          "text": [
            "train window 53 of total 91 windows\n",
            "[{'start': Period('2022-08-16', 'D'), 'target': array([ 0.00565221,  0.00337023,  0.0061319 ,  0.01237777,  0.01272115,\n",
            "       -0.00366456, -0.01171749, -0.00086481,  0.0236165 , -0.00987678,\n",
            "       -0.0108025 ], dtype=float32)}]\n"
          ]
        },
        {
          "output_type": "stream",
          "name": "stderr",
          "text": [
            "100%|██████████| 50/50 [00:01<00:00, 33.79it/s, epoch=1/10, avg_epoch_loss=-3.66]\n",
            "100%|██████████| 50/50 [00:01<00:00, 34.68it/s, epoch=2/10, avg_epoch_loss=-3.87]\n",
            "100%|██████████| 50/50 [00:01<00:00, 32.21it/s, epoch=3/10, avg_epoch_loss=-3.9]\n",
            "100%|██████████| 50/50 [00:02<00:00, 24.19it/s, epoch=4/10, avg_epoch_loss=-3.88]\n",
            "100%|██████████| 50/50 [00:02<00:00, 22.48it/s, epoch=5/10, avg_epoch_loss=-3.88]\n",
            "100%|██████████| 50/50 [00:01<00:00, 31.59it/s, epoch=6/10, avg_epoch_loss=-3.88]\n",
            "100%|██████████| 50/50 [00:01<00:00, 34.94it/s, epoch=7/10, avg_epoch_loss=-3.87]\n",
            "100%|██████████| 50/50 [00:01<00:00, 34.56it/s, epoch=8/10, avg_epoch_loss=-3.88]\n",
            "  0%|          | 0/50 [00:00<?, ?it/s]\n",
            "100%|██████████| 50/50 [00:01<00:00, 34.53it/s, epoch=10/10, avg_epoch_loss=-3.88]\n"
          ]
        },
        {
          "output_type": "stream",
          "name": "stdout",
          "text": [
            "train window 54 of total 91 windows\n",
            "[{'start': Period('2022-08-17', 'D'), 'target': array([ 0.00337023,  0.0061319 ,  0.01237777,  0.01272115, -0.00366456,\n",
            "       -0.01171749, -0.00086481,  0.0236165 , -0.00987678, -0.0108025 ,\n",
            "        0.02489235], dtype=float32)}]\n"
          ]
        },
        {
          "output_type": "stream",
          "name": "stderr",
          "text": [
            "100%|██████████| 50/50 [00:01<00:00, 34.54it/s, epoch=1/10, avg_epoch_loss=-3.18]\n",
            "100%|██████████| 50/50 [00:01<00:00, 35.44it/s, epoch=2/10, avg_epoch_loss=-3.55]\n",
            "100%|██████████| 50/50 [00:02<00:00, 22.83it/s, epoch=3/10, avg_epoch_loss=-3.54]\n",
            "100%|██████████| 50/50 [00:02<00:00, 22.76it/s, epoch=4/10, avg_epoch_loss=-3.56]\n",
            "100%|██████████| 50/50 [00:01<00:00, 30.93it/s, epoch=5/10, avg_epoch_loss=-3.56]\n",
            "100%|██████████| 50/50 [00:01<00:00, 34.36it/s, epoch=6/10, avg_epoch_loss=-3.55]\n",
            "100%|██████████| 50/50 [00:01<00:00, 35.19it/s, epoch=7/10, avg_epoch_loss=-3.57]\n",
            "100%|██████████| 50/50 [00:01<00:00, 35.43it/s, epoch=8/10, avg_epoch_loss=-3.55]\n",
            "100%|██████████| 50/50 [00:01<00:00, 34.78it/s, epoch=9/10, avg_epoch_loss=-3.54]\n",
            "100%|██████████| 50/50 [00:01<00:00, 34.97it/s, epoch=10/10, avg_epoch_loss=-3.58]\n"
          ]
        },
        {
          "output_type": "stream",
          "name": "stdout",
          "text": [
            "train window 55 of total 91 windows\n",
            "[{'start': Period('2022-08-18', 'D'), 'target': array([ 0.0061319 ,  0.01237777,  0.01272115, -0.00366456, -0.01171749,\n",
            "       -0.00086481,  0.0236165 , -0.00987678, -0.0108025 ,  0.02489235,\n",
            "        0.00668856], dtype=float32)}]\n"
          ]
        },
        {
          "output_type": "stream",
          "name": "stderr",
          "text": [
            "100%|██████████| 50/50 [00:01<00:00, 33.45it/s, epoch=1/10, avg_epoch_loss=-3.33]\n",
            "100%|██████████| 50/50 [00:02<00:00, 24.22it/s, epoch=2/10, avg_epoch_loss=-3.46]\n",
            "100%|██████████| 50/50 [00:02<00:00, 23.34it/s, epoch=3/10, avg_epoch_loss=-3.45]\n",
            "100%|██████████| 50/50 [00:01<00:00, 29.09it/s, epoch=4/10, avg_epoch_loss=-3.46]\n",
            "100%|██████████| 50/50 [00:01<00:00, 34.42it/s, epoch=5/10, avg_epoch_loss=-3.46]\n",
            "100%|██████████| 50/50 [00:01<00:00, 34.79it/s, epoch=6/10, avg_epoch_loss=-3.45]\n",
            "100%|██████████| 50/50 [00:01<00:00, 34.89it/s, epoch=7/10, avg_epoch_loss=-3.46]\n",
            "100%|██████████| 50/50 [00:01<00:00, 34.50it/s, epoch=8/10, avg_epoch_loss=-3.46]\n",
            "100%|██████████| 50/50 [00:01<00:00, 35.45it/s, epoch=9/10, avg_epoch_loss=-3.46]\n",
            "100%|██████████| 50/50 [00:01<00:00, 33.00it/s, epoch=10/10, avg_epoch_loss=-3.46]\n"
          ]
        },
        {
          "output_type": "stream",
          "name": "stdout",
          "text": [
            "train window 56 of total 91 windows\n",
            "[{'start': Period('2022-08-19', 'D'), 'target': array([ 0.01237777,  0.01272115, -0.00366456, -0.01171749, -0.00086481,\n",
            "        0.0236165 , -0.00987678, -0.0108025 ,  0.02489235,  0.00668856,\n",
            "        0.0014391 ], dtype=float32)}]\n"
          ]
        },
        {
          "output_type": "stream",
          "name": "stderr",
          "text": [
            "100%|██████████| 50/50 [00:02<00:00, 24.27it/s, epoch=1/10, avg_epoch_loss=-3.02]\n",
            "100%|██████████| 50/50 [00:02<00:00, 23.68it/s, epoch=2/10, avg_epoch_loss=-3.2]\n",
            "100%|██████████| 50/50 [00:01<00:00, 27.60it/s, epoch=3/10, avg_epoch_loss=-3.19]\n",
            "100%|██████████| 50/50 [00:01<00:00, 34.55it/s, epoch=4/10, avg_epoch_loss=-3.2]\n",
            "100%|██████████| 50/50 [00:01<00:00, 35.51it/s, epoch=5/10, avg_epoch_loss=-3.2]\n",
            "100%|██████████| 50/50 [00:01<00:00, 35.20it/s, epoch=6/10, avg_epoch_loss=-3.2]\n",
            "100%|██████████| 50/50 [00:01<00:00, 35.12it/s, epoch=7/10, avg_epoch_loss=-3.2]\n",
            "100%|██████████| 50/50 [00:01<00:00, 34.68it/s, epoch=8/10, avg_epoch_loss=-3.2]\n",
            "100%|██████████| 50/50 [00:01<00:00, 33.86it/s, epoch=9/10, avg_epoch_loss=-3.2]\n",
            "100%|██████████| 50/50 [00:01<00:00, 26.36it/s, epoch=10/10, avg_epoch_loss=-3.19]\n"
          ]
        },
        {
          "output_type": "stream",
          "name": "stdout",
          "text": [
            "train window 57 of total 91 windows\n",
            "[{'start': Period('2022-08-22', 'D'), 'target': array([ 0.01272115, -0.00366456, -0.01171749, -0.00086481,  0.0236165 ,\n",
            "       -0.00987678, -0.0108025 ,  0.02489235,  0.00668856,  0.0014391 ,\n",
            "       -0.00172667], dtype=float32)}]\n"
          ]
        },
        {
          "output_type": "stream",
          "name": "stderr",
          "text": [
            "100%|██████████| 50/50 [00:02<00:00, 23.04it/s, epoch=1/10, avg_epoch_loss=-3.02]\n",
            "100%|██████████| 50/50 [00:01<00:00, 25.71it/s, epoch=2/10, avg_epoch_loss=-3.13]\n",
            "100%|██████████| 50/50 [00:01<00:00, 35.42it/s, epoch=3/10, avg_epoch_loss=-3.13]\n",
            "100%|██████████| 50/50 [00:01<00:00, 34.83it/s, epoch=4/10, avg_epoch_loss=-3.13]\n",
            "100%|██████████| 50/50 [00:01<00:00, 34.97it/s, epoch=5/10, avg_epoch_loss=-3.13]\n",
            "100%|██████████| 50/50 [00:01<00:00, 34.54it/s, epoch=6/10, avg_epoch_loss=-3.13]\n",
            "100%|██████████| 50/50 [00:01<00:00, 34.44it/s, epoch=7/10, avg_epoch_loss=-3.13]\n",
            "100%|██████████| 50/50 [00:01<00:00, 34.15it/s, epoch=8/10, avg_epoch_loss=-3.13]\n",
            "100%|██████████| 50/50 [00:01<00:00, 27.45it/s, epoch=9/10, avg_epoch_loss=-3.13]\n",
            "100%|██████████| 50/50 [00:02<00:00, 23.76it/s, epoch=10/10, avg_epoch_loss=-3.13]\n"
          ]
        },
        {
          "output_type": "stream",
          "name": "stdout",
          "text": [
            "train window 58 of total 91 windows\n",
            "[{'start': Period('2022-08-23', 'D'), 'target': array([-0.00366456, -0.01171749, -0.00086481,  0.0236165 , -0.00987678,\n",
            "       -0.0108025 ,  0.02489235,  0.00668856,  0.0014391 , -0.00172667,\n",
            "        0.01561601], dtype=float32)}]\n"
          ]
        },
        {
          "output_type": "stream",
          "name": "stderr",
          "text": [
            "100%|██████████| 50/50 [00:02<00:00, 24.14it/s, epoch=1/10, avg_epoch_loss=-2.79]\n",
            "100%|██████████| 50/50 [00:01<00:00, 35.37it/s, epoch=2/10, avg_epoch_loss=-3.1]\n",
            "100%|██████████| 50/50 [00:01<00:00, 34.56it/s, epoch=3/10, avg_epoch_loss=-3.11]\n",
            "100%|██████████| 50/50 [00:01<00:00, 34.19it/s, epoch=4/10, avg_epoch_loss=-3.12]\n",
            "100%|██████████| 50/50 [00:01<00:00, 33.88it/s, epoch=5/10, avg_epoch_loss=-3.11]\n",
            "100%|██████████| 50/50 [00:01<00:00, 34.87it/s, epoch=6/10, avg_epoch_loss=-3.12]\n",
            "100%|██████████| 50/50 [00:01<00:00, 34.06it/s, epoch=7/10, avg_epoch_loss=-3.12]\n",
            "100%|██████████| 50/50 [00:01<00:00, 28.46it/s, epoch=8/10, avg_epoch_loss=-3.11]\n",
            "100%|██████████| 50/50 [00:02<00:00, 23.03it/s, epoch=9/10, avg_epoch_loss=-3.11]\n",
            "100%|██████████| 50/50 [00:02<00:00, 24.35it/s, epoch=10/10, avg_epoch_loss=-3.11]\n"
          ]
        },
        {
          "output_type": "stream",
          "name": "stdout",
          "text": [
            "train window 59 of total 91 windows\n",
            "[{'start': Period('2022-08-24', 'D'), 'target': array([-0.01171749, -0.00086481,  0.0236165 , -0.00987678, -0.0108025 ,\n",
            "        0.02489235,  0.00668856,  0.0014391 , -0.00172667,  0.01561601,\n",
            "       -0.00311042], dtype=float32)}]\n"
          ]
        },
        {
          "output_type": "stream",
          "name": "stderr",
          "text": [
            "100%|██████████| 50/50 [00:01<00:00, 33.49it/s, epoch=1/10, avg_epoch_loss=-2.88]\n",
            "100%|██████████| 50/50 [00:01<00:00, 34.25it/s, epoch=2/10, avg_epoch_loss=-3.01]\n",
            "100%|██████████| 50/50 [00:01<00:00, 34.29it/s, epoch=3/10, avg_epoch_loss=-3.02]\n",
            "100%|██████████| 50/50 [00:01<00:00, 33.67it/s, epoch=4/10, avg_epoch_loss=-3.01]\n",
            "100%|██████████| 50/50 [00:01<00:00, 35.03it/s, epoch=5/10, avg_epoch_loss=-3.01]\n",
            "100%|██████████| 50/50 [00:01<00:00, 35.16it/s, epoch=6/10, avg_epoch_loss=-3]\n",
            "100%|██████████| 50/50 [00:01<00:00, 28.03it/s, epoch=7/10, avg_epoch_loss=-3.01]\n",
            "100%|██████████| 50/50 [00:02<00:00, 23.63it/s, epoch=8/10, avg_epoch_loss=-3.01]\n",
            "100%|██████████| 50/50 [00:02<00:00, 24.20it/s, epoch=9/10, avg_epoch_loss=-3]\n",
            "100%|██████████| 50/50 [00:01<00:00, 34.13it/s, epoch=10/10, avg_epoch_loss=-3.01]\n"
          ]
        },
        {
          "output_type": "stream",
          "name": "stdout",
          "text": [
            "train window 60 of total 91 windows\n",
            "[{'start': Period('2022-08-25', 'D'), 'target': array([-0.00086481,  0.0236165 , -0.00987678, -0.0108025 ,  0.02489235,\n",
            "        0.00668856,  0.0014391 , -0.00172667,  0.01561601, -0.00311042,\n",
            "       -0.03008129], dtype=float32)}]\n"
          ]
        },
        {
          "output_type": "stream",
          "name": "stderr",
          "text": [
            "100%|██████████| 50/50 [00:01<00:00, 33.54it/s, epoch=1/10, avg_epoch_loss=16.2]\n",
            "100%|██████████| 50/50 [00:01<00:00, 34.87it/s, epoch=2/10, avg_epoch_loss=4.34]\n",
            "100%|██████████| 50/50 [00:01<00:00, 36.21it/s, epoch=3/10, avg_epoch_loss=4.14]\n",
            "100%|██████████| 50/50 [00:01<00:00, 34.56it/s, epoch=4/10, avg_epoch_loss=4.96]\n",
            "100%|██████████| 50/50 [00:01<00:00, 35.53it/s, epoch=5/10, avg_epoch_loss=4.28]\n",
            "100%|██████████| 50/50 [00:01<00:00, 29.49it/s, epoch=6/10, avg_epoch_loss=5.57]\n",
            "100%|██████████| 50/50 [00:02<00:00, 23.90it/s, epoch=7/10, avg_epoch_loss=4.29]\n",
            "100%|██████████| 50/50 [00:02<00:00, 23.00it/s, epoch=8/10, avg_epoch_loss=4.79]\n",
            "100%|██████████| 50/50 [00:01<00:00, 33.96it/s, epoch=9/10, avg_epoch_loss=4.28]\n",
            "100%|██████████| 50/50 [00:01<00:00, 34.32it/s, epoch=10/10, avg_epoch_loss=4.28]\n"
          ]
        },
        {
          "output_type": "stream",
          "name": "stdout",
          "text": [
            "train window 61 of total 91 windows\n",
            "[{'start': Period('2022-08-26', 'D'), 'target': array([ 0.0236165 , -0.00987678, -0.0108025 ,  0.02489235,  0.00668856,\n",
            "        0.0014391 , -0.00172667,  0.01561601, -0.00311042, -0.03008129,\n",
            "        0.01843867], dtype=float32)}]\n"
          ]
        },
        {
          "output_type": "stream",
          "name": "stderr",
          "text": [
            "100%|██████████| 50/50 [00:01<00:00, 34.35it/s, epoch=1/10, avg_epoch_loss=-2.76]\n",
            "100%|██████████| 50/50 [00:01<00:00, 34.99it/s, epoch=2/10, avg_epoch_loss=-2.88]\n",
            "100%|██████████| 50/50 [00:01<00:00, 35.13it/s, epoch=3/10, avg_epoch_loss=-2.88]\n",
            "100%|██████████| 50/50 [00:01<00:00, 34.47it/s, epoch=4/10, avg_epoch_loss=-2.88]\n",
            "100%|██████████| 50/50 [00:01<00:00, 31.30it/s, epoch=5/10, avg_epoch_loss=-2.87]\n",
            "100%|██████████| 50/50 [00:02<00:00, 23.98it/s, epoch=6/10, avg_epoch_loss=-2.88]\n",
            "100%|██████████| 50/50 [00:02<00:00, 21.92it/s, epoch=7/10, avg_epoch_loss=-2.89]\n",
            "100%|██████████| 50/50 [00:01<00:00, 35.08it/s, epoch=8/10, avg_epoch_loss=-2.88]\n",
            "100%|██████████| 50/50 [00:01<00:00, 35.28it/s, epoch=9/10, avg_epoch_loss=-2.87]\n",
            "100%|██████████| 50/50 [00:01<00:00, 35.24it/s, epoch=10/10, avg_epoch_loss=-2.88]\n"
          ]
        },
        {
          "output_type": "stream",
          "name": "stdout",
          "text": [
            "train window 62 of total 91 windows\n",
            "[{'start': Period('2022-08-29', 'D'), 'target': array([-0.00987678, -0.0108025 ,  0.02489235,  0.00668856,  0.0014391 ,\n",
            "       -0.00172667,  0.01561601, -0.00311042, -0.03008129,  0.01843867,\n",
            "        0.00676968], dtype=float32)}]\n"
          ]
        },
        {
          "output_type": "stream",
          "name": "stderr",
          "text": [
            "100%|██████████| 50/50 [00:01<00:00, 33.66it/s, epoch=1/10, avg_epoch_loss=-2.88]\n",
            "100%|██████████| 50/50 [00:01<00:00, 34.63it/s, epoch=2/10, avg_epoch_loss=-3]\n",
            "100%|██████████| 50/50 [00:01<00:00, 34.23it/s, epoch=3/10, avg_epoch_loss=-2.99]\n",
            "100%|██████████| 50/50 [00:01<00:00, 32.76it/s, epoch=4/10, avg_epoch_loss=-2.99]\n",
            "100%|██████████| 50/50 [00:02<00:00, 23.67it/s, epoch=5/10, avg_epoch_loss=-2.99]\n",
            "100%|██████████| 50/50 [00:02<00:00, 22.05it/s, epoch=6/10, avg_epoch_loss=-3]\n",
            "100%|██████████| 50/50 [00:01<00:00, 32.92it/s, epoch=7/10, avg_epoch_loss=-3]\n",
            "100%|██████████| 50/50 [00:01<00:00, 35.01it/s, epoch=8/10, avg_epoch_loss=-3]\n",
            "100%|██████████| 50/50 [00:01<00:00, 34.60it/s, epoch=9/10, avg_epoch_loss=-3]\n",
            "100%|██████████| 50/50 [00:01<00:00, 34.87it/s, epoch=10/10, avg_epoch_loss=-3]\n"
          ]
        },
        {
          "output_type": "stream",
          "name": "stdout",
          "text": [
            "train window 63 of total 91 windows\n",
            "[{'start': Period('2022-08-30', 'D'), 'target': array([-0.0108025 ,  0.02489235,  0.00668856,  0.0014391 , -0.00172667,\n",
            "        0.01561601, -0.00311042, -0.03008129,  0.01843867,  0.00676968,\n",
            "        0.00626496], dtype=float32)}]\n"
          ]
        },
        {
          "output_type": "stream",
          "name": "stderr",
          "text": [
            "100%|██████████| 50/50 [00:01<00:00, 33.89it/s, epoch=1/10, avg_epoch_loss=-2.57]\n",
            "100%|██████████| 50/50 [00:01<00:00, 34.91it/s, epoch=2/10, avg_epoch_loss=-2.86]\n",
            "100%|██████████| 50/50 [00:01<00:00, 34.80it/s, epoch=3/10, avg_epoch_loss=-2.85]\n",
            "100%|██████████| 50/50 [00:02<00:00, 23.71it/s, epoch=4/10, avg_epoch_loss=-2.86]\n",
            "100%|██████████| 50/50 [00:02<00:00, 22.42it/s, epoch=5/10, avg_epoch_loss=-2.86]\n",
            "100%|██████████| 50/50 [00:01<00:00, 30.56it/s, epoch=6/10, avg_epoch_loss=-2.86]\n",
            "100%|██████████| 50/50 [00:01<00:00, 34.31it/s, epoch=7/10, avg_epoch_loss=-2.85]\n",
            "100%|██████████| 50/50 [00:01<00:00, 34.94it/s, epoch=8/10, avg_epoch_loss=-2.85]\n",
            "100%|██████████| 50/50 [00:01<00:00, 34.75it/s, epoch=9/10, avg_epoch_loss=-2.85]\n",
            "100%|██████████| 50/50 [00:01<00:00, 34.85it/s, epoch=10/10, avg_epoch_loss=-2.85]\n"
          ]
        },
        {
          "output_type": "stream",
          "name": "stdout",
          "text": [
            "train window 64 of total 91 windows\n",
            "[{'start': Period('2022-08-31', 'D'), 'target': array([ 0.02489235,  0.00668856,  0.0014391 , -0.00172667,  0.01561601,\n",
            "       -0.00311042, -0.03008129,  0.01843867,  0.00676968,  0.00626496,\n",
            "        0.00715241], dtype=float32)}]\n"
          ]
        },
        {
          "output_type": "stream",
          "name": "stderr",
          "text": [
            "100%|██████████| 50/50 [00:01<00:00, 33.94it/s, epoch=1/10, avg_epoch_loss=-2.85]\n",
            "100%|██████████| 50/50 [00:01<00:00, 34.20it/s, epoch=2/10, avg_epoch_loss=-3.14]\n",
            "100%|██████████| 50/50 [00:02<00:00, 24.55it/s, epoch=3/10, avg_epoch_loss=-3.14]\n",
            "100%|██████████| 50/50 [00:02<00:00, 22.46it/s, epoch=4/10, avg_epoch_loss=-3.13]\n",
            "100%|██████████| 50/50 [00:01<00:00, 28.95it/s, epoch=5/10, avg_epoch_loss=-3.14]\n",
            "100%|██████████| 50/50 [00:01<00:00, 35.54it/s, epoch=6/10, avg_epoch_loss=-3.15]\n",
            "100%|██████████| 50/50 [00:01<00:00, 35.04it/s, epoch=7/10, avg_epoch_loss=-3.14]\n",
            "100%|██████████| 50/50 [00:01<00:00, 33.89it/s, epoch=8/10, avg_epoch_loss=-3.15]\n",
            "100%|██████████| 50/50 [00:01<00:00, 35.44it/s, epoch=9/10, avg_epoch_loss=-3.15]\n",
            "100%|██████████| 50/50 [00:01<00:00, 34.69it/s, epoch=10/10, avg_epoch_loss=-3.14]\n"
          ]
        },
        {
          "output_type": "stream",
          "name": "stdout",
          "text": [
            "train window 65 of total 91 windows\n",
            "[{'start': Period('2022-09-01', 'D'), 'target': array([ 0.00668856,  0.0014391 , -0.00172667,  0.01561601, -0.00311042,\n",
            "       -0.03008129,  0.01843867,  0.00676968,  0.00626496,  0.00715241,\n",
            "       -0.00342003], dtype=float32)}]\n"
          ]
        },
        {
          "output_type": "stream",
          "name": "stderr",
          "text": [
            "100%|██████████| 50/50 [00:01<00:00, 34.00it/s, epoch=1/10, avg_epoch_loss=-3.21]\n",
            "100%|██████████| 50/50 [00:01<00:00, 25.88it/s, epoch=2/10, avg_epoch_loss=-3.34]\n",
            "100%|██████████| 50/50 [00:02<00:00, 23.40it/s, epoch=3/10, avg_epoch_loss=-3.35]\n",
            "100%|██████████| 50/50 [00:01<00:00, 27.51it/s, epoch=4/10, avg_epoch_loss=-3.35]\n",
            "100%|██████████| 50/50 [00:01<00:00, 34.39it/s, epoch=5/10, avg_epoch_loss=-3.34]\n",
            "100%|██████████| 50/50 [00:01<00:00, 35.29it/s, epoch=6/10, avg_epoch_loss=-3.33]\n",
            "100%|██████████| 50/50 [00:01<00:00, 35.04it/s, epoch=7/10, avg_epoch_loss=-3.34]\n",
            "100%|██████████| 50/50 [00:01<00:00, 34.32it/s, epoch=8/10, avg_epoch_loss=-3.34]\n",
            "100%|██████████| 50/50 [00:02<00:00, 23.86it/s, epoch=9/10, avg_epoch_loss=-3.34]\n",
            "100%|██████████| 50/50 [00:02<00:00, 21.46it/s, epoch=10/10, avg_epoch_loss=-3.35]\n"
          ]
        },
        {
          "output_type": "stream",
          "name": "stdout",
          "text": [
            "train window 66 of total 91 windows\n",
            "[{'start': Period('2022-09-02', 'D'), 'target': array([ 0.0014391 , -0.00172667,  0.01561601, -0.00311042, -0.03008129,\n",
            "        0.01843867,  0.00676968,  0.00626496,  0.00715241, -0.00342003,\n",
            "        0.00937594], dtype=float32)}]\n"
          ]
        },
        {
          "output_type": "stream",
          "name": "stderr",
          "text": [
            "100%|██████████| 50/50 [00:02<00:00, 20.02it/s, epoch=1/10, avg_epoch_loss=-.846]\n",
            "100%|██████████| 50/50 [00:02<00:00, 22.61it/s, epoch=2/10, avg_epoch_loss=-2.68]\n",
            "100%|██████████| 50/50 [00:01<00:00, 33.08it/s, epoch=3/10, avg_epoch_loss=-2.69]\n",
            "100%|██████████| 50/50 [00:01<00:00, 33.96it/s, epoch=4/10, avg_epoch_loss=-2.54]\n",
            "100%|██████████| 50/50 [00:01<00:00, 34.95it/s, epoch=5/10, avg_epoch_loss=-2.61]\n",
            "100%|██████████| 50/50 [00:01<00:00, 35.51it/s, epoch=6/10, avg_epoch_loss=-2.54]\n",
            "100%|██████████| 50/50 [00:01<00:00, 35.42it/s, epoch=7/10, avg_epoch_loss=-2.58]\n",
            "100%|██████████| 50/50 [00:01<00:00, 34.79it/s, epoch=8/10, avg_epoch_loss=-2.57]\n",
            "100%|██████████| 50/50 [00:01<00:00, 34.90it/s, epoch=9/10, avg_epoch_loss=-2.65]\n",
            "100%|██████████| 50/50 [00:02<00:00, 21.62it/s, epoch=10/10, avg_epoch_loss=-2.69]\n"
          ]
        },
        {
          "output_type": "stream",
          "name": "stdout",
          "text": [
            "train window 67 of total 91 windows\n",
            "[{'start': Period('2022-09-05', 'D'), 'target': array([-0.00172667,  0.01561601, -0.00311042, -0.03008129,  0.01843867,\n",
            "        0.00676968,  0.00626496,  0.00715241, -0.00342003,  0.00937594,\n",
            "        0.00996182], dtype=float32)}]\n"
          ]
        },
        {
          "output_type": "stream",
          "name": "stderr",
          "text": [
            "100%|██████████| 50/50 [00:02<00:00, 21.66it/s, epoch=1/10, avg_epoch_loss=0.682]\n",
            "100%|██████████| 50/50 [00:01<00:00, 31.05it/s, epoch=2/10, avg_epoch_loss=-2.14]\n",
            "100%|██████████| 50/50 [00:01<00:00, 33.68it/s, epoch=3/10, avg_epoch_loss=-2.31]\n",
            "100%|██████████| 50/50 [00:01<00:00, 35.37it/s, epoch=4/10, avg_epoch_loss=-2.23]\n",
            "100%|██████████| 50/50 [00:01<00:00, 34.64it/s, epoch=5/10, avg_epoch_loss=-2.22]\n",
            "100%|██████████| 50/50 [00:01<00:00, 35.00it/s, epoch=6/10, avg_epoch_loss=-2.35]\n",
            "100%|██████████| 50/50 [00:01<00:00, 35.38it/s, epoch=7/10, avg_epoch_loss=-2.15]\n",
            "100%|██████████| 50/50 [00:01<00:00, 34.94it/s, epoch=8/10, avg_epoch_loss=-2.15]\n",
            "100%|██████████| 50/50 [00:02<00:00, 24.84it/s, epoch=9/10, avg_epoch_loss=-2.19]\n",
            "100%|██████████| 50/50 [00:02<00:00, 23.18it/s, epoch=10/10, avg_epoch_loss=-2.26]\n"
          ]
        },
        {
          "output_type": "stream",
          "name": "stdout",
          "text": [
            "train window 68 of total 91 windows\n",
            "[{'start': Period('2022-09-06', 'D'), 'target': array([ 0.01561601, -0.00311042, -0.03008129,  0.01843867,  0.00676968,\n",
            "        0.00626496,  0.00715241, -0.00342003,  0.00937594,  0.00996182,\n",
            "        0.01304678], dtype=float32)}]\n"
          ]
        },
        {
          "output_type": "stream",
          "name": "stderr",
          "text": [
            "100%|██████████| 50/50 [00:01<00:00, 27.85it/s, epoch=1/10, avg_epoch_loss=-2.78]\n",
            "100%|██████████| 50/50 [00:01<00:00, 34.75it/s, epoch=2/10, avg_epoch_loss=-2.9]\n",
            "100%|██████████| 50/50 [00:01<00:00, 34.36it/s, epoch=3/10, avg_epoch_loss=-2.89]\n",
            "100%|██████████| 50/50 [00:01<00:00, 35.69it/s, epoch=4/10, avg_epoch_loss=-2.89]\n",
            "100%|██████████| 50/50 [00:01<00:00, 35.02it/s, epoch=5/10, avg_epoch_loss=-2.9]\n",
            "100%|██████████| 50/50 [00:01<00:00, 34.42it/s, epoch=6/10, avg_epoch_loss=-2.89]\n",
            "100%|██████████| 50/50 [00:01<00:00, 35.52it/s, epoch=7/10, avg_epoch_loss=-2.89]\n",
            "100%|██████████| 50/50 [00:01<00:00, 26.15it/s, epoch=8/10, avg_epoch_loss=-2.87]\n",
            "100%|██████████| 50/50 [00:02<00:00, 23.53it/s, epoch=9/10, avg_epoch_loss=-2.89]\n",
            "100%|██████████| 50/50 [00:02<00:00, 23.57it/s, epoch=10/10, avg_epoch_loss=-2.89]\n"
          ]
        },
        {
          "output_type": "stream",
          "name": "stdout",
          "text": [
            "train window 69 of total 91 windows\n",
            "[{'start': Period('2022-09-07', 'D'), 'target': array([-0.00311042, -0.03008129,  0.01843867,  0.00676968,  0.00626496,\n",
            "        0.00715241, -0.00342003,  0.00937594,  0.00996182,  0.01304678,\n",
            "        0.02713312], dtype=float32)}]\n"
          ]
        },
        {
          "output_type": "stream",
          "name": "stderr",
          "text": [
            "100%|██████████| 50/50 [00:01<00:00, 32.83it/s, epoch=1/10, avg_epoch_loss=-1.48]\n",
            "100%|██████████| 50/50 [00:01<00:00, 33.41it/s, epoch=2/10, avg_epoch_loss=-2.17]\n",
            "100%|██████████| 50/50 [00:01<00:00, 32.68it/s, epoch=3/10, avg_epoch_loss=-2.33]\n",
            "100%|██████████| 50/50 [00:01<00:00, 33.44it/s, epoch=4/10, avg_epoch_loss=-2.21]\n",
            "100%|██████████| 50/50 [00:01<00:00, 33.94it/s, epoch=5/10, avg_epoch_loss=-2.29]\n",
            "100%|██████████| 50/50 [00:01<00:00, 34.12it/s, epoch=6/10, avg_epoch_loss=-2.22]\n",
            "100%|██████████| 50/50 [00:02<00:00, 23.36it/s, epoch=7/10, avg_epoch_loss=-2.24]\n",
            "100%|██████████| 50/50 [00:02<00:00, 22.40it/s, epoch=8/10, avg_epoch_loss=-2.25]\n",
            "100%|██████████| 50/50 [00:01<00:00, 29.30it/s, epoch=9/10, avg_epoch_loss=-2.25]\n",
            "100%|██████████| 50/50 [00:01<00:00, 32.58it/s, epoch=10/10, avg_epoch_loss=-2.21]\n"
          ]
        },
        {
          "output_type": "stream",
          "name": "stdout",
          "text": [
            "train window 70 of total 91 windows\n",
            "[{'start': Period('2022-09-08', 'D'), 'target': array([-0.03008129,  0.01843867,  0.00676968,  0.00626496,  0.00715241,\n",
            "       -0.00342003,  0.00937594,  0.00996182,  0.01304678,  0.02713312,\n",
            "       -0.00148284], dtype=float32)}]\n"
          ]
        },
        {
          "output_type": "stream",
          "name": "stderr",
          "text": [
            "100%|██████████| 50/50 [00:01<00:00, 30.65it/s, epoch=1/10, avg_epoch_loss=-2.52]\n",
            "100%|██████████| 50/50 [00:01<00:00, 33.29it/s, epoch=2/10, avg_epoch_loss=-2.66]\n",
            "100%|██████████| 50/50 [00:01<00:00, 33.40it/s, epoch=3/10, avg_epoch_loss=-2.64]\n",
            "100%|██████████| 50/50 [00:01<00:00, 33.24it/s, epoch=4/10, avg_epoch_loss=-2.66]\n",
            "100%|██████████| 50/50 [00:01<00:00, 29.44it/s, epoch=5/10, avg_epoch_loss=-2.67]\n",
            "100%|██████████| 50/50 [00:02<00:00, 23.15it/s, epoch=6/10, avg_epoch_loss=-2.65]\n",
            "100%|██████████| 50/50 [00:02<00:00, 21.70it/s, epoch=7/10, avg_epoch_loss=-2.65]\n",
            "100%|██████████| 50/50 [00:01<00:00, 33.30it/s, epoch=8/10, avg_epoch_loss=-2.65]\n",
            "100%|██████████| 50/50 [00:01<00:00, 34.29it/s, epoch=9/10, avg_epoch_loss=-2.67]\n",
            "100%|██████████| 50/50 [00:01<00:00, 33.07it/s, epoch=10/10, avg_epoch_loss=-2.66]\n"
          ]
        },
        {
          "output_type": "stream",
          "name": "stdout",
          "text": [
            "train window 71 of total 91 windows\n",
            "[{'start': Period('2022-09-13', 'D'), 'target': array([ 0.01843867,  0.00676968,  0.00626496,  0.00715241, -0.00342003,\n",
            "        0.00937594,  0.00996182,  0.01304678,  0.02713312, -0.00148284,\n",
            "        0.02445229], dtype=float32)}]\n"
          ]
        },
        {
          "output_type": "stream",
          "name": "stderr",
          "text": [
            "100%|██████████| 50/50 [00:01<00:00, 32.89it/s, epoch=1/10, avg_epoch_loss=-2.69]\n",
            "100%|██████████| 50/50 [00:01<00:00, 33.78it/s, epoch=2/10, avg_epoch_loss=-3.43]\n",
            "100%|██████████| 50/50 [00:01<00:00, 33.57it/s, epoch=3/10, avg_epoch_loss=-3.44]\n",
            "100%|██████████| 50/50 [00:01<00:00, 27.43it/s, epoch=4/10, avg_epoch_loss=-3.43]\n",
            "100%|██████████| 50/50 [00:02<00:00, 22.67it/s, epoch=5/10, avg_epoch_loss=-3.44]\n",
            "100%|██████████| 50/50 [00:02<00:00, 23.35it/s, epoch=6/10, avg_epoch_loss=-3.44]\n",
            "100%|██████████| 50/50 [00:01<00:00, 33.07it/s, epoch=7/10, avg_epoch_loss=-3.43]\n",
            "100%|██████████| 50/50 [00:01<00:00, 33.53it/s, epoch=8/10, avg_epoch_loss=-3.44]\n",
            "100%|██████████| 50/50 [00:01<00:00, 34.05it/s, epoch=9/10, avg_epoch_loss=-3.44]\n",
            "100%|██████████| 50/50 [00:01<00:00, 34.54it/s, epoch=10/10, avg_epoch_loss=-3.44]\n"
          ]
        },
        {
          "output_type": "stream",
          "name": "stdout",
          "text": [
            "train window 72 of total 91 windows\n",
            "[{'start': Period('2022-09-14', 'D'), 'target': array([ 0.00676968,  0.00626496,  0.00715241, -0.00342003,  0.00937594,\n",
            "        0.00996182,  0.01304678,  0.02713312, -0.00148284,  0.02445229,\n",
            "        0.00190867], dtype=float32)}]\n"
          ]
        },
        {
          "output_type": "stream",
          "name": "stderr",
          "text": [
            "100%|██████████| 50/50 [00:01<00:00, 33.34it/s, epoch=1/10, avg_epoch_loss=-3.53]\n",
            "100%|██████████| 50/50 [00:01<00:00, 33.78it/s, epoch=2/10, avg_epoch_loss=-3.88]\n",
            "100%|██████████| 50/50 [00:01<00:00, 26.59it/s, epoch=3/10, avg_epoch_loss=-3.85]\n",
            "100%|██████████| 50/50 [00:02<00:00, 23.27it/s, epoch=4/10, avg_epoch_loss=-3.86]\n",
            "100%|██████████| 50/50 [00:02<00:00, 24.90it/s, epoch=5/10, avg_epoch_loss=-3.86]\n",
            "100%|██████████| 50/50 [00:01<00:00, 34.23it/s, epoch=6/10, avg_epoch_loss=-3.87]\n",
            "100%|██████████| 50/50 [00:01<00:00, 34.54it/s, epoch=7/10, avg_epoch_loss=-3.87]\n",
            "100%|██████████| 50/50 [00:01<00:00, 33.82it/s, epoch=8/10, avg_epoch_loss=-3.87]\n",
            "100%|██████████| 50/50 [00:01<00:00, 33.31it/s, epoch=9/10, avg_epoch_loss=-3.87]\n",
            "100%|██████████| 50/50 [00:01<00:00, 34.54it/s, epoch=10/10, avg_epoch_loss=-3.87]\n"
          ]
        },
        {
          "output_type": "stream",
          "name": "stdout",
          "text": [
            "train window 73 of total 91 windows\n",
            "[{'start': Period('2022-09-15', 'D'), 'target': array([ 0.00626496,  0.00715241, -0.00342003,  0.00937594,  0.00996182,\n",
            "        0.01304678,  0.02713312, -0.00148284,  0.02445229,  0.00190867,\n",
            "        0.00457439], dtype=float32)}]\n"
          ]
        },
        {
          "output_type": "stream",
          "name": "stderr",
          "text": [
            "100%|██████████| 50/50 [00:01<00:00, 32.33it/s, epoch=1/10, avg_epoch_loss=-3.17]\n",
            "100%|██████████| 50/50 [00:01<00:00, 25.77it/s, epoch=2/10, avg_epoch_loss=-3.6]\n",
            "100%|██████████| 50/50 [00:02<00:00, 22.93it/s, epoch=3/10, avg_epoch_loss=-3.6]\n",
            "100%|██████████| 50/50 [00:01<00:00, 25.54it/s, epoch=4/10, avg_epoch_loss=-3.6]\n",
            "100%|██████████| 50/50 [00:01<00:00, 33.57it/s, epoch=5/10, avg_epoch_loss=-3.6]\n",
            "100%|██████████| 50/50 [00:01<00:00, 33.56it/s, epoch=6/10, avg_epoch_loss=-3.61]\n",
            "100%|██████████| 50/50 [00:01<00:00, 33.17it/s, epoch=7/10, avg_epoch_loss=-3.6]\n",
            "100%|██████████| 50/50 [00:01<00:00, 34.25it/s, epoch=8/10, avg_epoch_loss=-3.6]\n",
            "100%|██████████| 50/50 [00:01<00:00, 34.12it/s, epoch=9/10, avg_epoch_loss=-3.59]\n",
            "100%|██████████| 50/50 [00:01<00:00, 33.74it/s, epoch=10/10, avg_epoch_loss=-3.59]\n"
          ]
        },
        {
          "output_type": "stream",
          "name": "stdout",
          "text": [
            "train window 74 of total 91 windows\n",
            "[{'start': Period('2022-09-16', 'D'), 'target': array([ 0.00715241, -0.00342003,  0.00937594,  0.00996182,  0.01304678,\n",
            "        0.02713312, -0.00148284,  0.02445229,  0.00190867,  0.00457439,\n",
            "       -0.02426255], dtype=float32)}]\n"
          ]
        },
        {
          "output_type": "stream",
          "name": "stderr",
          "text": [
            "100%|██████████| 50/50 [00:02<00:00, 23.51it/s, epoch=1/10, avg_epoch_loss=-3.45]\n",
            "100%|██████████| 50/50 [00:02<00:00, 22.46it/s, epoch=2/10, avg_epoch_loss=-3.56]\n",
            "100%|██████████| 50/50 [00:01<00:00, 27.35it/s, epoch=3/10, avg_epoch_loss=-3.56]\n",
            "100%|██████████| 50/50 [00:01<00:00, 33.77it/s, epoch=4/10, avg_epoch_loss=-3.56]\n",
            "100%|██████████| 50/50 [00:01<00:00, 34.81it/s, epoch=5/10, avg_epoch_loss=-3.56]\n",
            "100%|██████████| 50/50 [00:01<00:00, 33.51it/s, epoch=6/10, avg_epoch_loss=-3.55]\n",
            "100%|██████████| 50/50 [00:01<00:00, 34.10it/s, epoch=7/10, avg_epoch_loss=-3.55]\n",
            "100%|██████████| 50/50 [00:01<00:00, 33.76it/s, epoch=9/10, avg_epoch_loss=-3.56]\n",
            "100%|██████████| 50/50 [00:02<00:00, 23.91it/s, epoch=10/10, avg_epoch_loss=-3.55]\n"
          ]
        },
        {
          "output_type": "stream",
          "name": "stdout",
          "text": [
            "train window 75 of total 91 windows\n",
            "[{'start': Period('2022-09-19', 'D'), 'target': array([-0.00342003,  0.00937594,  0.00996182,  0.01304678,  0.02713312,\n",
            "       -0.00148284,  0.02445229,  0.00190867,  0.00457439, -0.02426255,\n",
            "       -0.00270214], dtype=float32)}]\n"
          ]
        },
        {
          "output_type": "stream",
          "name": "stderr",
          "text": [
            "100%|██████████| 50/50 [00:02<00:00, 21.61it/s, epoch=1/10, avg_epoch_loss=-3.05]\n",
            "100%|██████████| 50/50 [00:01<00:00, 30.26it/s, epoch=2/10, avg_epoch_loss=-3.24]\n",
            "100%|██████████| 50/50 [00:01<00:00, 34.85it/s, epoch=3/10, avg_epoch_loss=-3.24]\n",
            "100%|██████████| 50/50 [00:01<00:00, 34.42it/s, epoch=4/10, avg_epoch_loss=-3.26]\n",
            "100%|██████████| 50/50 [00:01<00:00, 35.45it/s, epoch=5/10, avg_epoch_loss=-3.25]\n",
            "100%|██████████| 50/50 [00:01<00:00, 34.33it/s, epoch=6/10, avg_epoch_loss=-3.24]\n",
            "100%|██████████| 50/50 [00:01<00:00, 34.69it/s, epoch=7/10, avg_epoch_loss=-3.25]\n",
            "100%|██████████| 50/50 [00:01<00:00, 34.14it/s, epoch=8/10, avg_epoch_loss=-3.24]\n",
            "100%|██████████| 50/50 [00:02<00:00, 23.78it/s, epoch=9/10, avg_epoch_loss=-3.25]\n",
            "100%|██████████| 50/50 [00:02<00:00, 22.48it/s, epoch=10/10, avg_epoch_loss=-3.24]\n"
          ]
        },
        {
          "output_type": "stream",
          "name": "stdout",
          "text": [
            "train window 76 of total 91 windows\n",
            "[{'start': Period('2022-09-20', 'D'), 'target': array([ 0.00937594,  0.00996182,  0.01304678,  0.02713312, -0.00148284,\n",
            "        0.02445229,  0.00190867,  0.00457439, -0.02426255, -0.00270214,\n",
            "       -0.00761666], dtype=float32)}]\n"
          ]
        },
        {
          "output_type": "stream",
          "name": "stderr",
          "text": [
            "100%|██████████| 50/50 [00:01<00:00, 28.80it/s, epoch=1/10, avg_epoch_loss=-2.86]\n",
            "100%|██████████| 50/50 [00:01<00:00, 33.38it/s, epoch=2/10, avg_epoch_loss=-3.23]\n",
            "100%|██████████| 50/50 [00:01<00:00, 33.32it/s, epoch=3/10, avg_epoch_loss=-3.23]\n",
            "100%|██████████| 50/50 [00:01<00:00, 33.99it/s, epoch=4/10, avg_epoch_loss=-3.24]\n",
            "100%|██████████| 50/50 [00:01<00:00, 33.65it/s, epoch=5/10, avg_epoch_loss=-3.23]\n",
            "100%|██████████| 50/50 [00:01<00:00, 34.81it/s, epoch=6/10, avg_epoch_loss=-3.23]\n",
            "100%|██████████| 50/50 [00:01<00:00, 32.71it/s, epoch=7/10, avg_epoch_loss=-3.24]\n",
            "100%|██████████| 50/50 [00:02<00:00, 23.61it/s, epoch=8/10, avg_epoch_loss=-3.23]\n",
            "100%|██████████| 50/50 [00:02<00:00, 22.72it/s, epoch=9/10, avg_epoch_loss=-3.23]\n",
            "100%|██████████| 50/50 [00:01<00:00, 31.15it/s, epoch=10/10, avg_epoch_loss=-3.23]\n"
          ]
        },
        {
          "output_type": "stream",
          "name": "stdout",
          "text": [
            "train window 77 of total 91 windows\n",
            "[{'start': Period('2022-09-21', 'D'), 'target': array([ 0.00996182,  0.01304678,  0.02713312, -0.00148284,  0.02445229,\n",
            "        0.00190867,  0.00457439, -0.02426255, -0.00270214, -0.00761666,\n",
            "        0.00292262], dtype=float32)}]\n"
          ]
        },
        {
          "output_type": "stream",
          "name": "stderr",
          "text": [
            "100%|██████████| 50/50 [00:01<00:00, 33.73it/s, epoch=1/10, avg_epoch_loss=-2.84]\n",
            "100%|██████████| 50/50 [00:01<00:00, 33.59it/s, epoch=2/10, avg_epoch_loss=-3.1]\n",
            "100%|██████████| 50/50 [00:01<00:00, 34.27it/s, epoch=3/10, avg_epoch_loss=-3.11]\n",
            "100%|██████████| 50/50 [00:01<00:00, 34.67it/s, epoch=4/10, avg_epoch_loss=-3.11]\n",
            "100%|██████████| 50/50 [00:01<00:00, 34.55it/s, epoch=5/10, avg_epoch_loss=-3.09]\n",
            "100%|██████████| 50/50 [00:01<00:00, 33.39it/s, epoch=6/10, avg_epoch_loss=-3.12]\n",
            "100%|██████████| 50/50 [00:02<00:00, 23.57it/s, epoch=7/10, avg_epoch_loss=-3.11]\n",
            "100%|██████████| 50/50 [00:02<00:00, 22.00it/s, epoch=8/10, avg_epoch_loss=-3.11]\n",
            "100%|██████████| 50/50 [00:01<00:00, 31.24it/s, epoch=9/10, avg_epoch_loss=-3.1]\n",
            "100%|██████████| 50/50 [00:01<00:00, 33.84it/s, epoch=10/10, avg_epoch_loss=-3.11]\n"
          ]
        },
        {
          "output_type": "stream",
          "name": "stdout",
          "text": [
            "train window 78 of total 91 windows\n",
            "[{'start': Period('2022-09-22', 'D'), 'target': array([ 0.01304678,  0.02713312, -0.00148284,  0.02445229,  0.00190867,\n",
            "        0.00457439, -0.02426255, -0.00270214, -0.00761666,  0.00292262,\n",
            "        0.0189449 ], dtype=float32)}]\n"
          ]
        },
        {
          "output_type": "stream",
          "name": "stderr",
          "text": [
            "100%|██████████| 50/50 [00:01<00:00, 32.91it/s, epoch=1/10, avg_epoch_loss=-2.73]\n",
            "100%|██████████| 50/50 [00:01<00:00, 34.16it/s, epoch=2/10, avg_epoch_loss=-2.93]\n",
            "100%|██████████| 50/50 [00:01<00:00, 34.47it/s, epoch=3/10, avg_epoch_loss=-2.93]\n",
            "100%|██████████| 50/50 [00:01<00:00, 35.11it/s, epoch=4/10, avg_epoch_loss=-2.93]\n",
            "100%|██████████| 50/50 [00:01<00:00, 33.21it/s, epoch=5/10, avg_epoch_loss=-2.93]\n",
            "100%|██████████| 50/50 [00:02<00:00, 23.49it/s, epoch=6/10, avg_epoch_loss=-2.93]\n",
            "100%|██████████| 50/50 [00:02<00:00, 22.44it/s, epoch=7/10, avg_epoch_loss=-2.93]\n",
            "100%|██████████| 50/50 [00:01<00:00, 31.17it/s, epoch=8/10, avg_epoch_loss=-2.94]\n",
            "100%|██████████| 50/50 [00:01<00:00, 34.69it/s, epoch=9/10, avg_epoch_loss=-2.93]\n",
            "100%|██████████| 50/50 [00:01<00:00, 33.74it/s, epoch=10/10, avg_epoch_loss=-2.93]\n"
          ]
        },
        {
          "output_type": "stream",
          "name": "stdout",
          "text": [
            "train window 79 of total 91 windows\n",
            "[{'start': Period('2022-09-23', 'D'), 'target': array([ 0.02713312, -0.00148284,  0.02445229,  0.00190867,  0.00457439,\n",
            "       -0.02426255, -0.00270214, -0.00761666,  0.00292262,  0.0189449 ,\n",
            "       -0.00744694], dtype=float32)}]\n"
          ]
        },
        {
          "output_type": "stream",
          "name": "stderr",
          "text": [
            "100%|██████████| 50/50 [00:01<00:00, 32.85it/s, epoch=1/10, avg_epoch_loss=-2.66]\n",
            "100%|██████████| 50/50 [00:01<00:00, 34.55it/s, epoch=2/10, avg_epoch_loss=-2.82]\n",
            "100%|██████████| 50/50 [00:01<00:00, 34.85it/s, epoch=3/10, avg_epoch_loss=-2.82]\n",
            "100%|██████████| 50/50 [00:01<00:00, 32.44it/s, epoch=4/10, avg_epoch_loss=-2.82]\n",
            "100%|██████████| 50/50 [00:02<00:00, 19.46it/s, epoch=5/10, avg_epoch_loss=-2.83]\n",
            "100%|██████████| 50/50 [00:02<00:00, 17.30it/s, epoch=6/10, avg_epoch_loss=-2.83]\n",
            "100%|██████████| 50/50 [00:02<00:00, 20.39it/s, epoch=7/10, avg_epoch_loss=-2.82]\n",
            "100%|██████████| 50/50 [00:01<00:00, 28.94it/s, epoch=8/10, avg_epoch_loss=-2.82]\n",
            "100%|██████████| 50/50 [00:01<00:00, 33.30it/s, epoch=9/10, avg_epoch_loss=-2.82]\n",
            "100%|██████████| 50/50 [00:01<00:00, 33.82it/s, epoch=10/10, avg_epoch_loss=-2.83]\n"
          ]
        },
        {
          "output_type": "stream",
          "name": "stdout",
          "text": [
            "train window 80 of total 91 windows\n",
            "[{'start': Period('2022-09-26', 'D'), 'target': array([-0.00148284,  0.02445229,  0.00190867,  0.00457439, -0.02426255,\n",
            "       -0.00270214, -0.00761666,  0.00292262,  0.0189449 , -0.00744694,\n",
            "        0.01586945], dtype=float32)}]\n"
          ]
        },
        {
          "output_type": "stream",
          "name": "stderr",
          "text": [
            "100%|██████████| 50/50 [00:01<00:00, 33.81it/s, epoch=1/10, avg_epoch_loss=27.8]\n",
            "100%|██████████| 50/50 [00:01<00:00, 34.15it/s, epoch=2/10, avg_epoch_loss=5.35]\n",
            "100%|██████████| 50/50 [00:01<00:00, 34.72it/s, epoch=3/10, avg_epoch_loss=4.87]\n",
            "100%|██████████| 50/50 [00:01<00:00, 30.57it/s, epoch=4/10, avg_epoch_loss=5.65]\n",
            "100%|██████████| 50/50 [00:02<00:00, 23.02it/s, epoch=5/10, avg_epoch_loss=4.92]\n",
            "100%|██████████| 50/50 [00:02<00:00, 22.08it/s, epoch=6/10, avg_epoch_loss=5.9]\n",
            "100%|██████████| 50/50 [00:01<00:00, 33.93it/s, epoch=7/10, avg_epoch_loss=6.37]\n",
            "100%|██████████| 50/50 [00:01<00:00, 32.40it/s, epoch=8/10, avg_epoch_loss=4.76]\n",
            "100%|██████████| 50/50 [00:01<00:00, 34.91it/s, epoch=9/10, avg_epoch_loss=5.4]\n",
            "100%|██████████| 50/50 [00:01<00:00, 34.14it/s, epoch=10/10, avg_epoch_loss=6.95]\n"
          ]
        },
        {
          "output_type": "stream",
          "name": "stdout",
          "text": [
            "train window 81 of total 91 windows\n",
            "[{'start': Period('2022-09-27', 'D'), 'target': array([ 0.02445229,  0.00190867,  0.00457439, -0.02426255, -0.00270214,\n",
            "       -0.00761666,  0.00292262,  0.0189449 , -0.00744694,  0.01586945,\n",
            "       -0.02374528], dtype=float32)}]\n"
          ]
        },
        {
          "output_type": "stream",
          "name": "stderr",
          "text": [
            "100%|██████████| 50/50 [00:01<00:00, 31.55it/s, epoch=1/10, avg_epoch_loss=-2.77]\n",
            "100%|██████████| 50/50 [00:01<00:00, 33.57it/s, epoch=2/10, avg_epoch_loss=-2.97]\n",
            "100%|██████████| 50/50 [00:01<00:00, 27.07it/s, epoch=3/10, avg_epoch_loss=-2.98]\n",
            "100%|██████████| 50/50 [00:02<00:00, 22.40it/s, epoch=4/10, avg_epoch_loss=-2.98]\n",
            "100%|██████████| 50/50 [00:02<00:00, 24.27it/s, epoch=5/10, avg_epoch_loss=-2.97]\n",
            "100%|██████████| 50/50 [00:01<00:00, 34.09it/s, epoch=6/10, avg_epoch_loss=-2.98]\n",
            "100%|██████████| 50/50 [00:01<00:00, 34.71it/s, epoch=7/10, avg_epoch_loss=-2.98]\n",
            "100%|██████████| 50/50 [00:01<00:00, 32.49it/s, epoch=8/10, avg_epoch_loss=-2.98]\n",
            "100%|██████████| 50/50 [00:01<00:00, 33.57it/s, epoch=9/10, avg_epoch_loss=-2.98]\n",
            "100%|██████████| 50/50 [00:01<00:00, 31.85it/s, epoch=10/10, avg_epoch_loss=-2.98]\n"
          ]
        },
        {
          "output_type": "stream",
          "name": "stdout",
          "text": [
            "train window 82 of total 91 windows\n",
            "[{'start': Period('2022-09-28', 'D'), 'target': array([ 0.00190867,  0.00457439, -0.02426255, -0.00270214, -0.00761666,\n",
            "        0.00292262,  0.0189449 , -0.00744694,  0.01586945, -0.02374528,\n",
            "       -0.00072548], dtype=float32)}]\n"
          ]
        },
        {
          "output_type": "stream",
          "name": "stderr",
          "text": [
            "100%|██████████| 50/50 [00:01<00:00, 29.71it/s, epoch=1/10, avg_epoch_loss=-2.73]\n",
            "100%|██████████| 50/50 [00:02<00:00, 23.36it/s, epoch=2/10, avg_epoch_loss=-2.97]\n",
            "100%|██████████| 50/50 [00:02<00:00, 18.92it/s, epoch=3/10, avg_epoch_loss=-2.98]\n",
            "100%|██████████| 50/50 [00:01<00:00, 28.27it/s, epoch=4/10, avg_epoch_loss=-2.95]\n",
            "100%|██████████| 50/50 [00:01<00:00, 35.37it/s, epoch=5/10, avg_epoch_loss=-2.99]\n",
            "100%|██████████| 50/50 [00:01<00:00, 33.81it/s, epoch=6/10, avg_epoch_loss=-2.98]\n",
            "100%|██████████| 50/50 [00:01<00:00, 34.37it/s, epoch=7/10, avg_epoch_loss=-3]\n",
            "100%|██████████| 50/50 [00:01<00:00, 33.76it/s, epoch=8/10, avg_epoch_loss=-2.99]\n",
            "100%|██████████| 50/50 [00:01<00:00, 34.00it/s, epoch=9/10, avg_epoch_loss=-3.02]\n",
            "100%|██████████| 50/50 [00:01<00:00, 32.15it/s, epoch=10/10, avg_epoch_loss=-2.99]\n"
          ]
        },
        {
          "output_type": "stream",
          "name": "stdout",
          "text": [
            "train window 83 of total 91 windows\n",
            "[{'start': Period('2022-09-29', 'D'), 'target': array([ 0.00457439, -0.02426255, -0.00270214, -0.00761666,  0.00292262,\n",
            "        0.0189449 , -0.00744694,  0.01586945, -0.02374528, -0.00072548,\n",
            "       -0.01378717], dtype=float32)}]\n"
          ]
        },
        {
          "output_type": "stream",
          "name": "stderr",
          "text": [
            "100%|██████████| 50/50 [00:02<00:00, 22.01it/s, epoch=1/10, avg_epoch_loss=-2.55]\n",
            "100%|██████████| 50/50 [00:02<00:00, 21.96it/s, epoch=2/10, avg_epoch_loss=-2.88]\n",
            "100%|██████████| 50/50 [00:01<00:00, 31.48it/s, epoch=3/10, avg_epoch_loss=-2.93]\n",
            "100%|██████████| 50/50 [00:01<00:00, 34.11it/s, epoch=4/10, avg_epoch_loss=-2.91]\n",
            "100%|██████████| 50/50 [00:01<00:00, 33.36it/s, epoch=5/10, avg_epoch_loss=-2.9]\n",
            "100%|██████████| 50/50 [00:01<00:00, 34.70it/s, epoch=6/10, avg_epoch_loss=-2.9]\n",
            "100%|██████████| 50/50 [00:01<00:00, 33.48it/s, epoch=7/10, avg_epoch_loss=-2.9]\n",
            "100%|██████████| 50/50 [00:01<00:00, 33.91it/s, epoch=8/10, avg_epoch_loss=-2.91]\n",
            "100%|██████████| 50/50 [00:01<00:00, 33.44it/s, epoch=9/10, avg_epoch_loss=-2.9]\n",
            "100%|██████████| 50/50 [00:02<00:00, 23.62it/s, epoch=10/10, avg_epoch_loss=-2.91]\n"
          ]
        },
        {
          "output_type": "stream",
          "name": "stdout",
          "text": [
            "train window 84 of total 91 windows\n",
            "[{'start': Period('2022-09-30', 'D'), 'target': array([-0.02426255, -0.00270214, -0.00761666,  0.00292262,  0.0189449 ,\n",
            "       -0.00744694,  0.01586945, -0.02374528, -0.00072548, -0.01378717,\n",
            "        0.0078649 ], dtype=float32)}]\n"
          ]
        },
        {
          "output_type": "stream",
          "name": "stderr",
          "text": [
            "100%|██████████| 50/50 [00:02<00:00, 21.63it/s, epoch=1/10, avg_epoch_loss=-2.78]\n",
            "100%|██████████| 50/50 [00:01<00:00, 29.79it/s, epoch=2/10, avg_epoch_loss=-2.94]\n",
            "100%|██████████| 50/50 [00:01<00:00, 34.67it/s, epoch=3/10, avg_epoch_loss=-2.93]\n",
            "100%|██████████| 50/50 [00:01<00:00, 34.74it/s, epoch=4/10, avg_epoch_loss=-2.93]\n",
            "100%|██████████| 50/50 [00:01<00:00, 33.39it/s, epoch=5/10, avg_epoch_loss=-2.94]\n",
            "100%|██████████| 50/50 [00:01<00:00, 34.87it/s, epoch=6/10, avg_epoch_loss=-2.94]\n",
            "100%|██████████| 50/50 [00:01<00:00, 34.97it/s, epoch=7/10, avg_epoch_loss=-2.93]\n",
            "100%|██████████| 50/50 [00:01<00:00, 34.10it/s, epoch=8/10, avg_epoch_loss=-2.94]\n",
            "100%|██████████| 50/50 [00:02<00:00, 22.45it/s, epoch=9/10, avg_epoch_loss=-2.94]\n",
            "100%|██████████| 50/50 [00:02<00:00, 22.25it/s, epoch=10/10, avg_epoch_loss=-2.94]\n"
          ]
        },
        {
          "output_type": "stream",
          "name": "stdout",
          "text": [
            "train window 85 of total 91 windows\n",
            "[{'start': Period('2022-10-04', 'D'), 'target': array([-0.00270214, -0.00761666,  0.00292262,  0.0189449 , -0.00744694,\n",
            "        0.01586945, -0.02374528, -0.00072548, -0.01378717,  0.0078649 ,\n",
            "        0.00924304], dtype=float32)}]\n"
          ]
        },
        {
          "output_type": "stream",
          "name": "stderr",
          "text": [
            "100%|██████████| 50/50 [00:01<00:00, 28.81it/s, epoch=1/10, avg_epoch_loss=-3.11]\n",
            "100%|██████████| 50/50 [00:01<00:00, 33.48it/s, epoch=2/10, avg_epoch_loss=-3.23]\n",
            "100%|██████████| 50/50 [00:01<00:00, 33.95it/s, epoch=3/10, avg_epoch_loss=-3.22]\n",
            "100%|██████████| 50/50 [00:01<00:00, 32.64it/s, epoch=4/10, avg_epoch_loss=-3.22]\n",
            "100%|██████████| 50/50 [00:01<00:00, 32.76it/s, epoch=5/10, avg_epoch_loss=-3.24]\n",
            "100%|██████████| 50/50 [00:01<00:00, 33.89it/s, epoch=6/10, avg_epoch_loss=-3.23]\n",
            "100%|██████████| 50/50 [00:01<00:00, 27.46it/s, epoch=7/10, avg_epoch_loss=-3.22]\n",
            "100%|██████████| 50/50 [00:02<00:00, 20.84it/s, epoch=8/10, avg_epoch_loss=-3.23]\n",
            "100%|██████████| 50/50 [00:02<00:00, 20.50it/s, epoch=9/10, avg_epoch_loss=-3.23]\n",
            "100%|██████████| 50/50 [00:01<00:00, 33.86it/s, epoch=10/10, avg_epoch_loss=-3.23]\n"
          ]
        },
        {
          "output_type": "stream",
          "name": "stdout",
          "text": [
            "train window 86 of total 91 windows\n",
            "[{'start': Period('2022-10-05', 'D'), 'target': array([-0.00761666,  0.00292262,  0.0189449 , -0.00744694,  0.01586945,\n",
            "       -0.02374528, -0.00072548, -0.01378717,  0.0078649 ,  0.00924304,\n",
            "        0.0001386 ], dtype=float32)}]\n"
          ]
        },
        {
          "output_type": "stream",
          "name": "stderr",
          "text": [
            "100%|██████████| 50/50 [00:01<00:00, 32.20it/s, epoch=1/10, avg_epoch_loss=-2.84]\n",
            "100%|██████████| 50/50 [00:01<00:00, 34.65it/s, epoch=2/10, avg_epoch_loss=-3.07]\n",
            "100%|██████████| 50/50 [00:01<00:00, 33.55it/s, epoch=3/10, avg_epoch_loss=-3.07]\n",
            "100%|██████████| 50/50 [00:01<00:00, 32.76it/s, epoch=4/10, avg_epoch_loss=-3.07]\n",
            "100%|██████████| 50/50 [00:01<00:00, 33.57it/s, epoch=5/10, avg_epoch_loss=-3.07]\n",
            "100%|██████████| 50/50 [00:02<00:00, 24.34it/s, epoch=6/10, avg_epoch_loss=-3.06]\n",
            "100%|██████████| 50/50 [00:02<00:00, 22.67it/s, epoch=7/10, avg_epoch_loss=-3.07]\n",
            "100%|██████████| 50/50 [00:02<00:00, 23.89it/s, epoch=8/10, avg_epoch_loss=-3.07]\n",
            "100%|██████████| 50/50 [00:01<00:00, 32.10it/s, epoch=9/10, avg_epoch_loss=-3.07]\n",
            "100%|██████████| 50/50 [00:01<00:00, 35.67it/s, epoch=10/10, avg_epoch_loss=-3.07]\n"
          ]
        },
        {
          "output_type": "stream",
          "name": "stdout",
          "text": [
            "train window 87 of total 91 windows\n",
            "[{'start': Period('2022-10-06', 'D'), 'target': array([ 0.00292262,  0.0189449 , -0.00744694,  0.01586945, -0.02374528,\n",
            "       -0.00072548, -0.01378717,  0.0078649 ,  0.00924304,  0.0001386 ,\n",
            "       -0.00999939], dtype=float32)}]\n"
          ]
        },
        {
          "output_type": "stream",
          "name": "stderr",
          "text": [
            "100%|██████████| 50/50 [00:01<00:00, 31.22it/s, epoch=1/10, avg_epoch_loss=-2.29]\n",
            "100%|██████████| 50/50 [00:01<00:00, 32.34it/s, epoch=2/10, avg_epoch_loss=-2.73]\n",
            "100%|██████████| 50/50 [00:01<00:00, 35.12it/s, epoch=3/10, avg_epoch_loss=-2.72]\n",
            "100%|██████████| 50/50 [00:01<00:00, 33.30it/s, epoch=4/10, avg_epoch_loss=-2.72]\n",
            "100%|██████████| 50/50 [00:02<00:00, 23.23it/s, epoch=5/10, avg_epoch_loss=-2.73]\n",
            "100%|██████████| 50/50 [00:02<00:00, 23.27it/s, epoch=6/10, avg_epoch_loss=-2.71]\n",
            "100%|██████████| 50/50 [00:01<00:00, 27.98it/s, epoch=7/10, avg_epoch_loss=-2.73]\n",
            "100%|██████████| 50/50 [00:01<00:00, 34.23it/s, epoch=8/10, avg_epoch_loss=-2.73]\n",
            "100%|██████████| 50/50 [00:01<00:00, 34.05it/s, epoch=9/10, avg_epoch_loss=-2.71]\n",
            "100%|██████████| 50/50 [00:01<00:00, 33.26it/s, epoch=10/10, avg_epoch_loss=-2.72]\n"
          ]
        },
        {
          "output_type": "stream",
          "name": "stdout",
          "text": [
            "train window 88 of total 91 windows\n",
            "[{'start': Period('2022-10-07', 'D'), 'target': array([ 0.0189449 , -0.00744694,  0.01586945, -0.02374528, -0.00072548,\n",
            "       -0.01378717,  0.0078649 ,  0.00924304,  0.0001386 , -0.00999939,\n",
            "       -0.00037733], dtype=float32)}]\n"
          ]
        },
        {
          "output_type": "stream",
          "name": "stderr",
          "text": [
            "100%|██████████| 50/50 [00:01<00:00, 32.76it/s, epoch=1/10, avg_epoch_loss=-2.74]\n",
            "100%|██████████| 50/50 [00:01<00:00, 34.54it/s, epoch=2/10, avg_epoch_loss=-2.91]\n",
            "100%|██████████| 50/50 [00:01<00:00, 33.76it/s, epoch=3/10, avg_epoch_loss=-2.91]\n",
            "100%|██████████| 50/50 [00:02<00:00, 23.42it/s, epoch=4/10, avg_epoch_loss=-2.91]\n",
            "100%|██████████| 50/50 [00:02<00:00, 22.38it/s, epoch=5/10, avg_epoch_loss=-2.91]\n",
            "100%|██████████| 50/50 [00:01<00:00, 29.45it/s, epoch=6/10, avg_epoch_loss=-2.9]\n",
            "100%|██████████| 50/50 [00:01<00:00, 31.65it/s, epoch=7/10, avg_epoch_loss=-2.91]\n",
            "100%|██████████| 50/50 [00:01<00:00, 33.32it/s, epoch=8/10, avg_epoch_loss=-2.9]\n",
            "100%|██████████| 50/50 [00:01<00:00, 33.59it/s, epoch=9/10, avg_epoch_loss=-2.9]\n",
            "100%|██████████| 50/50 [00:01<00:00, 33.31it/s, epoch=10/10, avg_epoch_loss=-2.91]\n"
          ]
        },
        {
          "output_type": "stream",
          "name": "stdout",
          "text": [
            "train window 89 of total 91 windows\n",
            "[{'start': Period('2022-10-11', 'D'), 'target': array([-0.00744694,  0.01586945, -0.02374528, -0.00072548, -0.01378717,\n",
            "        0.0078649 ,  0.00924304,  0.0001386 , -0.00999939, -0.00037733,\n",
            "       -0.00775502], dtype=float32)}]\n"
          ]
        },
        {
          "output_type": "stream",
          "name": "stderr",
          "text": [
            "100%|██████████| 50/50 [00:01<00:00, 33.06it/s, epoch=1/10, avg_epoch_loss=-2.68]\n",
            "100%|██████████| 50/50 [00:01<00:00, 32.49it/s, epoch=2/10, avg_epoch_loss=-2.99]\n",
            "100%|██████████| 50/50 [00:02<00:00, 23.77it/s, epoch=3/10, avg_epoch_loss=-2.98]\n",
            "100%|██████████| 50/50 [00:02<00:00, 21.40it/s, epoch=4/10, avg_epoch_loss=-2.98]\n",
            "100%|██████████| 50/50 [00:01<00:00, 31.77it/s, epoch=5/10, avg_epoch_loss=-2.98]\n",
            "100%|██████████| 50/50 [00:01<00:00, 31.47it/s, epoch=6/10, avg_epoch_loss=-2.99]\n",
            "100%|██████████| 50/50 [00:01<00:00, 34.53it/s, epoch=7/10, avg_epoch_loss=-2.99]\n",
            "100%|██████████| 50/50 [00:01<00:00, 34.29it/s, epoch=8/10, avg_epoch_loss=-2.98]\n",
            "100%|██████████| 50/50 [00:01<00:00, 34.62it/s, epoch=9/10, avg_epoch_loss=-2.98]\n",
            "100%|██████████| 50/50 [00:01<00:00, 34.51it/s, epoch=10/10, avg_epoch_loss=-2.98]\n"
          ]
        },
        {
          "output_type": "stream",
          "name": "stdout",
          "text": [
            "train window 90 of total 91 windows\n",
            "[{'start': Period('2022-10-12', 'D'), 'target': array([ 0.01586945, -0.02374528, -0.00072548, -0.01378717,  0.0078649 ,\n",
            "        0.00924304,  0.0001386 , -0.00999939, -0.00037733, -0.00775502,\n",
            "       -0.01677195], dtype=float32)}]\n"
          ]
        },
        {
          "output_type": "stream",
          "name": "stderr",
          "text": [
            "100%|██████████| 50/50 [00:01<00:00, 27.27it/s, epoch=1/10, avg_epoch_loss=-2.66]\n",
            "100%|██████████| 50/50 [00:02<00:00, 23.12it/s, epoch=2/10, avg_epoch_loss=-2.89]\n",
            "100%|██████████| 50/50 [00:02<00:00, 22.86it/s, epoch=3/10, avg_epoch_loss=-2.89]\n",
            "100%|██████████| 50/50 [00:01<00:00, 33.78it/s, epoch=4/10, avg_epoch_loss=-2.89]\n",
            "100%|██████████| 50/50 [00:01<00:00, 34.57it/s, epoch=5/10, avg_epoch_loss=-2.9]\n",
            "100%|██████████| 50/50 [00:01<00:00, 34.21it/s, epoch=6/10, avg_epoch_loss=-2.89]\n",
            "100%|██████████| 50/50 [00:01<00:00, 34.75it/s, epoch=7/10, avg_epoch_loss=-2.89]\n",
            "100%|██████████| 50/50 [00:01<00:00, 34.18it/s, epoch=8/10, avg_epoch_loss=-2.88]\n",
            "100%|██████████| 50/50 [00:01<00:00, 33.24it/s, epoch=9/10, avg_epoch_loss=-2.9]\n",
            "100%|██████████| 50/50 [00:01<00:00, 28.67it/s, epoch=10/10, avg_epoch_loss=-2.89]\n"
          ]
        },
        {
          "output_type": "stream",
          "name": "stdout",
          "text": [
            "train window 91 of total 91 windows\n",
            "[{'start': Period('2022-10-13', 'D'), 'target': array([-0.02374528, -0.00072548, -0.01378717,  0.0078649 ,  0.00924304,\n",
            "        0.0001386 , -0.00999939, -0.00037733, -0.00775502, -0.01677195,\n",
            "        0.01266266], dtype=float32)}]\n"
          ]
        },
        {
          "output_type": "stream",
          "name": "stderr",
          "text": [
            "100%|██████████| 50/50 [00:02<00:00, 23.56it/s, epoch=1/10, avg_epoch_loss=-2.24]\n",
            "100%|██████████| 50/50 [00:02<00:00, 22.99it/s, epoch=2/10, avg_epoch_loss=-2.99]\n",
            "100%|██████████| 50/50 [00:01<00:00, 34.25it/s, epoch=3/10, avg_epoch_loss=-2.99]\n",
            "100%|██████████| 50/50 [00:01<00:00, 33.99it/s, epoch=4/10, avg_epoch_loss=-2.99]\n",
            "100%|██████████| 50/50 [00:01<00:00, 34.70it/s, epoch=5/10, avg_epoch_loss=-3]\n",
            "100%|██████████| 50/50 [00:01<00:00, 33.36it/s, epoch=6/10, avg_epoch_loss=-2.99]\n",
            "100%|██████████| 50/50 [00:01<00:00, 34.27it/s, epoch=7/10, avg_epoch_loss=-2.99]\n",
            "100%|██████████| 50/50 [00:01<00:00, 34.68it/s, epoch=8/10, avg_epoch_loss=-2.98]\n",
            "100%|██████████| 50/50 [00:01<00:00, 30.69it/s, epoch=9/10, avg_epoch_loss=-2.98]\n",
            "100%|██████████| 50/50 [00:02<00:00, 24.03it/s, epoch=10/10, avg_epoch_loss=-2.98]\n"
          ]
        }
      ]
    },
    {
      "cell_type": "markdown",
      "source": [
        "#예측값 생성"
      ],
      "metadata": {
        "id": "a84a2GST829c"
      }
    },
    {
      "cell_type": "code",
      "source": [
        "# Generate predictions for each window\n",
        "num_samples = 100\n",
        "forecasts = []\n",
        "for i, model in enumerate(models):\n",
        "    print(f\"test window {i+1} of total {(len(df_pr) - window_size)/step_size + 1} windows\")\n",
        "    window_df_test = df_pr.iloc[i+1:i+window_size+1]\n",
        "    window_data_test = create_dataset(window_df_test)\n",
        "    forecast_it, ts_it = make_evaluation_predictions(\n",
        "        dataset=window_data_test, predictor=model, num_samples=num_samples\n",
        "    )\n",
        "    forecasts.append(list(forecast_it)[0])"
      ],
      "metadata": {
        "colab": {
          "base_uri": "https://localhost:8080/"
        },
        "id": "j8cHKk211k6S",
        "outputId": "41c22a92-ee57-4882-9b35-0357639696ae"
      },
      "execution_count": null,
      "outputs": [
        {
          "output_type": "stream",
          "name": "stdout",
          "text": [
            "test window 1 of total 91.0 windows\n",
            "test window 2 of total 91.0 windows\n",
            "test window 3 of total 91.0 windows\n",
            "test window 4 of total 91.0 windows\n",
            "test window 25 of total 91.0 windows\n",
            "test window 26 of total 91.0 windows\n",
            "test window 27 of total 91.0 windows\n",
            "test window 28 of total 91.0 windows\n",
            "test window 29 of total 91.0 windows\n",
            "test window 30 of total 91.0 windows\n",
            "test window 31 of total 91.0 windows\n",
            "test window 32 of total 91.0 windows\n",
            "test window 33 of total 91.0 windows\n",
            "test window 34 of total 91.0 windows\n",
            "test window 35 of total 91.0 windows\n",
            "test window 36 of total 91.0 windows\n",
            "test window 37 of total 91.0 windows\n",
            "test window 38 of total 91.0 windows\n",
            "test window 39 of total 91.0 windows\n",
            "test window 40 of total 91.0 windows\n",
            "test window 41 of total 91.0 windows\n",
            "test window 42 of total 91.0 windows\n",
            "test window 43 of total 91.0 windows\n",
            "test window 44 of total 91.0 windows\n",
            "test window 45 of total 91.0 windows\n",
            "test window 46 of total 91.0 windows\n",
            "test window 47 of total 91.0 windows\n",
            "test window 48 of total 91.0 windows\n",
            "test window 49 of total 91.0 windows\n",
            "test window 50 of total 91.0 windows\n",
            "test window 51 of total 91.0 windows\n",
            "test window 52 of total 91.0 windows\n",
            "test window 53 of total 91.0 windows\n",
            "test window 54 of total 91.0 windows\n",
            "test window 55 of total 91.0 windows\n",
            "test window 56 of total 91.0 windows\n",
            "test window 57 of total 91.0 windows\n",
            "test window 58 of total 91.0 windows\n",
            "test window 59 of total 91.0 windows\n",
            "test window 60 of total 91.0 windows\n",
            "test window 61 of total 91.0 windows\n",
            "test window 62 of total 91.0 windows\n",
            "test window 63 of total 91.0 windows\n",
            "test window 64 of total 91.0 windows\n",
            "test window 65 of total 91.0 windows\n",
            "test window 66 of total 91.0 windows\n",
            "test window 67 of total 91.0 windows\n",
            "test window 68 of total 91.0 windows\n",
            "test window 69 of total 91.0 windows\n",
            "test window 70 of total 91.0 windows\n",
            "test window 71 of total 91.0 windows\n",
            "test window 72 of total 91.0 windows\n",
            "test window 73 of total 91.0 windows\n",
            "test window 74 of total 91.0 windows\n",
            "test window 75 of total 91.0 windows\n",
            "test window 76 of total 91.0 windows\n",
            "test window 77 of total 91.0 windows\n",
            "test window 78 of total 91.0 windows\n",
            "test window 79 of total 91.0 windows\n",
            "test window 80 of total 91.0 windows\n",
            "test window 81 of total 91.0 windows\n",
            "test window 82 of total 91.0 windows\n",
            "test window 83 of total 91.0 windows\n",
            "test window 84 of total 91.0 windows\n",
            "test window 85 of total 91.0 windows\n",
            "test window 86 of total 91.0 windows\n",
            "test window 87 of total 91.0 windows\n",
            "test window 88 of total 91.0 windows\n",
            "test window 89 of total 91.0 windows\n",
            "test window 90 of total 91.0 windows\n",
            "test window 91 of total 91.0 windows\n"
          ]
        }
      ]
    },
    {
      "cell_type": "code",
      "source": [
        "# Concatenate the forecasts to get the full prediction\n",
        "pred_length = forecasts[0].samples.shape[1]\n",
        "preds = np.zeros((len(forecasts), num_samples)) #91 거래일동안 1일씩 예측하면서 100개의 샘플들 생성\n",
        "for i, f in enumerate(forecasts):\n",
        "    preds[i, :] = f.samples.squeeze()"
      ],
      "metadata": {
        "id": "QM_bQtwU1puJ"
      },
      "execution_count": null,
      "outputs": []
    },
    {
      "cell_type": "code",
      "source": [
        "# Compute mean and 90% confidence intervals of the predicted distribution\n",
        "mean = np.mean(preds, axis=1)\n",
        "p05 = np.percentile(preds, 0.5, axis=1)\n",
        "p995 = np.percentile(preds, 99.5, axis=1)\n",
        "\n",
        "# Plot the predicted distribution against the actual distribution\n",
        "plt.figure(figsize = (12,8))\n",
        "plt.plot(df_pr.index[-len(mean):], df_pr['Return'].iloc[-len(mean):])\n",
        "plt.plot(df_pr.index[-len(mean):], mean)\n",
        "plt.fill_between(df_pr.index[-len(mean):], p05, p995, alpha=0.2)\n",
        "plt.xlabel(\"Date\")\n",
        "plt.ylabel(\"Stock Return\")\n",
        "plt.xticks(rotation = '90')\n",
        "plt.legend([\"Actual\", \"Predicted\", \"99% Confidence Interval\"])\n",
        "plt.show()"
      ],
      "metadata": {
        "id": "2qP8BN1p1r1d",
        "colab": {
          "base_uri": "https://localhost:8080/",
          "height": 545
        },
        "outputId": "cd8c8d4a-f997-4ec8-c75b-431656b2f463"
      },
      "execution_count": null,
      "outputs": [
        {
          "output_type": "display_data",
          "data": {
            "text/plain": [
              "<Figure size 864x576 with 1 Axes>"
            ],
            "image/png": "[encoded data removed]"
          },
          "metadata": {
            "needs_background": "light"
          }
        }
      ]
    }
  ]
}