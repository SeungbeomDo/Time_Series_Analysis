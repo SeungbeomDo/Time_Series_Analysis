{
  "nbformat": 4,
  "nbformat_minor": 0,
  "metadata": {
    "colab": {
      "provenance": [],
      "collapsed_sections": [
        "icka7RRQN8X3",
        "1ZcPFC8nivcj",
        "u-N7QyETM5kZ",
        "bKWBAoQq58LV",
        "ZEAHydejZOMR",
        "bi2km5lzfs0Q",
        "uz6pmJuLASzS",
        "-BS8oIoJVMQ-",
        "-s7lD3Y4dHgD"
      ],
      "authorship_tag": "ABX9TyMdVnSspHRdnvv4nmkhR0Cp",
      "include_colab_link": true
    },
    "kernelspec": {
      "name": "python3",
      "display_name": "Python 3"
    },
    "language_info": {
      "name": "python"
    }
  },
  "cells": [
    {
      "cell_type": "markdown",
      "metadata": {
        "id": "view-in-github",
        "colab_type": "text"
      },
      "source": [
        "<a href=\"https://colab.research.google.com/github/SeungbeomDo/Time_Series_Analysis/blob/main/Box_Jenkins_Method_Stock_Price_Prediction.ipynb\" target=\"_parent\"><img src=\"https://colab.research.google.com/assets/colab-badge.svg\" alt=\"Open In Colab\"/></a>"
      ]
    },
    {
      "cell_type": "markdown",
      "source": [
        "#데이터 및 라이브러리 임포트"
      ],
      "metadata": {
        "id": "icka7RRQN8X3"
      }
    },
    {
      "cell_type": "code",
      "execution_count": null,
      "metadata": {
        "id": "0t5KJKEzG1Sh"
      },
      "outputs": [],
      "source": [
        "import numpy as np\n",
        "import pandas as pd\n",
        "import matplotlib.pyplot as plt"
      ]
    },
    {
      "cell_type": "code",
      "source": [
        "from google.colab import drive\n",
        "drive.mount('/content/drive') "
      ],
      "metadata": {
        "colab": {
          "base_uri": "https://localhost:8080/"
        },
        "id": "Gc4Brt4xQP4c",
        "outputId": "45cc47a0-79e7-4141-b5f6-50cfde2d0da2"
      },
      "execution_count": null,
      "outputs": [
        {
          "output_type": "stream",
          "name": "stdout",
          "text": [
            "Mounted at /content/drive\n"
          ]
        }
      ]
    },
    {
      "cell_type": "code",
      "source": [
        "data = pd.read_csv('/content/drive/MyDrive/DSL/EDA2023-1/data_3651_20230120.csv', encoding = 'cp949')\n",
        "data['일자'] = pd.to_datetime(data['일자'])\n",
        "data = data.sort_values('일자')\n",
        "data = data.reset_index(drop = True)\n",
        "data = data[['일자', '종가']]\n",
        "data.columns = ['Date', 'Close']\n",
        "data['Return'] = np.log(data['Close']/data['Close'].shift(1))\n",
        "data['Year'] = [x.year for x in data['Date']]\n",
        "data = data.dropna()\n",
        "data = data.reset_index(drop = True)\n",
        "data"
      ],
      "metadata": {
        "id": "w47_2XEYQWq-",
        "colab": {
          "base_uri": "https://localhost:8080/",
          "height": 424
        },
        "outputId": "da8f4dad-fde2-4383-d89c-a1744cadecad"
      },
      "execution_count": null,
      "outputs": [
        {
          "output_type": "execute_result",
          "data": {
            "text/plain": [
              "           Date  Close    Return  Year\n",
              "0    1995-05-03   1596  0.033124  1995\n",
              "1    1995-05-04   1583 -0.008179  1995\n",
              "2    1995-05-06   1576 -0.004432  1995\n",
              "3    1995-05-08   1564 -0.007643  1995\n",
              "4    1995-05-09   1544 -0.012870  1995\n",
              "...         ...    ...       ...   ...\n",
              "7010 2023-01-16  61100  0.004922  2023\n",
              "7011 2023-01-17  61000 -0.001638  2023\n",
              "7012 2023-01-18  60400 -0.009885  2023\n",
              "7013 2023-01-19  61500  0.018048  2023\n",
              "7014 2023-01-20  61400 -0.001627  2023\n",
              "\n",
              "[7015 rows x 4 columns]"
            ],
            "text/html": [
              "\n",
              "  <div id=\"df-77cf94b1-6a09-4cb4-8eb8-4ef4aacb362e\">\n",
              "    <div class=\"colab-df-container\">\n",
              "      <div>\n",
              "<style scoped>\n",
              "    .dataframe tbody tr th:only-of-type {\n",
              "        vertical-align: middle;\n",
              "    }\n",
              "\n",
              "    .dataframe tbody tr th {\n",
              "        vertical-align: top;\n",
              "    }\n",
              "\n",
              "    .dataframe thead th {\n",
              "        text-align: right;\n",
              "    }\n",
              "</style>\n",
              "<table border=\"1\" class=\"dataframe\">\n",
              "  <thead>\n",
              "    <tr style=\"text-align: right;\">\n",
              "      <th></th>\n",
              "      <th>Date</th>\n",
              "      <th>Close</th>\n",
              "      <th>Return</th>\n",
              "      <th>Year</th>\n",
              "    </tr>\n",
              "  </thead>\n",
              "  <tbody>\n",
              "    <tr>\n",
              "      <th>0</th>\n",
              "      <td>1995-05-03</td>\n",
              "      <td>1596</td>\n",
              "      <td>0.033124</td>\n",
              "      <td>1995</td>\n",
              "    </tr>\n",
              "    <tr>\n",
              "      <th>1</th>\n",
              "      <td>1995-05-04</td>\n",
              "      <td>1583</td>\n",
              "      <td>-0.008179</td>\n",
              "      <td>1995</td>\n",
              "    </tr>\n",
              "    <tr>\n",
              "      <th>2</th>\n",
              "      <td>1995-05-06</td>\n",
              "      <td>1576</td>\n",
              "      <td>-0.004432</td>\n",
              "      <td>1995</td>\n",
              "    </tr>\n",
              "    <tr>\n",
              "      <th>3</th>\n",
              "      <td>1995-05-08</td>\n",
              "      <td>1564</td>\n",
              "      <td>-0.007643</td>\n",
              "      <td>1995</td>\n",
              "    </tr>\n",
              "    <tr>\n",
              "      <th>4</th>\n",
              "      <td>1995-05-09</td>\n",
              "      <td>1544</td>\n",
              "      <td>-0.012870</td>\n",
              "      <td>1995</td>\n",
              "    </tr>\n",
              "    <tr>\n",
              "      <th>...</th>\n",
              "      <td>...</td>\n",
              "      <td>...</td>\n",
              "      <td>...</td>\n",
              "      <td>...</td>\n",
              "    </tr>\n",
              "    <tr>\n",
              "      <th>7010</th>\n",
              "      <td>2023-01-16</td>\n",
              "      <td>61100</td>\n",
              "      <td>0.004922</td>\n",
              "      <td>2023</td>\n",
              "    </tr>\n",
              "    <tr>\n",
              "      <th>7011</th>\n",
              "      <td>2023-01-17</td>\n",
              "      <td>61000</td>\n",
              "      <td>-0.001638</td>\n",
              "      <td>2023</td>\n",
              "    </tr>\n",
              "    <tr>\n",
              "      <th>7012</th>\n",
              "      <td>2023-01-18</td>\n",
              "      <td>60400</td>\n",
              "      <td>-0.009885</td>\n",
              "      <td>2023</td>\n",
              "    </tr>\n",
              "    <tr>\n",
              "      <th>7013</th>\n",
              "      <td>2023-01-19</td>\n",
              "      <td>61500</td>\n",
              "      <td>0.018048</td>\n",
              "      <td>2023</td>\n",
              "    </tr>\n",
              "    <tr>\n",
              "      <th>7014</th>\n",
              "      <td>2023-01-20</td>\n",
              "      <td>61400</td>\n",
              "      <td>-0.001627</td>\n",
              "      <td>2023</td>\n",
              "    </tr>\n",
              "  </tbody>\n",
              "</table>\n",
              "<p>7015 rows × 4 columns</p>\n",
              "</div>\n",
              "      <button class=\"colab-df-convert\" onclick=\"convertToInteractive('df-77cf94b1-6a09-4cb4-8eb8-4ef4aacb362e')\"\n",
              "              title=\"Convert this dataframe to an interactive table.\"\n",
              "              style=\"display:none;\">\n",
              "        \n",
              "  <svg xmlns=\"http://www.w3.org/2000/svg\" height=\"24px\"viewBox=\"0 0 24 24\"\n",
              "       width=\"24px\">\n",
              "    <path d=\"M0 0h24v24H0V0z\" fill=\"none\"/>\n",
              "    <path d=\"M18.56 5.44l.94 2.06.94-2.06 2.06-.94-2.06-.94-.94-2.06-.94 2.06-2.06.94zm-11 1L8.5 8.5l.94-2.06 2.06-.94-2.06-.94L8.5 2.5l-.94 2.06-2.06.94zm10 10l.94 2.06.94-2.06 2.06-.94-2.06-.94-.94-2.06-.94 2.06-2.06.94z\"/><path d=\"M17.41 7.96l-1.37-1.37c-.4-.4-.92-.59-1.43-.59-.52 0-1.04.2-1.43.59L10.3 9.45l-7.72 7.72c-.78.78-.78 2.05 0 2.83L4 21.41c.39.39.9.59 1.41.59.51 0 1.02-.2 1.41-.59l7.78-7.78 2.81-2.81c.8-.78.8-2.07 0-2.86zM5.41 20L4 18.59l7.72-7.72 1.47 1.35L5.41 20z\"/>\n",
              "  </svg>\n",
              "      </button>\n",
              "      \n",
              "  <style>\n",
              "    .colab-df-container {\n",
              "      display:flex;\n",
              "      flex-wrap:wrap;\n",
              "      gap: 12px;\n",
              "    }\n",
              "\n",
              "    .colab-df-convert {\n",
              "      background-color: #E8F0FE;\n",
              "      border: none;\n",
              "      border-radius: 50%;\n",
              "      cursor: pointer;\n",
              "      display: none;\n",
              "      fill: #1967D2;\n",
              "      height: 32px;\n",
              "      padding: 0 0 0 0;\n",
              "      width: 32px;\n",
              "    }\n",
              "\n",
              "    .colab-df-convert:hover {\n",
              "      background-color: #E2EBFA;\n",
              "      box-shadow: 0px 1px 2px rgba(60, 64, 67, 0.3), 0px 1px 3px 1px rgba(60, 64, 67, 0.15);\n",
              "      fill: #174EA6;\n",
              "    }\n",
              "\n",
              "    [theme=dark] .colab-df-convert {\n",
              "      background-color: #3B4455;\n",
              "      fill: #D2E3FC;\n",
              "    }\n",
              "\n",
              "    [theme=dark] .colab-df-convert:hover {\n",
              "      background-color: #434B5C;\n",
              "      box-shadow: 0px 1px 3px 1px rgba(0, 0, 0, 0.15);\n",
              "      filter: drop-shadow(0px 1px 2px rgba(0, 0, 0, 0.3));\n",
              "      fill: #FFFFFF;\n",
              "    }\n",
              "  </style>\n",
              "\n",
              "      <script>\n",
              "        const buttonEl =\n",
              "          document.querySelector('#df-77cf94b1-6a09-4cb4-8eb8-4ef4aacb362e button.colab-df-convert');\n",
              "        buttonEl.style.display =\n",
              "          google.colab.kernel.accessAllowed ? 'block' : 'none';\n",
              "\n",
              "        async function convertToInteractive(key) {\n",
              "          const element = document.querySelector('#df-77cf94b1-6a09-4cb4-8eb8-4ef4aacb362e');\n",
              "          const dataTable =\n",
              "            await google.colab.kernel.invokeFunction('convertToInteractive',\n",
              "                                                     [key], {});\n",
              "          if (!dataTable) return;\n",
              "\n",
              "          const docLinkHtml = 'Like what you see? Visit the ' +\n",
              "            '<a target=\"_blank\" href=https://colab.research.google.com/notebooks/data_table.ipynb>data table notebook</a>'\n",
              "            + ' to learn more about interactive tables.';\n",
              "          element.innerHTML = '';\n",
              "          dataTable['output_type'] = 'display_data';\n",
              "          await google.colab.output.renderOutput(dataTable, element);\n",
              "          const docLink = document.createElement('div');\n",
              "          docLink.innerHTML = docLinkHtml;\n",
              "          element.appendChild(docLink);\n",
              "        }\n",
              "      </script>\n",
              "    </div>\n",
              "  </div>\n",
              "  "
            ]
          },
          "metadata": {},
          "execution_count": 146
        }
      ]
    },
    {
      "cell_type": "markdown",
      "source": [
        "#정상성 확인"
      ],
      "metadata": {
        "id": "1ZcPFC8nivcj"
      }
    },
    {
      "cell_type": "code",
      "source": [
        "plt.plot(data['Date'], data['Close'])"
      ],
      "metadata": {
        "colab": {
          "base_uri": "https://localhost:8080/"
        },
        "id": "FsptMbbXQZw5",
        "outputId": "f2e0ab7e-2846-458c-8490-010ed50812ea"
      },
      "execution_count": null,
      "outputs": [
        {
          "output_type": "execute_result",
          "data": {
            "text/plain": [
              "[<matplotlib.lines.Line2D at 0x7fd80348f310>]"
            ]
          },
          "metadata": {},
          "execution_count": 147
        },
        {
          "output_type": "display_data",
          "data": {
            "text/plain": [
              "<Figure size 432x288 with 1 Axes>"
            ],
            "image/png": "[encoded data removed]"
          },
          "metadata": {
            "needs_background": "light"
          }
        }
      ]
    },
    {
      "cell_type": "code",
      "source": [
        "plt.plot(data['Date'], data['Return'])"
      ],
      "metadata": {
        "colab": {
          "base_uri": "https://localhost:8080/"
        },
        "id": "LfVWfydLRbh7",
        "outputId": "d35f3194-9254-4dba-e93c-5b8ad781283b"
      },
      "execution_count": null,
      "outputs": [
        {
          "output_type": "execute_result",
          "data": {
            "text/plain": [
              "[<matplotlib.lines.Line2D at 0x7fd802b68b20>]"
            ]
          },
          "metadata": {},
          "execution_count": 148
        },
        {
          "output_type": "display_data",
          "data": {
            "text/plain": [
              "<Figure size 432x288 with 1 Axes>"
            ],
            "image/png": "[encoded data removed]"
          },
          "metadata": {
            "needs_background": "light"
          }
        }
      ]
    },
    {
      "cell_type": "markdown",
      "source": [
        "##ADF test: 귀무가설: 주어진 시계열은 비정상"
      ],
      "metadata": {
        "id": "dt3nlKvvzevb"
      }
    },
    {
      "cell_type": "code",
      "source": [
        "from statsmodels.tsa.stattools import adfuller"
      ],
      "metadata": {
        "id": "yefyro-1OBAE"
      },
      "execution_count": null,
      "outputs": []
    },
    {
      "cell_type": "code",
      "source": [
        "def adfuller_result(ts):\n",
        "\n",
        "  results = []\n",
        "\n",
        "  for reg in ['nc', 'c', 'ct']:\n",
        "    results.append(adfuller(ts, autolag = 'AIC', regression = '{}'.format(reg)))\n",
        "\n",
        "  return pd.DataFrame({'type' : ['non', 'const', 'trend'], 'p_value' : [x[1] for x in results]})"
      ],
      "metadata": {
        "id": "MB6WKvi0nJMR"
      },
      "execution_count": null,
      "outputs": []
    },
    {
      "cell_type": "code",
      "source": [
        "adfuller_result(data['Close'])"
      ],
      "metadata": {
        "colab": {
          "base_uri": "https://localhost:8080/"
        },
        "id": "Y_jqH5BlzyXI",
        "outputId": "234969a7-71ec-4857-f557-dac7b98cdbf8"
      },
      "execution_count": null,
      "outputs": [
        {
          "output_type": "execute_result",
          "data": {
            "text/plain": [
              "    type   p_value\n",
              "0    non  0.885631\n",
              "1  const  0.923139\n",
              "2  trend  0.364253"
            ],
            "text/html": [
              "\n",
              "  <div id=\"df-6fc3e4b7-610f-4066-baf7-6e2117857a2e\">\n",
              "    <div class=\"colab-df-container\">\n",
              "      <div>\n",
              "<style scoped>\n",
              "    .dataframe tbody tr th:only-of-type {\n",
              "        vertical-align: middle;\n",
              "    }\n",
              "\n",
              "    .dataframe tbody tr th {\n",
              "        vertical-align: top;\n",
              "    }\n",
              "\n",
              "    .dataframe thead th {\n",
              "        text-align: right;\n",
              "    }\n",
              "</style>\n",
              "<table border=\"1\" class=\"dataframe\">\n",
              "  <thead>\n",
              "    <tr style=\"text-align: right;\">\n",
              "      <th></th>\n",
              "      <th>type</th>\n",
              "      <th>p_value</th>\n",
              "    </tr>\n",
              "  </thead>\n",
              "  <tbody>\n",
              "    <tr>\n",
              "      <th>0</th>\n",
              "      <td>non</td>\n",
              "      <td>0.885631</td>\n",
              "    </tr>\n",
              "    <tr>\n",
              "      <th>1</th>\n",
              "      <td>const</td>\n",
              "      <td>0.923139</td>\n",
              "    </tr>\n",
              "    <tr>\n",
              "      <th>2</th>\n",
              "      <td>trend</td>\n",
              "      <td>0.364253</td>\n",
              "    </tr>\n",
              "  </tbody>\n",
              "</table>\n",
              "</div>\n",
              "      <button class=\"colab-df-convert\" onclick=\"convertToInteractive('df-6fc3e4b7-610f-4066-baf7-6e2117857a2e')\"\n",
              "              title=\"Convert this dataframe to an interactive table.\"\n",
              "              style=\"display:none;\">\n",
              "        \n",
              "  <svg xmlns=\"http://www.w3.org/2000/svg\" height=\"24px\"viewBox=\"0 0 24 24\"\n",
              "       width=\"24px\">\n",
              "    <path d=\"M0 0h24v24H0V0z\" fill=\"none\"/>\n",
              "    <path d=\"M18.56 5.44l.94 2.06.94-2.06 2.06-.94-2.06-.94-.94-2.06-.94 2.06-2.06.94zm-11 1L8.5 8.5l.94-2.06 2.06-.94-2.06-.94L8.5 2.5l-.94 2.06-2.06.94zm10 10l.94 2.06.94-2.06 2.06-.94-2.06-.94-.94-2.06-.94 2.06-2.06.94z\"/><path d=\"M17.41 7.96l-1.37-1.37c-.4-.4-.92-.59-1.43-.59-.52 0-1.04.2-1.43.59L10.3 9.45l-7.72 7.72c-.78.78-.78 2.05 0 2.83L4 21.41c.39.39.9.59 1.41.59.51 0 1.02-.2 1.41-.59l7.78-7.78 2.81-2.81c.8-.78.8-2.07 0-2.86zM5.41 20L4 18.59l7.72-7.72 1.47 1.35L5.41 20z\"/>\n",
              "  </svg>\n",
              "      </button>\n",
              "      \n",
              "  <style>\n",
              "    .colab-df-container {\n",
              "      display:flex;\n",
              "      flex-wrap:wrap;\n",
              "      gap: 12px;\n",
              "    }\n",
              "\n",
              "    .colab-df-convert {\n",
              "      background-color: #E8F0FE;\n",
              "      border: none;\n",
              "      border-radius: 50%;\n",
              "      cursor: pointer;\n",
              "      display: none;\n",
              "      fill: #1967D2;\n",
              "      height: 32px;\n",
              "      padding: 0 0 0 0;\n",
              "      width: 32px;\n",
              "    }\n",
              "\n",
              "    .colab-df-convert:hover {\n",
              "      background-color: #E2EBFA;\n",
              "      box-shadow: 0px 1px 2px rgba(60, 64, 67, 0.3), 0px 1px 3px 1px rgba(60, 64, 67, 0.15);\n",
              "      fill: #174EA6;\n",
              "    }\n",
              "\n",
              "    [theme=dark] .colab-df-convert {\n",
              "      background-color: #3B4455;\n",
              "      fill: #D2E3FC;\n",
              "    }\n",
              "\n",
              "    [theme=dark] .colab-df-convert:hover {\n",
              "      background-color: #434B5C;\n",
              "      box-shadow: 0px 1px 3px 1px rgba(0, 0, 0, 0.15);\n",
              "      filter: drop-shadow(0px 1px 2px rgba(0, 0, 0, 0.3));\n",
              "      fill: #FFFFFF;\n",
              "    }\n",
              "  </style>\n",
              "\n",
              "      <script>\n",
              "        const buttonEl =\n",
              "          document.querySelector('#df-6fc3e4b7-610f-4066-baf7-6e2117857a2e button.colab-df-convert');\n",
              "        buttonEl.style.display =\n",
              "          google.colab.kernel.accessAllowed ? 'block' : 'none';\n",
              "\n",
              "        async function convertToInteractive(key) {\n",
              "          const element = document.querySelector('#df-6fc3e4b7-610f-4066-baf7-6e2117857a2e');\n",
              "          const dataTable =\n",
              "            await google.colab.kernel.invokeFunction('convertToInteractive',\n",
              "                                                     [key], {});\n",
              "          if (!dataTable) return;\n",
              "\n",
              "          const docLinkHtml = 'Like what you see? Visit the ' +\n",
              "            '<a target=\"_blank\" href=https://colab.research.google.com/notebooks/data_table.ipynb>data table notebook</a>'\n",
              "            + ' to learn more about interactive tables.';\n",
              "          element.innerHTML = '';\n",
              "          dataTable['output_type'] = 'display_data';\n",
              "          await google.colab.output.renderOutput(dataTable, element);\n",
              "          const docLink = document.createElement('div');\n",
              "          docLink.innerHTML = docLinkHtml;\n",
              "          element.appendChild(docLink);\n",
              "        }\n",
              "      </script>\n",
              "    </div>\n",
              "  </div>\n",
              "  "
            ]
          },
          "metadata": {},
          "execution_count": 151
        }
      ]
    },
    {
      "cell_type": "code",
      "source": [
        "adfuller_result(data['Return'])"
      ],
      "metadata": {
        "colab": {
          "base_uri": "https://localhost:8080/"
        },
        "id": "xWjArGp0ovkk",
        "outputId": "c2a7f942-f540-444e-fa20-57123db9ecf2"
      },
      "execution_count": null,
      "outputs": [
        {
          "output_type": "execute_result",
          "data": {
            "text/plain": [
              "    type       p_value\n",
              "0    non  4.038285e-29\n",
              "1  const  2.133065e-30\n",
              "2  trend  0.000000e+00"
            ],
            "text/html": [
              "\n",
              "  <div id=\"df-0e112052-6733-47ca-9e3c-28d1c161ad35\">\n",
              "    <div class=\"colab-df-container\">\n",
              "      <div>\n",
              "<style scoped>\n",
              "    .dataframe tbody tr th:only-of-type {\n",
              "        vertical-align: middle;\n",
              "    }\n",
              "\n",
              "    .dataframe tbody tr th {\n",
              "        vertical-align: top;\n",
              "    }\n",
              "\n",
              "    .dataframe thead th {\n",
              "        text-align: right;\n",
              "    }\n",
              "</style>\n",
              "<table border=\"1\" class=\"dataframe\">\n",
              "  <thead>\n",
              "    <tr style=\"text-align: right;\">\n",
              "      <th></th>\n",
              "      <th>type</th>\n",
              "      <th>p_value</th>\n",
              "    </tr>\n",
              "  </thead>\n",
              "  <tbody>\n",
              "    <tr>\n",
              "      <th>0</th>\n",
              "      <td>non</td>\n",
              "      <td>4.038285e-29</td>\n",
              "    </tr>\n",
              "    <tr>\n",
              "      <th>1</th>\n",
              "      <td>const</td>\n",
              "      <td>2.133065e-30</td>\n",
              "    </tr>\n",
              "    <tr>\n",
              "      <th>2</th>\n",
              "      <td>trend</td>\n",
              "      <td>0.000000e+00</td>\n",
              "    </tr>\n",
              "  </tbody>\n",
              "</table>\n",
              "</div>\n",
              "      <button class=\"colab-df-convert\" onclick=\"convertToInteractive('df-0e112052-6733-47ca-9e3c-28d1c161ad35')\"\n",
              "              title=\"Convert this dataframe to an interactive table.\"\n",
              "              style=\"display:none;\">\n",
              "        \n",
              "  <svg xmlns=\"http://www.w3.org/2000/svg\" height=\"24px\"viewBox=\"0 0 24 24\"\n",
              "       width=\"24px\">\n",
              "    <path d=\"M0 0h24v24H0V0z\" fill=\"none\"/>\n",
              "    <path d=\"M18.56 5.44l.94 2.06.94-2.06 2.06-.94-2.06-.94-.94-2.06-.94 2.06-2.06.94zm-11 1L8.5 8.5l.94-2.06 2.06-.94-2.06-.94L8.5 2.5l-.94 2.06-2.06.94zm10 10l.94 2.06.94-2.06 2.06-.94-2.06-.94-.94-2.06-.94 2.06-2.06.94z\"/><path d=\"M17.41 7.96l-1.37-1.37c-.4-.4-.92-.59-1.43-.59-.52 0-1.04.2-1.43.59L10.3 9.45l-7.72 7.72c-.78.78-.78 2.05 0 2.83L4 21.41c.39.39.9.59 1.41.59.51 0 1.02-.2 1.41-.59l7.78-7.78 2.81-2.81c.8-.78.8-2.07 0-2.86zM5.41 20L4 18.59l7.72-7.72 1.47 1.35L5.41 20z\"/>\n",
              "  </svg>\n",
              "      </button>\n",
              "      \n",
              "  <style>\n",
              "    .colab-df-container {\n",
              "      display:flex;\n",
              "      flex-wrap:wrap;\n",
              "      gap: 12px;\n",
              "    }\n",
              "\n",
              "    .colab-df-convert {\n",
              "      background-color: #E8F0FE;\n",
              "      border: none;\n",
              "      border-radius: 50%;\n",
              "      cursor: pointer;\n",
              "      display: none;\n",
              "      fill: #1967D2;\n",
              "      height: 32px;\n",
              "      padding: 0 0 0 0;\n",
              "      width: 32px;\n",
              "    }\n",
              "\n",
              "    .colab-df-convert:hover {\n",
              "      background-color: #E2EBFA;\n",
              "      box-shadow: 0px 1px 2px rgba(60, 64, 67, 0.3), 0px 1px 3px 1px rgba(60, 64, 67, 0.15);\n",
              "      fill: #174EA6;\n",
              "    }\n",
              "\n",
              "    [theme=dark] .colab-df-convert {\n",
              "      background-color: #3B4455;\n",
              "      fill: #D2E3FC;\n",
              "    }\n",
              "\n",
              "    [theme=dark] .colab-df-convert:hover {\n",
              "      background-color: #434B5C;\n",
              "      box-shadow: 0px 1px 3px 1px rgba(0, 0, 0, 0.15);\n",
              "      filter: drop-shadow(0px 1px 2px rgba(0, 0, 0, 0.3));\n",
              "      fill: #FFFFFF;\n",
              "    }\n",
              "  </style>\n",
              "\n",
              "      <script>\n",
              "        const buttonEl =\n",
              "          document.querySelector('#df-0e112052-6733-47ca-9e3c-28d1c161ad35 button.colab-df-convert');\n",
              "        buttonEl.style.display =\n",
              "          google.colab.kernel.accessAllowed ? 'block' : 'none';\n",
              "\n",
              "        async function convertToInteractive(key) {\n",
              "          const element = document.querySelector('#df-0e112052-6733-47ca-9e3c-28d1c161ad35');\n",
              "          const dataTable =\n",
              "            await google.colab.kernel.invokeFunction('convertToInteractive',\n",
              "                                                     [key], {});\n",
              "          if (!dataTable) return;\n",
              "\n",
              "          const docLinkHtml = 'Like what you see? Visit the ' +\n",
              "            '<a target=\"_blank\" href=https://colab.research.google.com/notebooks/data_table.ipynb>data table notebook</a>'\n",
              "            + ' to learn more about interactive tables.';\n",
              "          element.innerHTML = '';\n",
              "          dataTable['output_type'] = 'display_data';\n",
              "          await google.colab.output.renderOutput(dataTable, element);\n",
              "          const docLink = document.createElement('div');\n",
              "          docLink.innerHTML = docLinkHtml;\n",
              "          element.appendChild(docLink);\n",
              "        }\n",
              "      </script>\n",
              "    </div>\n",
              "  </div>\n",
              "  "
            ]
          },
          "metadata": {},
          "execution_count": 152
        }
      ]
    },
    {
      "cell_type": "markdown",
      "source": [
        "##KPSS 검정: 귀무가설: 주어진 시계열은 trend-stationary하다."
      ],
      "metadata": {
        "id": "nvh_lr2fz274"
      }
    },
    {
      "cell_type": "code",
      "source": [
        "from statsmodels.tsa.stattools import kpss\n",
        "\n",
        "def kpss_result(ts):\n",
        "  statistic, p_value, n_lags, critical_values = kpss(ts)\n",
        "  print('stat : ', statistic)\n",
        "  print('critical values : ', critical_values)"
      ],
      "metadata": {
        "id": "KokVRbE9W8Ah"
      },
      "execution_count": null,
      "outputs": []
    },
    {
      "cell_type": "code",
      "source": [
        "kpss_result(data['Close'])"
      ],
      "metadata": {
        "colab": {
          "base_uri": "https://localhost:8080/"
        },
        "id": "ZFiS8V1wz9Vc",
        "outputId": "1c3d344a-f819-4945-c794-c62324eb4995"
      },
      "execution_count": null,
      "outputs": [
        {
          "output_type": "stream",
          "name": "stdout",
          "text": [
            "stat :  16.08559367680683\n",
            "critical values :  {'10%': 0.347, '5%': 0.463, '2.5%': 0.574, '1%': 0.739}\n"
          ]
        },
        {
          "output_type": "stream",
          "name": "stderr",
          "text": [
            "/usr/local/lib/python3.8/dist-packages/statsmodels/tsa/stattools.py:1875: FutureWarning: The behavior of using nlags=None will change in release 0.13.Currently nlags=None is the same as nlags=\"legacy\", and so a sample-size lag length is used. After the next release, the default will change to be the same as nlags=\"auto\" which uses an automatic lag length selection method. To silence this warning, either use \"auto\" or \"legacy\"\n",
            "  \"\"\"\n",
            "/usr/local/lib/python3.8/dist-packages/statsmodels/tsa/stattools.py:1906: InterpolationWarning: The test statistic is outside of the range of p-values available in the\n",
            "look-up table. The actual p-value is smaller than the p-value returned.\n",
            "\n",
            "  store : bool\n"
          ]
        }
      ]
    },
    {
      "cell_type": "code",
      "source": [
        "kpss_result(data['Return'])"
      ],
      "metadata": {
        "id": "WbM17wp1gtRj",
        "outputId": "7f7ac62d-6514-479c-d99a-9d09646060e9",
        "colab": {
          "base_uri": "https://localhost:8080/"
        }
      },
      "execution_count": null,
      "outputs": [
        {
          "output_type": "stream",
          "name": "stdout",
          "text": [
            "stat :  0.04373916866701228\n",
            "critical values :  {'10%': 0.347, '5%': 0.463, '2.5%': 0.574, '1%': 0.739}\n"
          ]
        },
        {
          "output_type": "stream",
          "name": "stderr",
          "text": [
            "/usr/local/lib/python3.8/dist-packages/statsmodels/tsa/stattools.py:1910: InterpolationWarning: The test statistic is outside of the range of p-values available in the\n",
            "look-up table. The actual p-value is greater than the p-value returned.\n",
            "\n",
            "  Returns\n"
          ]
        }
      ]
    },
    {
      "cell_type": "markdown",
      "source": [
        "#자기상관함수, 편자기상관함수"
      ],
      "metadata": {
        "id": "u-N7QyETM5kZ"
      }
    },
    {
      "cell_type": "markdown",
      "source": [
        "###이론적인 패턴"
      ],
      "metadata": {
        "id": "bKWBAoQq58LV"
      }
    },
    {
      "cell_type": "code",
      "source": [
        "plt.figure(figsize = (14,7))\n",
        "\n",
        "plt.subplot(1,2,1)\n",
        "k = np.arange(0, 21, 1)\n",
        "phi = [0.8**k for k in k]\n",
        "plt.plot(k, phi)\n",
        "plt.xticks(k)\n",
        "plt.xlabel('time lag')\n",
        "plt.ylim(-0.2, 1.1)\n",
        "plt.axhline(0, linestyle = ':', color = 'grey')\n",
        "plt.title('ACF')\n",
        "\n",
        "plt.subplot(1,2,2)\n",
        "k = list(np.arange(0, 7, 1))\n",
        "phi = [0.8**k for k in k]\n",
        "plt.plot(k, phi)\n",
        "plt.xlabel('time lag')\n",
        "plt.xticks(np.arange(0, 21))\n",
        "plt.ylim(-0.2, 1.1)\n",
        "plt.xlim(-1, 21)\n",
        "plt.axhline(0, xmin = 0.327, xmax = 1)\n",
        "plt.axhline(0, linestyle = ':', color = 'grey')\n",
        "plt.axvline(6, linestyle = '--', ymin = 0.165, ymax = 0.34)\n",
        "plt.title('PACF')"
      ],
      "metadata": {
        "colab": {
          "base_uri": "https://localhost:8080/"
        },
        "id": "fRDXcW9hvWVi",
        "outputId": "68f2d662-8e27-4482-9b34-b7b4bf94f5b1"
      },
      "execution_count": null,
      "outputs": [
        {
          "output_type": "execute_result",
          "data": {
            "text/plain": [
              "Text(0.5, 1.0, 'PACF')"
            ]
          },
          "metadata": {},
          "execution_count": 156
        },
        {
          "output_type": "display_data",
          "data": {
            "text/plain": [
              "<Figure size 1008x504 with 2 Axes>"
            ],
            "image/png": "[encoded data removed]"
          },
          "metadata": {
            "needs_background": "light"
          }
        }
      ]
    },
    {
      "cell_type": "code",
      "source": [
        "plt.figure(figsize = (14,7))\n",
        "\n",
        "plt.subplot(1,2,1)\n",
        "k = list(np.arange(0, 7, 1))\n",
        "phi = [0.8**k for k in k]\n",
        "plt.plot(k, phi)\n",
        "plt.xlabel('time lag')\n",
        "plt.xticks(np.arange(0, 21))\n",
        "plt.ylim(-0.2, 1.1)\n",
        "plt.xlim(-1, 21)\n",
        "plt.axhline(0, xmin = 0.327, xmax = 1)\n",
        "plt.axhline(0, linestyle = ':', color = 'grey')\n",
        "plt.axvline(6, linestyle = '--', ymin = 0.165, ymax = 0.34)\n",
        "plt.title('ACF')\n",
        "\n",
        "plt.subplot(1,2,2)\n",
        "\n",
        "\n",
        "k = np.arange(0, 21, 1)\n",
        "phi = [0.8**k for k in k]\n",
        "plt.plot(k, phi)\n",
        "plt.xticks(k)\n",
        "plt.xlabel('time lag')\n",
        "plt.ylim(-0.2, 1.1)\n",
        "plt.axhline(0, linestyle = ':', color = 'grey')\n",
        "\n",
        "plt.title('PACF')"
      ],
      "metadata": {
        "colab": {
          "base_uri": "https://localhost:8080/"
        },
        "id": "ldVi0fz7CL_G",
        "outputId": "8cfe5af6-7301-4cc5-9cd5-02413882a78a"
      },
      "execution_count": null,
      "outputs": [
        {
          "output_type": "execute_result",
          "data": {
            "text/plain": [
              "Text(0.5, 1.0, 'PACF')"
            ]
          },
          "metadata": {},
          "execution_count": 157
        },
        {
          "output_type": "display_data",
          "data": {
            "text/plain": [
              "<Figure size 1008x504 with 2 Axes>"
            ],
            "image/png": "[encoded data removed]"
          },
          "metadata": {
            "needs_background": "light"
          }
        }
      ]
    },
    {
      "cell_type": "code",
      "source": [
        "plt.figure(figsize = (14,7))\n",
        "\n",
        "plt.subplot(1,2,1)\n",
        "\n",
        "k = list(np.arange(0, 7, 1))\n",
        "phi = [0.8**k for k in k]\n",
        "j = list(np.arange(6, 21, 1))\n",
        "sig = [0.7 ** j for j in j]\n",
        "\n",
        "plt.plot(k, phi, color = 'b')\n",
        "plt.plot(j, sig, color = 'b')\n",
        "plt.xlabel('time lag')\n",
        "plt.xticks(np.arange(0, 21))\n",
        "plt.ylim(-0.2, 1.1)\n",
        "plt.xlim(-1, 21)\n",
        "plt.axhline(0, linestyle = ':', color = 'grey')\n",
        "plt.axvline(6, linestyle = '--', ymin = 0.25, ymax = 0.34)\n",
        "plt.title('ACF')\n",
        "\n",
        "plt.subplot(1,2,2)\n",
        "\n",
        "k = list(np.arange(0, 7, 1))\n",
        "phi = [0.8**k for k in k]\n",
        "j = list(np.arange(6, 21, 1))\n",
        "sig = [0.7 ** j for j in j]\n",
        "\n",
        "plt.plot(k, phi, color = 'b')\n",
        "plt.plot(j, sig, color = 'b')\n",
        "plt.xlabel('time lag')\n",
        "plt.xticks(np.arange(0, 21))\n",
        "plt.ylim(-0.2, 1.1)\n",
        "plt.xlim(-1, 21)\n",
        "plt.axhline(0, linestyle = ':', color = 'grey')\n",
        "plt.axvline(6, linestyle = '--', ymin = 0.25, ymax = 0.34)\n",
        "plt.title('PACF')\n"
      ],
      "metadata": {
        "colab": {
          "base_uri": "https://localhost:8080/"
        },
        "id": "o5Srwn-XEt8D",
        "outputId": "ccc09c6f-a650-4f4a-e616-1e25c460d8db"
      },
      "execution_count": null,
      "outputs": [
        {
          "output_type": "execute_result",
          "data": {
            "text/plain": [
              "Text(0.5, 1.0, 'PACF')"
            ]
          },
          "metadata": {},
          "execution_count": 158
        },
        {
          "output_type": "display_data",
          "data": {
            "text/plain": [
              "<Figure size 1008x504 with 2 Axes>"
            ],
            "image/png": "[encoded data removed]"
          },
          "metadata": {
            "needs_background": "light"
          }
        }
      ]
    },
    {
      "cell_type": "markdown",
      "source": [
        "###실제 패턴"
      ],
      "metadata": {
        "id": "I3GNnKI95_1H"
      }
    },
    {
      "cell_type": "code",
      "source": [
        "from statsmodels.tsa.stattools import acf, pacf"
      ],
      "metadata": {
        "id": "CJWyXJ4ZM8DA"
      },
      "execution_count": null,
      "outputs": []
    },
    {
      "cell_type": "code",
      "source": [
        "plt.figure(figsize = (16,8))\n",
        "\n",
        "plt.subplot(1,2,1)\n",
        "lag_acf = acf(data['Return'], nlags=20)\n",
        "plt.plot(np.arange(21), lag_acf)\n",
        "plt.xticks(np.arange(21))\n",
        "plt.ylim(-0.2, 1.2)\n",
        "plt.axhline(0, color = 'black', linestyle = '--')\n",
        "plt.axhline(y=-1.96/np.sqrt(len(data['Return'])),linestyle='--',color='gray')\n",
        "plt.axhline(y=1.96/np.sqrt(len(data['Return'])),linestyle='--',color='gray')\n",
        "plt.title('Auto Correlation')\n",
        "plt.xlabel('Time Lag')\n",
        "plt.ylabel('Auto Correlation')\n",
        "\n",
        "plt.subplot(1,2,2)\n",
        "lag_pacf = pacf(data['Return'], nlags=20, method='ols')\n",
        "plt.plot(np.arange(21), lag_pacf)\n",
        "plt.xticks(np.arange(21))\n",
        "plt.ylim(-0.2, 1.2)\n",
        "plt.axhline(0, color = 'black', linestyle = '--')\n",
        "plt.axhline(y=-1.96/np.sqrt(len(data['Return'])),linestyle='--',color='gray')\n",
        "plt.axhline(y=1.96/np.sqrt(len(data['Return'])),linestyle='--',color='gray')\n",
        "plt.title('Partial Auto Correlation')\n",
        "plt.xlabel('Time Lag')\n",
        "\n",
        "plt.show()"
      ],
      "metadata": {
        "colab": {
          "base_uri": "https://localhost:8080/"
        },
        "id": "JvqoKLNOWGtB",
        "outputId": "1d47563e-d7bd-4ee7-fa92-7321e6f88625"
      },
      "execution_count": null,
      "outputs": [
        {
          "output_type": "stream",
          "name": "stderr",
          "text": [
            "/usr/local/lib/python3.8/dist-packages/statsmodels/tsa/stattools.py:667: FutureWarning: fft=True will become the default after the release of the 0.12 release of statsmodels. To suppress this warning, explicitly set fft=False.\n",
            "  nlags = int_like(nlags, \"nlags\", optional=True)\n"
          ]
        },
        {
          "output_type": "display_data",
          "data": {
            "text/plain": [
              "<Figure size 1152x576 with 2 Axes>"
            ],
            "image/png": "[encoded data removed]"
          },
          "metadata": {
            "needs_background": "light"
          }
        }
      ]
    },
    {
      "cell_type": "markdown",
      "source": [
        "#ARMA(2,1) 모델 구현"
      ],
      "metadata": {
        "id": "ZEAHydejZOMR"
      }
    },
    {
      "cell_type": "code",
      "source": [
        "from statsmodels.tsa.arima_model import ARIMA"
      ],
      "metadata": {
        "id": "2Hj1eqAxUK3_"
      },
      "execution_count": null,
      "outputs": []
    },
    {
      "cell_type": "code",
      "source": [
        "model = ARIMA(data['Return'], order=(2,0,1))\n",
        "model_fit = model.fit(trend = 'nc')\n",
        "model_fit.summary()"
      ],
      "metadata": {
        "colab": {
          "base_uri": "https://localhost:8080/"
        },
        "id": "z1YBpYHgUD5w",
        "outputId": "c02227b4-ba0f-448a-a53e-58d3fd15f70e"
      },
      "execution_count": null,
      "outputs": [
        {
          "output_type": "stream",
          "name": "stderr",
          "text": [
            "/usr/local/lib/python3.8/dist-packages/statsmodels/tsa/arima_model.py:472: FutureWarning: \n",
            "statsmodels.tsa.arima_model.ARMA and statsmodels.tsa.arima_model.ARIMA have\n",
            "been deprecated in favor of statsmodels.tsa.arima.model.ARIMA (note the .\n",
            "between arima and model) and\n",
            "statsmodels.tsa.SARIMAX. These will be removed after the 0.12 release.\n",
            "\n",
            "statsmodels.tsa.arima.model.ARIMA makes use of the statespace framework and\n",
            "is both well tested and maintained.\n",
            "\n",
            "To silence this warning and continue using ARMA and ARIMA until they are\n",
            "removed, use:\n",
            "\n",
            "import warnings\n",
            "warnings.filterwarnings('ignore', 'statsmodels.tsa.arima_model.ARMA',\n",
            "                        FutureWarning)\n",
            "warnings.filterwarnings('ignore', 'statsmodels.tsa.arima_model.ARIMA',\n",
            "                        FutureWarning)\n",
            "\n"
          ]
        },
        {
          "output_type": "execute_result",
          "data": {
            "text/plain": [
              "<class 'statsmodels.iolib.summary.Summary'>\n",
              "\"\"\"\n",
              "                              ARMA Model Results                              \n",
              "==============================================================================\n",
              "Dep. Variable:                 Return   No. Observations:                 7015\n",
              "Model:                     ARMA(2, 1)   Log Likelihood               15958.782\n",
              "Method:                       css-mle   S.D. of innovations              0.025\n",
              "Date:                Wed, 08 Feb 2023   AIC                         -31909.563\n",
              "Time:                        10:59:27   BIC                         -31882.140\n",
              "Sample:                             0   HQIC                        -31900.114\n",
              "                                                                              \n",
              "================================================================================\n",
              "                   coef    std err          z      P>|z|      [0.025      0.975]\n",
              "--------------------------------------------------------------------------------\n",
              "ar.L1.Return     0.6975      0.073      9.597      0.000       0.555       0.840\n",
              "ar.L2.Return    -0.1202      0.012    -10.076      0.000      -0.144      -0.097\n",
              "ma.L1.Return    -0.6114      0.073     -8.414      0.000      -0.754      -0.469\n",
              "                                    Roots                                    \n",
              "=============================================================================\n",
              "                  Real          Imaginary           Modulus         Frequency\n",
              "-----------------------------------------------------------------------------\n",
              "AR.1            2.5825           +0.0000j            2.5825            0.0000\n",
              "AR.2            3.2225           +0.0000j            3.2225            0.0000\n",
              "MA.1            1.6357           +0.0000j            1.6357            0.0000\n",
              "-----------------------------------------------------------------------------\n",
              "\"\"\""
            ],
            "text/html": [
              "<table class=\"simpletable\">\n",
              "<caption>ARMA Model Results</caption>\n",
              "<tr>\n",
              "  <th>Dep. Variable:</th>      <td>Return</td>      <th>  No. Observations:  </th>    <td>7015</td>   \n",
              "</tr>\n",
              "<tr>\n",
              "  <th>Model:</th>            <td>ARMA(2, 1)</td>    <th>  Log Likelihood     </th>  <td>15958.782</td>\n",
              "</tr>\n",
              "<tr>\n",
              "  <th>Method:</th>             <td>css-mle</td>     <th>  S.D. of innovations</th>    <td>0.025</td>  \n",
              "</tr>\n",
              "<tr>\n",
              "  <th>Date:</th>          <td>Wed, 08 Feb 2023</td> <th>  AIC                </th> <td>-31909.563</td>\n",
              "</tr>\n",
              "<tr>\n",
              "  <th>Time:</th>              <td>10:59:27</td>     <th>  BIC                </th> <td>-31882.140</td>\n",
              "</tr>\n",
              "<tr>\n",
              "  <th>Sample:</th>                <td>0</td>        <th>  HQIC               </th> <td>-31900.114</td>\n",
              "</tr>\n",
              "<tr>\n",
              "  <th></th>                       <td> </td>        <th>                     </th>      <td> </td>    \n",
              "</tr>\n",
              "</table>\n",
              "<table class=\"simpletable\">\n",
              "<tr>\n",
              "        <td></td>          <th>coef</th>     <th>std err</th>      <th>z</th>      <th>P>|z|</th>  <th>[0.025</th>    <th>0.975]</th>  \n",
              "</tr>\n",
              "<tr>\n",
              "  <th>ar.L1.Return</th> <td>    0.6975</td> <td>    0.073</td> <td>    9.597</td> <td> 0.000</td> <td>    0.555</td> <td>    0.840</td>\n",
              "</tr>\n",
              "<tr>\n",
              "  <th>ar.L2.Return</th> <td>   -0.1202</td> <td>    0.012</td> <td>  -10.076</td> <td> 0.000</td> <td>   -0.144</td> <td>   -0.097</td>\n",
              "</tr>\n",
              "<tr>\n",
              "  <th>ma.L1.Return</th> <td>   -0.6114</td> <td>    0.073</td> <td>   -8.414</td> <td> 0.000</td> <td>   -0.754</td> <td>   -0.469</td>\n",
              "</tr>\n",
              "</table>\n",
              "<table class=\"simpletable\">\n",
              "<caption>Roots</caption>\n",
              "<tr>\n",
              "    <td></td>   <th>            Real</th>  <th>         Imaginary</th> <th>         Modulus</th>  <th>        Frequency</th>\n",
              "</tr>\n",
              "<tr>\n",
              "  <th>AR.1</th> <td>           2.5825</td> <td>          +0.0000j</td> <td>           2.5825</td> <td>           0.0000</td>\n",
              "</tr>\n",
              "<tr>\n",
              "  <th>AR.2</th> <td>           3.2225</td> <td>          +0.0000j</td> <td>           3.2225</td> <td>           0.0000</td>\n",
              "</tr>\n",
              "<tr>\n",
              "  <th>MA.1</th> <td>           1.6357</td> <td>          +0.0000j</td> <td>           1.6357</td> <td>           0.0000</td>\n",
              "</tr>\n",
              "</table>"
            ]
          },
          "metadata": {},
          "execution_count": 163
        }
      ]
    },
    {
      "cell_type": "code",
      "source": [
        "plt.plot(model_fit.predict(), label = 'fitted', color = 'orange', alpha = 0.5)\n",
        "plt.plot(data['Return'], label = 'data', color = 'blue', alpha = 0.5)\n",
        "plt.legend()\n",
        "plt.show()"
      ],
      "metadata": {
        "colab": {
          "base_uri": "https://localhost:8080/"
        },
        "id": "seQsoHi4Vq6S",
        "outputId": "5c7fdd71-a2de-49a2-a9f0-e62d732ddfe4"
      },
      "execution_count": null,
      "outputs": [
        {
          "output_type": "display_data",
          "data": {
            "text/plain": [
              "<Figure size 432x288 with 1 Axes>"
            ],
            "image/png": "[encoded data removed]"
          },
          "metadata": {
            "needs_background": "light"
          }
        }
      ]
    },
    {
      "cell_type": "markdown",
      "source": [
        "#잔차 검정"
      ],
      "metadata": {
        "id": "bi2km5lzfs0Q"
      }
    },
    {
      "cell_type": "code",
      "source": [
        "data['Fitted_Return'] = model_fit.predict()\n",
        "data['Return_Error'] = data['Fitted_Return'] - data['Return']\n",
        "data"
      ],
      "metadata": {
        "colab": {
          "base_uri": "https://localhost:8080/"
        },
        "id": "WdGA_0BDXNEk",
        "outputId": "1cec3eec-ac56-477f-ba52-33e058666169"
      },
      "execution_count": null,
      "outputs": [
        {
          "output_type": "execute_result",
          "data": {
            "text/plain": [
              "           Date  Close    Return  Year  Fitted_Return  Return_Error\n",
              "0    1995-05-03   1596  0.033124  1995       0.000000     -0.033124\n",
              "1    1995-05-04   1583 -0.008179  1995       0.002813      0.010992\n",
              "2    1995-05-06   1576 -0.004432  1995      -0.003016      0.001416\n",
              "3    1995-05-08   1564 -0.007643  1995      -0.001245      0.006398\n",
              "4    1995-05-09   1544 -0.012870  1995      -0.000891      0.011979\n",
              "...         ...    ...       ...   ...            ...           ...\n",
              "7010 2023-01-16  61100  0.004922  2023      -0.000241     -0.005163\n",
              "7011 2023-01-17  61000 -0.001638  2023      -0.000318      0.001320\n",
              "7012 2023-01-18  60400 -0.009885  2023      -0.000927      0.008958\n",
              "7013 2023-01-19  61500  0.018048  2023      -0.001222     -0.019270\n",
              "7014 2023-01-20  61400 -0.001627  2023       0.001996      0.003623\n",
              "\n",
              "[7015 rows x 6 columns]"
            ],
            "text/html": [
              "\n",
              "  <div id=\"df-e1ddf2d8-0a48-43b9-81a7-b0ef4d7d942b\">\n",
              "    <div class=\"colab-df-container\">\n",
              "      <div>\n",
              "<style scoped>\n",
              "    .dataframe tbody tr th:only-of-type {\n",
              "        vertical-align: middle;\n",
              "    }\n",
              "\n",
              "    .dataframe tbody tr th {\n",
              "        vertical-align: top;\n",
              "    }\n",
              "\n",
              "    .dataframe thead th {\n",
              "        text-align: right;\n",
              "    }\n",
              "</style>\n",
              "<table border=\"1\" class=\"dataframe\">\n",
              "  <thead>\n",
              "    <tr style=\"text-align: right;\">\n",
              "      <th></th>\n",
              "      <th>Date</th>\n",
              "      <th>Close</th>\n",
              "      <th>Return</th>\n",
              "      <th>Year</th>\n",
              "      <th>Fitted_Return</th>\n",
              "      <th>Return_Error</th>\n",
              "    </tr>\n",
              "  </thead>\n",
              "  <tbody>\n",
              "    <tr>\n",
              "      <th>0</th>\n",
              "      <td>1995-05-03</td>\n",
              "      <td>1596</td>\n",
              "      <td>0.033124</td>\n",
              "      <td>1995</td>\n",
              "      <td>0.000000</td>\n",
              "      <td>-0.033124</td>\n",
              "    </tr>\n",
              "    <tr>\n",
              "      <th>1</th>\n",
              "      <td>1995-05-04</td>\n",
              "      <td>1583</td>\n",
              "      <td>-0.008179</td>\n",
              "      <td>1995</td>\n",
              "      <td>0.002813</td>\n",
              "      <td>0.010992</td>\n",
              "    </tr>\n",
              "    <tr>\n",
              "      <th>2</th>\n",
              "      <td>1995-05-06</td>\n",
              "      <td>1576</td>\n",
              "      <td>-0.004432</td>\n",
              "      <td>1995</td>\n",
              "      <td>-0.003016</td>\n",
              "      <td>0.001416</td>\n",
              "    </tr>\n",
              "    <tr>\n",
              "      <th>3</th>\n",
              "      <td>1995-05-08</td>\n",
              "      <td>1564</td>\n",
              "      <td>-0.007643</td>\n",
              "      <td>1995</td>\n",
              "      <td>-0.001245</td>\n",
              "      <td>0.006398</td>\n",
              "    </tr>\n",
              "    <tr>\n",
              "      <th>4</th>\n",
              "      <td>1995-05-09</td>\n",
              "      <td>1544</td>\n",
              "      <td>-0.012870</td>\n",
              "      <td>1995</td>\n",
              "      <td>-0.000891</td>\n",
              "      <td>0.011979</td>\n",
              "    </tr>\n",
              "    <tr>\n",
              "      <th>...</th>\n",
              "      <td>...</td>\n",
              "      <td>...</td>\n",
              "      <td>...</td>\n",
              "      <td>...</td>\n",
              "      <td>...</td>\n",
              "      <td>...</td>\n",
              "    </tr>\n",
              "    <tr>\n",
              "      <th>7010</th>\n",
              "      <td>2023-01-16</td>\n",
              "      <td>61100</td>\n",
              "      <td>0.004922</td>\n",
              "      <td>2023</td>\n",
              "      <td>-0.000241</td>\n",
              "      <td>-0.005163</td>\n",
              "    </tr>\n",
              "    <tr>\n",
              "      <th>7011</th>\n",
              "      <td>2023-01-17</td>\n",
              "      <td>61000</td>\n",
              "      <td>-0.001638</td>\n",
              "      <td>2023</td>\n",
              "      <td>-0.000318</td>\n",
              "      <td>0.001320</td>\n",
              "    </tr>\n",
              "    <tr>\n",
              "      <th>7012</th>\n",
              "      <td>2023-01-18</td>\n",
              "      <td>60400</td>\n",
              "      <td>-0.009885</td>\n",
              "      <td>2023</td>\n",
              "      <td>-0.000927</td>\n",
              "      <td>0.008958</td>\n",
              "    </tr>\n",
              "    <tr>\n",
              "      <th>7013</th>\n",
              "      <td>2023-01-19</td>\n",
              "      <td>61500</td>\n",
              "      <td>0.018048</td>\n",
              "      <td>2023</td>\n",
              "      <td>-0.001222</td>\n",
              "      <td>-0.019270</td>\n",
              "    </tr>\n",
              "    <tr>\n",
              "      <th>7014</th>\n",
              "      <td>2023-01-20</td>\n",
              "      <td>61400</td>\n",
              "      <td>-0.001627</td>\n",
              "      <td>2023</td>\n",
              "      <td>0.001996</td>\n",
              "      <td>0.003623</td>\n",
              "    </tr>\n",
              "  </tbody>\n",
              "</table>\n",
              "<p>7015 rows × 6 columns</p>\n",
              "</div>\n",
              "      <button class=\"colab-df-convert\" onclick=\"convertToInteractive('df-e1ddf2d8-0a48-43b9-81a7-b0ef4d7d942b')\"\n",
              "              title=\"Convert this dataframe to an interactive table.\"\n",
              "              style=\"display:none;\">\n",
              "        \n",
              "  <svg xmlns=\"http://www.w3.org/2000/svg\" height=\"24px\"viewBox=\"0 0 24 24\"\n",
              "       width=\"24px\">\n",
              "    <path d=\"M0 0h24v24H0V0z\" fill=\"none\"/>\n",
              "    <path d=\"M18.56 5.44l.94 2.06.94-2.06 2.06-.94-2.06-.94-.94-2.06-.94 2.06-2.06.94zm-11 1L8.5 8.5l.94-2.06 2.06-.94-2.06-.94L8.5 2.5l-.94 2.06-2.06.94zm10 10l.94 2.06.94-2.06 2.06-.94-2.06-.94-.94-2.06-.94 2.06-2.06.94z\"/><path d=\"M17.41 7.96l-1.37-1.37c-.4-.4-.92-.59-1.43-.59-.52 0-1.04.2-1.43.59L10.3 9.45l-7.72 7.72c-.78.78-.78 2.05 0 2.83L4 21.41c.39.39.9.59 1.41.59.51 0 1.02-.2 1.41-.59l7.78-7.78 2.81-2.81c.8-.78.8-2.07 0-2.86zM5.41 20L4 18.59l7.72-7.72 1.47 1.35L5.41 20z\"/>\n",
              "  </svg>\n",
              "      </button>\n",
              "      \n",
              "  <style>\n",
              "    .colab-df-container {\n",
              "      display:flex;\n",
              "      flex-wrap:wrap;\n",
              "      gap: 12px;\n",
              "    }\n",
              "\n",
              "    .colab-df-convert {\n",
              "      background-color: #E8F0FE;\n",
              "      border: none;\n",
              "      border-radius: 50%;\n",
              "      cursor: pointer;\n",
              "      display: none;\n",
              "      fill: #1967D2;\n",
              "      height: 32px;\n",
              "      padding: 0 0 0 0;\n",
              "      width: 32px;\n",
              "    }\n",
              "\n",
              "    .colab-df-convert:hover {\n",
              "      background-color: #E2EBFA;\n",
              "      box-shadow: 0px 1px 2px rgba(60, 64, 67, 0.3), 0px 1px 3px 1px rgba(60, 64, 67, 0.15);\n",
              "      fill: #174EA6;\n",
              "    }\n",
              "\n",
              "    [theme=dark] .colab-df-convert {\n",
              "      background-color: #3B4455;\n",
              "      fill: #D2E3FC;\n",
              "    }\n",
              "\n",
              "    [theme=dark] .colab-df-convert:hover {\n",
              "      background-color: #434B5C;\n",
              "      box-shadow: 0px 1px 3px 1px rgba(0, 0, 0, 0.15);\n",
              "      filter: drop-shadow(0px 1px 2px rgba(0, 0, 0, 0.3));\n",
              "      fill: #FFFFFF;\n",
              "    }\n",
              "  </style>\n",
              "\n",
              "      <script>\n",
              "        const buttonEl =\n",
              "          document.querySelector('#df-e1ddf2d8-0a48-43b9-81a7-b0ef4d7d942b button.colab-df-convert');\n",
              "        buttonEl.style.display =\n",
              "          google.colab.kernel.accessAllowed ? 'block' : 'none';\n",
              "\n",
              "        async function convertToInteractive(key) {\n",
              "          const element = document.querySelector('#df-e1ddf2d8-0a48-43b9-81a7-b0ef4d7d942b');\n",
              "          const dataTable =\n",
              "            await google.colab.kernel.invokeFunction('convertToInteractive',\n",
              "                                                     [key], {});\n",
              "          if (!dataTable) return;\n",
              "\n",
              "          const docLinkHtml = 'Like what you see? Visit the ' +\n",
              "            '<a target=\"_blank\" href=https://colab.research.google.com/notebooks/data_table.ipynb>data table notebook</a>'\n",
              "            + ' to learn more about interactive tables.';\n",
              "          element.innerHTML = '';\n",
              "          dataTable['output_type'] = 'display_data';\n",
              "          await google.colab.output.renderOutput(dataTable, element);\n",
              "          const docLink = document.createElement('div');\n",
              "          docLink.innerHTML = docLinkHtml;\n",
              "          element.appendChild(docLink);\n",
              "        }\n",
              "      </script>\n",
              "    </div>\n",
              "  </div>\n",
              "  "
            ]
          },
          "metadata": {},
          "execution_count": 165
        }
      ]
    },
    {
      "cell_type": "code",
      "source": [
        "plt.plot(data['Return_Error'])"
      ],
      "metadata": {
        "colab": {
          "base_uri": "https://localhost:8080/"
        },
        "id": "WlMXe7-2A23h",
        "outputId": "1c58b38b-87ee-4e58-8c69-0f7d8489788c"
      },
      "execution_count": null,
      "outputs": [
        {
          "output_type": "execute_result",
          "data": {
            "text/plain": [
              "[<matplotlib.lines.Line2D at 0x7fd80277a490>]"
            ]
          },
          "metadata": {},
          "execution_count": 166
        },
        {
          "output_type": "display_data",
          "data": {
            "text/plain": [
              "<Figure size 432x288 with 1 Axes>"
            ],
            "image/png": "[encoded data removed]"
          },
          "metadata": {
            "needs_background": "light"
          }
        }
      ]
    },
    {
      "cell_type": "code",
      "source": [
        "import statsmodels.api as sm\n",
        "\n",
        "def LJ_result(ts):\n",
        "  result = []\n",
        "  for lag in np.arange(1, 11, 1):\n",
        "    result.append(sm.stats.acorr_ljungbox(ts, lags=[lag])[1][0])\n",
        "\n",
        "  return pd.DataFrame({'lag':np.arange(1,11,1), 'p_value':result})\n",
        "\n",
        "LJ_result(data['Return_Error']).T"
      ],
      "metadata": {
        "colab": {
          "base_uri": "https://localhost:8080/"
        },
        "id": "T_Z-9tsBfu2y",
        "outputId": "e65f929d-4ead-4a05-cdb3-e0e792905b75"
      },
      "execution_count": null,
      "outputs": [
        {
          "output_type": "stream",
          "name": "stderr",
          "text": [
            "/usr/local/lib/python3.8/dist-packages/statsmodels/stats/diagnostic.py:559: FutureWarning: The value returned will change to a single DataFrame after 0.12 is released.  Set return_df to True to use to return a DataFrame now.  Set return_df to False to silence this warning.\n",
            "  warnings.warn(msg, FutureWarning)\n"
          ]
        },
        {
          "output_type": "execute_result",
          "data": {
            "text/plain": [
              "                0        1         2         3         4         5         6  \\\n",
              "lag      1.000000  2.00000  3.000000  4.000000  5.000000  6.000000  7.000000   \n",
              "p_value  0.996398  0.88017  0.621082  0.706784  0.474884  0.567776  0.618304   \n",
              "\n",
              "                7        8         9  \n",
              "lag      8.000000  9.00000  10.00000  \n",
              "p_value  0.720336  0.29218   0.17853  "
            ],
            "text/html": [
              "\n",
              "  <div id=\"df-424022ed-fb62-4748-a6e2-41b65a03d597\">\n",
              "    <div class=\"colab-df-container\">\n",
              "      <div>\n",
              "<style scoped>\n",
              "    .dataframe tbody tr th:only-of-type {\n",
              "        vertical-align: middle;\n",
              "    }\n",
              "\n",
              "    .dataframe tbody tr th {\n",
              "        vertical-align: top;\n",
              "    }\n",
              "\n",
              "    .dataframe thead th {\n",
              "        text-align: right;\n",
              "    }\n",
              "</style>\n",
              "<table border=\"1\" class=\"dataframe\">\n",
              "  <thead>\n",
              "    <tr style=\"text-align: right;\">\n",
              "      <th></th>\n",
              "      <th>0</th>\n",
              "      <th>1</th>\n",
              "      <th>2</th>\n",
              "      <th>3</th>\n",
              "      <th>4</th>\n",
              "      <th>5</th>\n",
              "      <th>6</th>\n",
              "      <th>7</th>\n",
              "      <th>8</th>\n",
              "      <th>9</th>\n",
              "    </tr>\n",
              "  </thead>\n",
              "  <tbody>\n",
              "    <tr>\n",
              "      <th>lag</th>\n",
              "      <td>1.000000</td>\n",
              "      <td>2.00000</td>\n",
              "      <td>3.000000</td>\n",
              "      <td>4.000000</td>\n",
              "      <td>5.000000</td>\n",
              "      <td>6.000000</td>\n",
              "      <td>7.000000</td>\n",
              "      <td>8.000000</td>\n",
              "      <td>9.00000</td>\n",
              "      <td>10.00000</td>\n",
              "    </tr>\n",
              "    <tr>\n",
              "      <th>p_value</th>\n",
              "      <td>0.996398</td>\n",
              "      <td>0.88017</td>\n",
              "      <td>0.621082</td>\n",
              "      <td>0.706784</td>\n",
              "      <td>0.474884</td>\n",
              "      <td>0.567776</td>\n",
              "      <td>0.618304</td>\n",
              "      <td>0.720336</td>\n",
              "      <td>0.29218</td>\n",
              "      <td>0.17853</td>\n",
              "    </tr>\n",
              "  </tbody>\n",
              "</table>\n",
              "</div>\n",
              "      <button class=\"colab-df-convert\" onclick=\"convertToInteractive('df-424022ed-fb62-4748-a6e2-41b65a03d597')\"\n",
              "              title=\"Convert this dataframe to an interactive table.\"\n",
              "              style=\"display:none;\">\n",
              "        \n",
              "  <svg xmlns=\"http://www.w3.org/2000/svg\" height=\"24px\"viewBox=\"0 0 24 24\"\n",
              "       width=\"24px\">\n",
              "    <path d=\"M0 0h24v24H0V0z\" fill=\"none\"/>\n",
              "    <path d=\"M18.56 5.44l.94 2.06.94-2.06 2.06-.94-2.06-.94-.94-2.06-.94 2.06-2.06.94zm-11 1L8.5 8.5l.94-2.06 2.06-.94-2.06-.94L8.5 2.5l-.94 2.06-2.06.94zm10 10l.94 2.06.94-2.06 2.06-.94-2.06-.94-.94-2.06-.94 2.06-2.06.94z\"/><path d=\"M17.41 7.96l-1.37-1.37c-.4-.4-.92-.59-1.43-.59-.52 0-1.04.2-1.43.59L10.3 9.45l-7.72 7.72c-.78.78-.78 2.05 0 2.83L4 21.41c.39.39.9.59 1.41.59.51 0 1.02-.2 1.41-.59l7.78-7.78 2.81-2.81c.8-.78.8-2.07 0-2.86zM5.41 20L4 18.59l7.72-7.72 1.47 1.35L5.41 20z\"/>\n",
              "  </svg>\n",
              "      </button>\n",
              "      \n",
              "  <style>\n",
              "    .colab-df-container {\n",
              "      display:flex;\n",
              "      flex-wrap:wrap;\n",
              "      gap: 12px;\n",
              "    }\n",
              "\n",
              "    .colab-df-convert {\n",
              "      background-color: #E8F0FE;\n",
              "      border: none;\n",
              "      border-radius: 50%;\n",
              "      cursor: pointer;\n",
              "      display: none;\n",
              "      fill: #1967D2;\n",
              "      height: 32px;\n",
              "      padding: 0 0 0 0;\n",
              "      width: 32px;\n",
              "    }\n",
              "\n",
              "    .colab-df-convert:hover {\n",
              "      background-color: #E2EBFA;\n",
              "      box-shadow: 0px 1px 2px rgba(60, 64, 67, 0.3), 0px 1px 3px 1px rgba(60, 64, 67, 0.15);\n",
              "      fill: #174EA6;\n",
              "    }\n",
              "\n",
              "    [theme=dark] .colab-df-convert {\n",
              "      background-color: #3B4455;\n",
              "      fill: #D2E3FC;\n",
              "    }\n",
              "\n",
              "    [theme=dark] .colab-df-convert:hover {\n",
              "      background-color: #434B5C;\n",
              "      box-shadow: 0px 1px 3px 1px rgba(0, 0, 0, 0.15);\n",
              "      filter: drop-shadow(0px 1px 2px rgba(0, 0, 0, 0.3));\n",
              "      fill: #FFFFFF;\n",
              "    }\n",
              "  </style>\n",
              "\n",
              "      <script>\n",
              "        const buttonEl =\n",
              "          document.querySelector('#df-424022ed-fb62-4748-a6e2-41b65a03d597 button.colab-df-convert');\n",
              "        buttonEl.style.display =\n",
              "          google.colab.kernel.accessAllowed ? 'block' : 'none';\n",
              "\n",
              "        async function convertToInteractive(key) {\n",
              "          const element = document.querySelector('#df-424022ed-fb62-4748-a6e2-41b65a03d597');\n",
              "          const dataTable =\n",
              "            await google.colab.kernel.invokeFunction('convertToInteractive',\n",
              "                                                     [key], {});\n",
              "          if (!dataTable) return;\n",
              "\n",
              "          const docLinkHtml = 'Like what you see? Visit the ' +\n",
              "            '<a target=\"_blank\" href=https://colab.research.google.com/notebooks/data_table.ipynb>data table notebook</a>'\n",
              "            + ' to learn more about interactive tables.';\n",
              "          element.innerHTML = '';\n",
              "          dataTable['output_type'] = 'display_data';\n",
              "          await google.colab.output.renderOutput(dataTable, element);\n",
              "          const docLink = document.createElement('div');\n",
              "          docLink.innerHTML = docLinkHtml;\n",
              "          element.appendChild(docLink);\n",
              "        }\n",
              "      </script>\n",
              "    </div>\n",
              "  </div>\n",
              "  "
            ]
          },
          "metadata": {},
          "execution_count": 167
        }
      ]
    },
    {
      "cell_type": "code",
      "source": [
        "LJ_result(data['Return']).T"
      ],
      "metadata": {
        "colab": {
          "base_uri": "https://localhost:8080/"
        },
        "id": "guYDyYKoBo4Z",
        "outputId": "fc17dd7b-fc66-44a0-fdfa-aa9db5e2bbf6"
      },
      "execution_count": null,
      "outputs": [
        {
          "output_type": "stream",
          "name": "stderr",
          "text": [
            "/usr/local/lib/python3.8/dist-packages/statsmodels/stats/diagnostic.py:559: FutureWarning: The value returned will change to a single DataFrame after 0.12 is released.  Set return_df to True to use to return a DataFrame now.  Set return_df to False to silence this warning.\n",
            "  warnings.warn(msg, FutureWarning)\n"
          ]
        },
        {
          "output_type": "execute_result",
          "data": {
            "text/plain": [
              "                    0             1             2             3             4  \\\n",
              "lag      1.000000e+00  2.000000e+00  3.000000e+00  4.000000e+00  5.000000e+00   \n",
              "p_value  1.451965e-12  6.307436e-18  2.777120e-19  1.399943e-20  1.468451e-21   \n",
              "\n",
              "                    5             6             7             8             9  \n",
              "lag      6.000000e+00  7.000000e+00  8.000000e+00  9.000000e+00  1.000000e+01  \n",
              "p_value  6.680689e-21  1.717252e-20  7.073530e-20  1.864457e-20  1.464537e-20  "
            ],
            "text/html": [
              "\n",
              "  <div id=\"df-2925c400-92f9-4055-8077-a1e893ea5742\">\n",
              "    <div class=\"colab-df-container\">\n",
              "      <div>\n",
              "<style scoped>\n",
              "    .dataframe tbody tr th:only-of-type {\n",
              "        vertical-align: middle;\n",
              "    }\n",
              "\n",
              "    .dataframe tbody tr th {\n",
              "        vertical-align: top;\n",
              "    }\n",
              "\n",
              "    .dataframe thead th {\n",
              "        text-align: right;\n",
              "    }\n",
              "</style>\n",
              "<table border=\"1\" class=\"dataframe\">\n",
              "  <thead>\n",
              "    <tr style=\"text-align: right;\">\n",
              "      <th></th>\n",
              "      <th>0</th>\n",
              "      <th>1</th>\n",
              "      <th>2</th>\n",
              "      <th>3</th>\n",
              "      <th>4</th>\n",
              "      <th>5</th>\n",
              "      <th>6</th>\n",
              "      <th>7</th>\n",
              "      <th>8</th>\n",
              "      <th>9</th>\n",
              "    </tr>\n",
              "  </thead>\n",
              "  <tbody>\n",
              "    <tr>\n",
              "      <th>lag</th>\n",
              "      <td>1.000000e+00</td>\n",
              "      <td>2.000000e+00</td>\n",
              "      <td>3.000000e+00</td>\n",
              "      <td>4.000000e+00</td>\n",
              "      <td>5.000000e+00</td>\n",
              "      <td>6.000000e+00</td>\n",
              "      <td>7.000000e+00</td>\n",
              "      <td>8.000000e+00</td>\n",
              "      <td>9.000000e+00</td>\n",
              "      <td>1.000000e+01</td>\n",
              "    </tr>\n",
              "    <tr>\n",
              "      <th>p_value</th>\n",
              "      <td>1.451965e-12</td>\n",
              "      <td>6.307436e-18</td>\n",
              "      <td>2.777120e-19</td>\n",
              "      <td>1.399943e-20</td>\n",
              "      <td>1.468451e-21</td>\n",
              "      <td>6.680689e-21</td>\n",
              "      <td>1.717252e-20</td>\n",
              "      <td>7.073530e-20</td>\n",
              "      <td>1.864457e-20</td>\n",
              "      <td>1.464537e-20</td>\n",
              "    </tr>\n",
              "  </tbody>\n",
              "</table>\n",
              "</div>\n",
              "      <button class=\"colab-df-convert\" onclick=\"convertToInteractive('df-2925c400-92f9-4055-8077-a1e893ea5742')\"\n",
              "              title=\"Convert this dataframe to an interactive table.\"\n",
              "              style=\"display:none;\">\n",
              "        \n",
              "  <svg xmlns=\"http://www.w3.org/2000/svg\" height=\"24px\"viewBox=\"0 0 24 24\"\n",
              "       width=\"24px\">\n",
              "    <path d=\"M0 0h24v24H0V0z\" fill=\"none\"/>\n",
              "    <path d=\"M18.56 5.44l.94 2.06.94-2.06 2.06-.94-2.06-.94-.94-2.06-.94 2.06-2.06.94zm-11 1L8.5 8.5l.94-2.06 2.06-.94-2.06-.94L8.5 2.5l-.94 2.06-2.06.94zm10 10l.94 2.06.94-2.06 2.06-.94-2.06-.94-.94-2.06-.94 2.06-2.06.94z\"/><path d=\"M17.41 7.96l-1.37-1.37c-.4-.4-.92-.59-1.43-.59-.52 0-1.04.2-1.43.59L10.3 9.45l-7.72 7.72c-.78.78-.78 2.05 0 2.83L4 21.41c.39.39.9.59 1.41.59.51 0 1.02-.2 1.41-.59l7.78-7.78 2.81-2.81c.8-.78.8-2.07 0-2.86zM5.41 20L4 18.59l7.72-7.72 1.47 1.35L5.41 20z\"/>\n",
              "  </svg>\n",
              "      </button>\n",
              "      \n",
              "  <style>\n",
              "    .colab-df-container {\n",
              "      display:flex;\n",
              "      flex-wrap:wrap;\n",
              "      gap: 12px;\n",
              "    }\n",
              "\n",
              "    .colab-df-convert {\n",
              "      background-color: #E8F0FE;\n",
              "      border: none;\n",
              "      border-radius: 50%;\n",
              "      cursor: pointer;\n",
              "      display: none;\n",
              "      fill: #1967D2;\n",
              "      height: 32px;\n",
              "      padding: 0 0 0 0;\n",
              "      width: 32px;\n",
              "    }\n",
              "\n",
              "    .colab-df-convert:hover {\n",
              "      background-color: #E2EBFA;\n",
              "      box-shadow: 0px 1px 2px rgba(60, 64, 67, 0.3), 0px 1px 3px 1px rgba(60, 64, 67, 0.15);\n",
              "      fill: #174EA6;\n",
              "    }\n",
              "\n",
              "    [theme=dark] .colab-df-convert {\n",
              "      background-color: #3B4455;\n",
              "      fill: #D2E3FC;\n",
              "    }\n",
              "\n",
              "    [theme=dark] .colab-df-convert:hover {\n",
              "      background-color: #434B5C;\n",
              "      box-shadow: 0px 1px 3px 1px rgba(0, 0, 0, 0.15);\n",
              "      filter: drop-shadow(0px 1px 2px rgba(0, 0, 0, 0.3));\n",
              "      fill: #FFFFFF;\n",
              "    }\n",
              "  </style>\n",
              "\n",
              "      <script>\n",
              "        const buttonEl =\n",
              "          document.querySelector('#df-2925c400-92f9-4055-8077-a1e893ea5742 button.colab-df-convert');\n",
              "        buttonEl.style.display =\n",
              "          google.colab.kernel.accessAllowed ? 'block' : 'none';\n",
              "\n",
              "        async function convertToInteractive(key) {\n",
              "          const element = document.querySelector('#df-2925c400-92f9-4055-8077-a1e893ea5742');\n",
              "          const dataTable =\n",
              "            await google.colab.kernel.invokeFunction('convertToInteractive',\n",
              "                                                     [key], {});\n",
              "          if (!dataTable) return;\n",
              "\n",
              "          const docLinkHtml = 'Like what you see? Visit the ' +\n",
              "            '<a target=\"_blank\" href=https://colab.research.google.com/notebooks/data_table.ipynb>data table notebook</a>'\n",
              "            + ' to learn more about interactive tables.';\n",
              "          element.innerHTML = '';\n",
              "          dataTable['output_type'] = 'display_data';\n",
              "          await google.colab.output.renderOutput(dataTable, element);\n",
              "          const docLink = document.createElement('div');\n",
              "          docLink.innerHTML = docLinkHtml;\n",
              "          element.appendChild(docLink);\n",
              "        }\n",
              "      </script>\n",
              "    </div>\n",
              "  </div>\n",
              "  "
            ]
          },
          "metadata": {},
          "execution_count": 168
        }
      ]
    },
    {
      "cell_type": "markdown",
      "source": [
        "#예측"
      ],
      "metadata": {
        "id": "uz6pmJuLASzS"
      }
    },
    {
      "cell_type": "code",
      "source": [
        "data['Close_shift'] = data['Close'].shift(1)\n",
        "data['Fitted_Close'] = data['Close_shift'] * (1 + data['Fitted_Return'])\n",
        "data"
      ],
      "metadata": {
        "colab": {
          "base_uri": "https://localhost:8080/"
        },
        "id": "Jq-NSDZJD9al",
        "outputId": "6dc1bdca-912c-4b69-8af3-068f5e9c2d46"
      },
      "execution_count": null,
      "outputs": [
        {
          "output_type": "execute_result",
          "data": {
            "text/plain": [
              "           Date  Close    Return  Year  Fitted_Return  Return_Error  \\\n",
              "0    1995-05-03   1596  0.033124  1995       0.000000     -0.033124   \n",
              "1    1995-05-04   1583 -0.008179  1995       0.002813      0.010992   \n",
              "2    1995-05-06   1576 -0.004432  1995      -0.003016      0.001416   \n",
              "3    1995-05-08   1564 -0.007643  1995      -0.001245      0.006398   \n",
              "4    1995-05-09   1544 -0.012870  1995      -0.000891      0.011979   \n",
              "...         ...    ...       ...   ...            ...           ...   \n",
              "7010 2023-01-16  61100  0.004922  2023      -0.000241     -0.005163   \n",
              "7011 2023-01-17  61000 -0.001638  2023      -0.000318      0.001320   \n",
              "7012 2023-01-18  60400 -0.009885  2023      -0.000927      0.008958   \n",
              "7013 2023-01-19  61500  0.018048  2023      -0.001222     -0.019270   \n",
              "7014 2023-01-20  61400 -0.001627  2023       0.001996      0.003623   \n",
              "\n",
              "      Close_shift  Fitted_Close  \n",
              "0             NaN           NaN  \n",
              "1          1596.0   1600.489312  \n",
              "2          1583.0   1578.226268  \n",
              "3          1576.0   1574.037576  \n",
              "4          1564.0   1562.605793  \n",
              "...           ...           ...  \n",
              "7010      60800.0  60785.336202  \n",
              "7011      61100.0  61080.588912  \n",
              "7012      61000.0  60943.464038  \n",
              "7013      60400.0  60326.217702  \n",
              "7014      61500.0  61622.761475  \n",
              "\n",
              "[7015 rows x 8 columns]"
            ],
            "text/html": [
              "\n",
              "  <div id=\"df-0e321de3-f9f2-455d-871b-690c19881414\">\n",
              "    <div class=\"colab-df-container\">\n",
              "      <div>\n",
              "<style scoped>\n",
              "    .dataframe tbody tr th:only-of-type {\n",
              "        vertical-align: middle;\n",
              "    }\n",
              "\n",
              "    .dataframe tbody tr th {\n",
              "        vertical-align: top;\n",
              "    }\n",
              "\n",
              "    .dataframe thead th {\n",
              "        text-align: right;\n",
              "    }\n",
              "</style>\n",
              "<table border=\"1\" class=\"dataframe\">\n",
              "  <thead>\n",
              "    <tr style=\"text-align: right;\">\n",
              "      <th></th>\n",
              "      <th>Date</th>\n",
              "      <th>Close</th>\n",
              "      <th>Return</th>\n",
              "      <th>Year</th>\n",
              "      <th>Fitted_Return</th>\n",
              "      <th>Return_Error</th>\n",
              "      <th>Close_shift</th>\n",
              "      <th>Fitted_Close</th>\n",
              "    </tr>\n",
              "  </thead>\n",
              "  <tbody>\n",
              "    <tr>\n",
              "      <th>0</th>\n",
              "      <td>1995-05-03</td>\n",
              "      <td>1596</td>\n",
              "      <td>0.033124</td>\n",
              "      <td>1995</td>\n",
              "      <td>0.000000</td>\n",
              "      <td>-0.033124</td>\n",
              "      <td>NaN</td>\n",
              "      <td>NaN</td>\n",
              "    </tr>\n",
              "    <tr>\n",
              "      <th>1</th>\n",
              "      <td>1995-05-04</td>\n",
              "      <td>1583</td>\n",
              "      <td>-0.008179</td>\n",
              "      <td>1995</td>\n",
              "      <td>0.002813</td>\n",
              "      <td>0.010992</td>\n",
              "      <td>1596.0</td>\n",
              "      <td>1600.489312</td>\n",
              "    </tr>\n",
              "    <tr>\n",
              "      <th>2</th>\n",
              "      <td>1995-05-06</td>\n",
              "      <td>1576</td>\n",
              "      <td>-0.004432</td>\n",
              "      <td>1995</td>\n",
              "      <td>-0.003016</td>\n",
              "      <td>0.001416</td>\n",
              "      <td>1583.0</td>\n",
              "      <td>1578.226268</td>\n",
              "    </tr>\n",
              "    <tr>\n",
              "      <th>3</th>\n",
              "      <td>1995-05-08</td>\n",
              "      <td>1564</td>\n",
              "      <td>-0.007643</td>\n",
              "      <td>1995</td>\n",
              "      <td>-0.001245</td>\n",
              "      <td>0.006398</td>\n",
              "      <td>1576.0</td>\n",
              "      <td>1574.037576</td>\n",
              "    </tr>\n",
              "    <tr>\n",
              "      <th>4</th>\n",
              "      <td>1995-05-09</td>\n",
              "      <td>1544</td>\n",
              "      <td>-0.012870</td>\n",
              "      <td>1995</td>\n",
              "      <td>-0.000891</td>\n",
              "      <td>0.011979</td>\n",
              "      <td>1564.0</td>\n",
              "      <td>1562.605793</td>\n",
              "    </tr>\n",
              "    <tr>\n",
              "      <th>...</th>\n",
              "      <td>...</td>\n",
              "      <td>...</td>\n",
              "      <td>...</td>\n",
              "      <td>...</td>\n",
              "      <td>...</td>\n",
              "      <td>...</td>\n",
              "      <td>...</td>\n",
              "      <td>...</td>\n",
              "    </tr>\n",
              "    <tr>\n",
              "      <th>7010</th>\n",
              "      <td>2023-01-16</td>\n",
              "      <td>61100</td>\n",
              "      <td>0.004922</td>\n",
              "      <td>2023</td>\n",
              "      <td>-0.000241</td>\n",
              "      <td>-0.005163</td>\n",
              "      <td>60800.0</td>\n",
              "      <td>60785.336202</td>\n",
              "    </tr>\n",
              "    <tr>\n",
              "      <th>7011</th>\n",
              "      <td>2023-01-17</td>\n",
              "      <td>61000</td>\n",
              "      <td>-0.001638</td>\n",
              "      <td>2023</td>\n",
              "      <td>-0.000318</td>\n",
              "      <td>0.001320</td>\n",
              "      <td>61100.0</td>\n",
              "      <td>61080.588912</td>\n",
              "    </tr>\n",
              "    <tr>\n",
              "      <th>7012</th>\n",
              "      <td>2023-01-18</td>\n",
              "      <td>60400</td>\n",
              "      <td>-0.009885</td>\n",
              "      <td>2023</td>\n",
              "      <td>-0.000927</td>\n",
              "      <td>0.008958</td>\n",
              "      <td>61000.0</td>\n",
              "      <td>60943.464038</td>\n",
              "    </tr>\n",
              "    <tr>\n",
              "      <th>7013</th>\n",
              "      <td>2023-01-19</td>\n",
              "      <td>61500</td>\n",
              "      <td>0.018048</td>\n",
              "      <td>2023</td>\n",
              "      <td>-0.001222</td>\n",
              "      <td>-0.019270</td>\n",
              "      <td>60400.0</td>\n",
              "      <td>60326.217702</td>\n",
              "    </tr>\n",
              "    <tr>\n",
              "      <th>7014</th>\n",
              "      <td>2023-01-20</td>\n",
              "      <td>61400</td>\n",
              "      <td>-0.001627</td>\n",
              "      <td>2023</td>\n",
              "      <td>0.001996</td>\n",
              "      <td>0.003623</td>\n",
              "      <td>61500.0</td>\n",
              "      <td>61622.761475</td>\n",
              "    </tr>\n",
              "  </tbody>\n",
              "</table>\n",
              "<p>7015 rows × 8 columns</p>\n",
              "</div>\n",
              "      <button class=\"colab-df-convert\" onclick=\"convertToInteractive('df-0e321de3-f9f2-455d-871b-690c19881414')\"\n",
              "              title=\"Convert this dataframe to an interactive table.\"\n",
              "              style=\"display:none;\">\n",
              "        \n",
              "  <svg xmlns=\"http://www.w3.org/2000/svg\" height=\"24px\"viewBox=\"0 0 24 24\"\n",
              "       width=\"24px\">\n",
              "    <path d=\"M0 0h24v24H0V0z\" fill=\"none\"/>\n",
              "    <path d=\"M18.56 5.44l.94 2.06.94-2.06 2.06-.94-2.06-.94-.94-2.06-.94 2.06-2.06.94zm-11 1L8.5 8.5l.94-2.06 2.06-.94-2.06-.94L8.5 2.5l-.94 2.06-2.06.94zm10 10l.94 2.06.94-2.06 2.06-.94-2.06-.94-.94-2.06-.94 2.06-2.06.94z\"/><path d=\"M17.41 7.96l-1.37-1.37c-.4-.4-.92-.59-1.43-.59-.52 0-1.04.2-1.43.59L10.3 9.45l-7.72 7.72c-.78.78-.78 2.05 0 2.83L4 21.41c.39.39.9.59 1.41.59.51 0 1.02-.2 1.41-.59l7.78-7.78 2.81-2.81c.8-.78.8-2.07 0-2.86zM5.41 20L4 18.59l7.72-7.72 1.47 1.35L5.41 20z\"/>\n",
              "  </svg>\n",
              "      </button>\n",
              "      \n",
              "  <style>\n",
              "    .colab-df-container {\n",
              "      display:flex;\n",
              "      flex-wrap:wrap;\n",
              "      gap: 12px;\n",
              "    }\n",
              "\n",
              "    .colab-df-convert {\n",
              "      background-color: #E8F0FE;\n",
              "      border: none;\n",
              "      border-radius: 50%;\n",
              "      cursor: pointer;\n",
              "      display: none;\n",
              "      fill: #1967D2;\n",
              "      height: 32px;\n",
              "      padding: 0 0 0 0;\n",
              "      width: 32px;\n",
              "    }\n",
              "\n",
              "    .colab-df-convert:hover {\n",
              "      background-color: #E2EBFA;\n",
              "      box-shadow: 0px 1px 2px rgba(60, 64, 67, 0.3), 0px 1px 3px 1px rgba(60, 64, 67, 0.15);\n",
              "      fill: #174EA6;\n",
              "    }\n",
              "\n",
              "    [theme=dark] .colab-df-convert {\n",
              "      background-color: #3B4455;\n",
              "      fill: #D2E3FC;\n",
              "    }\n",
              "\n",
              "    [theme=dark] .colab-df-convert:hover {\n",
              "      background-color: #434B5C;\n",
              "      box-shadow: 0px 1px 3px 1px rgba(0, 0, 0, 0.15);\n",
              "      filter: drop-shadow(0px 1px 2px rgba(0, 0, 0, 0.3));\n",
              "      fill: #FFFFFF;\n",
              "    }\n",
              "  </style>\n",
              "\n",
              "      <script>\n",
              "        const buttonEl =\n",
              "          document.querySelector('#df-0e321de3-f9f2-455d-871b-690c19881414 button.colab-df-convert');\n",
              "        buttonEl.style.display =\n",
              "          google.colab.kernel.accessAllowed ? 'block' : 'none';\n",
              "\n",
              "        async function convertToInteractive(key) {\n",
              "          const element = document.querySelector('#df-0e321de3-f9f2-455d-871b-690c19881414');\n",
              "          const dataTable =\n",
              "            await google.colab.kernel.invokeFunction('convertToInteractive',\n",
              "                                                     [key], {});\n",
              "          if (!dataTable) return;\n",
              "\n",
              "          const docLinkHtml = 'Like what you see? Visit the ' +\n",
              "            '<a target=\"_blank\" href=https://colab.research.google.com/notebooks/data_table.ipynb>data table notebook</a>'\n",
              "            + ' to learn more about interactive tables.';\n",
              "          element.innerHTML = '';\n",
              "          dataTable['output_type'] = 'display_data';\n",
              "          await google.colab.output.renderOutput(dataTable, element);\n",
              "          const docLink = document.createElement('div');\n",
              "          docLink.innerHTML = docLinkHtml;\n",
              "          element.appendChild(docLink);\n",
              "        }\n",
              "      </script>\n",
              "    </div>\n",
              "  </div>\n",
              "  "
            ]
          },
          "metadata": {},
          "execution_count": 172
        }
      ]
    },
    {
      "cell_type": "code",
      "source": [
        "plt.figure(figsize = (16,8))\n",
        "plt.plot(data['Date'], data['Close'], label = 'Data', color = 'blue', linestyle = ':')\n",
        "plt.plot(data['Date'], data['Fitted_Close'], label = 'Fitted', color = 'orange', linestyle = ':')\n",
        "plt.legend()\n",
        "plt.show()"
      ],
      "metadata": {
        "colab": {
          "base_uri": "https://localhost:8080/"
        },
        "id": "uY3JXCGpYBnp",
        "outputId": "e70dfccf-705f-4ee3-d163-420e9932deee"
      },
      "execution_count": null,
      "outputs": [
        {
          "output_type": "display_data",
          "data": {
            "text/plain": [
              "<Figure size 1152x576 with 1 Axes>"
            ],
            "image/png": "[encoded data removed]"
          },
          "metadata": {
            "needs_background": "light"
          }
        }
      ]
    },
    {
      "cell_type": "code",
      "source": [
        "data1 = data[data['Year'] >= 2022]\n",
        "plt.figure(figsize = (16,8))\n",
        "plt.plot(data1['Date'], data1['Close'], label = 'Data', color = 'blue')\n",
        "plt.plot(data1['Date'], data1['Fitted_Close'], label = 'Fitted', color = 'orange')\n",
        "plt.legend()\n",
        "plt.show()"
      ],
      "metadata": {
        "colab": {
          "base_uri": "https://localhost:8080/"
        },
        "id": "7h0vwEQDZrb6",
        "outputId": "15eee0f3-ebef-4adc-cc43-668bd898cf34"
      },
      "execution_count": null,
      "outputs": [
        {
          "output_type": "display_data",
          "data": {
            "text/plain": [
              "<Figure size 1152x576 with 1 Axes>"
            ],
            "image/png": "[encoded data removed]"
          },
          "metadata": {
            "needs_background": "light"
          }
        }
      ]
    },
    {
      "cell_type": "code",
      "source": [
        "data['Close_Error'] = data['Fitted_Close'] - data['Close']\n",
        "data"
      ],
      "metadata": {
        "colab": {
          "base_uri": "https://localhost:8080/"
        },
        "id": "GdspXVWleUP2",
        "outputId": "ea63f60a-8f52-4ffa-d311-3cb33812a438"
      },
      "execution_count": null,
      "outputs": [
        {
          "output_type": "execute_result",
          "data": {
            "text/plain": [
              "           Date  Close    Return  Year  Fitted_Return  Return_Error  \\\n",
              "0    1995-05-03   1596  0.033124  1995       0.000000     -0.033124   \n",
              "1    1995-05-04   1583 -0.008179  1995       0.002813      0.010992   \n",
              "2    1995-05-06   1576 -0.004432  1995      -0.003016      0.001416   \n",
              "3    1995-05-08   1564 -0.007643  1995      -0.001245      0.006398   \n",
              "4    1995-05-09   1544 -0.012870  1995      -0.000891      0.011979   \n",
              "...         ...    ...       ...   ...            ...           ...   \n",
              "7010 2023-01-16  61100  0.004922  2023      -0.000241     -0.005163   \n",
              "7011 2023-01-17  61000 -0.001638  2023      -0.000318      0.001320   \n",
              "7012 2023-01-18  60400 -0.009885  2023      -0.000927      0.008958   \n",
              "7013 2023-01-19  61500  0.018048  2023      -0.001222     -0.019270   \n",
              "7014 2023-01-20  61400 -0.001627  2023       0.001996      0.003623   \n",
              "\n",
              "      Close_shift  Fitted_Close  Close_Error  \n",
              "0             NaN           NaN          NaN  \n",
              "1          1596.0   1600.489312    17.489312  \n",
              "2          1583.0   1578.226268     2.226268  \n",
              "3          1576.0   1574.037576    10.037576  \n",
              "4          1564.0   1562.605793    18.605793  \n",
              "...           ...           ...          ...  \n",
              "7010      60800.0  60785.336202  -314.663798  \n",
              "7011      61100.0  61080.588912    80.588912  \n",
              "7012      61000.0  60943.464038   543.464038  \n",
              "7013      60400.0  60326.217702 -1173.782298  \n",
              "7014      61500.0  61622.761475   222.761475  \n",
              "\n",
              "[7015 rows x 9 columns]"
            ],
            "text/html": [
              "\n",
              "  <div id=\"df-afef93e2-0e74-489b-8fc6-f0866f196d48\">\n",
              "    <div class=\"colab-df-container\">\n",
              "      <div>\n",
              "<style scoped>\n",
              "    .dataframe tbody tr th:only-of-type {\n",
              "        vertical-align: middle;\n",
              "    }\n",
              "\n",
              "    .dataframe tbody tr th {\n",
              "        vertical-align: top;\n",
              "    }\n",
              "\n",
              "    .dataframe thead th {\n",
              "        text-align: right;\n",
              "    }\n",
              "</style>\n",
              "<table border=\"1\" class=\"dataframe\">\n",
              "  <thead>\n",
              "    <tr style=\"text-align: right;\">\n",
              "      <th></th>\n",
              "      <th>Date</th>\n",
              "      <th>Close</th>\n",
              "      <th>Return</th>\n",
              "      <th>Year</th>\n",
              "      <th>Fitted_Return</th>\n",
              "      <th>Return_Error</th>\n",
              "      <th>Close_shift</th>\n",
              "      <th>Fitted_Close</th>\n",
              "      <th>Close_Error</th>\n",
              "    </tr>\n",
              "  </thead>\n",
              "  <tbody>\n",
              "    <tr>\n",
              "      <th>0</th>\n",
              "      <td>1995-05-03</td>\n",
              "      <td>1596</td>\n",
              "      <td>0.033124</td>\n",
              "      <td>1995</td>\n",
              "      <td>0.000000</td>\n",
              "      <td>-0.033124</td>\n",
              "      <td>NaN</td>\n",
              "      <td>NaN</td>\n",
              "      <td>NaN</td>\n",
              "    </tr>\n",
              "    <tr>\n",
              "      <th>1</th>\n",
              "      <td>1995-05-04</td>\n",
              "      <td>1583</td>\n",
              "      <td>-0.008179</td>\n",
              "      <td>1995</td>\n",
              "      <td>0.002813</td>\n",
              "      <td>0.010992</td>\n",
              "      <td>1596.0</td>\n",
              "      <td>1600.489312</td>\n",
              "      <td>17.489312</td>\n",
              "    </tr>\n",
              "    <tr>\n",
              "      <th>2</th>\n",
              "      <td>1995-05-06</td>\n",
              "      <td>1576</td>\n",
              "      <td>-0.004432</td>\n",
              "      <td>1995</td>\n",
              "      <td>-0.003016</td>\n",
              "      <td>0.001416</td>\n",
              "      <td>1583.0</td>\n",
              "      <td>1578.226268</td>\n",
              "      <td>2.226268</td>\n",
              "    </tr>\n",
              "    <tr>\n",
              "      <th>3</th>\n",
              "      <td>1995-05-08</td>\n",
              "      <td>1564</td>\n",
              "      <td>-0.007643</td>\n",
              "      <td>1995</td>\n",
              "      <td>-0.001245</td>\n",
              "      <td>0.006398</td>\n",
              "      <td>1576.0</td>\n",
              "      <td>1574.037576</td>\n",
              "      <td>10.037576</td>\n",
              "    </tr>\n",
              "    <tr>\n",
              "      <th>4</th>\n",
              "      <td>1995-05-09</td>\n",
              "      <td>1544</td>\n",
              "      <td>-0.012870</td>\n",
              "      <td>1995</td>\n",
              "      <td>-0.000891</td>\n",
              "      <td>0.011979</td>\n",
              "      <td>1564.0</td>\n",
              "      <td>1562.605793</td>\n",
              "      <td>18.605793</td>\n",
              "    </tr>\n",
              "    <tr>\n",
              "      <th>...</th>\n",
              "      <td>...</td>\n",
              "      <td>...</td>\n",
              "      <td>...</td>\n",
              "      <td>...</td>\n",
              "      <td>...</td>\n",
              "      <td>...</td>\n",
              "      <td>...</td>\n",
              "      <td>...</td>\n",
              "      <td>...</td>\n",
              "    </tr>\n",
              "    <tr>\n",
              "      <th>7010</th>\n",
              "      <td>2023-01-16</td>\n",
              "      <td>61100</td>\n",
              "      <td>0.004922</td>\n",
              "      <td>2023</td>\n",
              "      <td>-0.000241</td>\n",
              "      <td>-0.005163</td>\n",
              "      <td>60800.0</td>\n",
              "      <td>60785.336202</td>\n",
              "      <td>-314.663798</td>\n",
              "    </tr>\n",
              "    <tr>\n",
              "      <th>7011</th>\n",
              "      <td>2023-01-17</td>\n",
              "      <td>61000</td>\n",
              "      <td>-0.001638</td>\n",
              "      <td>2023</td>\n",
              "      <td>-0.000318</td>\n",
              "      <td>0.001320</td>\n",
              "      <td>61100.0</td>\n",
              "      <td>61080.588912</td>\n",
              "      <td>80.588912</td>\n",
              "    </tr>\n",
              "    <tr>\n",
              "      <th>7012</th>\n",
              "      <td>2023-01-18</td>\n",
              "      <td>60400</td>\n",
              "      <td>-0.009885</td>\n",
              "      <td>2023</td>\n",
              "      <td>-0.000927</td>\n",
              "      <td>0.008958</td>\n",
              "      <td>61000.0</td>\n",
              "      <td>60943.464038</td>\n",
              "      <td>543.464038</td>\n",
              "    </tr>\n",
              "    <tr>\n",
              "      <th>7013</th>\n",
              "      <td>2023-01-19</td>\n",
              "      <td>61500</td>\n",
              "      <td>0.018048</td>\n",
              "      <td>2023</td>\n",
              "      <td>-0.001222</td>\n",
              "      <td>-0.019270</td>\n",
              "      <td>60400.0</td>\n",
              "      <td>60326.217702</td>\n",
              "      <td>-1173.782298</td>\n",
              "    </tr>\n",
              "    <tr>\n",
              "      <th>7014</th>\n",
              "      <td>2023-01-20</td>\n",
              "      <td>61400</td>\n",
              "      <td>-0.001627</td>\n",
              "      <td>2023</td>\n",
              "      <td>0.001996</td>\n",
              "      <td>0.003623</td>\n",
              "      <td>61500.0</td>\n",
              "      <td>61622.761475</td>\n",
              "      <td>222.761475</td>\n",
              "    </tr>\n",
              "  </tbody>\n",
              "</table>\n",
              "<p>7015 rows × 9 columns</p>\n",
              "</div>\n",
              "      <button class=\"colab-df-convert\" onclick=\"convertToInteractive('df-afef93e2-0e74-489b-8fc6-f0866f196d48')\"\n",
              "              title=\"Convert this dataframe to an interactive table.\"\n",
              "              style=\"display:none;\">\n",
              "        \n",
              "  <svg xmlns=\"http://www.w3.org/2000/svg\" height=\"24px\"viewBox=\"0 0 24 24\"\n",
              "       width=\"24px\">\n",
              "    <path d=\"M0 0h24v24H0V0z\" fill=\"none\"/>\n",
              "    <path d=\"M18.56 5.44l.94 2.06.94-2.06 2.06-.94-2.06-.94-.94-2.06-.94 2.06-2.06.94zm-11 1L8.5 8.5l.94-2.06 2.06-.94-2.06-.94L8.5 2.5l-.94 2.06-2.06.94zm10 10l.94 2.06.94-2.06 2.06-.94-2.06-.94-.94-2.06-.94 2.06-2.06.94z\"/><path d=\"M17.41 7.96l-1.37-1.37c-.4-.4-.92-.59-1.43-.59-.52 0-1.04.2-1.43.59L10.3 9.45l-7.72 7.72c-.78.78-.78 2.05 0 2.83L4 21.41c.39.39.9.59 1.41.59.51 0 1.02-.2 1.41-.59l7.78-7.78 2.81-2.81c.8-.78.8-2.07 0-2.86zM5.41 20L4 18.59l7.72-7.72 1.47 1.35L5.41 20z\"/>\n",
              "  </svg>\n",
              "      </button>\n",
              "      \n",
              "  <style>\n",
              "    .colab-df-container {\n",
              "      display:flex;\n",
              "      flex-wrap:wrap;\n",
              "      gap: 12px;\n",
              "    }\n",
              "\n",
              "    .colab-df-convert {\n",
              "      background-color: #E8F0FE;\n",
              "      border: none;\n",
              "      border-radius: 50%;\n",
              "      cursor: pointer;\n",
              "      display: none;\n",
              "      fill: #1967D2;\n",
              "      height: 32px;\n",
              "      padding: 0 0 0 0;\n",
              "      width: 32px;\n",
              "    }\n",
              "\n",
              "    .colab-df-convert:hover {\n",
              "      background-color: #E2EBFA;\n",
              "      box-shadow: 0px 1px 2px rgba(60, 64, 67, 0.3), 0px 1px 3px 1px rgba(60, 64, 67, 0.15);\n",
              "      fill: #174EA6;\n",
              "    }\n",
              "\n",
              "    [theme=dark] .colab-df-convert {\n",
              "      background-color: #3B4455;\n",
              "      fill: #D2E3FC;\n",
              "    }\n",
              "\n",
              "    [theme=dark] .colab-df-convert:hover {\n",
              "      background-color: #434B5C;\n",
              "      box-shadow: 0px 1px 3px 1px rgba(0, 0, 0, 0.15);\n",
              "      filter: drop-shadow(0px 1px 2px rgba(0, 0, 0, 0.3));\n",
              "      fill: #FFFFFF;\n",
              "    }\n",
              "  </style>\n",
              "\n",
              "      <script>\n",
              "        const buttonEl =\n",
              "          document.querySelector('#df-afef93e2-0e74-489b-8fc6-f0866f196d48 button.colab-df-convert');\n",
              "        buttonEl.style.display =\n",
              "          google.colab.kernel.accessAllowed ? 'block' : 'none';\n",
              "\n",
              "        async function convertToInteractive(key) {\n",
              "          const element = document.querySelector('#df-afef93e2-0e74-489b-8fc6-f0866f196d48');\n",
              "          const dataTable =\n",
              "            await google.colab.kernel.invokeFunction('convertToInteractive',\n",
              "                                                     [key], {});\n",
              "          if (!dataTable) return;\n",
              "\n",
              "          const docLinkHtml = 'Like what you see? Visit the ' +\n",
              "            '<a target=\"_blank\" href=https://colab.research.google.com/notebooks/data_table.ipynb>data table notebook</a>'\n",
              "            + ' to learn more about interactive tables.';\n",
              "          element.innerHTML = '';\n",
              "          dataTable['output_type'] = 'display_data';\n",
              "          await google.colab.output.renderOutput(dataTable, element);\n",
              "          const docLink = document.createElement('div');\n",
              "          docLink.innerHTML = docLinkHtml;\n",
              "          element.appendChild(docLink);\n",
              "        }\n",
              "      </script>\n",
              "    </div>\n",
              "  </div>\n",
              "  "
            ]
          },
          "metadata": {},
          "execution_count": 175
        }
      ]
    },
    {
      "cell_type": "code",
      "source": [
        "plt.plot(data['Close_Error'])"
      ],
      "metadata": {
        "colab": {
          "base_uri": "https://localhost:8080/"
        },
        "id": "8oDnzKTRHWdp",
        "outputId": "e03ecde4-84ed-4dcf-b6f7-edee08787fa1"
      },
      "execution_count": null,
      "outputs": [
        {
          "output_type": "execute_result",
          "data": {
            "text/plain": [
              "[<matplotlib.lines.Line2D at 0x7fd80262a130>]"
            ]
          },
          "metadata": {},
          "execution_count": 176
        },
        {
          "output_type": "display_data",
          "data": {
            "text/plain": [
              "<Figure size 432x288 with 1 Axes>"
            ],
            "image/png": "[encoded data removed]"
          },
          "metadata": {
            "needs_background": "light"
          }
        }
      ]
    },
    {
      "cell_type": "code",
      "source": [
        "np.sqrt(np.mean(data['Close_Error']**2))"
      ],
      "metadata": {
        "colab": {
          "base_uri": "https://localhost:8080/"
        },
        "id": "y4a4FKBNG_3m",
        "outputId": "1b3e96e9-abbc-42a0-8817-de63236a03e4"
      },
      "execution_count": null,
      "outputs": [
        {
          "output_type": "execute_result",
          "data": {
            "text/plain": [
              "485.89105072658197"
            ]
          },
          "metadata": {},
          "execution_count": 177
        }
      ]
    },
    {
      "cell_type": "code",
      "source": [
        "plt.plot(data['Close_Error']/data['Close_shift'])"
      ],
      "metadata": {
        "colab": {
          "base_uri": "https://localhost:8080/"
        },
        "id": "KlZhnSDyGr93",
        "outputId": "f69a30df-31d6-4688-c8db-0d7464af4f4b"
      },
      "execution_count": null,
      "outputs": [
        {
          "output_type": "execute_result",
          "data": {
            "text/plain": [
              "[<matplotlib.lines.Line2D at 0x7fd8025f7eb0>]"
            ]
          },
          "metadata": {},
          "execution_count": 178
        },
        {
          "output_type": "display_data",
          "data": {
            "text/plain": [
              "<Figure size 432x288 with 1 Axes>"
            ],
            "image/png": "[encoded data removed]"
          },
          "metadata": {
            "needs_background": "light"
          }
        }
      ]
    },
    {
      "cell_type": "code",
      "source": [
        "np.sqrt(np.mean((data['Close_Error']/data['Close_shift'])**2))"
      ],
      "metadata": {
        "colab": {
          "base_uri": "https://localhost:8080/"
        },
        "id": "LwM1RTSLH6mU",
        "outputId": "abf55031-e608-4322-ba68-54f68f631cd6"
      },
      "execution_count": null,
      "outputs": [
        {
          "output_type": "execute_result",
          "data": {
            "text/plain": [
              "0.024981561439835504"
            ]
          },
          "metadata": {},
          "execution_count": 179
        }
      ]
    },
    {
      "cell_type": "markdown",
      "source": [
        "#Auto ARIMA"
      ],
      "metadata": {
        "id": "-BS8oIoJVMQ-"
      }
    },
    {
      "cell_type": "code",
      "source": [
        "!pip install pmdarima\n",
        "\n",
        "import pmdarima as pm"
      ],
      "metadata": {
        "colab": {
          "base_uri": "https://localhost:8080/"
        },
        "id": "LaZF9o-IVThp",
        "outputId": "72cc5bbd-568d-420a-f926-4fcb66603c67"
      },
      "execution_count": null,
      "outputs": [
        {
          "output_type": "stream",
          "name": "stdout",
          "text": [
            "Looking in indexes: https://pypi.org/simple, https://us-python.pkg.dev/colab-wheels/public/simple/\n",
            "Requirement already satisfied: pmdarima in /usr/local/lib/python3.8/dist-packages (2.0.2)\n",
            "Requirement already satisfied: pandas>=0.19 in /usr/local/lib/python3.8/dist-packages (from pmdarima) (1.3.5)\n",
            "Requirement already satisfied: joblib>=0.11 in /usr/local/lib/python3.8/dist-packages (from pmdarima) (1.2.0)\n",
            "Requirement already satisfied: urllib3 in /usr/local/lib/python3.8/dist-packages (from pmdarima) (1.24.3)\n",
            "Requirement already satisfied: setuptools!=50.0.0,>=38.6.0 in /usr/local/lib/python3.8/dist-packages (from pmdarima) (57.4.0)\n",
            "Requirement already satisfied: Cython!=0.29.18,!=0.29.31,>=0.29 in /usr/local/lib/python3.8/dist-packages (from pmdarima) (0.29.33)\n",
            "Requirement already satisfied: scikit-learn>=0.22 in /usr/local/lib/python3.8/dist-packages (from pmdarima) (1.0.2)\n",
            "Requirement already satisfied: statsmodels>=0.13.2 in /usr/local/lib/python3.8/dist-packages (from pmdarima) (0.13.5)\n",
            "Requirement already satisfied: scipy>=1.3.2 in /usr/local/lib/python3.8/dist-packages (from pmdarima) (1.7.3)\n",
            "Requirement already satisfied: numpy>=1.21.2 in /usr/local/lib/python3.8/dist-packages (from pmdarima) (1.21.6)\n",
            "Requirement already satisfied: pytz>=2017.3 in /usr/local/lib/python3.8/dist-packages (from pandas>=0.19->pmdarima) (2022.7.1)\n",
            "Requirement already satisfied: python-dateutil>=2.7.3 in /usr/local/lib/python3.8/dist-packages (from pandas>=0.19->pmdarima) (2.8.2)\n",
            "Requirement already satisfied: threadpoolctl>=2.0.0 in /usr/local/lib/python3.8/dist-packages (from scikit-learn>=0.22->pmdarima) (3.1.0)\n",
            "Requirement already satisfied: packaging>=21.3 in /usr/local/lib/python3.8/dist-packages (from statsmodels>=0.13.2->pmdarima) (23.0)\n",
            "Requirement already satisfied: patsy>=0.5.2 in /usr/local/lib/python3.8/dist-packages (from statsmodels>=0.13.2->pmdarima) (0.5.3)\n",
            "Requirement already satisfied: six in /usr/local/lib/python3.8/dist-packages (from patsy>=0.5.2->statsmodels>=0.13.2->pmdarima) (1.15.0)\n"
          ]
        }
      ]
    },
    {
      "cell_type": "code",
      "source": [
        "data_auto = data.copy().iloc[:, :4]\n",
        "data_auto.head(5)"
      ],
      "metadata": {
        "colab": {
          "base_uri": "https://localhost:8080/",
          "height": 206
        },
        "id": "UHtaP5FTXAYg",
        "outputId": "b0c90d66-a145-45ef-b8b7-159f7c75d39b"
      },
      "execution_count": null,
      "outputs": [
        {
          "output_type": "execute_result",
          "data": {
            "text/plain": [
              "        Date  Close    Return  Year\n",
              "0 1995-05-03   1596  0.033124  1995\n",
              "1 1995-05-04   1583 -0.008179  1995\n",
              "2 1995-05-06   1576 -0.004432  1995\n",
              "3 1995-05-08   1564 -0.007643  1995\n",
              "4 1995-05-09   1544 -0.012870  1995"
            ],
            "text/html": [
              "\n",
              "  <div id=\"df-10dc1b55-fad7-49ee-b73f-8d7dd8e432de\">\n",
              "    <div class=\"colab-df-container\">\n",
              "      <div>\n",
              "<style scoped>\n",
              "    .dataframe tbody tr th:only-of-type {\n",
              "        vertical-align: middle;\n",
              "    }\n",
              "\n",
              "    .dataframe tbody tr th {\n",
              "        vertical-align: top;\n",
              "    }\n",
              "\n",
              "    .dataframe thead th {\n",
              "        text-align: right;\n",
              "    }\n",
              "</style>\n",
              "<table border=\"1\" class=\"dataframe\">\n",
              "  <thead>\n",
              "    <tr style=\"text-align: right;\">\n",
              "      <th></th>\n",
              "      <th>Date</th>\n",
              "      <th>Close</th>\n",
              "      <th>Return</th>\n",
              "      <th>Year</th>\n",
              "    </tr>\n",
              "  </thead>\n",
              "  <tbody>\n",
              "    <tr>\n",
              "      <th>0</th>\n",
              "      <td>1995-05-03</td>\n",
              "      <td>1596</td>\n",
              "      <td>0.033124</td>\n",
              "      <td>1995</td>\n",
              "    </tr>\n",
              "    <tr>\n",
              "      <th>1</th>\n",
              "      <td>1995-05-04</td>\n",
              "      <td>1583</td>\n",
              "      <td>-0.008179</td>\n",
              "      <td>1995</td>\n",
              "    </tr>\n",
              "    <tr>\n",
              "      <th>2</th>\n",
              "      <td>1995-05-06</td>\n",
              "      <td>1576</td>\n",
              "      <td>-0.004432</td>\n",
              "      <td>1995</td>\n",
              "    </tr>\n",
              "    <tr>\n",
              "      <th>3</th>\n",
              "      <td>1995-05-08</td>\n",
              "      <td>1564</td>\n",
              "      <td>-0.007643</td>\n",
              "      <td>1995</td>\n",
              "    </tr>\n",
              "    <tr>\n",
              "      <th>4</th>\n",
              "      <td>1995-05-09</td>\n",
              "      <td>1544</td>\n",
              "      <td>-0.012870</td>\n",
              "      <td>1995</td>\n",
              "    </tr>\n",
              "  </tbody>\n",
              "</table>\n",
              "</div>\n",
              "      <button class=\"colab-df-convert\" onclick=\"convertToInteractive('df-10dc1b55-fad7-49ee-b73f-8d7dd8e432de')\"\n",
              "              title=\"Convert this dataframe to an interactive table.\"\n",
              "              style=\"display:none;\">\n",
              "        \n",
              "  <svg xmlns=\"http://www.w3.org/2000/svg\" height=\"24px\"viewBox=\"0 0 24 24\"\n",
              "       width=\"24px\">\n",
              "    <path d=\"M0 0h24v24H0V0z\" fill=\"none\"/>\n",
              "    <path d=\"M18.56 5.44l.94 2.06.94-2.06 2.06-.94-2.06-.94-.94-2.06-.94 2.06-2.06.94zm-11 1L8.5 8.5l.94-2.06 2.06-.94-2.06-.94L8.5 2.5l-.94 2.06-2.06.94zm10 10l.94 2.06.94-2.06 2.06-.94-2.06-.94-.94-2.06-.94 2.06-2.06.94z\"/><path d=\"M17.41 7.96l-1.37-1.37c-.4-.4-.92-.59-1.43-.59-.52 0-1.04.2-1.43.59L10.3 9.45l-7.72 7.72c-.78.78-.78 2.05 0 2.83L4 21.41c.39.39.9.59 1.41.59.51 0 1.02-.2 1.41-.59l7.78-7.78 2.81-2.81c.8-.78.8-2.07 0-2.86zM5.41 20L4 18.59l7.72-7.72 1.47 1.35L5.41 20z\"/>\n",
              "  </svg>\n",
              "      </button>\n",
              "      \n",
              "  <style>\n",
              "    .colab-df-container {\n",
              "      display:flex;\n",
              "      flex-wrap:wrap;\n",
              "      gap: 12px;\n",
              "    }\n",
              "\n",
              "    .colab-df-convert {\n",
              "      background-color: #E8F0FE;\n",
              "      border: none;\n",
              "      border-radius: 50%;\n",
              "      cursor: pointer;\n",
              "      display: none;\n",
              "      fill: #1967D2;\n",
              "      height: 32px;\n",
              "      padding: 0 0 0 0;\n",
              "      width: 32px;\n",
              "    }\n",
              "\n",
              "    .colab-df-convert:hover {\n",
              "      background-color: #E2EBFA;\n",
              "      box-shadow: 0px 1px 2px rgba(60, 64, 67, 0.3), 0px 1px 3px 1px rgba(60, 64, 67, 0.15);\n",
              "      fill: #174EA6;\n",
              "    }\n",
              "\n",
              "    [theme=dark] .colab-df-convert {\n",
              "      background-color: #3B4455;\n",
              "      fill: #D2E3FC;\n",
              "    }\n",
              "\n",
              "    [theme=dark] .colab-df-convert:hover {\n",
              "      background-color: #434B5C;\n",
              "      box-shadow: 0px 1px 3px 1px rgba(0, 0, 0, 0.15);\n",
              "      filter: drop-shadow(0px 1px 2px rgba(0, 0, 0, 0.3));\n",
              "      fill: #FFFFFF;\n",
              "    }\n",
              "  </style>\n",
              "\n",
              "      <script>\n",
              "        const buttonEl =\n",
              "          document.querySelector('#df-10dc1b55-fad7-49ee-b73f-8d7dd8e432de button.colab-df-convert');\n",
              "        buttonEl.style.display =\n",
              "          google.colab.kernel.accessAllowed ? 'block' : 'none';\n",
              "\n",
              "        async function convertToInteractive(key) {\n",
              "          const element = document.querySelector('#df-10dc1b55-fad7-49ee-b73f-8d7dd8e432de');\n",
              "          const dataTable =\n",
              "            await google.colab.kernel.invokeFunction('convertToInteractive',\n",
              "                                                     [key], {});\n",
              "          if (!dataTable) return;\n",
              "\n",
              "          const docLinkHtml = 'Like what you see? Visit the ' +\n",
              "            '<a target=\"_blank\" href=https://colab.research.google.com/notebooks/data_table.ipynb>data table notebook</a>'\n",
              "            + ' to learn more about interactive tables.';\n",
              "          element.innerHTML = '';\n",
              "          dataTable['output_type'] = 'display_data';\n",
              "          await google.colab.output.renderOutput(dataTable, element);\n",
              "          const docLink = document.createElement('div');\n",
              "          docLink.innerHTML = docLinkHtml;\n",
              "          element.appendChild(docLink);\n",
              "        }\n",
              "      </script>\n",
              "    </div>\n",
              "  </div>\n",
              "  "
            ]
          },
          "metadata": {},
          "execution_count": 181
        }
      ]
    },
    {
      "cell_type": "code",
      "source": [
        "model = pm.auto_arima(y = data_auto['Return']       # 데이터\n",
        "                      , d = 0           # (d)차분 차수 (기본값 = none), 지정하지 않으면 실행 기간이 매우 길어질 수 있음\n",
        "                      , start_p = 0     # (p)탐색 시초값 (기본값 = 2)\n",
        "                      , max_p = 3       # (기본값 = 5)\n",
        "                      , start_q = 0     # (q)탐색 시초값 (기본값 = 2)\n",
        "                      , max_q = 3       # (기본값 = 5)\n",
        "                      , m = 1           # (기본값 = 1)\n",
        "                      , seasonal = False # 기본값 = True, 계절변동 ARIMA(SARIMA)에 해당시 True로 수정\n",
        "                      , stepwise = True  \n",
        "                      , trace=True      # stepwise로 모델을 적합할 때마다 결과를 프린트\n",
        "                      )"
      ],
      "metadata": {
        "colab": {
          "base_uri": "https://localhost:8080/"
        },
        "id": "eMUCu7g9WQue",
        "outputId": "9cf61d35-b53d-4b7b-8eec-cb7c09e20349"
      },
      "execution_count": null,
      "outputs": [
        {
          "output_type": "stream",
          "name": "stdout",
          "text": [
            "Performing stepwise search to minimize aic\n",
            " ARIMA(0,0,0)(0,0,0)[0]             : AIC=-31812.072, Time=0.30 sec\n",
            " ARIMA(1,0,0)(0,0,0)[0]             : AIC=-31860.825, Time=0.42 sec\n",
            " ARIMA(0,0,1)(0,0,0)[0]             : AIC=-31867.997, Time=0.54 sec\n",
            " ARIMA(1,0,1)(0,0,0)[0]             : AIC=-31880.806, Time=1.62 sec\n",
            " ARIMA(2,0,1)(0,0,0)[0]             : AIC=-31903.663, Time=1.67 sec\n",
            " ARIMA(2,0,0)(0,0,0)[0]             : AIC=-31894.938, Time=0.82 sec\n",
            " ARIMA(3,0,1)(0,0,0)[0]             : AIC=-31895.183, Time=1.40 sec\n",
            " ARIMA(2,0,2)(0,0,0)[0]             : AIC=-31882.592, Time=7.75 sec\n",
            " ARIMA(1,0,2)(0,0,0)[0]             : AIC=-31909.794, Time=7.73 sec\n",
            " ARIMA(0,0,2)(0,0,0)[0]             : AIC=-31891.738, Time=3.19 sec\n",
            " ARIMA(1,0,3)(0,0,0)[0]             : AIC=-31904.277, Time=2.51 sec\n",
            " ARIMA(0,0,3)(0,0,0)[0]             : AIC=-31899.428, Time=3.26 sec\n",
            " ARIMA(2,0,3)(0,0,0)[0]             : AIC=-31901.083, Time=5.11 sec\n",
            " ARIMA(1,0,2)(0,0,0)[0] intercept   : AIC=-31905.642, Time=10.66 sec\n",
            "\n",
            "Best model:  ARIMA(1,0,2)(0,0,0)[0]          \n",
            "Total fit time: 47.031 seconds\n"
          ]
        }
      ]
    },
    {
      "cell_type": "code",
      "source": [
        "model = ARIMA(data_auto['Return'], order=(1,0,2))\n",
        "model_fit = model.fit(trend = 'nc')\n",
        "model_fit.summary()"
      ],
      "metadata": {
        "colab": {
          "base_uri": "https://localhost:8080/",
          "height": 691
        },
        "id": "vg7hX_7lZTIF",
        "outputId": "f56330a7-0c88-45eb-9616-52b0ca405450"
      },
      "execution_count": null,
      "outputs": [
        {
          "output_type": "stream",
          "name": "stderr",
          "text": [
            "/usr/local/lib/python3.8/dist-packages/statsmodels/tsa/arima_model.py:472: FutureWarning: \n",
            "statsmodels.tsa.arima_model.ARMA and statsmodels.tsa.arima_model.ARIMA have\n",
            "been deprecated in favor of statsmodels.tsa.arima.model.ARIMA (note the .\n",
            "between arima and model) and\n",
            "statsmodels.tsa.SARIMAX. These will be removed after the 0.12 release.\n",
            "\n",
            "statsmodels.tsa.arima.model.ARIMA makes use of the statespace framework and\n",
            "is both well tested and maintained.\n",
            "\n",
            "To silence this warning and continue using ARMA and ARIMA until they are\n",
            "removed, use:\n",
            "\n",
            "import warnings\n",
            "warnings.filterwarnings('ignore', 'statsmodels.tsa.arima_model.ARMA',\n",
            "                        FutureWarning)\n",
            "warnings.filterwarnings('ignore', 'statsmodels.tsa.arima_model.ARIMA',\n",
            "                        FutureWarning)\n",
            "\n"
          ]
        },
        {
          "output_type": "execute_result",
          "data": {
            "text/plain": [
              "<class 'statsmodels.iolib.summary.Summary'>\n",
              "\"\"\"\n",
              "                              ARMA Model Results                              \n",
              "==============================================================================\n",
              "Dep. Variable:                 Return   No. Observations:                 7015\n",
              "Model:                     ARMA(1, 2)   Log Likelihood               15958.897\n",
              "Method:                       css-mle   S.D. of innovations              0.025\n",
              "Date:                Wed, 08 Feb 2023   AIC                         -31909.795\n",
              "Time:                        11:00:24   BIC                         -31882.372\n",
              "Sample:                             0   HQIC                        -31900.346\n",
              "                                                                              \n",
              "================================================================================\n",
              "                   coef    std err          z      P>|z|      [0.025      0.975]\n",
              "--------------------------------------------------------------------------------\n",
              "ar.L1.Return     0.5905      0.070      8.491      0.000       0.454       0.727\n",
              "ma.L1.Return    -0.5039      0.070     -7.247      0.000      -0.640      -0.368\n",
              "ma.L2.Return    -0.1197      0.012    -10.124      0.000      -0.143      -0.097\n",
              "                                    Roots                                    \n",
              "=============================================================================\n",
              "                  Real          Imaginary           Modulus         Frequency\n",
              "-----------------------------------------------------------------------------\n",
              "AR.1            1.6934           +0.0000j            1.6934            0.0000\n",
              "MA.1            1.4708           +0.0000j            1.4708            0.0000\n",
              "MA.2           -5.6809           +0.0000j            5.6809            0.5000\n",
              "-----------------------------------------------------------------------------\n",
              "\"\"\""
            ],
            "text/html": [
              "<table class=\"simpletable\">\n",
              "<caption>ARMA Model Results</caption>\n",
              "<tr>\n",
              "  <th>Dep. Variable:</th>      <td>Return</td>      <th>  No. Observations:  </th>    <td>7015</td>   \n",
              "</tr>\n",
              "<tr>\n",
              "  <th>Model:</th>            <td>ARMA(1, 2)</td>    <th>  Log Likelihood     </th>  <td>15958.897</td>\n",
              "</tr>\n",
              "<tr>\n",
              "  <th>Method:</th>             <td>css-mle</td>     <th>  S.D. of innovations</th>    <td>0.025</td>  \n",
              "</tr>\n",
              "<tr>\n",
              "  <th>Date:</th>          <td>Wed, 08 Feb 2023</td> <th>  AIC                </th> <td>-31909.795</td>\n",
              "</tr>\n",
              "<tr>\n",
              "  <th>Time:</th>              <td>11:00:24</td>     <th>  BIC                </th> <td>-31882.372</td>\n",
              "</tr>\n",
              "<tr>\n",
              "  <th>Sample:</th>                <td>0</td>        <th>  HQIC               </th> <td>-31900.346</td>\n",
              "</tr>\n",
              "<tr>\n",
              "  <th></th>                       <td> </td>        <th>                     </th>      <td> </td>    \n",
              "</tr>\n",
              "</table>\n",
              "<table class=\"simpletable\">\n",
              "<tr>\n",
              "        <td></td>          <th>coef</th>     <th>std err</th>      <th>z</th>      <th>P>|z|</th>  <th>[0.025</th>    <th>0.975]</th>  \n",
              "</tr>\n",
              "<tr>\n",
              "  <th>ar.L1.Return</th> <td>    0.5905</td> <td>    0.070</td> <td>    8.491</td> <td> 0.000</td> <td>    0.454</td> <td>    0.727</td>\n",
              "</tr>\n",
              "<tr>\n",
              "  <th>ma.L1.Return</th> <td>   -0.5039</td> <td>    0.070</td> <td>   -7.247</td> <td> 0.000</td> <td>   -0.640</td> <td>   -0.368</td>\n",
              "</tr>\n",
              "<tr>\n",
              "  <th>ma.L2.Return</th> <td>   -0.1197</td> <td>    0.012</td> <td>  -10.124</td> <td> 0.000</td> <td>   -0.143</td> <td>   -0.097</td>\n",
              "</tr>\n",
              "</table>\n",
              "<table class=\"simpletable\">\n",
              "<caption>Roots</caption>\n",
              "<tr>\n",
              "    <td></td>   <th>            Real</th>  <th>         Imaginary</th> <th>         Modulus</th>  <th>        Frequency</th>\n",
              "</tr>\n",
              "<tr>\n",
              "  <th>AR.1</th> <td>           1.6934</td> <td>          +0.0000j</td> <td>           1.6934</td> <td>           0.0000</td>\n",
              "</tr>\n",
              "<tr>\n",
              "  <th>MA.1</th> <td>           1.4708</td> <td>          +0.0000j</td> <td>           1.4708</td> <td>           0.0000</td>\n",
              "</tr>\n",
              "<tr>\n",
              "  <th>MA.2</th> <td>          -5.6809</td> <td>          +0.0000j</td> <td>           5.6809</td> <td>           0.5000</td>\n",
              "</tr>\n",
              "</table>"
            ]
          },
          "metadata": {},
          "execution_count": 183
        }
      ]
    },
    {
      "cell_type": "code",
      "source": [
        "plt.plot(model_fit.predict(), label = 'fitted', color = 'orange', alpha = 0.5)\n",
        "plt.plot(data_auto['Return'], label = 'data', color = 'blue', alpha = 0.5)\n",
        "plt.legend()\n",
        "plt.show()"
      ],
      "metadata": {
        "colab": {
          "base_uri": "https://localhost:8080/",
          "height": 266
        },
        "outputId": "ee740e29-8ae0-4670-f015-7b0edfaca6b7",
        "id": "9SjVIwfXZJ-a"
      },
      "execution_count": null,
      "outputs": [
        {
          "output_type": "display_data",
          "data": {
            "text/plain": [
              "<Figure size 432x288 with 1 Axes>"
            ],
            "image/png": "[encoded data removed]"
          },
          "metadata": {
            "needs_background": "light"
          }
        }
      ]
    },
    {
      "cell_type": "markdown",
      "source": [
        "##잔차 검정"
      ],
      "metadata": {
        "id": "N47Bs3QqZJ-c"
      }
    },
    {
      "cell_type": "code",
      "source": [
        "data_auto['Fitted_Return'] = model_fit.predict()\n",
        "data_auto['Return_Error'] = data_auto['Fitted_Return'] - data_auto['Return']\n",
        "data_auto"
      ],
      "metadata": {
        "colab": {
          "base_uri": "https://localhost:8080/",
          "height": 424
        },
        "outputId": "208401a0-430f-45a7-9e3f-2549dce9f780",
        "id": "ldXMBc7wZJ-c"
      },
      "execution_count": null,
      "outputs": [
        {
          "output_type": "execute_result",
          "data": {
            "text/plain": [
              "           Date  Close    Return  Year  Fitted_Return  Return_Error\n",
              "0    1995-05-03   1596  0.033124  1995       0.000000     -0.033124\n",
              "1    1995-05-04   1583 -0.008179  1995       0.002774      0.010953\n",
              "2    1995-05-06   1576 -0.004432  1995      -0.003256      0.001176\n",
              "3    1995-05-08   1564 -0.007643  1995      -0.000725      0.006918\n",
              "4    1995-05-09   1544 -0.012870  1995      -0.000892      0.011978\n",
              "...         ...    ...       ...   ...            ...           ...\n",
              "7010 2023-01-16  61100  0.004922  2023      -0.000258     -0.005180\n",
              "7011 2023-01-17  61000 -0.001638  2023      -0.000430      0.001208\n",
              "7012 2023-01-18  60400 -0.009885  2023      -0.000978      0.008906\n",
              "7013 2023-01-19  61500  0.018048  2023      -0.001205     -0.019253\n",
              "7014 2023-01-20  61400 -0.001627  2023       0.002023      0.003650\n",
              "\n",
              "[7015 rows x 6 columns]"
            ],
            "text/html": [
              "\n",
              "  <div id=\"df-497f4649-8e2b-4907-8bfa-114db2238bd1\">\n",
              "    <div class=\"colab-df-container\">\n",
              "      <div>\n",
              "<style scoped>\n",
              "    .dataframe tbody tr th:only-of-type {\n",
              "        vertical-align: middle;\n",
              "    }\n",
              "\n",
              "    .dataframe tbody tr th {\n",
              "        vertical-align: top;\n",
              "    }\n",
              "\n",
              "    .dataframe thead th {\n",
              "        text-align: right;\n",
              "    }\n",
              "</style>\n",
              "<table border=\"1\" class=\"dataframe\">\n",
              "  <thead>\n",
              "    <tr style=\"text-align: right;\">\n",
              "      <th></th>\n",
              "      <th>Date</th>\n",
              "      <th>Close</th>\n",
              "      <th>Return</th>\n",
              "      <th>Year</th>\n",
              "      <th>Fitted_Return</th>\n",
              "      <th>Return_Error</th>\n",
              "    </tr>\n",
              "  </thead>\n",
              "  <tbody>\n",
              "    <tr>\n",
              "      <th>0</th>\n",
              "      <td>1995-05-03</td>\n",
              "      <td>1596</td>\n",
              "      <td>0.033124</td>\n",
              "      <td>1995</td>\n",
              "      <td>0.000000</td>\n",
              "      <td>-0.033124</td>\n",
              "    </tr>\n",
              "    <tr>\n",
              "      <th>1</th>\n",
              "      <td>1995-05-04</td>\n",
              "      <td>1583</td>\n",
              "      <td>-0.008179</td>\n",
              "      <td>1995</td>\n",
              "      <td>0.002774</td>\n",
              "      <td>0.010953</td>\n",
              "    </tr>\n",
              "    <tr>\n",
              "      <th>2</th>\n",
              "      <td>1995-05-06</td>\n",
              "      <td>1576</td>\n",
              "      <td>-0.004432</td>\n",
              "      <td>1995</td>\n",
              "      <td>-0.003256</td>\n",
              "      <td>0.001176</td>\n",
              "    </tr>\n",
              "    <tr>\n",
              "      <th>3</th>\n",
              "      <td>1995-05-08</td>\n",
              "      <td>1564</td>\n",
              "      <td>-0.007643</td>\n",
              "      <td>1995</td>\n",
              "      <td>-0.000725</td>\n",
              "      <td>0.006918</td>\n",
              "    </tr>\n",
              "    <tr>\n",
              "      <th>4</th>\n",
              "      <td>1995-05-09</td>\n",
              "      <td>1544</td>\n",
              "      <td>-0.012870</td>\n",
              "      <td>1995</td>\n",
              "      <td>-0.000892</td>\n",
              "      <td>0.011978</td>\n",
              "    </tr>\n",
              "    <tr>\n",
              "      <th>...</th>\n",
              "      <td>...</td>\n",
              "      <td>...</td>\n",
              "      <td>...</td>\n",
              "      <td>...</td>\n",
              "      <td>...</td>\n",
              "      <td>...</td>\n",
              "    </tr>\n",
              "    <tr>\n",
              "      <th>7010</th>\n",
              "      <td>2023-01-16</td>\n",
              "      <td>61100</td>\n",
              "      <td>0.004922</td>\n",
              "      <td>2023</td>\n",
              "      <td>-0.000258</td>\n",
              "      <td>-0.005180</td>\n",
              "    </tr>\n",
              "    <tr>\n",
              "      <th>7011</th>\n",
              "      <td>2023-01-17</td>\n",
              "      <td>61000</td>\n",
              "      <td>-0.001638</td>\n",
              "      <td>2023</td>\n",
              "      <td>-0.000430</td>\n",
              "      <td>0.001208</td>\n",
              "    </tr>\n",
              "    <tr>\n",
              "      <th>7012</th>\n",
              "      <td>2023-01-18</td>\n",
              "      <td>60400</td>\n",
              "      <td>-0.009885</td>\n",
              "      <td>2023</td>\n",
              "      <td>-0.000978</td>\n",
              "      <td>0.008906</td>\n",
              "    </tr>\n",
              "    <tr>\n",
              "      <th>7013</th>\n",
              "      <td>2023-01-19</td>\n",
              "      <td>61500</td>\n",
              "      <td>0.018048</td>\n",
              "      <td>2023</td>\n",
              "      <td>-0.001205</td>\n",
              "      <td>-0.019253</td>\n",
              "    </tr>\n",
              "    <tr>\n",
              "      <th>7014</th>\n",
              "      <td>2023-01-20</td>\n",
              "      <td>61400</td>\n",
              "      <td>-0.001627</td>\n",
              "      <td>2023</td>\n",
              "      <td>0.002023</td>\n",
              "      <td>0.003650</td>\n",
              "    </tr>\n",
              "  </tbody>\n",
              "</table>\n",
              "<p>7015 rows × 6 columns</p>\n",
              "</div>\n",
              "      <button class=\"colab-df-convert\" onclick=\"convertToInteractive('df-497f4649-8e2b-4907-8bfa-114db2238bd1')\"\n",
              "              title=\"Convert this dataframe to an interactive table.\"\n",
              "              style=\"display:none;\">\n",
              "        \n",
              "  <svg xmlns=\"http://www.w3.org/2000/svg\" height=\"24px\"viewBox=\"0 0 24 24\"\n",
              "       width=\"24px\">\n",
              "    <path d=\"M0 0h24v24H0V0z\" fill=\"none\"/>\n",
              "    <path d=\"M18.56 5.44l.94 2.06.94-2.06 2.06-.94-2.06-.94-.94-2.06-.94 2.06-2.06.94zm-11 1L8.5 8.5l.94-2.06 2.06-.94-2.06-.94L8.5 2.5l-.94 2.06-2.06.94zm10 10l.94 2.06.94-2.06 2.06-.94-2.06-.94-.94-2.06-.94 2.06-2.06.94z\"/><path d=\"M17.41 7.96l-1.37-1.37c-.4-.4-.92-.59-1.43-.59-.52 0-1.04.2-1.43.59L10.3 9.45l-7.72 7.72c-.78.78-.78 2.05 0 2.83L4 21.41c.39.39.9.59 1.41.59.51 0 1.02-.2 1.41-.59l7.78-7.78 2.81-2.81c.8-.78.8-2.07 0-2.86zM5.41 20L4 18.59l7.72-7.72 1.47 1.35L5.41 20z\"/>\n",
              "  </svg>\n",
              "      </button>\n",
              "      \n",
              "  <style>\n",
              "    .colab-df-container {\n",
              "      display:flex;\n",
              "      flex-wrap:wrap;\n",
              "      gap: 12px;\n",
              "    }\n",
              "\n",
              "    .colab-df-convert {\n",
              "      background-color: #E8F0FE;\n",
              "      border: none;\n",
              "      border-radius: 50%;\n",
              "      cursor: pointer;\n",
              "      display: none;\n",
              "      fill: #1967D2;\n",
              "      height: 32px;\n",
              "      padding: 0 0 0 0;\n",
              "      width: 32px;\n",
              "    }\n",
              "\n",
              "    .colab-df-convert:hover {\n",
              "      background-color: #E2EBFA;\n",
              "      box-shadow: 0px 1px 2px rgba(60, 64, 67, 0.3), 0px 1px 3px 1px rgba(60, 64, 67, 0.15);\n",
              "      fill: #174EA6;\n",
              "    }\n",
              "\n",
              "    [theme=dark] .colab-df-convert {\n",
              "      background-color: #3B4455;\n",
              "      fill: #D2E3FC;\n",
              "    }\n",
              "\n",
              "    [theme=dark] .colab-df-convert:hover {\n",
              "      background-color: #434B5C;\n",
              "      box-shadow: 0px 1px 3px 1px rgba(0, 0, 0, 0.15);\n",
              "      filter: drop-shadow(0px 1px 2px rgba(0, 0, 0, 0.3));\n",
              "      fill: #FFFFFF;\n",
              "    }\n",
              "  </style>\n",
              "\n",
              "      <script>\n",
              "        const buttonEl =\n",
              "          document.querySelector('#df-497f4649-8e2b-4907-8bfa-114db2238bd1 button.colab-df-convert');\n",
              "        buttonEl.style.display =\n",
              "          google.colab.kernel.accessAllowed ? 'block' : 'none';\n",
              "\n",
              "        async function convertToInteractive(key) {\n",
              "          const element = document.querySelector('#df-497f4649-8e2b-4907-8bfa-114db2238bd1');\n",
              "          const dataTable =\n",
              "            await google.colab.kernel.invokeFunction('convertToInteractive',\n",
              "                                                     [key], {});\n",
              "          if (!dataTable) return;\n",
              "\n",
              "          const docLinkHtml = 'Like what you see? Visit the ' +\n",
              "            '<a target=\"_blank\" href=https://colab.research.google.com/notebooks/data_table.ipynb>data table notebook</a>'\n",
              "            + ' to learn more about interactive tables.';\n",
              "          element.innerHTML = '';\n",
              "          dataTable['output_type'] = 'display_data';\n",
              "          await google.colab.output.renderOutput(dataTable, element);\n",
              "          const docLink = document.createElement('div');\n",
              "          docLink.innerHTML = docLinkHtml;\n",
              "          element.appendChild(docLink);\n",
              "        }\n",
              "      </script>\n",
              "    </div>\n",
              "  </div>\n",
              "  "
            ]
          },
          "metadata": {},
          "execution_count": 185
        }
      ]
    },
    {
      "cell_type": "code",
      "source": [
        "plt.plot(data_auto['Return_Error'])"
      ],
      "metadata": {
        "colab": {
          "base_uri": "https://localhost:8080/",
          "height": 283
        },
        "outputId": "c5e5eebb-c1c7-4d44-bb30-24df37028a0b",
        "id": "cUPA8oZiZJ-c"
      },
      "execution_count": null,
      "outputs": [
        {
          "output_type": "execute_result",
          "data": {
            "text/plain": [
              "[<matplotlib.lines.Line2D at 0x7fd802520b80>]"
            ]
          },
          "metadata": {},
          "execution_count": 186
        },
        {
          "output_type": "display_data",
          "data": {
            "text/plain": [
              "<Figure size 432x288 with 1 Axes>"
            ],
            "image/png": "[encoded data removed]"
          },
          "metadata": {
            "needs_background": "light"
          }
        }
      ]
    },
    {
      "cell_type": "code",
      "source": [
        "import statsmodels.api as sm\n",
        "\n",
        "def LJ_result(ts):\n",
        "  result = []\n",
        "  for lag in np.arange(1, 11, 1):\n",
        "    result.append(sm.stats.acorr_ljungbox(ts, lags=[lag])[1][0])\n",
        "\n",
        "  return pd.DataFrame({'lag':np.arange(1,11,1), 'p_value':result})\n",
        "\n",
        "LJ_result(data_auto['Return_Error']).T"
      ],
      "metadata": {
        "colab": {
          "base_uri": "https://localhost:8080/",
          "height": 169
        },
        "outputId": "9d6657cd-43ea-4064-d8ed-2298a1c7fbe8",
        "id": "Pj9BTh0aZJ-d"
      },
      "execution_count": null,
      "outputs": [
        {
          "output_type": "stream",
          "name": "stderr",
          "text": [
            "/usr/local/lib/python3.8/dist-packages/statsmodels/stats/diagnostic.py:559: FutureWarning: The value returned will change to a single DataFrame after 0.12 is released.  Set return_df to True to use to return a DataFrame now.  Set return_df to False to silence this warning.\n",
            "  warnings.warn(msg, FutureWarning)\n"
          ]
        },
        {
          "output_type": "execute_result",
          "data": {
            "text/plain": [
              "                0         1         2         3         4        5        6  \\\n",
              "lag      1.000000  2.000000  3.000000  4.000000  5.000000  6.00000  7.00000   \n",
              "p_value  0.993477  0.974885  0.994085  0.922018  0.648926  0.71785  0.77499   \n",
              "\n",
              "                7         8          9  \n",
              "lag      8.000000  9.000000  10.000000  \n",
              "p_value  0.849571  0.363144   0.202641  "
            ],
            "text/html": [
              "\n",
              "  <div id=\"df-85c1c9d2-6720-4b29-8cab-6a6dbeaabb62\">\n",
              "    <div class=\"colab-df-container\">\n",
              "      <div>\n",
              "<style scoped>\n",
              "    .dataframe tbody tr th:only-of-type {\n",
              "        vertical-align: middle;\n",
              "    }\n",
              "\n",
              "    .dataframe tbody tr th {\n",
              "        vertical-align: top;\n",
              "    }\n",
              "\n",
              "    .dataframe thead th {\n",
              "        text-align: right;\n",
              "    }\n",
              "</style>\n",
              "<table border=\"1\" class=\"dataframe\">\n",
              "  <thead>\n",
              "    <tr style=\"text-align: right;\">\n",
              "      <th></th>\n",
              "      <th>0</th>\n",
              "      <th>1</th>\n",
              "      <th>2</th>\n",
              "      <th>3</th>\n",
              "      <th>4</th>\n",
              "      <th>5</th>\n",
              "      <th>6</th>\n",
              "      <th>7</th>\n",
              "      <th>8</th>\n",
              "      <th>9</th>\n",
              "    </tr>\n",
              "  </thead>\n",
              "  <tbody>\n",
              "    <tr>\n",
              "      <th>lag</th>\n",
              "      <td>1.000000</td>\n",
              "      <td>2.000000</td>\n",
              "      <td>3.000000</td>\n",
              "      <td>4.000000</td>\n",
              "      <td>5.000000</td>\n",
              "      <td>6.00000</td>\n",
              "      <td>7.00000</td>\n",
              "      <td>8.000000</td>\n",
              "      <td>9.000000</td>\n",
              "      <td>10.000000</td>\n",
              "    </tr>\n",
              "    <tr>\n",
              "      <th>p_value</th>\n",
              "      <td>0.993477</td>\n",
              "      <td>0.974885</td>\n",
              "      <td>0.994085</td>\n",
              "      <td>0.922018</td>\n",
              "      <td>0.648926</td>\n",
              "      <td>0.71785</td>\n",
              "      <td>0.77499</td>\n",
              "      <td>0.849571</td>\n",
              "      <td>0.363144</td>\n",
              "      <td>0.202641</td>\n",
              "    </tr>\n",
              "  </tbody>\n",
              "</table>\n",
              "</div>\n",
              "      <button class=\"colab-df-convert\" onclick=\"convertToInteractive('df-85c1c9d2-6720-4b29-8cab-6a6dbeaabb62')\"\n",
              "              title=\"Convert this dataframe to an interactive table.\"\n",
              "              style=\"display:none;\">\n",
              "        \n",
              "  <svg xmlns=\"http://www.w3.org/2000/svg\" height=\"24px\"viewBox=\"0 0 24 24\"\n",
              "       width=\"24px\">\n",
              "    <path d=\"M0 0h24v24H0V0z\" fill=\"none\"/>\n",
              "    <path d=\"M18.56 5.44l.94 2.06.94-2.06 2.06-.94-2.06-.94-.94-2.06-.94 2.06-2.06.94zm-11 1L8.5 8.5l.94-2.06 2.06-.94-2.06-.94L8.5 2.5l-.94 2.06-2.06.94zm10 10l.94 2.06.94-2.06 2.06-.94-2.06-.94-.94-2.06-.94 2.06-2.06.94z\"/><path d=\"M17.41 7.96l-1.37-1.37c-.4-.4-.92-.59-1.43-.59-.52 0-1.04.2-1.43.59L10.3 9.45l-7.72 7.72c-.78.78-.78 2.05 0 2.83L4 21.41c.39.39.9.59 1.41.59.51 0 1.02-.2 1.41-.59l7.78-7.78 2.81-2.81c.8-.78.8-2.07 0-2.86zM5.41 20L4 18.59l7.72-7.72 1.47 1.35L5.41 20z\"/>\n",
              "  </svg>\n",
              "      </button>\n",
              "      \n",
              "  <style>\n",
              "    .colab-df-container {\n",
              "      display:flex;\n",
              "      flex-wrap:wrap;\n",
              "      gap: 12px;\n",
              "    }\n",
              "\n",
              "    .colab-df-convert {\n",
              "      background-color: #E8F0FE;\n",
              "      border: none;\n",
              "      border-radius: 50%;\n",
              "      cursor: pointer;\n",
              "      display: none;\n",
              "      fill: #1967D2;\n",
              "      height: 32px;\n",
              "      padding: 0 0 0 0;\n",
              "      width: 32px;\n",
              "    }\n",
              "\n",
              "    .colab-df-convert:hover {\n",
              "      background-color: #E2EBFA;\n",
              "      box-shadow: 0px 1px 2px rgba(60, 64, 67, 0.3), 0px 1px 3px 1px rgba(60, 64, 67, 0.15);\n",
              "      fill: #174EA6;\n",
              "    }\n",
              "\n",
              "    [theme=dark] .colab-df-convert {\n",
              "      background-color: #3B4455;\n",
              "      fill: #D2E3FC;\n",
              "    }\n",
              "\n",
              "    [theme=dark] .colab-df-convert:hover {\n",
              "      background-color: #434B5C;\n",
              "      box-shadow: 0px 1px 3px 1px rgba(0, 0, 0, 0.15);\n",
              "      filter: drop-shadow(0px 1px 2px rgba(0, 0, 0, 0.3));\n",
              "      fill: #FFFFFF;\n",
              "    }\n",
              "  </style>\n",
              "\n",
              "      <script>\n",
              "        const buttonEl =\n",
              "          document.querySelector('#df-85c1c9d2-6720-4b29-8cab-6a6dbeaabb62 button.colab-df-convert');\n",
              "        buttonEl.style.display =\n",
              "          google.colab.kernel.accessAllowed ? 'block' : 'none';\n",
              "\n",
              "        async function convertToInteractive(key) {\n",
              "          const element = document.querySelector('#df-85c1c9d2-6720-4b29-8cab-6a6dbeaabb62');\n",
              "          const dataTable =\n",
              "            await google.colab.kernel.invokeFunction('convertToInteractive',\n",
              "                                                     [key], {});\n",
              "          if (!dataTable) return;\n",
              "\n",
              "          const docLinkHtml = 'Like what you see? Visit the ' +\n",
              "            '<a target=\"_blank\" href=https://colab.research.google.com/notebooks/data_table.ipynb>data table notebook</a>'\n",
              "            + ' to learn more about interactive tables.';\n",
              "          element.innerHTML = '';\n",
              "          dataTable['output_type'] = 'display_data';\n",
              "          await google.colab.output.renderOutput(dataTable, element);\n",
              "          const docLink = document.createElement('div');\n",
              "          docLink.innerHTML = docLinkHtml;\n",
              "          element.appendChild(docLink);\n",
              "        }\n",
              "      </script>\n",
              "    </div>\n",
              "  </div>\n",
              "  "
            ]
          },
          "metadata": {},
          "execution_count": 187
        }
      ]
    },
    {
      "cell_type": "markdown",
      "source": [
        "##예측"
      ],
      "metadata": {
        "id": "0m97p7tEZJ-i"
      }
    },
    {
      "cell_type": "code",
      "source": [
        "data_auto['Close_shift'] = data_auto['Close'].shift(1)\n",
        "data_auto['Fitted_Close'] = data_auto['Close_shift'] * (1 + data_auto['Fitted_Return'])\n",
        "data_auto"
      ],
      "metadata": {
        "colab": {
          "base_uri": "https://localhost:8080/",
          "height": 424
        },
        "outputId": "a894f0e8-1bd6-439a-9e11-b00a7ed76ea4",
        "id": "rRy6VY1IZJ-i"
      },
      "execution_count": null,
      "outputs": [
        {
          "output_type": "execute_result",
          "data": {
            "text/plain": [
              "           Date  Close    Return  Year  Fitted_Return  Return_Error  \\\n",
              "0    1995-05-03   1596  0.033124  1995       0.000000     -0.033124   \n",
              "1    1995-05-04   1583 -0.008179  1995       0.002774      0.010953   \n",
              "2    1995-05-06   1576 -0.004432  1995      -0.003256      0.001176   \n",
              "3    1995-05-08   1564 -0.007643  1995      -0.000725      0.006918   \n",
              "4    1995-05-09   1544 -0.012870  1995      -0.000892      0.011978   \n",
              "...         ...    ...       ...   ...            ...           ...   \n",
              "7010 2023-01-16  61100  0.004922  2023      -0.000258     -0.005180   \n",
              "7011 2023-01-17  61000 -0.001638  2023      -0.000430      0.001208   \n",
              "7012 2023-01-18  60400 -0.009885  2023      -0.000978      0.008906   \n",
              "7013 2023-01-19  61500  0.018048  2023      -0.001205     -0.019253   \n",
              "7014 2023-01-20  61400 -0.001627  2023       0.002023      0.003650   \n",
              "\n",
              "      Close_shift  Fitted_Close  \n",
              "0             NaN           NaN  \n",
              "1          1596.0   1600.427982  \n",
              "2          1583.0   1577.846419  \n",
              "3          1576.0   1574.857367  \n",
              "4          1564.0   1562.605327  \n",
              "...           ...           ...  \n",
              "7010      60800.0  60784.336866  \n",
              "7011      61100.0  61073.731745  \n",
              "7012      61000.0  60940.311539  \n",
              "7013      60400.0  60327.206284  \n",
              "7014      61500.0  61624.411416  \n",
              "\n",
              "[7015 rows x 8 columns]"
            ],
            "text/html": [
              "\n",
              "  <div id=\"df-2be0f482-8c85-4c91-bbd2-bc74a2866122\">\n",
              "    <div class=\"colab-df-container\">\n",
              "      <div>\n",
              "<style scoped>\n",
              "    .dataframe tbody tr th:only-of-type {\n",
              "        vertical-align: middle;\n",
              "    }\n",
              "\n",
              "    .dataframe tbody tr th {\n",
              "        vertical-align: top;\n",
              "    }\n",
              "\n",
              "    .dataframe thead th {\n",
              "        text-align: right;\n",
              "    }\n",
              "</style>\n",
              "<table border=\"1\" class=\"dataframe\">\n",
              "  <thead>\n",
              "    <tr style=\"text-align: right;\">\n",
              "      <th></th>\n",
              "      <th>Date</th>\n",
              "      <th>Close</th>\n",
              "      <th>Return</th>\n",
              "      <th>Year</th>\n",
              "      <th>Fitted_Return</th>\n",
              "      <th>Return_Error</th>\n",
              "      <th>Close_shift</th>\n",
              "      <th>Fitted_Close</th>\n",
              "    </tr>\n",
              "  </thead>\n",
              "  <tbody>\n",
              "    <tr>\n",
              "      <th>0</th>\n",
              "      <td>1995-05-03</td>\n",
              "      <td>1596</td>\n",
              "      <td>0.033124</td>\n",
              "      <td>1995</td>\n",
              "      <td>0.000000</td>\n",
              "      <td>-0.033124</td>\n",
              "      <td>NaN</td>\n",
              "      <td>NaN</td>\n",
              "    </tr>\n",
              "    <tr>\n",
              "      <th>1</th>\n",
              "      <td>1995-05-04</td>\n",
              "      <td>1583</td>\n",
              "      <td>-0.008179</td>\n",
              "      <td>1995</td>\n",
              "      <td>0.002774</td>\n",
              "      <td>0.010953</td>\n",
              "      <td>1596.0</td>\n",
              "      <td>1600.427982</td>\n",
              "    </tr>\n",
              "    <tr>\n",
              "      <th>2</th>\n",
              "      <td>1995-05-06</td>\n",
              "      <td>1576</td>\n",
              "      <td>-0.004432</td>\n",
              "      <td>1995</td>\n",
              "      <td>-0.003256</td>\n",
              "      <td>0.001176</td>\n",
              "      <td>1583.0</td>\n",
              "      <td>1577.846419</td>\n",
              "    </tr>\n",
              "    <tr>\n",
              "      <th>3</th>\n",
              "      <td>1995-05-08</td>\n",
              "      <td>1564</td>\n",
              "      <td>-0.007643</td>\n",
              "      <td>1995</td>\n",
              "      <td>-0.000725</td>\n",
              "      <td>0.006918</td>\n",
              "      <td>1576.0</td>\n",
              "      <td>1574.857367</td>\n",
              "    </tr>\n",
              "    <tr>\n",
              "      <th>4</th>\n",
              "      <td>1995-05-09</td>\n",
              "      <td>1544</td>\n",
              "      <td>-0.012870</td>\n",
              "      <td>1995</td>\n",
              "      <td>-0.000892</td>\n",
              "      <td>0.011978</td>\n",
              "      <td>1564.0</td>\n",
              "      <td>1562.605327</td>\n",
              "    </tr>\n",
              "    <tr>\n",
              "      <th>...</th>\n",
              "      <td>...</td>\n",
              "      <td>...</td>\n",
              "      <td>...</td>\n",
              "      <td>...</td>\n",
              "      <td>...</td>\n",
              "      <td>...</td>\n",
              "      <td>...</td>\n",
              "      <td>...</td>\n",
              "    </tr>\n",
              "    <tr>\n",
              "      <th>7010</th>\n",
              "      <td>2023-01-16</td>\n",
              "      <td>61100</td>\n",
              "      <td>0.004922</td>\n",
              "      <td>2023</td>\n",
              "      <td>-0.000258</td>\n",
              "      <td>-0.005180</td>\n",
              "      <td>60800.0</td>\n",
              "      <td>60784.336866</td>\n",
              "    </tr>\n",
              "    <tr>\n",
              "      <th>7011</th>\n",
              "      <td>2023-01-17</td>\n",
              "      <td>61000</td>\n",
              "      <td>-0.001638</td>\n",
              "      <td>2023</td>\n",
              "      <td>-0.000430</td>\n",
              "      <td>0.001208</td>\n",
              "      <td>61100.0</td>\n",
              "      <td>61073.731745</td>\n",
              "    </tr>\n",
              "    <tr>\n",
              "      <th>7012</th>\n",
              "      <td>2023-01-18</td>\n",
              "      <td>60400</td>\n",
              "      <td>-0.009885</td>\n",
              "      <td>2023</td>\n",
              "      <td>-0.000978</td>\n",
              "      <td>0.008906</td>\n",
              "      <td>61000.0</td>\n",
              "      <td>60940.311539</td>\n",
              "    </tr>\n",
              "    <tr>\n",
              "      <th>7013</th>\n",
              "      <td>2023-01-19</td>\n",
              "      <td>61500</td>\n",
              "      <td>0.018048</td>\n",
              "      <td>2023</td>\n",
              "      <td>-0.001205</td>\n",
              "      <td>-0.019253</td>\n",
              "      <td>60400.0</td>\n",
              "      <td>60327.206284</td>\n",
              "    </tr>\n",
              "    <tr>\n",
              "      <th>7014</th>\n",
              "      <td>2023-01-20</td>\n",
              "      <td>61400</td>\n",
              "      <td>-0.001627</td>\n",
              "      <td>2023</td>\n",
              "      <td>0.002023</td>\n",
              "      <td>0.003650</td>\n",
              "      <td>61500.0</td>\n",
              "      <td>61624.411416</td>\n",
              "    </tr>\n",
              "  </tbody>\n",
              "</table>\n",
              "<p>7015 rows × 8 columns</p>\n",
              "</div>\n",
              "      <button class=\"colab-df-convert\" onclick=\"convertToInteractive('df-2be0f482-8c85-4c91-bbd2-bc74a2866122')\"\n",
              "              title=\"Convert this dataframe to an interactive table.\"\n",
              "              style=\"display:none;\">\n",
              "        \n",
              "  <svg xmlns=\"http://www.w3.org/2000/svg\" height=\"24px\"viewBox=\"0 0 24 24\"\n",
              "       width=\"24px\">\n",
              "    <path d=\"M0 0h24v24H0V0z\" fill=\"none\"/>\n",
              "    <path d=\"M18.56 5.44l.94 2.06.94-2.06 2.06-.94-2.06-.94-.94-2.06-.94 2.06-2.06.94zm-11 1L8.5 8.5l.94-2.06 2.06-.94-2.06-.94L8.5 2.5l-.94 2.06-2.06.94zm10 10l.94 2.06.94-2.06 2.06-.94-2.06-.94-.94-2.06-.94 2.06-2.06.94z\"/><path d=\"M17.41 7.96l-1.37-1.37c-.4-.4-.92-.59-1.43-.59-.52 0-1.04.2-1.43.59L10.3 9.45l-7.72 7.72c-.78.78-.78 2.05 0 2.83L4 21.41c.39.39.9.59 1.41.59.51 0 1.02-.2 1.41-.59l7.78-7.78 2.81-2.81c.8-.78.8-2.07 0-2.86zM5.41 20L4 18.59l7.72-7.72 1.47 1.35L5.41 20z\"/>\n",
              "  </svg>\n",
              "      </button>\n",
              "      \n",
              "  <style>\n",
              "    .colab-df-container {\n",
              "      display:flex;\n",
              "      flex-wrap:wrap;\n",
              "      gap: 12px;\n",
              "    }\n",
              "\n",
              "    .colab-df-convert {\n",
              "      background-color: #E8F0FE;\n",
              "      border: none;\n",
              "      border-radius: 50%;\n",
              "      cursor: pointer;\n",
              "      display: none;\n",
              "      fill: #1967D2;\n",
              "      height: 32px;\n",
              "      padding: 0 0 0 0;\n",
              "      width: 32px;\n",
              "    }\n",
              "\n",
              "    .colab-df-convert:hover {\n",
              "      background-color: #E2EBFA;\n",
              "      box-shadow: 0px 1px 2px rgba(60, 64, 67, 0.3), 0px 1px 3px 1px rgba(60, 64, 67, 0.15);\n",
              "      fill: #174EA6;\n",
              "    }\n",
              "\n",
              "    [theme=dark] .colab-df-convert {\n",
              "      background-color: #3B4455;\n",
              "      fill: #D2E3FC;\n",
              "    }\n",
              "\n",
              "    [theme=dark] .colab-df-convert:hover {\n",
              "      background-color: #434B5C;\n",
              "      box-shadow: 0px 1px 3px 1px rgba(0, 0, 0, 0.15);\n",
              "      filter: drop-shadow(0px 1px 2px rgba(0, 0, 0, 0.3));\n",
              "      fill: #FFFFFF;\n",
              "    }\n",
              "  </style>\n",
              "\n",
              "      <script>\n",
              "        const buttonEl =\n",
              "          document.querySelector('#df-2be0f482-8c85-4c91-bbd2-bc74a2866122 button.colab-df-convert');\n",
              "        buttonEl.style.display =\n",
              "          google.colab.kernel.accessAllowed ? 'block' : 'none';\n",
              "\n",
              "        async function convertToInteractive(key) {\n",
              "          const element = document.querySelector('#df-2be0f482-8c85-4c91-bbd2-bc74a2866122');\n",
              "          const dataTable =\n",
              "            await google.colab.kernel.invokeFunction('convertToInteractive',\n",
              "                                                     [key], {});\n",
              "          if (!dataTable) return;\n",
              "\n",
              "          const docLinkHtml = 'Like what you see? Visit the ' +\n",
              "            '<a target=\"_blank\" href=https://colab.research.google.com/notebooks/data_table.ipynb>data table notebook</a>'\n",
              "            + ' to learn more about interactive tables.';\n",
              "          element.innerHTML = '';\n",
              "          dataTable['output_type'] = 'display_data';\n",
              "          await google.colab.output.renderOutput(dataTable, element);\n",
              "          const docLink = document.createElement('div');\n",
              "          docLink.innerHTML = docLinkHtml;\n",
              "          element.appendChild(docLink);\n",
              "        }\n",
              "      </script>\n",
              "    </div>\n",
              "  </div>\n",
              "  "
            ]
          },
          "metadata": {},
          "execution_count": 188
        }
      ]
    },
    {
      "cell_type": "code",
      "source": [
        "plt.figure(figsize = (16,8))\n",
        "plt.plot(data_auto['Date'], data_auto['Close'], label = 'Data', color = 'blue', linestyle = ':')\n",
        "plt.plot(data_auto['Date'], data_auto['Fitted_Close'], label = 'Fitted', color = 'orange', linestyle = ':')\n",
        "plt.legend()\n",
        "plt.show()"
      ],
      "metadata": {
        "colab": {
          "base_uri": "https://localhost:8080/",
          "height": 427
        },
        "outputId": "cbddc892-0899-4d26-8e22-0cbec31eda43",
        "id": "sAfdb-4dZJ-i"
      },
      "execution_count": null,
      "outputs": [
        {
          "output_type": "display_data",
          "data": {
            "text/plain": [
              "<Figure size 1152x576 with 1 Axes>"
            ],
            "image/png": "[encoded data removed]"
          },
          "metadata": {
            "needs_background": "light"
          }
        }
      ]
    },
    {
      "cell_type": "code",
      "source": [
        "data_auto1 = data_auto[data_auto['Year'] >= 2022]\n",
        "plt.figure(figsize = (16,8))\n",
        "plt.plot(data_auto1['Date'], data_auto1['Close'], label = 'Data', color = 'blue')\n",
        "plt.plot(data_auto1['Date'], data_auto1['Fitted_Close'], label = 'Fitted', color = 'orange')\n",
        "plt.legend()\n",
        "plt.show()"
      ],
      "metadata": {
        "colab": {
          "base_uri": "https://localhost:8080/",
          "height": 427
        },
        "outputId": "6f59ac92-c58a-4bc7-bd45-7ef9743dcd3d",
        "id": "3v97JFH6ZJ-j"
      },
      "execution_count": null,
      "outputs": [
        {
          "output_type": "display_data",
          "data": {
            "text/plain": [
              "<Figure size 1152x576 with 1 Axes>"
            ],
            "image/png": "[encoded data removed]"
          },
          "metadata": {
            "needs_background": "light"
          }
        }
      ]
    },
    {
      "cell_type": "code",
      "source": [
        "data_auto['Close_Error'] = data_auto['Fitted_Close'] - data_auto['Close']\n",
        "data_auto"
      ],
      "metadata": {
        "colab": {
          "base_uri": "https://localhost:8080/",
          "height": 641
        },
        "outputId": "a26a634f-13e7-4cbd-cbba-39ca027a2b22",
        "id": "wO2d961OZJ-j"
      },
      "execution_count": null,
      "outputs": [
        {
          "output_type": "execute_result",
          "data": {
            "text/plain": [
              "           Date  Close    Return  Year  Fitted_Return  Return_Error  \\\n",
              "0    1995-05-03   1596  0.033124  1995       0.000000     -0.033124   \n",
              "1    1995-05-04   1583 -0.008179  1995       0.002774      0.010953   \n",
              "2    1995-05-06   1576 -0.004432  1995      -0.003256      0.001176   \n",
              "3    1995-05-08   1564 -0.007643  1995      -0.000725      0.006918   \n",
              "4    1995-05-09   1544 -0.012870  1995      -0.000892      0.011978   \n",
              "...         ...    ...       ...   ...            ...           ...   \n",
              "7010 2023-01-16  61100  0.004922  2023      -0.000258     -0.005180   \n",
              "7011 2023-01-17  61000 -0.001638  2023      -0.000430      0.001208   \n",
              "7012 2023-01-18  60400 -0.009885  2023      -0.000978      0.008906   \n",
              "7013 2023-01-19  61500  0.018048  2023      -0.001205     -0.019253   \n",
              "7014 2023-01-20  61400 -0.001627  2023       0.002023      0.003650   \n",
              "\n",
              "      Close_shift  Fitted_Close  Close_Error  \n",
              "0             NaN           NaN          NaN  \n",
              "1          1596.0   1600.427982    17.427982  \n",
              "2          1583.0   1577.846419     1.846419  \n",
              "3          1576.0   1574.857367    10.857367  \n",
              "4          1564.0   1562.605327    18.605327  \n",
              "...           ...           ...          ...  \n",
              "7010      60800.0  60784.336866  -315.663134  \n",
              "7011      61100.0  61073.731745    73.731745  \n",
              "7012      61000.0  60940.311539   540.311539  \n",
              "7013      60400.0  60327.206284 -1172.793716  \n",
              "7014      61500.0  61624.411416   224.411416  \n",
              "\n",
              "[7015 rows x 9 columns]"
            ],
            "text/html": [
              "\n",
              "  <div id=\"df-85d2dcfa-cb7f-4cc4-8c42-64c6cdd69b14\">\n",
              "    <div class=\"colab-df-container\">\n",
              "      <div>\n",
              "<style scoped>\n",
              "    .dataframe tbody tr th:only-of-type {\n",
              "        vertical-align: middle;\n",
              "    }\n",
              "\n",
              "    .dataframe tbody tr th {\n",
              "        vertical-align: top;\n",
              "    }\n",
              "\n",
              "    .dataframe thead th {\n",
              "        text-align: right;\n",
              "    }\n",
              "</style>\n",
              "<table border=\"1\" class=\"dataframe\">\n",
              "  <thead>\n",
              "    <tr style=\"text-align: right;\">\n",
              "      <th></th>\n",
              "      <th>Date</th>\n",
              "      <th>Close</th>\n",
              "      <th>Return</th>\n",
              "      <th>Year</th>\n",
              "      <th>Fitted_Return</th>\n",
              "      <th>Return_Error</th>\n",
              "      <th>Close_shift</th>\n",
              "      <th>Fitted_Close</th>\n",
              "      <th>Close_Error</th>\n",
              "    </tr>\n",
              "  </thead>\n",
              "  <tbody>\n",
              "    <tr>\n",
              "      <th>0</th>\n",
              "      <td>1995-05-03</td>\n",
              "      <td>1596</td>\n",
              "      <td>0.033124</td>\n",
              "      <td>1995</td>\n",
              "      <td>0.000000</td>\n",
              "      <td>-0.033124</td>\n",
              "      <td>NaN</td>\n",
              "      <td>NaN</td>\n",
              "      <td>NaN</td>\n",
              "    </tr>\n",
              "    <tr>\n",
              "      <th>1</th>\n",
              "      <td>1995-05-04</td>\n",
              "      <td>1583</td>\n",
              "      <td>-0.008179</td>\n",
              "      <td>1995</td>\n",
              "      <td>0.002774</td>\n",
              "      <td>0.010953</td>\n",
              "      <td>1596.0</td>\n",
              "      <td>1600.427982</td>\n",
              "      <td>17.427982</td>\n",
              "    </tr>\n",
              "    <tr>\n",
              "      <th>2</th>\n",
              "      <td>1995-05-06</td>\n",
              "      <td>1576</td>\n",
              "      <td>-0.004432</td>\n",
              "      <td>1995</td>\n",
              "      <td>-0.003256</td>\n",
              "      <td>0.001176</td>\n",
              "      <td>1583.0</td>\n",
              "      <td>1577.846419</td>\n",
              "      <td>1.846419</td>\n",
              "    </tr>\n",
              "    <tr>\n",
              "      <th>3</th>\n",
              "      <td>1995-05-08</td>\n",
              "      <td>1564</td>\n",
              "      <td>-0.007643</td>\n",
              "      <td>1995</td>\n",
              "      <td>-0.000725</td>\n",
              "      <td>0.006918</td>\n",
              "      <td>1576.0</td>\n",
              "      <td>1574.857367</td>\n",
              "      <td>10.857367</td>\n",
              "    </tr>\n",
              "    <tr>\n",
              "      <th>4</th>\n",
              "      <td>1995-05-09</td>\n",
              "      <td>1544</td>\n",
              "      <td>-0.012870</td>\n",
              "      <td>1995</td>\n",
              "      <td>-0.000892</td>\n",
              "      <td>0.011978</td>\n",
              "      <td>1564.0</td>\n",
              "      <td>1562.605327</td>\n",
              "      <td>18.605327</td>\n",
              "    </tr>\n",
              "    <tr>\n",
              "      <th>...</th>\n",
              "      <td>...</td>\n",
              "      <td>...</td>\n",
              "      <td>...</td>\n",
              "      <td>...</td>\n",
              "      <td>...</td>\n",
              "      <td>...</td>\n",
              "      <td>...</td>\n",
              "      <td>...</td>\n",
              "      <td>...</td>\n",
              "    </tr>\n",
              "    <tr>\n",
              "      <th>7010</th>\n",
              "      <td>2023-01-16</td>\n",
              "      <td>61100</td>\n",
              "      <td>0.004922</td>\n",
              "      <td>2023</td>\n",
              "      <td>-0.000258</td>\n",
              "      <td>-0.005180</td>\n",
              "      <td>60800.0</td>\n",
              "      <td>60784.336866</td>\n",
              "      <td>-315.663134</td>\n",
              "    </tr>\n",
              "    <tr>\n",
              "      <th>7011</th>\n",
              "      <td>2023-01-17</td>\n",
              "      <td>61000</td>\n",
              "      <td>-0.001638</td>\n",
              "      <td>2023</td>\n",
              "      <td>-0.000430</td>\n",
              "      <td>0.001208</td>\n",
              "      <td>61100.0</td>\n",
              "      <td>61073.731745</td>\n",
              "      <td>73.731745</td>\n",
              "    </tr>\n",
              "    <tr>\n",
              "      <th>7012</th>\n",
              "      <td>2023-01-18</td>\n",
              "      <td>60400</td>\n",
              "      <td>-0.009885</td>\n",
              "      <td>2023</td>\n",
              "      <td>-0.000978</td>\n",
              "      <td>0.008906</td>\n",
              "      <td>61000.0</td>\n",
              "      <td>60940.311539</td>\n",
              "      <td>540.311539</td>\n",
              "    </tr>\n",
              "    <tr>\n",
              "      <th>7013</th>\n",
              "      <td>2023-01-19</td>\n",
              "      <td>61500</td>\n",
              "      <td>0.018048</td>\n",
              "      <td>2023</td>\n",
              "      <td>-0.001205</td>\n",
              "      <td>-0.019253</td>\n",
              "      <td>60400.0</td>\n",
              "      <td>60327.206284</td>\n",
              "      <td>-1172.793716</td>\n",
              "    </tr>\n",
              "    <tr>\n",
              "      <th>7014</th>\n",
              "      <td>2023-01-20</td>\n",
              "      <td>61400</td>\n",
              "      <td>-0.001627</td>\n",
              "      <td>2023</td>\n",
              "      <td>0.002023</td>\n",
              "      <td>0.003650</td>\n",
              "      <td>61500.0</td>\n",
              "      <td>61624.411416</td>\n",
              "      <td>224.411416</td>\n",
              "    </tr>\n",
              "  </tbody>\n",
              "</table>\n",
              "<p>7015 rows × 9 columns</p>\n",
              "</div>\n",
              "      <button class=\"colab-df-convert\" onclick=\"convertToInteractive('df-85d2dcfa-cb7f-4cc4-8c42-64c6cdd69b14')\"\n",
              "              title=\"Convert this dataframe to an interactive table.\"\n",
              "              style=\"display:none;\">\n",
              "        \n",
              "  <svg xmlns=\"http://www.w3.org/2000/svg\" height=\"24px\"viewBox=\"0 0 24 24\"\n",
              "       width=\"24px\">\n",
              "    <path d=\"M0 0h24v24H0V0z\" fill=\"none\"/>\n",
              "    <path d=\"M18.56 5.44l.94 2.06.94-2.06 2.06-.94-2.06-.94-.94-2.06-.94 2.06-2.06.94zm-11 1L8.5 8.5l.94-2.06 2.06-.94-2.06-.94L8.5 2.5l-.94 2.06-2.06.94zm10 10l.94 2.06.94-2.06 2.06-.94-2.06-.94-.94-2.06-.94 2.06-2.06.94z\"/><path d=\"M17.41 7.96l-1.37-1.37c-.4-.4-.92-.59-1.43-.59-.52 0-1.04.2-1.43.59L10.3 9.45l-7.72 7.72c-.78.78-.78 2.05 0 2.83L4 21.41c.39.39.9.59 1.41.59.51 0 1.02-.2 1.41-.59l7.78-7.78 2.81-2.81c.8-.78.8-2.07 0-2.86zM5.41 20L4 18.59l7.72-7.72 1.47 1.35L5.41 20z\"/>\n",
              "  </svg>\n",
              "      </button>\n",
              "      \n",
              "  <style>\n",
              "    .colab-df-container {\n",
              "      display:flex;\n",
              "      flex-wrap:wrap;\n",
              "      gap: 12px;\n",
              "    }\n",
              "\n",
              "    .colab-df-convert {\n",
              "      background-color: #E8F0FE;\n",
              "      border: none;\n",
              "      border-radius: 50%;\n",
              "      cursor: pointer;\n",
              "      display: none;\n",
              "      fill: #1967D2;\n",
              "      height: 32px;\n",
              "      padding: 0 0 0 0;\n",
              "      width: 32px;\n",
              "    }\n",
              "\n",
              "    .colab-df-convert:hover {\n",
              "      background-color: #E2EBFA;\n",
              "      box-shadow: 0px 1px 2px rgba(60, 64, 67, 0.3), 0px 1px 3px 1px rgba(60, 64, 67, 0.15);\n",
              "      fill: #174EA6;\n",
              "    }\n",
              "\n",
              "    [theme=dark] .colab-df-convert {\n",
              "      background-color: #3B4455;\n",
              "      fill: #D2E3FC;\n",
              "    }\n",
              "\n",
              "    [theme=dark] .colab-df-convert:hover {\n",
              "      background-color: #434B5C;\n",
              "      box-shadow: 0px 1px 3px 1px rgba(0, 0, 0, 0.15);\n",
              "      filter: drop-shadow(0px 1px 2px rgba(0, 0, 0, 0.3));\n",
              "      fill: #FFFFFF;\n",
              "    }\n",
              "  </style>\n",
              "\n",
              "      <script>\n",
              "        const buttonEl =\n",
              "          document.querySelector('#df-85d2dcfa-cb7f-4cc4-8c42-64c6cdd69b14 button.colab-df-convert');\n",
              "        buttonEl.style.display =\n",
              "          google.colab.kernel.accessAllowed ? 'block' : 'none';\n",
              "\n",
              "        async function convertToInteractive(key) {\n",
              "          const element = document.querySelector('#df-85d2dcfa-cb7f-4cc4-8c42-64c6cdd69b14');\n",
              "          const dataTable =\n",
              "            await google.colab.kernel.invokeFunction('convertToInteractive',\n",
              "                                                     [key], {});\n",
              "          if (!dataTable) return;\n",
              "\n",
              "          const docLinkHtml = 'Like what you see? Visit the ' +\n",
              "            '<a target=\"_blank\" href=https://colab.research.google.com/notebooks/data_table.ipynb>data table notebook</a>'\n",
              "            + ' to learn more about interactive tables.';\n",
              "          element.innerHTML = '';\n",
              "          dataTable['output_type'] = 'display_data';\n",
              "          await google.colab.output.renderOutput(dataTable, element);\n",
              "          const docLink = document.createElement('div');\n",
              "          docLink.innerHTML = docLinkHtml;\n",
              "          element.appendChild(docLink);\n",
              "        }\n",
              "      </script>\n",
              "    </div>\n",
              "  </div>\n",
              "  "
            ]
          },
          "metadata": {},
          "execution_count": 191
        }
      ]
    },
    {
      "cell_type": "code",
      "source": [
        "np.sqrt(np.mean((data_auto['Close_Error']/data_auto['Close'])**2))"
      ],
      "metadata": {
        "colab": {
          "base_uri": "https://localhost:8080/"
        },
        "outputId": "e1167815-1778-4c7e-d791-343d8e78c259",
        "id": "1DFOLY0FZJ-k"
      },
      "execution_count": null,
      "outputs": [
        {
          "output_type": "execute_result",
          "data": {
            "text/plain": [
              "0.024833381314288604"
            ]
          },
          "metadata": {},
          "execution_count": 192
        }
      ]
    },
    {
      "cell_type": "markdown",
      "source": [
        "#test set 분리하고 검증"
      ],
      "metadata": {
        "id": "-s7lD3Y4dHgD"
      }
    },
    {
      "cell_type": "code",
      "source": [
        "data_train = data[data['Year']<2022]\n",
        "data_test = data[data['Year']>=2022]"
      ],
      "metadata": {
        "id": "I0ciGclsdKU6"
      },
      "execution_count": null,
      "outputs": []
    },
    {
      "cell_type": "code",
      "source": [
        "plt.plot(data_train['Date'], data_train['Close'], label = 'before 2022')\n",
        "plt.plot(data_test['Date'], data_test['Close'], label = 'after 2022')\n",
        "plt.legend()"
      ],
      "metadata": {
        "colab": {
          "base_uri": "https://localhost:8080/",
          "height": 283
        },
        "id": "K3BtyiNXdWbs",
        "outputId": "16d2a2e0-e4dd-4840-c768-be0450fc166f"
      },
      "execution_count": null,
      "outputs": [
        {
          "output_type": "execute_result",
          "data": {
            "text/plain": [
              "<matplotlib.legend.Legend at 0x7fd802ed5f70>"
            ]
          },
          "metadata": {},
          "execution_count": 194
        },
        {
          "output_type": "display_data",
          "data": {
            "text/plain": [
              "<Figure size 432x288 with 1 Axes>"
            ],
            "image/png": "[encoded data removed]"
          },
          "metadata": {
            "needs_background": "light"
          }
        }
      ]
    },
    {
      "cell_type": "code",
      "source": [
        "model = pm.auto_arima(y = data_train['Return']       # 데이터\n",
        "                      , d = 0           # (d)차분 차수 (기본값 = none), 지정하지 않으면 실행 기간이 매우 길어질 수 있음\n",
        "                      , start_p = 0     # (p)탐색 시초값 (기본값 = 2)\n",
        "                      , max_p = 3       # (기본값 = 5)\n",
        "                      , start_q = 0     # (q)탐색 시초값 (기본값 = 2)\n",
        "                      , max_q = 3       # (기본값 = 5)\n",
        "                      , m = 1           # (기본값 = 1)\n",
        "                      , seasonal = False # 기본값 = True, 계절변동 ARIMA(SARIMA)에 해당시 True로 수정\n",
        "                      , stepwise = True  \n",
        "                      , trace=True      # stepwise로 모델을 적합할 때마다 결과를 프린트\n",
        "                      )"
      ],
      "metadata": {
        "colab": {
          "base_uri": "https://localhost:8080/"
        },
        "outputId": "fbc1a5f8-58c3-4935-998b-49f4e1a40b8f",
        "id": "UVfciyK0d5Tg"
      },
      "execution_count": null,
      "outputs": [
        {
          "output_type": "stream",
          "name": "stdout",
          "text": [
            "Performing stepwise search to minimize aic\n",
            " ARIMA(0,0,0)(0,0,0)[0]             : AIC=-30455.464, Time=0.25 sec\n",
            " ARIMA(1,0,0)(0,0,0)[0]             : AIC=-30504.045, Time=0.40 sec\n",
            " ARIMA(0,0,1)(0,0,0)[0]             : AIC=-30511.142, Time=0.37 sec\n",
            " ARIMA(1,0,1)(0,0,0)[0]             : AIC=-30523.079, Time=2.88 sec\n",
            " ARIMA(2,0,1)(0,0,0)[0]             : AIC=-30545.623, Time=3.92 sec\n",
            " ARIMA(2,0,0)(0,0,0)[0]             : AIC=-30536.643, Time=2.46 sec\n",
            " ARIMA(3,0,1)(0,0,0)[0]             : AIC=-30536.987, Time=1.81 sec\n",
            " ARIMA(2,0,2)(0,0,0)[0]             : AIC=-30524.452, Time=7.44 sec\n",
            " ARIMA(1,0,2)(0,0,0)[0]             : AIC=-30551.311, Time=7.71 sec\n",
            " ARIMA(0,0,2)(0,0,0)[0]             : AIC=-30533.347, Time=2.20 sec\n",
            " ARIMA(1,0,3)(0,0,0)[0]             : AIC=-30545.353, Time=1.27 sec\n",
            " ARIMA(0,0,3)(0,0,0)[0]             : AIC=-30541.094, Time=2.78 sec\n",
            " ARIMA(2,0,3)(0,0,0)[0]             : AIC=-30542.604, Time=4.73 sec\n",
            " ARIMA(1,0,2)(0,0,0)[0] intercept   : AIC=-30546.834, Time=8.14 sec\n",
            "\n",
            "Best model:  ARIMA(1,0,2)(0,0,0)[0]          \n",
            "Total fit time: 46.372 seconds\n"
          ]
        }
      ]
    },
    {
      "cell_type": "code",
      "source": [
        "model = ARIMA(data_train['Return'], order=(1,0,2))\n",
        "model_fit = model.fit(trend = 'nc')\n",
        "model_fit.summary()"
      ],
      "metadata": {
        "colab": {
          "base_uri": "https://localhost:8080/",
          "height": 691
        },
        "outputId": "b1a672d8-170a-42d4-9a96-6ebbe40e0f98",
        "id": "NoKcpvb1d5Th"
      },
      "execution_count": null,
      "outputs": [
        {
          "output_type": "stream",
          "name": "stderr",
          "text": [
            "/usr/local/lib/python3.8/dist-packages/statsmodels/tsa/arima_model.py:472: FutureWarning: \n",
            "statsmodels.tsa.arima_model.ARMA and statsmodels.tsa.arima_model.ARIMA have\n",
            "been deprecated in favor of statsmodels.tsa.arima.model.ARIMA (note the .\n",
            "between arima and model) and\n",
            "statsmodels.tsa.SARIMAX. These will be removed after the 0.12 release.\n",
            "\n",
            "statsmodels.tsa.arima.model.ARIMA makes use of the statespace framework and\n",
            "is both well tested and maintained.\n",
            "\n",
            "To silence this warning and continue using ARMA and ARIMA until they are\n",
            "removed, use:\n",
            "\n",
            "import warnings\n",
            "warnings.filterwarnings('ignore', 'statsmodels.tsa.arima_model.ARMA',\n",
            "                        FutureWarning)\n",
            "warnings.filterwarnings('ignore', 'statsmodels.tsa.arima_model.ARIMA',\n",
            "                        FutureWarning)\n",
            "\n"
          ]
        },
        {
          "output_type": "execute_result",
          "data": {
            "text/plain": [
              "<class 'statsmodels.iolib.summary.Summary'>\n",
              "\"\"\"\n",
              "                              ARMA Model Results                              \n",
              "==============================================================================\n",
              "Dep. Variable:                 Return   No. Observations:                 6754\n",
              "Model:                     ARMA(1, 2)   Log Likelihood               15279.656\n",
              "Method:                       css-mle   S.D. of innovations              0.025\n",
              "Date:                Wed, 08 Feb 2023   AIC                         -30551.312\n",
              "Time:                        11:01:13   BIC                         -30524.040\n",
              "Sample:                             0   HQIC                        -30541.897\n",
              "                                                                              \n",
              "================================================================================\n",
              "                   coef    std err          z      P>|z|      [0.025      0.975]\n",
              "--------------------------------------------------------------------------------\n",
              "ar.L1.Return     0.5956      0.070      8.548      0.000       0.459       0.732\n",
              "ma.L1.Return    -0.5075      0.070     -7.286      0.000      -0.644      -0.371\n",
              "ma.L2.Return    -0.1207      0.012    -10.032      0.000      -0.144      -0.097\n",
              "                                    Roots                                    \n",
              "=============================================================================\n",
              "                  Real          Imaginary           Modulus         Frequency\n",
              "-----------------------------------------------------------------------------\n",
              "AR.1            1.6791           +0.0000j            1.6791            0.0000\n",
              "MA.1            1.4620           +0.0000j            1.4620            0.0000\n",
              "MA.2           -5.6653           +0.0000j            5.6653            0.5000\n",
              "-----------------------------------------------------------------------------\n",
              "\"\"\""
            ],
            "text/html": [
              "<table class=\"simpletable\">\n",
              "<caption>ARMA Model Results</caption>\n",
              "<tr>\n",
              "  <th>Dep. Variable:</th>      <td>Return</td>      <th>  No. Observations:  </th>    <td>6754</td>   \n",
              "</tr>\n",
              "<tr>\n",
              "  <th>Model:</th>            <td>ARMA(1, 2)</td>    <th>  Log Likelihood     </th>  <td>15279.656</td>\n",
              "</tr>\n",
              "<tr>\n",
              "  <th>Method:</th>             <td>css-mle</td>     <th>  S.D. of innovations</th>    <td>0.025</td>  \n",
              "</tr>\n",
              "<tr>\n",
              "  <th>Date:</th>          <td>Wed, 08 Feb 2023</td> <th>  AIC                </th> <td>-30551.312</td>\n",
              "</tr>\n",
              "<tr>\n",
              "  <th>Time:</th>              <td>11:01:13</td>     <th>  BIC                </th> <td>-30524.040</td>\n",
              "</tr>\n",
              "<tr>\n",
              "  <th>Sample:</th>                <td>0</td>        <th>  HQIC               </th> <td>-30541.897</td>\n",
              "</tr>\n",
              "<tr>\n",
              "  <th></th>                       <td> </td>        <th>                     </th>      <td> </td>    \n",
              "</tr>\n",
              "</table>\n",
              "<table class=\"simpletable\">\n",
              "<tr>\n",
              "        <td></td>          <th>coef</th>     <th>std err</th>      <th>z</th>      <th>P>|z|</th>  <th>[0.025</th>    <th>0.975]</th>  \n",
              "</tr>\n",
              "<tr>\n",
              "  <th>ar.L1.Return</th> <td>    0.5956</td> <td>    0.070</td> <td>    8.548</td> <td> 0.000</td> <td>    0.459</td> <td>    0.732</td>\n",
              "</tr>\n",
              "<tr>\n",
              "  <th>ma.L1.Return</th> <td>   -0.5075</td> <td>    0.070</td> <td>   -7.286</td> <td> 0.000</td> <td>   -0.644</td> <td>   -0.371</td>\n",
              "</tr>\n",
              "<tr>\n",
              "  <th>ma.L2.Return</th> <td>   -0.1207</td> <td>    0.012</td> <td>  -10.032</td> <td> 0.000</td> <td>   -0.144</td> <td>   -0.097</td>\n",
              "</tr>\n",
              "</table>\n",
              "<table class=\"simpletable\">\n",
              "<caption>Roots</caption>\n",
              "<tr>\n",
              "    <td></td>   <th>            Real</th>  <th>         Imaginary</th> <th>         Modulus</th>  <th>        Frequency</th>\n",
              "</tr>\n",
              "<tr>\n",
              "  <th>AR.1</th> <td>           1.6791</td> <td>          +0.0000j</td> <td>           1.6791</td> <td>           0.0000</td>\n",
              "</tr>\n",
              "<tr>\n",
              "  <th>MA.1</th> <td>           1.4620</td> <td>          +0.0000j</td> <td>           1.4620</td> <td>           0.0000</td>\n",
              "</tr>\n",
              "<tr>\n",
              "  <th>MA.2</th> <td>          -5.6653</td> <td>          +0.0000j</td> <td>           5.6653</td> <td>           0.5000</td>\n",
              "</tr>\n",
              "</table>"
            ]
          },
          "metadata": {},
          "execution_count": 196
        }
      ]
    },
    {
      "cell_type": "code",
      "source": [
        "plt.plot(model_fit.predict(), label = 'fitted', color = 'orange', alpha = 0.5)\n",
        "plt.plot(data_train['Return'], label = 'data', color = 'blue', alpha = 0.5)\n",
        "plt.legend()\n",
        "plt.show()"
      ],
      "metadata": {
        "colab": {
          "base_uri": "https://localhost:8080/",
          "height": 266
        },
        "outputId": "a92b560f-4e8a-431c-e8a1-37ef899ac72b",
        "id": "h6vn6AYGd5Th"
      },
      "execution_count": null,
      "outputs": [
        {
          "output_type": "display_data",
          "data": {
            "text/plain": [
              "<Figure size 432x288 with 1 Axes>"
            ],
            "image/png": "[encoded data removed]"
          },
          "metadata": {
            "needs_background": "light"
          }
        }
      ]
    },
    {
      "cell_type": "markdown",
      "source": [
        "##잔차 검정"
      ],
      "metadata": {
        "id": "9ZyifmbRd5Ti"
      }
    },
    {
      "cell_type": "code",
      "source": [
        "data_train['Fitted_Return'] = model_fit.predict()\n",
        "data_train['Return_Error'] = data_train['Fitted_Return'] - data_train['Return']\n",
        "data_train"
      ],
      "metadata": {
        "colab": {
          "base_uri": "https://localhost:8080/",
          "height": 882
        },
        "outputId": "82901054-2741-4f47-cb92-47b5ac39da14",
        "id": "2JqVxdfwd5Ti"
      },
      "execution_count": null,
      "outputs": [
        {
          "output_type": "stream",
          "name": "stderr",
          "text": [
            "<ipython-input-198-37b511f0d17b>:1: SettingWithCopyWarning: \n",
            "A value is trying to be set on a copy of a slice from a DataFrame.\n",
            "Try using .loc[row_indexer,col_indexer] = value instead\n",
            "\n",
            "See the caveats in the documentation: https://pandas.pydata.org/pandas-docs/stable/user_guide/indexing.html#returning-a-view-versus-a-copy\n",
            "  data_train['Fitted_Return'] = model_fit.predict()\n",
            "<ipython-input-198-37b511f0d17b>:2: SettingWithCopyWarning: \n",
            "A value is trying to be set on a copy of a slice from a DataFrame.\n",
            "Try using .loc[row_indexer,col_indexer] = value instead\n",
            "\n",
            "See the caveats in the documentation: https://pandas.pydata.org/pandas-docs/stable/user_guide/indexing.html#returning-a-view-versus-a-copy\n",
            "  data_train['Return_Error'] = data_train['Fitted_Return'] - data_train['Return']\n"
          ]
        },
        {
          "output_type": "execute_result",
          "data": {
            "text/plain": [
              "           Date  Close    Return  Year  Fitted_Return  Return_Error  \\\n",
              "0    1995-05-03   1596  0.033124  1995       0.000000     -0.033124   \n",
              "1    1995-05-04   1583 -0.008179  1995       0.002818      0.010997   \n",
              "2    1995-05-06   1576 -0.004432  1995      -0.003269      0.001163   \n",
              "3    1995-05-08   1564 -0.007643  1995      -0.000733      0.006910   \n",
              "4    1995-05-09   1544 -0.012870  1995      -0.000910      0.011961   \n",
              "...         ...    ...       ...   ...            ...           ...   \n",
              "6749 2021-12-24  80500  0.007481  2021      -0.000923     -0.008404   \n",
              "6750 2021-12-27  80200 -0.003734  2021      -0.000495      0.003239   \n",
              "6751 2021-12-28  80300  0.001246  2021      -0.001594     -0.002841   \n",
              "6752 2021-12-29  78800 -0.018857  2021      -0.000308      0.018548   \n",
              "6753 2021-12-30  78300 -0.006365  2021      -0.002160      0.004205   \n",
              "\n",
              "      Close_shift  Fitted_Close  Close_Error  \n",
              "0             NaN           NaN          NaN  \n",
              "1          1596.0   1600.489312    17.489312  \n",
              "2          1583.0   1578.226268     2.226268  \n",
              "3          1576.0   1574.037576    10.037576  \n",
              "4          1564.0   1562.605793    18.605793  \n",
              "...           ...           ...          ...  \n",
              "6749      79900.0  79826.382247  -673.617753  \n",
              "6750      80500.0  80445.826794   245.826794  \n",
              "6751      80200.0  80069.103691  -230.896309  \n",
              "6752      80300.0  80264.522409  1464.522409  \n",
              "6753      78800.0  78638.877969   338.877969  \n",
              "\n",
              "[6754 rows x 9 columns]"
            ],
            "text/html": [
              "\n",
              "  <div id=\"df-a3fa83dd-4cab-4669-8047-7d718ffdbc8b\">\n",
              "    <div class=\"colab-df-container\">\n",
              "      <div>\n",
              "<style scoped>\n",
              "    .dataframe tbody tr th:only-of-type {\n",
              "        vertical-align: middle;\n",
              "    }\n",
              "\n",
              "    .dataframe tbody tr th {\n",
              "        vertical-align: top;\n",
              "    }\n",
              "\n",
              "    .dataframe thead th {\n",
              "        text-align: right;\n",
              "    }\n",
              "</style>\n",
              "<table border=\"1\" class=\"dataframe\">\n",
              "  <thead>\n",
              "    <tr style=\"text-align: right;\">\n",
              "      <th></th>\n",
              "      <th>Date</th>\n",
              "      <th>Close</th>\n",
              "      <th>Return</th>\n",
              "      <th>Year</th>\n",
              "      <th>Fitted_Return</th>\n",
              "      <th>Return_Error</th>\n",
              "      <th>Close_shift</th>\n",
              "      <th>Fitted_Close</th>\n",
              "      <th>Close_Error</th>\n",
              "    </tr>\n",
              "  </thead>\n",
              "  <tbody>\n",
              "    <tr>\n",
              "      <th>0</th>\n",
              "      <td>1995-05-03</td>\n",
              "      <td>1596</td>\n",
              "      <td>0.033124</td>\n",
              "      <td>1995</td>\n",
              "      <td>0.000000</td>\n",
              "      <td>-0.033124</td>\n",
              "      <td>NaN</td>\n",
              "      <td>NaN</td>\n",
              "      <td>NaN</td>\n",
              "    </tr>\n",
              "    <tr>\n",
              "      <th>1</th>\n",
              "      <td>1995-05-04</td>\n",
              "      <td>1583</td>\n",
              "      <td>-0.008179</td>\n",
              "      <td>1995</td>\n",
              "      <td>0.002818</td>\n",
              "      <td>0.010997</td>\n",
              "      <td>1596.0</td>\n",
              "      <td>1600.489312</td>\n",
              "      <td>17.489312</td>\n",
              "    </tr>\n",
              "    <tr>\n",
              "      <th>2</th>\n",
              "      <td>1995-05-06</td>\n",
              "      <td>1576</td>\n",
              "      <td>-0.004432</td>\n",
              "      <td>1995</td>\n",
              "      <td>-0.003269</td>\n",
              "      <td>0.001163</td>\n",
              "      <td>1583.0</td>\n",
              "      <td>1578.226268</td>\n",
              "      <td>2.226268</td>\n",
              "    </tr>\n",
              "    <tr>\n",
              "      <th>3</th>\n",
              "      <td>1995-05-08</td>\n",
              "      <td>1564</td>\n",
              "      <td>-0.007643</td>\n",
              "      <td>1995</td>\n",
              "      <td>-0.000733</td>\n",
              "      <td>0.006910</td>\n",
              "      <td>1576.0</td>\n",
              "      <td>1574.037576</td>\n",
              "      <td>10.037576</td>\n",
              "    </tr>\n",
              "    <tr>\n",
              "      <th>4</th>\n",
              "      <td>1995-05-09</td>\n",
              "      <td>1544</td>\n",
              "      <td>-0.012870</td>\n",
              "      <td>1995</td>\n",
              "      <td>-0.000910</td>\n",
              "      <td>0.011961</td>\n",
              "      <td>1564.0</td>\n",
              "      <td>1562.605793</td>\n",
              "      <td>18.605793</td>\n",
              "    </tr>\n",
              "    <tr>\n",
              "      <th>...</th>\n",
              "      <td>...</td>\n",
              "      <td>...</td>\n",
              "      <td>...</td>\n",
              "      <td>...</td>\n",
              "      <td>...</td>\n",
              "      <td>...</td>\n",
              "      <td>...</td>\n",
              "      <td>...</td>\n",
              "      <td>...</td>\n",
              "    </tr>\n",
              "    <tr>\n",
              "      <th>6749</th>\n",
              "      <td>2021-12-24</td>\n",
              "      <td>80500</td>\n",
              "      <td>0.007481</td>\n",
              "      <td>2021</td>\n",
              "      <td>-0.000923</td>\n",
              "      <td>-0.008404</td>\n",
              "      <td>79900.0</td>\n",
              "      <td>79826.382247</td>\n",
              "      <td>-673.617753</td>\n",
              "    </tr>\n",
              "    <tr>\n",
              "      <th>6750</th>\n",
              "      <td>2021-12-27</td>\n",
              "      <td>80200</td>\n",
              "      <td>-0.003734</td>\n",
              "      <td>2021</td>\n",
              "      <td>-0.000495</td>\n",
              "      <td>0.003239</td>\n",
              "      <td>80500.0</td>\n",
              "      <td>80445.826794</td>\n",
              "      <td>245.826794</td>\n",
              "    </tr>\n",
              "    <tr>\n",
              "      <th>6751</th>\n",
              "      <td>2021-12-28</td>\n",
              "      <td>80300</td>\n",
              "      <td>0.001246</td>\n",
              "      <td>2021</td>\n",
              "      <td>-0.001594</td>\n",
              "      <td>-0.002841</td>\n",
              "      <td>80200.0</td>\n",
              "      <td>80069.103691</td>\n",
              "      <td>-230.896309</td>\n",
              "    </tr>\n",
              "    <tr>\n",
              "      <th>6752</th>\n",
              "      <td>2021-12-29</td>\n",
              "      <td>78800</td>\n",
              "      <td>-0.018857</td>\n",
              "      <td>2021</td>\n",
              "      <td>-0.000308</td>\n",
              "      <td>0.018548</td>\n",
              "      <td>80300.0</td>\n",
              "      <td>80264.522409</td>\n",
              "      <td>1464.522409</td>\n",
              "    </tr>\n",
              "    <tr>\n",
              "      <th>6753</th>\n",
              "      <td>2021-12-30</td>\n",
              "      <td>78300</td>\n",
              "      <td>-0.006365</td>\n",
              "      <td>2021</td>\n",
              "      <td>-0.002160</td>\n",
              "      <td>0.004205</td>\n",
              "      <td>78800.0</td>\n",
              "      <td>78638.877969</td>\n",
              "      <td>338.877969</td>\n",
              "    </tr>\n",
              "  </tbody>\n",
              "</table>\n",
              "<p>6754 rows × 9 columns</p>\n",
              "</div>\n",
              "      <button class=\"colab-df-convert\" onclick=\"convertToInteractive('df-a3fa83dd-4cab-4669-8047-7d718ffdbc8b')\"\n",
              "              title=\"Convert this dataframe to an interactive table.\"\n",
              "              style=\"display:none;\">\n",
              "        \n",
              "  <svg xmlns=\"http://www.w3.org/2000/svg\" height=\"24px\"viewBox=\"0 0 24 24\"\n",
              "       width=\"24px\">\n",
              "    <path d=\"M0 0h24v24H0V0z\" fill=\"none\"/>\n",
              "    <path d=\"M18.56 5.44l.94 2.06.94-2.06 2.06-.94-2.06-.94-.94-2.06-.94 2.06-2.06.94zm-11 1L8.5 8.5l.94-2.06 2.06-.94-2.06-.94L8.5 2.5l-.94 2.06-2.06.94zm10 10l.94 2.06.94-2.06 2.06-.94-2.06-.94-.94-2.06-.94 2.06-2.06.94z\"/><path d=\"M17.41 7.96l-1.37-1.37c-.4-.4-.92-.59-1.43-.59-.52 0-1.04.2-1.43.59L10.3 9.45l-7.72 7.72c-.78.78-.78 2.05 0 2.83L4 21.41c.39.39.9.59 1.41.59.51 0 1.02-.2 1.41-.59l7.78-7.78 2.81-2.81c.8-.78.8-2.07 0-2.86zM5.41 20L4 18.59l7.72-7.72 1.47 1.35L5.41 20z\"/>\n",
              "  </svg>\n",
              "      </button>\n",
              "      \n",
              "  <style>\n",
              "    .colab-df-container {\n",
              "      display:flex;\n",
              "      flex-wrap:wrap;\n",
              "      gap: 12px;\n",
              "    }\n",
              "\n",
              "    .colab-df-convert {\n",
              "      background-color: #E8F0FE;\n",
              "      border: none;\n",
              "      border-radius: 50%;\n",
              "      cursor: pointer;\n",
              "      display: none;\n",
              "      fill: #1967D2;\n",
              "      height: 32px;\n",
              "      padding: 0 0 0 0;\n",
              "      width: 32px;\n",
              "    }\n",
              "\n",
              "    .colab-df-convert:hover {\n",
              "      background-color: #E2EBFA;\n",
              "      box-shadow: 0px 1px 2px rgba(60, 64, 67, 0.3), 0px 1px 3px 1px rgba(60, 64, 67, 0.15);\n",
              "      fill: #174EA6;\n",
              "    }\n",
              "\n",
              "    [theme=dark] .colab-df-convert {\n",
              "      background-color: #3B4455;\n",
              "      fill: #D2E3FC;\n",
              "    }\n",
              "\n",
              "    [theme=dark] .colab-df-convert:hover {\n",
              "      background-color: #434B5C;\n",
              "      box-shadow: 0px 1px 3px 1px rgba(0, 0, 0, 0.15);\n",
              "      filter: drop-shadow(0px 1px 2px rgba(0, 0, 0, 0.3));\n",
              "      fill: #FFFFFF;\n",
              "    }\n",
              "  </style>\n",
              "\n",
              "      <script>\n",
              "        const buttonEl =\n",
              "          document.querySelector('#df-a3fa83dd-4cab-4669-8047-7d718ffdbc8b button.colab-df-convert');\n",
              "        buttonEl.style.display =\n",
              "          google.colab.kernel.accessAllowed ? 'block' : 'none';\n",
              "\n",
              "        async function convertToInteractive(key) {\n",
              "          const element = document.querySelector('#df-a3fa83dd-4cab-4669-8047-7d718ffdbc8b');\n",
              "          const dataTable =\n",
              "            await google.colab.kernel.invokeFunction('convertToInteractive',\n",
              "                                                     [key], {});\n",
              "          if (!dataTable) return;\n",
              "\n",
              "          const docLinkHtml = 'Like what you see? Visit the ' +\n",
              "            '<a target=\"_blank\" href=https://colab.research.google.com/notebooks/data_table.ipynb>data table notebook</a>'\n",
              "            + ' to learn more about interactive tables.';\n",
              "          element.innerHTML = '';\n",
              "          dataTable['output_type'] = 'display_data';\n",
              "          await google.colab.output.renderOutput(dataTable, element);\n",
              "          const docLink = document.createElement('div');\n",
              "          docLink.innerHTML = docLinkHtml;\n",
              "          element.appendChild(docLink);\n",
              "        }\n",
              "      </script>\n",
              "    </div>\n",
              "  </div>\n",
              "  "
            ]
          },
          "metadata": {},
          "execution_count": 198
        }
      ]
    },
    {
      "cell_type": "code",
      "source": [
        "plt.plot(data_train['Return_Error'])"
      ],
      "metadata": {
        "colab": {
          "base_uri": "https://localhost:8080/",
          "height": 283
        },
        "outputId": "644ccaec-ef00-4ef0-d95c-720d5b842bb2",
        "id": "EQ6B-3CHd5Ti"
      },
      "execution_count": null,
      "outputs": [
        {
          "output_type": "execute_result",
          "data": {
            "text/plain": [
              "[<matplotlib.lines.Line2D at 0x7fd802abbd00>]"
            ]
          },
          "metadata": {},
          "execution_count": 199
        },
        {
          "output_type": "display_data",
          "data": {
            "text/plain": [
              "<Figure size 432x288 with 1 Axes>"
            ],
            "image/png": "[encoded data removed]"
          },
          "metadata": {
            "needs_background": "light"
          }
        }
      ]
    },
    {
      "cell_type": "code",
      "source": [
        "import statsmodels.api as sm\n",
        "\n",
        "def LJ_result(ts):\n",
        "  result = []\n",
        "  for lag in np.arange(1, 11, 1):\n",
        "    result.append(sm.stats.acorr_ljungbox(ts, lags=[lag])[1][0])\n",
        "\n",
        "  return pd.DataFrame({'lag':np.arange(1,11,1), 'p_value':result})\n",
        "\n",
        "LJ_result(data_train['Return_Error']).T"
      ],
      "metadata": {
        "colab": {
          "base_uri": "https://localhost:8080/",
          "height": 169
        },
        "outputId": "eba22d58-0974-46d2-cda9-dbedce247beb",
        "id": "W0Ji8vxod5Tj"
      },
      "execution_count": null,
      "outputs": [
        {
          "output_type": "stream",
          "name": "stderr",
          "text": [
            "/usr/local/lib/python3.8/dist-packages/statsmodels/stats/diagnostic.py:559: FutureWarning: The value returned will change to a single DataFrame after 0.12 is released.  Set return_df to True to use to return a DataFrame now.  Set return_df to False to silence this warning.\n",
            "  warnings.warn(msg, FutureWarning)\n"
          ]
        },
        {
          "output_type": "execute_result",
          "data": {
            "text/plain": [
              "               0         1         2         3         4        5         6  \\\n",
              "lag      1.00000  2.000000  3.000000  4.000000  5.000000  6.00000  7.000000   \n",
              "p_value  0.99196  0.972016  0.995498  0.931149  0.677205  0.75679  0.813734   \n",
              "\n",
              "                7         8          9  \n",
              "lag      8.000000  9.000000  10.000000  \n",
              "p_value  0.880782  0.464235   0.248801  "
            ],
            "text/html": [
              "\n",
              "  <div id=\"df-b4722f93-d36c-4111-9e75-a66fe8adeb08\">\n",
              "    <div class=\"colab-df-container\">\n",
              "      <div>\n",
              "<style scoped>\n",
              "    .dataframe tbody tr th:only-of-type {\n",
              "        vertical-align: middle;\n",
              "    }\n",
              "\n",
              "    .dataframe tbody tr th {\n",
              "        vertical-align: top;\n",
              "    }\n",
              "\n",
              "    .dataframe thead th {\n",
              "        text-align: right;\n",
              "    }\n",
              "</style>\n",
              "<table border=\"1\" class=\"dataframe\">\n",
              "  <thead>\n",
              "    <tr style=\"text-align: right;\">\n",
              "      <th></th>\n",
              "      <th>0</th>\n",
              "      <th>1</th>\n",
              "      <th>2</th>\n",
              "      <th>3</th>\n",
              "      <th>4</th>\n",
              "      <th>5</th>\n",
              "      <th>6</th>\n",
              "      <th>7</th>\n",
              "      <th>8</th>\n",
              "      <th>9</th>\n",
              "    </tr>\n",
              "  </thead>\n",
              "  <tbody>\n",
              "    <tr>\n",
              "      <th>lag</th>\n",
              "      <td>1.00000</td>\n",
              "      <td>2.000000</td>\n",
              "      <td>3.000000</td>\n",
              "      <td>4.000000</td>\n",
              "      <td>5.000000</td>\n",
              "      <td>6.00000</td>\n",
              "      <td>7.000000</td>\n",
              "      <td>8.000000</td>\n",
              "      <td>9.000000</td>\n",
              "      <td>10.000000</td>\n",
              "    </tr>\n",
              "    <tr>\n",
              "      <th>p_value</th>\n",
              "      <td>0.99196</td>\n",
              "      <td>0.972016</td>\n",
              "      <td>0.995498</td>\n",
              "      <td>0.931149</td>\n",
              "      <td>0.677205</td>\n",
              "      <td>0.75679</td>\n",
              "      <td>0.813734</td>\n",
              "      <td>0.880782</td>\n",
              "      <td>0.464235</td>\n",
              "      <td>0.248801</td>\n",
              "    </tr>\n",
              "  </tbody>\n",
              "</table>\n",
              "</div>\n",
              "      <button class=\"colab-df-convert\" onclick=\"convertToInteractive('df-b4722f93-d36c-4111-9e75-a66fe8adeb08')\"\n",
              "              title=\"Convert this dataframe to an interactive table.\"\n",
              "              style=\"display:none;\">\n",
              "        \n",
              "  <svg xmlns=\"http://www.w3.org/2000/svg\" height=\"24px\"viewBox=\"0 0 24 24\"\n",
              "       width=\"24px\">\n",
              "    <path d=\"M0 0h24v24H0V0z\" fill=\"none\"/>\n",
              "    <path d=\"M18.56 5.44l.94 2.06.94-2.06 2.06-.94-2.06-.94-.94-2.06-.94 2.06-2.06.94zm-11 1L8.5 8.5l.94-2.06 2.06-.94-2.06-.94L8.5 2.5l-.94 2.06-2.06.94zm10 10l.94 2.06.94-2.06 2.06-.94-2.06-.94-.94-2.06-.94 2.06-2.06.94z\"/><path d=\"M17.41 7.96l-1.37-1.37c-.4-.4-.92-.59-1.43-.59-.52 0-1.04.2-1.43.59L10.3 9.45l-7.72 7.72c-.78.78-.78 2.05 0 2.83L4 21.41c.39.39.9.59 1.41.59.51 0 1.02-.2 1.41-.59l7.78-7.78 2.81-2.81c.8-.78.8-2.07 0-2.86zM5.41 20L4 18.59l7.72-7.72 1.47 1.35L5.41 20z\"/>\n",
              "  </svg>\n",
              "      </button>\n",
              "      \n",
              "  <style>\n",
              "    .colab-df-container {\n",
              "      display:flex;\n",
              "      flex-wrap:wrap;\n",
              "      gap: 12px;\n",
              "    }\n",
              "\n",
              "    .colab-df-convert {\n",
              "      background-color: #E8F0FE;\n",
              "      border: none;\n",
              "      border-radius: 50%;\n",
              "      cursor: pointer;\n",
              "      display: none;\n",
              "      fill: #1967D2;\n",
              "      height: 32px;\n",
              "      padding: 0 0 0 0;\n",
              "      width: 32px;\n",
              "    }\n",
              "\n",
              "    .colab-df-convert:hover {\n",
              "      background-color: #E2EBFA;\n",
              "      box-shadow: 0px 1px 2px rgba(60, 64, 67, 0.3), 0px 1px 3px 1px rgba(60, 64, 67, 0.15);\n",
              "      fill: #174EA6;\n",
              "    }\n",
              "\n",
              "    [theme=dark] .colab-df-convert {\n",
              "      background-color: #3B4455;\n",
              "      fill: #D2E3FC;\n",
              "    }\n",
              "\n",
              "    [theme=dark] .colab-df-convert:hover {\n",
              "      background-color: #434B5C;\n",
              "      box-shadow: 0px 1px 3px 1px rgba(0, 0, 0, 0.15);\n",
              "      filter: drop-shadow(0px 1px 2px rgba(0, 0, 0, 0.3));\n",
              "      fill: #FFFFFF;\n",
              "    }\n",
              "  </style>\n",
              "\n",
              "      <script>\n",
              "        const buttonEl =\n",
              "          document.querySelector('#df-b4722f93-d36c-4111-9e75-a66fe8adeb08 button.colab-df-convert');\n",
              "        buttonEl.style.display =\n",
              "          google.colab.kernel.accessAllowed ? 'block' : 'none';\n",
              "\n",
              "        async function convertToInteractive(key) {\n",
              "          const element = document.querySelector('#df-b4722f93-d36c-4111-9e75-a66fe8adeb08');\n",
              "          const dataTable =\n",
              "            await google.colab.kernel.invokeFunction('convertToInteractive',\n",
              "                                                     [key], {});\n",
              "          if (!dataTable) return;\n",
              "\n",
              "          const docLinkHtml = 'Like what you see? Visit the ' +\n",
              "            '<a target=\"_blank\" href=https://colab.research.google.com/notebooks/data_table.ipynb>data table notebook</a>'\n",
              "            + ' to learn more about interactive tables.';\n",
              "          element.innerHTML = '';\n",
              "          dataTable['output_type'] = 'display_data';\n",
              "          await google.colab.output.renderOutput(dataTable, element);\n",
              "          const docLink = document.createElement('div');\n",
              "          docLink.innerHTML = docLinkHtml;\n",
              "          element.appendChild(docLink);\n",
              "        }\n",
              "      </script>\n",
              "    </div>\n",
              "  </div>\n",
              "  "
            ]
          },
          "metadata": {},
          "execution_count": 200
        }
      ]
    },
    {
      "cell_type": "markdown",
      "source": [
        "##예측"
      ],
      "metadata": {
        "id": "ms2ipMebd5Tj"
      }
    },
    {
      "cell_type": "code",
      "source": [
        "pred = model_fit.predict(start = len(data_train), end = len(data)-1)\n",
        "pred"
      ],
      "metadata": {
        "colab": {
          "base_uri": "https://localhost:8080/"
        },
        "id": "tdFx6COLez_H",
        "outputId": "de0ab96f-ffd2-4d55-f7a7-961911b24797"
      },
      "execution_count": null,
      "outputs": [
        {
          "output_type": "execute_result",
          "data": {
            "text/plain": [
              "6754    5.827094e-04\n",
              "6755    8.547863e-04\n",
              "6756    5.090788e-04\n",
              "6757    3.031883e-04\n",
              "6758    1.805676e-04\n",
              "            ...     \n",
              "7010    3.454230e-61\n",
              "7011    2.057210e-61\n",
              "7012    1.225197e-61\n",
              "7013    7.296818e-62\n",
              "7014    4.345712e-62\n",
              "Length: 261, dtype: float64"
            ]
          },
          "metadata": {},
          "execution_count": 212
        }
      ]
    },
    {
      "cell_type": "code",
      "source": [
        "pred_cumprod = (pred + 1).cumprod()\n",
        "pred_cumprod"
      ],
      "metadata": {
        "colab": {
          "base_uri": "https://localhost:8080/"
        },
        "id": "bLLhBd_MfLDB",
        "outputId": "4b35c5fd-15a8-4d35-ac30-7c868cc4b644"
      },
      "execution_count": null,
      "outputs": [
        {
          "output_type": "execute_result",
          "data": {
            "text/plain": [
              "6754    1.000583\n",
              "6755    1.001438\n",
              "6756    1.001948\n",
              "6757    1.002252\n",
              "6758    1.002433\n",
              "          ...   \n",
              "7010    1.002699\n",
              "7011    1.002699\n",
              "7012    1.002699\n",
              "7013    1.002699\n",
              "7014    1.002699\n",
              "Length: 261, dtype: float64"
            ]
          },
          "metadata": {},
          "execution_count": 202
        }
      ]
    },
    {
      "cell_type": "code",
      "source": [
        "pred_close = list(data_train['Close'])[-1] * pred_cumprod\n",
        "pred_close"
      ],
      "metadata": {
        "colab": {
          "base_uri": "https://localhost:8080/"
        },
        "id": "AeWDKDRUe-LE",
        "outputId": "8cdffb36-9074-4e37-a8a2-1bf1ea43a4c1"
      },
      "execution_count": null,
      "outputs": [
        {
          "output_type": "execute_result",
          "data": {
            "text/plain": [
              "6754    78345.626150\n",
              "6755    78412.594920\n",
              "6756    78452.513108\n",
              "6757    78476.298992\n",
              "6758    78490.469269\n",
              "            ...     \n",
              "7010    78511.341843\n",
              "7011    78511.341843\n",
              "7012    78511.341843\n",
              "7013    78511.341843\n",
              "7014    78511.341843\n",
              "Length: 261, dtype: float64"
            ]
          },
          "metadata": {},
          "execution_count": 203
        }
      ]
    },
    {
      "cell_type": "code",
      "source": [
        "plt.plot(data_test['Date'], pred_close, label = 'predict')\n",
        "plt.plot(data_test['Date'], data_test['Close'], label = 'data')\n",
        "plt.legend()"
      ],
      "metadata": {
        "colab": {
          "base_uri": "https://localhost:8080/",
          "height": 286
        },
        "id": "9faKP1CogALA",
        "outputId": "6fc203a9-d230-4c67-86c5-8920128ae848"
      },
      "execution_count": null,
      "outputs": [
        {
          "output_type": "execute_result",
          "data": {
            "text/plain": [
              "<matplotlib.legend.Legend at 0x7fd8025aacd0>"
            ]
          },
          "metadata": {},
          "execution_count": 204
        },
        {
          "output_type": "display_data",
          "data": {
            "text/plain": [
              "<Figure size 432x288 with 1 Axes>"
            ],
            "image/png": "[encoded data removed]"
          },
          "metadata": {
            "needs_background": "light"
          }
        }
      ]
    },
    {
      "cell_type": "markdown",
      "source": [
        "##찐 백테스팅"
      ],
      "metadata": {
        "id": "J_O5l48joXga"
      }
    },
    {
      "cell_type": "code",
      "source": [
        "model_fit.summary()"
      ],
      "metadata": {
        "colab": {
          "base_uri": "https://localhost:8080/",
          "height": 361
        },
        "id": "46J8kRhGor89",
        "outputId": "4be922f5-9ad7-4705-b0cd-c10de4fbbb55"
      },
      "execution_count": null,
      "outputs": [
        {
          "output_type": "execute_result",
          "data": {
            "text/plain": [
              "<class 'statsmodels.iolib.summary.Summary'>\n",
              "\"\"\"\n",
              "                              ARMA Model Results                              \n",
              "==============================================================================\n",
              "Dep. Variable:                 Return   No. Observations:                 6754\n",
              "Model:                     ARMA(1, 2)   Log Likelihood               15279.656\n",
              "Method:                       css-mle   S.D. of innovations              0.025\n",
              "Date:                Wed, 08 Feb 2023   AIC                         -30551.312\n",
              "Time:                        11:01:14   BIC                         -30524.040\n",
              "Sample:                             0   HQIC                        -30541.897\n",
              "                                                                              \n",
              "================================================================================\n",
              "                   coef    std err          z      P>|z|      [0.025      0.975]\n",
              "--------------------------------------------------------------------------------\n",
              "ar.L1.Return     0.5956      0.070      8.548      0.000       0.459       0.732\n",
              "ma.L1.Return    -0.5075      0.070     -7.286      0.000      -0.644      -0.371\n",
              "ma.L2.Return    -0.1207      0.012    -10.032      0.000      -0.144      -0.097\n",
              "                                    Roots                                    \n",
              "=============================================================================\n",
              "                  Real          Imaginary           Modulus         Frequency\n",
              "-----------------------------------------------------------------------------\n",
              "AR.1            1.6791           +0.0000j            1.6791            0.0000\n",
              "MA.1            1.4620           +0.0000j            1.4620            0.0000\n",
              "MA.2           -5.6653           +0.0000j            5.6653            0.5000\n",
              "-----------------------------------------------------------------------------\n",
              "\"\"\""
            ],
            "text/html": [
              "<table class=\"simpletable\">\n",
              "<caption>ARMA Model Results</caption>\n",
              "<tr>\n",
              "  <th>Dep. Variable:</th>      <td>Return</td>      <th>  No. Observations:  </th>    <td>6754</td>   \n",
              "</tr>\n",
              "<tr>\n",
              "  <th>Model:</th>            <td>ARMA(1, 2)</td>    <th>  Log Likelihood     </th>  <td>15279.656</td>\n",
              "</tr>\n",
              "<tr>\n",
              "  <th>Method:</th>             <td>css-mle</td>     <th>  S.D. of innovations</th>    <td>0.025</td>  \n",
              "</tr>\n",
              "<tr>\n",
              "  <th>Date:</th>          <td>Wed, 08 Feb 2023</td> <th>  AIC                </th> <td>-30551.312</td>\n",
              "</tr>\n",
              "<tr>\n",
              "  <th>Time:</th>              <td>11:01:14</td>     <th>  BIC                </th> <td>-30524.040</td>\n",
              "</tr>\n",
              "<tr>\n",
              "  <th>Sample:</th>                <td>0</td>        <th>  HQIC               </th> <td>-30541.897</td>\n",
              "</tr>\n",
              "<tr>\n",
              "  <th></th>                       <td> </td>        <th>                     </th>      <td> </td>    \n",
              "</tr>\n",
              "</table>\n",
              "<table class=\"simpletable\">\n",
              "<tr>\n",
              "        <td></td>          <th>coef</th>     <th>std err</th>      <th>z</th>      <th>P>|z|</th>  <th>[0.025</th>    <th>0.975]</th>  \n",
              "</tr>\n",
              "<tr>\n",
              "  <th>ar.L1.Return</th> <td>    0.5956</td> <td>    0.070</td> <td>    8.548</td> <td> 0.000</td> <td>    0.459</td> <td>    0.732</td>\n",
              "</tr>\n",
              "<tr>\n",
              "  <th>ma.L1.Return</th> <td>   -0.5075</td> <td>    0.070</td> <td>   -7.286</td> <td> 0.000</td> <td>   -0.644</td> <td>   -0.371</td>\n",
              "</tr>\n",
              "<tr>\n",
              "  <th>ma.L2.Return</th> <td>   -0.1207</td> <td>    0.012</td> <td>  -10.032</td> <td> 0.000</td> <td>   -0.144</td> <td>   -0.097</td>\n",
              "</tr>\n",
              "</table>\n",
              "<table class=\"simpletable\">\n",
              "<caption>Roots</caption>\n",
              "<tr>\n",
              "    <td></td>   <th>            Real</th>  <th>         Imaginary</th> <th>         Modulus</th>  <th>        Frequency</th>\n",
              "</tr>\n",
              "<tr>\n",
              "  <th>AR.1</th> <td>           1.6791</td> <td>          +0.0000j</td> <td>           1.6791</td> <td>           0.0000</td>\n",
              "</tr>\n",
              "<tr>\n",
              "  <th>MA.1</th> <td>           1.4620</td> <td>          +0.0000j</td> <td>           1.4620</td> <td>           0.0000</td>\n",
              "</tr>\n",
              "<tr>\n",
              "  <th>MA.2</th> <td>          -5.6653</td> <td>          +0.0000j</td> <td>           5.6653</td> <td>           0.5000</td>\n",
              "</tr>\n",
              "</table>"
            ]
          },
          "metadata": {},
          "execution_count": 205
        }
      ]
    },
    {
      "cell_type": "code",
      "source": [
        "data_bt = data.copy().iloc[:, :3]\n",
        "data_bt['Return_estimated'] = model_fit.predict()\n",
        "\n",
        "data_bt['Resid'] = data_bt['Return'] - data_bt['Return_estimated']\n",
        "data_bt['Return_t-1'] = data_bt['Return'].shift(1)\n",
        "data_bt['Resid_t-1'] = data_bt['Resid'].shift(1)\n",
        "data_bt['Resid_t-2'] = data_bt['Resid'].shift(2)\n",
        "\n",
        "for i in np.arange(len(data_train)-1, len(data_bt)):\n",
        "  est_return = 0.5956 * list(data_bt['Return_t-1'])[i] - 0.5075 * list(data_bt['Resid_t-1'])[i] - 0.1207 * list(data_bt['Resid_t-2'])[i]\n",
        "  data_bt.iloc[i, 3] = est_return\n",
        "\n",
        "  data_bt['Resid'] = data_bt['Return'] - data_bt['Return_estimated']\n",
        "  data_bt['Return_t-1'] = data_bt['Return'].shift(1)\n",
        "  data_bt['Resid_t-1'] = data_bt['Resid'].shift(1)\n",
        "  data_bt['Resid_t-2'] = data_bt['Resid'].shift(2)\n",
        "\n",
        "data_bt['Close_estimated'] = data_bt['Close'].shift(1) * (1 + data_bt['Return_estimated'])\n",
        "data_bt"
      ],
      "metadata": {
        "colab": {
          "base_uri": "https://localhost:8080/",
          "height": 659
        },
        "id": "DXvBwrweoZRh",
        "outputId": "6ba8a8ca-f8c2-45a5-f7e4-ae57733bf35c"
      },
      "execution_count": null,
      "outputs": [
        {
          "output_type": "execute_result",
          "data": {
            "text/plain": [
              "           Date  Close    Return  Return_estimated     Resid  Return_t-1  \\\n",
              "0    1995-05-03   1596  0.033124          0.000000  0.033124         NaN   \n",
              "1    1995-05-04   1583 -0.008179          0.002818 -0.010997    0.033124   \n",
              "2    1995-05-06   1576 -0.004432         -0.003269 -0.001163   -0.008179   \n",
              "3    1995-05-08   1564 -0.007643         -0.000733 -0.006910   -0.004432   \n",
              "4    1995-05-09   1544 -0.012870         -0.000910 -0.011961   -0.007643   \n",
              "...         ...    ...       ...               ...       ...         ...   \n",
              "7010 2023-01-16  61100  0.004922         -0.000263  0.005185    0.004946   \n",
              "7011 2023-01-17  61000 -0.001638         -0.000434 -0.001204    0.004922   \n",
              "7012 2023-01-18  60400 -0.009885         -0.000990 -0.008894   -0.001638   \n",
              "7013 2023-01-19  61500  0.018048         -0.001228  0.019276   -0.009885   \n",
              "7014 2023-01-20  61400 -0.001627          0.002040 -0.003668    0.018048   \n",
              "\n",
              "      Resid_t-1  Resid_t-2  Close_estimated  \n",
              "0           NaN        NaN              NaN  \n",
              "1      0.033124        NaN      1600.497674  \n",
              "2     -0.010997   0.033124      1577.825686  \n",
              "3     -0.001163  -0.010997      1574.844771  \n",
              "4     -0.006910  -0.001163      1562.577500  \n",
              "...         ...        ...              ...  \n",
              "7010   0.006085   0.000999     60784.039450  \n",
              "7011   0.005185   0.006085     61073.482016  \n",
              "7012  -0.001204   0.005185     60939.588809  \n",
              "7013  -0.008894  -0.001204     60325.821147  \n",
              "7014   0.019276  -0.008894     61625.479444  \n",
              "\n",
              "[7015 rows x 9 columns]"
            ],
            "text/html": [
              "\n",
              "  <div id=\"df-38224f57-a80e-471b-a7a6-07aa9fddd234\">\n",
              "    <div class=\"colab-df-container\">\n",
              "      <div>\n",
              "<style scoped>\n",
              "    .dataframe tbody tr th:only-of-type {\n",
              "        vertical-align: middle;\n",
              "    }\n",
              "\n",
              "    .dataframe tbody tr th {\n",
              "        vertical-align: top;\n",
              "    }\n",
              "\n",
              "    .dataframe thead th {\n",
              "        text-align: right;\n",
              "    }\n",
              "</style>\n",
              "<table border=\"1\" class=\"dataframe\">\n",
              "  <thead>\n",
              "    <tr style=\"text-align: right;\">\n",
              "      <th></th>\n",
              "      <th>Date</th>\n",
              "      <th>Close</th>\n",
              "      <th>Return</th>\n",
              "      <th>Return_estimated</th>\n",
              "      <th>Resid</th>\n",
              "      <th>Return_t-1</th>\n",
              "      <th>Resid_t-1</th>\n",
              "      <th>Resid_t-2</th>\n",
              "      <th>Close_estimated</th>\n",
              "    </tr>\n",
              "  </thead>\n",
              "  <tbody>\n",
              "    <tr>\n",
              "      <th>0</th>\n",
              "      <td>1995-05-03</td>\n",
              "      <td>1596</td>\n",
              "      <td>0.033124</td>\n",
              "      <td>0.000000</td>\n",
              "      <td>0.033124</td>\n",
              "      <td>NaN</td>\n",
              "      <td>NaN</td>\n",
              "      <td>NaN</td>\n",
              "      <td>NaN</td>\n",
              "    </tr>\n",
              "    <tr>\n",
              "      <th>1</th>\n",
              "      <td>1995-05-04</td>\n",
              "      <td>1583</td>\n",
              "      <td>-0.008179</td>\n",
              "      <td>0.002818</td>\n",
              "      <td>-0.010997</td>\n",
              "      <td>0.033124</td>\n",
              "      <td>0.033124</td>\n",
              "      <td>NaN</td>\n",
              "      <td>1600.497674</td>\n",
              "    </tr>\n",
              "    <tr>\n",
              "      <th>2</th>\n",
              "      <td>1995-05-06</td>\n",
              "      <td>1576</td>\n",
              "      <td>-0.004432</td>\n",
              "      <td>-0.003269</td>\n",
              "      <td>-0.001163</td>\n",
              "      <td>-0.008179</td>\n",
              "      <td>-0.010997</td>\n",
              "      <td>0.033124</td>\n",
              "      <td>1577.825686</td>\n",
              "    </tr>\n",
              "    <tr>\n",
              "      <th>3</th>\n",
              "      <td>1995-05-08</td>\n",
              "      <td>1564</td>\n",
              "      <td>-0.007643</td>\n",
              "      <td>-0.000733</td>\n",
              "      <td>-0.006910</td>\n",
              "      <td>-0.004432</td>\n",
              "      <td>-0.001163</td>\n",
              "      <td>-0.010997</td>\n",
              "      <td>1574.844771</td>\n",
              "    </tr>\n",
              "    <tr>\n",
              "      <th>4</th>\n",
              "      <td>1995-05-09</td>\n",
              "      <td>1544</td>\n",
              "      <td>-0.012870</td>\n",
              "      <td>-0.000910</td>\n",
              "      <td>-0.011961</td>\n",
              "      <td>-0.007643</td>\n",
              "      <td>-0.006910</td>\n",
              "      <td>-0.001163</td>\n",
              "      <td>1562.577500</td>\n",
              "    </tr>\n",
              "    <tr>\n",
              "      <th>...</th>\n",
              "      <td>...</td>\n",
              "      <td>...</td>\n",
              "      <td>...</td>\n",
              "      <td>...</td>\n",
              "      <td>...</td>\n",
              "      <td>...</td>\n",
              "      <td>...</td>\n",
              "      <td>...</td>\n",
              "      <td>...</td>\n",
              "    </tr>\n",
              "    <tr>\n",
              "      <th>7010</th>\n",
              "      <td>2023-01-16</td>\n",
              "      <td>61100</td>\n",
              "      <td>0.004922</td>\n",
              "      <td>-0.000263</td>\n",
              "      <td>0.005185</td>\n",
              "      <td>0.004946</td>\n",
              "      <td>0.006085</td>\n",
              "      <td>0.000999</td>\n",
              "      <td>60784.039450</td>\n",
              "    </tr>\n",
              "    <tr>\n",
              "      <th>7011</th>\n",
              "      <td>2023-01-17</td>\n",
              "      <td>61000</td>\n",
              "      <td>-0.001638</td>\n",
              "      <td>-0.000434</td>\n",
              "      <td>-0.001204</td>\n",
              "      <td>0.004922</td>\n",
              "      <td>0.005185</td>\n",
              "      <td>0.006085</td>\n",
              "      <td>61073.482016</td>\n",
              "    </tr>\n",
              "    <tr>\n",
              "      <th>7012</th>\n",
              "      <td>2023-01-18</td>\n",
              "      <td>60400</td>\n",
              "      <td>-0.009885</td>\n",
              "      <td>-0.000990</td>\n",
              "      <td>-0.008894</td>\n",
              "      <td>-0.001638</td>\n",
              "      <td>-0.001204</td>\n",
              "      <td>0.005185</td>\n",
              "      <td>60939.588809</td>\n",
              "    </tr>\n",
              "    <tr>\n",
              "      <th>7013</th>\n",
              "      <td>2023-01-19</td>\n",
              "      <td>61500</td>\n",
              "      <td>0.018048</td>\n",
              "      <td>-0.001228</td>\n",
              "      <td>0.019276</td>\n",
              "      <td>-0.009885</td>\n",
              "      <td>-0.008894</td>\n",
              "      <td>-0.001204</td>\n",
              "      <td>60325.821147</td>\n",
              "    </tr>\n",
              "    <tr>\n",
              "      <th>7014</th>\n",
              "      <td>2023-01-20</td>\n",
              "      <td>61400</td>\n",
              "      <td>-0.001627</td>\n",
              "      <td>0.002040</td>\n",
              "      <td>-0.003668</td>\n",
              "      <td>0.018048</td>\n",
              "      <td>0.019276</td>\n",
              "      <td>-0.008894</td>\n",
              "      <td>61625.479444</td>\n",
              "    </tr>\n",
              "  </tbody>\n",
              "</table>\n",
              "<p>7015 rows × 9 columns</p>\n",
              "</div>\n",
              "      <button class=\"colab-df-convert\" onclick=\"convertToInteractive('df-38224f57-a80e-471b-a7a6-07aa9fddd234')\"\n",
              "              title=\"Convert this dataframe to an interactive table.\"\n",
              "              style=\"display:none;\">\n",
              "        \n",
              "  <svg xmlns=\"http://www.w3.org/2000/svg\" height=\"24px\"viewBox=\"0 0 24 24\"\n",
              "       width=\"24px\">\n",
              "    <path d=\"M0 0h24v24H0V0z\" fill=\"none\"/>\n",
              "    <path d=\"M18.56 5.44l.94 2.06.94-2.06 2.06-.94-2.06-.94-.94-2.06-.94 2.06-2.06.94zm-11 1L8.5 8.5l.94-2.06 2.06-.94-2.06-.94L8.5 2.5l-.94 2.06-2.06.94zm10 10l.94 2.06.94-2.06 2.06-.94-2.06-.94-.94-2.06-.94 2.06-2.06.94z\"/><path d=\"M17.41 7.96l-1.37-1.37c-.4-.4-.92-.59-1.43-.59-.52 0-1.04.2-1.43.59L10.3 9.45l-7.72 7.72c-.78.78-.78 2.05 0 2.83L4 21.41c.39.39.9.59 1.41.59.51 0 1.02-.2 1.41-.59l7.78-7.78 2.81-2.81c.8-.78.8-2.07 0-2.86zM5.41 20L4 18.59l7.72-7.72 1.47 1.35L5.41 20z\"/>\n",
              "  </svg>\n",
              "      </button>\n",
              "      \n",
              "  <style>\n",
              "    .colab-df-container {\n",
              "      display:flex;\n",
              "      flex-wrap:wrap;\n",
              "      gap: 12px;\n",
              "    }\n",
              "\n",
              "    .colab-df-convert {\n",
              "      background-color: #E8F0FE;\n",
              "      border: none;\n",
              "      border-radius: 50%;\n",
              "      cursor: pointer;\n",
              "      display: none;\n",
              "      fill: #1967D2;\n",
              "      height: 32px;\n",
              "      padding: 0 0 0 0;\n",
              "      width: 32px;\n",
              "    }\n",
              "\n",
              "    .colab-df-convert:hover {\n",
              "      background-color: #E2EBFA;\n",
              "      box-shadow: 0px 1px 2px rgba(60, 64, 67, 0.3), 0px 1px 3px 1px rgba(60, 64, 67, 0.15);\n",
              "      fill: #174EA6;\n",
              "    }\n",
              "\n",
              "    [theme=dark] .colab-df-convert {\n",
              "      background-color: #3B4455;\n",
              "      fill: #D2E3FC;\n",
              "    }\n",
              "\n",
              "    [theme=dark] .colab-df-convert:hover {\n",
              "      background-color: #434B5C;\n",
              "      box-shadow: 0px 1px 3px 1px rgba(0, 0, 0, 0.15);\n",
              "      filter: drop-shadow(0px 1px 2px rgba(0, 0, 0, 0.3));\n",
              "      fill: #FFFFFF;\n",
              "    }\n",
              "  </style>\n",
              "\n",
              "      <script>\n",
              "        const buttonEl =\n",
              "          document.querySelector('#df-38224f57-a80e-471b-a7a6-07aa9fddd234 button.colab-df-convert');\n",
              "        buttonEl.style.display =\n",
              "          google.colab.kernel.accessAllowed ? 'block' : 'none';\n",
              "\n",
              "        async function convertToInteractive(key) {\n",
              "          const element = document.querySelector('#df-38224f57-a80e-471b-a7a6-07aa9fddd234');\n",
              "          const dataTable =\n",
              "            await google.colab.kernel.invokeFunction('convertToInteractive',\n",
              "                                                     [key], {});\n",
              "          if (!dataTable) return;\n",
              "\n",
              "          const docLinkHtml = 'Like what you see? Visit the ' +\n",
              "            '<a target=\"_blank\" href=https://colab.research.google.com/notebooks/data_table.ipynb>data table notebook</a>'\n",
              "            + ' to learn more about interactive tables.';\n",
              "          element.innerHTML = '';\n",
              "          dataTable['output_type'] = 'display_data';\n",
              "          await google.colab.output.renderOutput(dataTable, element);\n",
              "          const docLink = document.createElement('div');\n",
              "          docLink.innerHTML = docLinkHtml;\n",
              "          element.appendChild(docLink);\n",
              "        }\n",
              "      </script>\n",
              "    </div>\n",
              "  </div>\n",
              "  "
            ]
          },
          "metadata": {},
          "execution_count": 238
        }
      ]
    },
    {
      "cell_type": "code",
      "source": [
        "data_bt['Year'] = [x.year for x in data_bt['Date']]\n",
        "data_bt_2022 = data_bt[data_bt['Year'] >= 2022]\n",
        "\n",
        "plt.plot(data_bt_2022['Date'], data_bt_2022['Close'], label = 'data')\n",
        "plt.plot(data_bt_2022['Date'], data_bt_2022['Close_estimated'], label = 'estimated')\n",
        "plt.legend()"
      ],
      "metadata": {
        "colab": {
          "base_uri": "https://localhost:8080/",
          "height": 285
        },
        "id": "Nsk8e58FwTcg",
        "outputId": "94f6880b-5811-4def-8262-e41bc681ff75"
      },
      "execution_count": null,
      "outputs": [
        {
          "output_type": "execute_result",
          "data": {
            "text/plain": [
              "<matplotlib.legend.Legend at 0x7fd8023079a0>"
            ]
          },
          "metadata": {},
          "execution_count": 247
        },
        {
          "output_type": "display_data",
          "data": {
            "text/plain": [
              "<Figure size 432x288 with 1 Axes>"
            ],
            "image/png": "[encoded data removed]"
          },
          "metadata": {
            "needs_background": "light"
          }
        }
      ]
    },
    {
      "cell_type": "code",
      "source": [
        "data_bt['Close_error'] = data_bt['Close'] - data_bt['Close_estimated']\n",
        "np.sqrt(np.mean((data_bt['Close_error']/data_bt['Close'])**2))"
      ],
      "metadata": {
        "colab": {
          "base_uri": "https://localhost:8080/"
        },
        "id": "uzeiz0n2xdtu",
        "outputId": "d0c77e50-fe50-4af2-9efa-338aefe996aa"
      },
      "execution_count": null,
      "outputs": [
        {
          "output_type": "execute_result",
          "data": {
            "text/plain": [
              "0.02483349671986242"
            ]
          },
          "metadata": {},
          "execution_count": 248
        }
      ]
    }
  ]
}